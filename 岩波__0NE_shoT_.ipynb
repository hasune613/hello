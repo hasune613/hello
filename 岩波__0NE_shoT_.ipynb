{
  "nbformat": 4,
  "nbformat_minor": 0,
  "metadata": {
    "colab": {
      "name": "岩波_@0NE_shoT_.ipynb",
      "provenance": [],
      "collapsed_sections": [],
      "authorship_tag": "ABX9TyMnRJBlBSlI0oet7Wp65kfW",
      "include_colab_link": true
    },
    "kernelspec": {
      "name": "python3",
      "display_name": "Python 3"
    },
    "language_info": {
      "name": "python"
    }
  },
  "cells": [
    {
      "cell_type": "markdown",
      "metadata": {
        "id": "view-in-github",
        "colab_type": "text"
      },
      "source": [
        "<a href=\"https://colab.research.google.com/github/hasune613/hello-world/blob/main/%E5%B2%A9%E6%B3%A2__0NE_shoT_.ipynb\" target=\"_parent\"><img src=\"https://colab.research.google.com/assets/colab-badge.svg\" alt=\"Open In Colab\"/></a>"
      ]
    },
    {
      "cell_type": "markdown",
      "metadata": {
        "id": "N8-s6JhP6NGe"
      },
      "source": [
        "* ATE: Average Treatment Effect(平均処置効果) \\\\\n",
        "    集団全体における、平均的な介入の効果 \\\\\n",
        "$$\n",
        "ATE=E(Y1)−E(Y0)\n",
        "$$\n",
        "\n",
        "* ATT: Average Treatment effect on the Treated (処置群における平均処置効果) \\\\\n",
        "    処置群（介入ありグループ）における、平均的な介入の効果 \\\\\n",
        "$$\n",
        "ATT=E(Y1|Z=1)−E(Y0|Z=1)\n",
        "$$\n",
        "* ATU: Average Treatment effect on the Untreated (対照群における平均処置効果) \\\\\n",
        "    対照群（介入なしグループ）における、平均的な介入の効果 \\\\\n",
        "$$\n",
        "ATU=E(Y1|Z=0)−E(Y0|Z=0)\n",
        "$$\n"
      ]
    },
    {
      "cell_type": "markdown",
      "metadata": {
        "id": "hOEiwhwp7gSF"
      },
      "source": [
        "## 岩波DS vol.3のCM接触効果推定\n",
        "CMを放映でアプリ利用がどれくらい増加するか \\\\\n",
        "CM施策による直接的な利益（＝アプリを利用するユーザーの増加割合）を推定するため、ATTを推定。\n",
        "1.    傾向スコア推定モデルを構築\n",
        "2.    傾向スコア推定モデルの推定精度を確認\n",
        "3.    ATTを算出\n"
      ]
    },
    {
      "cell_type": "code",
      "metadata": {
        "id": "sx3rHBOR6EXI",
        "colab": {
          "base_uri": "https://localhost:8080/"
        },
        "outputId": "c69cc6c1-6445-43c2-b736-53e9025d9913"
      },
      "source": [
        "import numpy as np\n",
        "import pandas as pd\n",
        "import matplotlib.pyplot as plt\n",
        "import matplotlib as mpl\n",
        "import seaborn as sns\n",
        "\n",
        "import statsmodels.api as sm\n",
        "from sklearn.calibration import calibration_curve\n",
        "from sklearn.metrics import roc_auc_score\n",
        "\n",
        "import itertools\n",
        "import time\n",
        "\n"
      ],
      "execution_count": null,
      "outputs": [
        {
          "output_type": "stream",
          "name": "stderr",
          "text": [
            "/usr/local/lib/python3.7/dist-packages/statsmodels/tools/_testing.py:19: FutureWarning: pandas.util.testing is deprecated. Use the functions in the public API at pandas.testing instead.\n",
            "  import pandas.util.testing as tm\n"
          ]
        }
      ]
    },
    {
      "cell_type": "code",
      "metadata": {
        "id": "F3ijjUOb6Sh_"
      },
      "source": [
        "path = 'https://raw.githubusercontent.com/iwanami-datascience/vol3/master/kato%26hoshino/q_data_x.csv'"
      ],
      "execution_count": null,
      "outputs": []
    },
    {
      "cell_type": "code",
      "metadata": {
        "id": "WVIMtr9u9pSg"
      },
      "source": [
        "data = pd.read_csv(path)"
      ],
      "execution_count": null,
      "outputs": []
    },
    {
      "cell_type": "code",
      "metadata": {
        "colab": {
          "base_uri": "https://localhost:8080/"
        },
        "id": "LaP3dImE9v0e",
        "outputId": "a0a38a71-8ced-4b7b-c30b-5da02b08d22e"
      },
      "source": [
        "data.columns"
      ],
      "execution_count": null,
      "outputs": [
        {
          "output_type": "execute_result",
          "data": {
            "text/plain": [
              "Index(['cm_dummy', 'gamedummy', 'area_kanto', 'area_keihan', 'area_tokai',\n",
              "       'area_keihanshin', 'age', 'sex', 'marry_dummy', 'job_dummy1',\n",
              "       'job_dummy2', 'job_dummy3', 'job_dummy4', 'job_dummy5', 'job_dummy6',\n",
              "       'job_dummy7', 'job_dummy8', 'inc', 'pmoney', 'fam_str_dummy1',\n",
              "       'fam_str_dummy2', 'fam_str_dummy3', 'fam_str_dummy4', 'fam_str_dummy5',\n",
              "       'child_dummy', 'T', 'F1', 'F2', 'F3', 'M1', 'M2', 'M3', 'TVwatch_day',\n",
              "       'gamesecond', 'gamecount'],\n",
              "      dtype='object')"
            ]
          },
          "metadata": {},
          "execution_count": 11
        }
      ]
    },
    {
      "cell_type": "code",
      "metadata": {
        "id": "MN-Z7hVe9wsH"
      },
      "source": [
        "#共変量(TV視聴時間、性別、年齢etc...)\n",
        "X = data[[\n",
        "          'TVwatch_day',\n",
        "          'age','sex','marry_dummy','child_dummy','inc','pmoney',\n",
        "          'job_dummy1','job_dummy2', 'job_dummy3', 'job_dummy4', 'job_dummy5', 'job_dummy6',\n",
        "          'job_dummy7','fam_str_dummy1','fam_str_dummy2', 'fam_str_dummy3', 'fam_str_dummy4'         \n",
        "]]\n",
        "\n",
        "#群別変数(TVを見た/見ていない)\n",
        "Z = data['cm_dummy']"
      ],
      "execution_count": null,
      "outputs": []
    },
    {
      "cell_type": "code",
      "metadata": {
        "colab": {
          "base_uri": "https://localhost:8080/",
          "height": 226
        },
        "id": "J2AzfutB-4sn",
        "outputId": "3cb53fd0-a72b-4f41-9771-4d2d47a9ba0f"
      },
      "source": [
        "X.head()"
      ],
      "execution_count": null,
      "outputs": [
        {
          "output_type": "execute_result",
          "data": {
            "text/html": [
              "<div>\n",
              "<style scoped>\n",
              "    .dataframe tbody tr th:only-of-type {\n",
              "        vertical-align: middle;\n",
              "    }\n",
              "\n",
              "    .dataframe tbody tr th {\n",
              "        vertical-align: top;\n",
              "    }\n",
              "\n",
              "    .dataframe thead th {\n",
              "        text-align: right;\n",
              "    }\n",
              "</style>\n",
              "<table border=\"1\" class=\"dataframe\">\n",
              "  <thead>\n",
              "    <tr style=\"text-align: right;\">\n",
              "      <th></th>\n",
              "      <th>TVwatch_day</th>\n",
              "      <th>age</th>\n",
              "      <th>sex</th>\n",
              "      <th>marry_dummy</th>\n",
              "      <th>child_dummy</th>\n",
              "      <th>inc</th>\n",
              "      <th>pmoney</th>\n",
              "      <th>job_dummy1</th>\n",
              "      <th>job_dummy2</th>\n",
              "      <th>job_dummy3</th>\n",
              "      <th>job_dummy4</th>\n",
              "      <th>job_dummy5</th>\n",
              "      <th>job_dummy6</th>\n",
              "      <th>job_dummy7</th>\n",
              "      <th>fam_str_dummy1</th>\n",
              "      <th>fam_str_dummy2</th>\n",
              "      <th>fam_str_dummy3</th>\n",
              "      <th>fam_str_dummy4</th>\n",
              "    </tr>\n",
              "  </thead>\n",
              "  <tbody>\n",
              "    <tr>\n",
              "      <th>0</th>\n",
              "      <td>33.427600</td>\n",
              "      <td>44.5</td>\n",
              "      <td>1</td>\n",
              "      <td>1</td>\n",
              "      <td>1</td>\n",
              "      <td>249.5</td>\n",
              "      <td>0.0</td>\n",
              "      <td>1</td>\n",
              "      <td>0</td>\n",
              "      <td>0</td>\n",
              "      <td>0</td>\n",
              "      <td>0</td>\n",
              "      <td>0</td>\n",
              "      <td>0</td>\n",
              "      <td>0</td>\n",
              "      <td>0</td>\n",
              "      <td>1</td>\n",
              "      <td>0</td>\n",
              "    </tr>\n",
              "    <tr>\n",
              "      <th>1</th>\n",
              "      <td>31.542862</td>\n",
              "      <td>34.5</td>\n",
              "      <td>1</td>\n",
              "      <td>1</td>\n",
              "      <td>1</td>\n",
              "      <td>800.0</td>\n",
              "      <td>12.5</td>\n",
              "      <td>1</td>\n",
              "      <td>0</td>\n",
              "      <td>0</td>\n",
              "      <td>0</td>\n",
              "      <td>0</td>\n",
              "      <td>0</td>\n",
              "      <td>0</td>\n",
              "      <td>0</td>\n",
              "      <td>0</td>\n",
              "      <td>1</td>\n",
              "      <td>0</td>\n",
              "    </tr>\n",
              "    <tr>\n",
              "      <th>2</th>\n",
              "      <td>37.825805</td>\n",
              "      <td>24.5</td>\n",
              "      <td>1</td>\n",
              "      <td>0</td>\n",
              "      <td>0</td>\n",
              "      <td>0.0</td>\n",
              "      <td>2.0</td>\n",
              "      <td>0</td>\n",
              "      <td>0</td>\n",
              "      <td>0</td>\n",
              "      <td>0</td>\n",
              "      <td>0</td>\n",
              "      <td>0</td>\n",
              "      <td>1</td>\n",
              "      <td>0</td>\n",
              "      <td>0</td>\n",
              "      <td>0</td>\n",
              "      <td>1</td>\n",
              "    </tr>\n",
              "    <tr>\n",
              "      <th>3</th>\n",
              "      <td>36.345911</td>\n",
              "      <td>44.5</td>\n",
              "      <td>1</td>\n",
              "      <td>1</td>\n",
              "      <td>1</td>\n",
              "      <td>800.0</td>\n",
              "      <td>2.0</td>\n",
              "      <td>1</td>\n",
              "      <td>0</td>\n",
              "      <td>0</td>\n",
              "      <td>0</td>\n",
              "      <td>0</td>\n",
              "      <td>0</td>\n",
              "      <td>0</td>\n",
              "      <td>0</td>\n",
              "      <td>0</td>\n",
              "      <td>1</td>\n",
              "      <td>0</td>\n",
              "    </tr>\n",
              "    <tr>\n",
              "      <th>4</th>\n",
              "      <td>49.344942</td>\n",
              "      <td>34.5</td>\n",
              "      <td>1</td>\n",
              "      <td>1</td>\n",
              "      <td>1</td>\n",
              "      <td>749.5</td>\n",
              "      <td>4.0</td>\n",
              "      <td>1</td>\n",
              "      <td>0</td>\n",
              "      <td>0</td>\n",
              "      <td>0</td>\n",
              "      <td>0</td>\n",
              "      <td>0</td>\n",
              "      <td>0</td>\n",
              "      <td>0</td>\n",
              "      <td>0</td>\n",
              "      <td>1</td>\n",
              "      <td>0</td>\n",
              "    </tr>\n",
              "  </tbody>\n",
              "</table>\n",
              "</div>"
            ],
            "text/plain": [
              "   TVwatch_day   age  sex  ...  fam_str_dummy2  fam_str_dummy3  fam_str_dummy4\n",
              "0    33.427600  44.5    1  ...               0               1               0\n",
              "1    31.542862  34.5    1  ...               0               1               0\n",
              "2    37.825805  24.5    1  ...               0               0               1\n",
              "3    36.345911  44.5    1  ...               0               1               0\n",
              "4    49.344942  34.5    1  ...               0               1               0\n",
              "\n",
              "[5 rows x 18 columns]"
            ]
          },
          "metadata": {},
          "execution_count": 13
        }
      ]
    },
    {
      "cell_type": "code",
      "metadata": {
        "colab": {
          "base_uri": "https://localhost:8080/"
        },
        "id": "vIGA-7kKx5kP",
        "outputId": "47c4450b-4d52-4b0d-ee97-524066c4b101"
      },
      "source": [
        "X.columns.value_counts().sum()"
      ],
      "execution_count": null,
      "outputs": [
        {
          "output_type": "execute_result",
          "data": {
            "text/plain": [
              "18"
            ]
          },
          "metadata": {},
          "execution_count": 19
        }
      ]
    },
    {
      "cell_type": "code",
      "metadata": {
        "colab": {
          "base_uri": "https://localhost:8080/"
        },
        "id": "t76LpcWj-88z",
        "outputId": "320da46e-9c0c-4b44-984c-c56d4598dc89"
      },
      "source": [
        "Z.head()"
      ],
      "execution_count": null,
      "outputs": [
        {
          "output_type": "execute_result",
          "data": {
            "text/plain": [
              "0    0\n",
              "1    0\n",
              "2    0\n",
              "3    0\n",
              "4    0\n",
              "Name: cm_dummy, dtype: int64"
            ]
          },
          "metadata": {},
          "execution_count": 14
        }
      ]
    },
    {
      "cell_type": "code",
      "metadata": {
        "colab": {
          "base_uri": "https://localhost:8080/"
        },
        "id": "nmQDUME6-85r",
        "outputId": "9e7f2d6a-8f26-4b3b-d3c5-f1c5d83ae015"
      },
      "source": [
        "#傾向スコアの推定\n",
        "exog = sm.add_constant(X)#切片の追加\n",
        "# exog.columns.value_counts().sum()\n",
        "logit_model = sm.Logit(Z, exog)\n",
        "logit_res = logit_model.fit()\n"
      ],
      "execution_count": null,
      "outputs": [
        {
          "output_type": "stream",
          "name": "stdout",
          "text": [
            "Optimization terminated successfully.\n",
            "         Current function value: 0.597316\n",
            "         Iterations 5\n"
          ]
        }
      ]
    },
    {
      "cell_type": "code",
      "metadata": {
        "id": "ZtqO-2ZO-82w",
        "colab": {
          "base_uri": "https://localhost:8080/"
        },
        "outputId": "9ac64b52-eef1-46af-85ce-1036cc463463"
      },
      "source": [
        "#ATTの推定\n",
        "ps = logit_res.predict(exog)\n",
        "print(f'AUC = {roc_auc_score(Z,ps):.3f}')"
      ],
      "execution_count": null,
      "outputs": [
        {
          "output_type": "stream",
          "name": "stdout",
          "text": [
            "AUC = 0.733\n"
          ]
        }
      ]
    },
    {
      "cell_type": "code",
      "metadata": {
        "id": "PuawNwh0-8z5",
        "colab": {
          "base_uri": "https://localhost:8080/",
          "height": 369
        },
        "outputId": "09e13d9e-6ef4-4a0a-ae0c-979771806540"
      },
      "source": [
        "# キャリブレーションプロットを描画\n",
        "_, ax1 = plt.subplots(figsize=(10,5))\n",
        "\n",
        "prod_true, prod_pred = calibration_curve(Z, ps, n_bins=20)\n",
        "ax1.plot(prod_pred, prod_true, marker = 'o', label = 'calibration plot',color='skyblue')\n",
        "ax1.plot([0,1],[0,1],linestyle='--',color = 'black',label='ldeal')\n",
        "ax1.legend(bbox_to_anchor=(1.2,0.9), loc='upper left',borderaxespad=0)\n",
        "ax1.set_xlabel('predicted probabillity')\n",
        "ax1.set_ylabel('true probability')\n",
        "\n",
        "ax2 = ax1.twinx()\n",
        "ax2.hist(ps, bins=20, histtype = 'step', rwidth = 0.9,color='limegreen')\n",
        "ax2.set_ylabel('couont')\n",
        "plt.tight_layout()\n",
        "plt.show()"
      ],
      "execution_count": null,
      "outputs": [
        {
          "output_type": "display_data",
          "data": {
            "image/png": "[encoded data removed]",
            "text/plain": [
              "<Figure size 720x360 with 2 Axes>"
            ]
          },
          "metadata": {
            "needs_background": "light"
          }
        }
      ]
    },
    {
      "cell_type": "code",
      "metadata": {
        "id": "o-Yhk324-8wo",
        "colab": {
          "base_uri": "https://localhost:8080/"
        },
        "outputId": "147566be-fe4d-4f39-86a0-bc5e68be9d8f"
      },
      "source": [
        "#ATTの推定\n",
        "\n",
        "Y = data['gamedummy']#結果変数（推定対象）\n",
        "sample_size = len(data.loc[data['cm_dummy']==1])\n",
        "ATT_list = []\n",
        "\n",
        "for i in range(100):\n",
        "    idx1 = pd.Series(data.loc[data['cm_dummy']==1, 'gamedummy'].index).sample(n=sample_size, replace=True, random_state=i)\n",
        "    idx0 = pd.Series(data.loc[data['cm_dummy']==0, 'gamedummy'].index).sample(n=sample_size, replace=True, random_state=i)\n",
        "\n",
        "    z_tmp = np.r_[Z[idx1], Z[idx0]]\n",
        "    Y_tmp = np.r_[Y[idx1], Y[idx0]]\n",
        "    ps_tmp = np.r_[ps[idx1], ps[idx0]]\n",
        "    w01_tmp = (1-z_tmp)*ps_tmp/ (1-ps_tmp)\n",
        "\n",
        "    E1 = np.mean(Y_tmp[z_tmp == 1])\n",
        "    E0 = np.sum(Y_tmp * w01_tmp) / np.sum(w01_tmp)\n",
        "    ATT = E1 - E0\n",
        "    ATT_list.append(ATT)\n",
        "\n",
        "print(f'ATT = {np.mean(ATT_list):.3f} ±{np.std(ATT_list) * 1.96} (s.d = {np.std(ATT_list):.3f})')"
      ],
      "execution_count": null,
      "outputs": [
        {
          "output_type": "stream",
          "name": "stdout",
          "text": [
            "ATT = 0.024 ±0.011902487479350535 (s.d = 0.006)\n"
          ]
        }
      ]
    },
    {
      "cell_type": "code",
      "metadata": {
        "id": "zsb4GZET-8t4"
      },
      "source": [
        ""
      ],
      "execution_count": null,
      "outputs": []
    },
    {
      "cell_type": "code",
      "metadata": {
        "id": "GNzQoWoD-8q2"
      },
      "source": [
        ""
      ],
      "execution_count": null,
      "outputs": []
    },
    {
      "cell_type": "code",
      "metadata": {
        "id": "oo1v7QNT-8no"
      },
      "source": [
        ""
      ],
      "execution_count": null,
      "outputs": []
    },
    {
      "cell_type": "code",
      "metadata": {
        "id": "XsThu4pb-8kr"
      },
      "source": [
        ""
      ],
      "execution_count": null,
      "outputs": []
    },
    {
      "cell_type": "code",
      "metadata": {
        "id": "8k1XT-qR-8hs"
      },
      "source": [
        ""
      ],
      "execution_count": null,
      "outputs": []
    },
    {
      "cell_type": "code",
      "metadata": {
        "id": "KytqKq5B-8fR"
      },
      "source": [
        ""
      ],
      "execution_count": null,
      "outputs": []
    },
    {
      "cell_type": "code",
      "metadata": {
        "id": "gwP-cyXR-8b_"
      },
      "source": [
        ""
      ],
      "execution_count": null,
      "outputs": []
    }
  ]
}