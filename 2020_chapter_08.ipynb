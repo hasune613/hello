{
  "nbformat": 4,
  "nbformat_minor": 0,
  "metadata": {
    "colab": {
      "name": "2020_chapter08.ipynb",
      "provenance": [],
      "collapsed_sections": [],
      "include_colab_link": true
    },
    "kernelspec": {
      "name": "python3",
      "display_name": "Python 3"
    },
    "accelerator": "GPU"
  },
  "cells": [
    {
      "cell_type": "markdown",
      "metadata": {
        "id": "view-in-github",
        "colab_type": "text"
      },
      "source": [
        "<a href=\"https://colab.research.google.com/github/hasune613/hello-world/blob/main/2020_chapter_08.ipynb\" target=\"_parent\"><img src=\"https://colab.research.google.com/assets/colab-badge.svg\" alt=\"Open In Colab\"/></a>"
      ]
    },
    {
      "cell_type": "markdown",
      "metadata": {
        "id": "iPTsG64n4nHa"
      },
      "source": [
        "# 第8章: ニューラルネット\n",
        "第6章で取り組んだニュース記事のカテゴリ分類を題材として，ニューラルネットワークでカテゴリ分類モデルを実装する．なお，この章ではPyTorch, TensorFlow, Chainerなどの機械学習プラットフォームを活用せよ．"
      ]
    },
    {
      "cell_type": "markdown",
      "metadata": {
        "id": "h2KLRpGU4tVm"
      },
      "source": [
        "## 70. 単語ベクトルの和による特徴量\n",
        "***\n",
        "問題50で構築した学習データ，検証データ，評価データを行列・ベクトルに変換したい．例えば，学習データについて，すべての事例$x_i$の特徴ベクトル$\\boldsymbol{x}_i$を並べた行列$X$と正解ラベルを並べた行列（ベクトル）$Y$を作成したい．\n",
        "\n",
        "$$\n",
        "X = \\begin{pmatrix} \n",
        "  \\boldsymbol{x}_1 \\\\ \n",
        "  \\boldsymbol{x}_2 \\\\ \n",
        "  \\dots \\\\ \n",
        "  \\boldsymbol{x}_n \\\\ \n",
        "\\end{pmatrix} \\in \\mathbb{R}^{n \\times d},\n",
        "Y = \\begin{pmatrix} \n",
        "  y_1 \\\\ \n",
        "  y_2 \\\\ \n",
        "  \\dots \\\\ \n",
        "  y_n \\\\ \n",
        "\\end{pmatrix} \\in \\mathbb{N}^{n}\n",
        "$$\n",
        "\n",
        "ここで，$n$は学習データの事例数であり，$\\boldsymbol x_i \\in \\mathbb{R}^d$と$y_i \\in \\mathbb N$はそれぞれ，$i \\in \\{1, \\dots, n\\}$番目の事例の特徴量ベクトルと正解ラベルを表す．\n",
        "なお，今回は「ビジネス」「科学技術」「エンターテイメント」「健康」の4カテゴリ分類である．$\\mathbb N_{<4}$で$4$未満の自然数（$0$を含む）を表すことにすれば，任意の事例の正解ラベル$y_i$は$y_i \\in \\mathbb N_{<4}$で表現できる．\n",
        "以降では，ラベルの種類数を$L$で表す（今回の分類タスクでは$L=4$である）．\n",
        "\n",
        "$i$番目の事例の特徴ベクトル$\\boldsymbol x_i$は，次式で求める．\n",
        "\n",
        "$$\\boldsymbol x_i = \\frac{1}{T_i} \\sum_{t=1}^{T_i} \\mathrm{emb}(w_{i,t})$$\n",
        "\n",
        "ここで，$i$番目の事例は$T_i$個の（記事見出しの）単語列$(w_{i,1}, w_{i,2}, \\dots, w_{i,T_i})$から構成され，$\\mathrm{emb}(w) \\in \\mathbb{R}^d$は単語$w$に対応する単語ベクトル（次元数は$d$）である．すなわち，$i$番目の事例の記事見出しを，その見出しに含まれる単語のベクトルの平均で表現したものが$\\boldsymbol x_i$である．今回は単語ベクトルとして，問題60でダウンロードしたものを用いればよい．$300$次元の単語ベクトルを用いたので，$d=300$である．\n",
        "$i$番目の事例のラベル$y_i$は，次のように定義する．\n",
        "\n",
        "$$\n",
        "y_i = \\begin{cases}\n",
        "0 & (\\mbox{記事}\\boldsymbol x_i\\mbox{が「ビジネス」カテゴリの場合}) \\\\\n",
        "1 & (\\mbox{記事}\\boldsymbol x_i\\mbox{が「科学技術」カテゴリの場合}) \\\\\n",
        "2 & (\\mbox{記事}\\boldsymbol x_i\\mbox{が「エンターテイメント」カテゴリの場合}) \\\\\n",
        "3 & (\\mbox{記事}\\boldsymbol x_i\\mbox{が「健康」カテゴリの場合}) \\\\\n",
        "\\end{cases}\n",
        "$$\n",
        "\n",
        "なお，カテゴリ名とラベルの番号が一対一で対応付いていれば，上式の通りの対応付けでなくてもよい．\n",
        "\n",
        "以上の仕様に基づき，以下の行列・ベクトルを作成し，ファイルに保存せよ．\n",
        "\n",
        "+ 学習データの特徴量行列: $X_{\\rm train} \\in \\mathbb{R}^{N_t \\times d}$\n",
        "+ 学習データのラベルベクトル: $Y_{\\rm train} \\in \\mathbb{N}^{N_t}$\n",
        "+ 検証データの特徴量行列: $X_{\\rm valid} \\in \\mathbb{R}^{N_v \\times d}$\n",
        "+ 検証データのラベルベクトル: $Y_{\\rm valid} \\in \\mathbb{N}^{N_v}$\n",
        "+ 評価データの特徴量行列: $X_{\\rm test} \\in \\mathbb{R}^{N_e \\times d}$\n",
        "+ 評価データのラベルベクトル: $Y_{\\rm test} \\in \\mathbb{N}^{N_e}$\n",
        "\n",
        "なお，$N_t, N_v, N_e$はそれぞれ，学習データの事例数，検証データの事例数，評価データの事例数である．\n"
      ]
    },
    {
      "cell_type": "code",
      "metadata": {
        "id": "oDnx7yXwORse",
        "colab": {
          "base_uri": "https://localhost:8080/"
        },
        "outputId": "549cbdfe-5298-4362-f44c-757970eb38bb"
      },
      "source": [
        "from google.colab import drive\n",
        "drive.mount('/content/drive')"
      ],
      "execution_count": null,
      "outputs": [
        {
          "output_type": "stream",
          "name": "stdout",
          "text": [
            "Drive already mounted at /content/drive; to attempt to forcibly remount, call drive.mount(\"/content/drive\", force_remount=True).\n"
          ]
        }
      ]
    },
    {
      "cell_type": "code",
      "metadata": {
        "colab": {
          "base_uri": "https://localhost:8080/"
        },
        "id": "e-_v77yWIDNu",
        "outputId": "be8b316c-e30c-4d54-db80-45b50de119e1"
      },
      "source": [
        "!ls drive"
      ],
      "execution_count": null,
      "outputs": [
        {
          "output_type": "stream",
          "name": "stdout",
          "text": [
            "MyDrive\n"
          ]
        }
      ]
    },
    {
      "cell_type": "code",
      "metadata": {
        "id": "SmTlGw_1BrPD",
        "colab": {
          "base_uri": "https://localhost:8080/"
        },
        "outputId": "3ba0bfcb-82e8-4cf1-8377-f9a1fe192016"
      },
      "source": [
        "!wget https://archive.ics.uci.edu/ml/machine-learning-databases/00359/NewsAggregatorDataset.zip\n",
        "!unzip NewsAggregatorDataset.zip"
      ],
      "execution_count": null,
      "outputs": [
        {
          "output_type": "stream",
          "name": "stdout",
          "text": [
            "--2021-11-21 08:37:09--  https://archive.ics.uci.edu/ml/machine-learning-databases/00359/NewsAggregatorDataset.zip\n",
            "Resolving archive.ics.uci.edu (archive.ics.uci.edu)... 128.195.10.252\n",
            "Connecting to archive.ics.uci.edu (archive.ics.uci.edu)|128.195.10.252|:443... connected.\n",
            "HTTP request sent, awaiting response... 200 OK\n",
            "Length: 29224203 (28M) [application/x-httpd-php]\n",
            "Saving to: ‘NewsAggregatorDataset.zip.1’\n",
            "\n",
            "NewsAggregatorDatas 100%[===================>]  27.87M  32.4MB/s    in 0.9s    \n",
            "\n",
            "2021-11-21 08:37:11 (32.4 MB/s) - ‘NewsAggregatorDataset.zip.1’ saved [29224203/29224203]\n",
            "\n",
            "Archive:  NewsAggregatorDataset.zip\n",
            "replace 2pageSessions.csv? [y]es, [n]o, [A]ll, [N]one, [r]ename: "
          ]
        }
      ]
    },
    {
      "cell_type": "code",
      "metadata": {
        "id": "dB6K4TyCAQCJ",
        "colab": {
          "base_uri": "https://localhost:8080/"
        },
        "outputId": "6c622608-cf71-434f-9365-1890069cc2df"
      },
      "source": [
        "!wc -l ./newsCorpora.csv"
      ],
      "execution_count": null,
      "outputs": [
        {
          "output_type": "stream",
          "name": "stdout",
          "text": [
            "422937 ./newsCorpora.csv\n"
          ]
        }
      ]
    },
    {
      "cell_type": "code",
      "metadata": {
        "id": "SUeo7V4jARyw",
        "colab": {
          "base_uri": "https://localhost:8080/"
        },
        "outputId": "5a4c7105-ed32-4245-fa9e-846388296187"
      },
      "source": [
        "!head -10 ./newsCorpora.csv"
      ],
      "execution_count": null,
      "outputs": [
        {
          "output_type": "stream",
          "name": "stdout",
          "text": [
            "1\tFed official says weak data caused by weather, should not slow taper\thttp://www.latimes.com/business/money/la-fi-mo-federal-reserve-plosser-stimulus-economy-20140310,0,1312750.story\\?track=rss\tLos Angeles Times\tb\tddUyU0VZz0BRneMioxUPQVP6sIxvM\twww.latimes.com\t1394470370698\n",
            "2\tFed's Charles Plosser sees high bar for change in pace of tapering\thttp://www.livemint.com/Politics/H2EvwJSK2VE6OF7iK1g3PP/Feds-Charles-Plosser-sees-high-bar-for-change-in-pace-of-ta.html\tLivemint\tb\tddUyU0VZz0BRneMioxUPQVP6sIxvM\twww.livemint.com\t1394470371207\n",
            "3\tUS open: Stocks fall after Fed official hints at accelerated tapering\thttp://www.ifamagazine.com/news/us-open-stocks-fall-after-fed-official-hints-at-accelerated-tapering-294436\tIFA Magazine\tb\tddUyU0VZz0BRneMioxUPQVP6sIxvM\twww.ifamagazine.com\t1394470371550\n",
            "4\tFed risks falling 'behind the curve', Charles Plosser says\thttp://www.ifamagazine.com/news/fed-risks-falling-behind-the-curve-charles-plosser-says-294430\tIFA Magazine\tb\tddUyU0VZz0BRneMioxUPQVP6sIxvM\twww.ifamagazine.com\t1394470371793\n",
            "5\tFed's Plosser: Nasty Weather Has Curbed Job Growth\thttp://www.moneynews.com/Economy/federal-reserve-charles-plosser-weather-job-growth/2014/03/10/id/557011\tMoneynews\tb\tddUyU0VZz0BRneMioxUPQVP6sIxvM\twww.moneynews.com\t1394470372027\n",
            "6\tPlosser: Fed May Have to Accelerate Tapering Pace\thttp://www.nasdaq.com/article/plosser-fed-may-have-to-accelerate-tapering-pace-20140310-00371\tNASDAQ\tb\tddUyU0VZz0BRneMioxUPQVP6sIxvM\twww.nasdaq.com\t1394470372212\n",
            "7\tFed's Plosser: Taper pace may be too slow\thttp://www.marketwatch.com/story/feds-plosser-taper-pace-may-be-too-slow-2014-03-10\\?reflink=MW_news_stmp\tMarketWatch\tb\tddUyU0VZz0BRneMioxUPQVP6sIxvM\twww.marketwatch.com\t1394470372405\n",
            "8\tFed's Plosser expects US unemployment to fall to 6.2% by the end of 2014\thttp://www.fxstreet.com/news/forex-news/article.aspx\\?storyid=23285020-b1b5-47ed-a8c4-96124bb91a39\tFXstreet.com\tb\tddUyU0VZz0BRneMioxUPQVP6sIxvM\twww.fxstreet.com\t1394470372615\n",
            "9\tUS jobs growth last month hit by weather:Fed President Charles Plosser\thttp://economictimes.indiatimes.com/news/international/business/us-jobs-growth-last-month-hit-by-weatherfed-president-charles-plosser/articleshow/31788000.cms\tEconomic Times\tb\tddUyU0VZz0BRneMioxUPQVP6sIxvM\teconomictimes.indiatimes.com\t1394470372792\n",
            "10\tECB unlikely to end sterilisation of SMP purchases - traders\thttp://www.iii.co.uk/news-opinion/reuters/news/152615\tInteractive Investor\tb\tdPhGU51DcrolUIMxbRm0InaHGA2XM\twww.iii.co.uk\t1394470501265\n"
          ]
        }
      ]
    },
    {
      "cell_type": "code",
      "metadata": {
        "id": "k4VZAlFmbgZB"
      },
      "source": [
        "# 読込時のエラー回避のためダブルクォーテーションをシングルクォーテーションに置換\n",
        "!sed -e 's/\"/'\\''/g' ./newsCorpora.csv > ./newsCorpora_re.csv"
      ],
      "execution_count": null,
      "outputs": []
    },
    {
      "cell_type": "code",
      "metadata": {
        "id": "YAJGxQ1vb_1H"
      },
      "source": [
        "import pandas as pd\n",
        "from sklearn.model_selection import train_test_split"
      ],
      "execution_count": null,
      "outputs": []
    },
    {
      "cell_type": "code",
      "metadata": {
        "id": "r3kMBKSkcHuU",
        "colab": {
          "base_uri": "https://localhost:8080/",
          "height": 340
        },
        "outputId": "cc141dc8-f7ef-4e05-807d-bb7f7133cbc5"
      },
      "source": [
        "df = pd.read_csv('./newsCorpora_re.csv',header=None,sep='\\t',names = ['ID','TITLE','URL','PUBLISHER','CATEGORY','STORY','HOSTNAME','TIMESTAMP'])\n",
        "df.head(2)\n"
      ],
      "execution_count": null,
      "outputs": [
        {
          "output_type": "execute_result",
          "data": {
            "text/html": [
              "<div>\n",
              "<style scoped>\n",
              "    .dataframe tbody tr th:only-of-type {\n",
              "        vertical-align: middle;\n",
              "    }\n",
              "\n",
              "    .dataframe tbody tr th {\n",
              "        vertical-align: top;\n",
              "    }\n",
              "\n",
              "    .dataframe thead th {\n",
              "        text-align: right;\n",
              "    }\n",
              "</style>\n",
              "<table border=\"1\" class=\"dataframe\">\n",
              "  <thead>\n",
              "    <tr style=\"text-align: right;\">\n",
              "      <th></th>\n",
              "      <th>ID</th>\n",
              "      <th>TITLE</th>\n",
              "      <th>URL</th>\n",
              "      <th>PUBLISHER</th>\n",
              "      <th>CATEGORY</th>\n",
              "      <th>STORY</th>\n",
              "      <th>HOSTNAME</th>\n",
              "      <th>TIMESTAMP</th>\n",
              "    </tr>\n",
              "  </thead>\n",
              "  <tbody>\n",
              "    <tr>\n",
              "      <th>0</th>\n",
              "      <td>1</td>\n",
              "      <td>Fed official says weak data caused by weather,...</td>\n",
              "      <td>http://www.latimes.com/business/money/la-fi-mo...</td>\n",
              "      <td>Los Angeles Times</td>\n",
              "      <td>b</td>\n",
              "      <td>ddUyU0VZz0BRneMioxUPQVP6sIxvM</td>\n",
              "      <td>www.latimes.com</td>\n",
              "      <td>1394470370698</td>\n",
              "    </tr>\n",
              "    <tr>\n",
              "      <th>1</th>\n",
              "      <td>2</td>\n",
              "      <td>Fed's Charles Plosser sees high bar for change...</td>\n",
              "      <td>http://www.livemint.com/Politics/H2EvwJSK2VE6O...</td>\n",
              "      <td>Livemint</td>\n",
              "      <td>b</td>\n",
              "      <td>ddUyU0VZz0BRneMioxUPQVP6sIxvM</td>\n",
              "      <td>www.livemint.com</td>\n",
              "      <td>1394470371207</td>\n",
              "    </tr>\n",
              "  </tbody>\n",
              "</table>\n",
              "</div>"
            ],
            "text/plain": [
              "   ID  ...      TIMESTAMP\n",
              "0   1  ...  1394470370698\n",
              "1   2  ...  1394470371207\n",
              "\n",
              "[2 rows x 8 columns]"
            ]
          },
          "metadata": {},
          "execution_count": 70
        }
      ]
    },
    {
      "cell_type": "code",
      "metadata": {
        "id": "DusKDoPDLp9J",
        "colab": {
          "base_uri": "https://localhost:8080/"
        },
        "cellView": "form",
        "outputId": "d2137c57-8c9b-4a87-8f40-cda72630af5a"
      },
      "source": [
        "#@title\n",
        "df.columns"
      ],
      "execution_count": null,
      "outputs": [
        {
          "output_type": "execute_result",
          "data": {
            "text/plain": [
              "Index(['ID', 'TITLE', 'URL', 'PUBLISHER', 'CATEGORY', 'STORY', 'HOSTNAME',\n",
              "       'TIMESTAMP'],\n",
              "      dtype='object')"
            ]
          },
          "metadata": {},
          "execution_count": 71
        }
      ]
    },
    {
      "cell_type": "code",
      "metadata": {
        "id": "Z_TuFghyLG9s",
        "colab": {
          "base_uri": "https://localhost:8080/"
        },
        "outputId": "8ed91bd8-2c8e-4cf7-ffc9-3fd290245dc8"
      },
      "source": [
        "len(set(df.PUBLISHER))"
      ],
      "execution_count": null,
      "outputs": [
        {
          "output_type": "execute_result",
          "data": {
            "text/plain": [
              "10993"
            ]
          },
          "metadata": {},
          "execution_count": 72
        }
      ]
    },
    {
      "cell_type": "code",
      "metadata": {
        "id": "mWhFWpw3jNBT",
        "colab": {
          "base_uri": "https://localhost:8080/",
          "height": 143
        },
        "outputId": "ce379e71-0339-4c0b-dee4-bd08f620daa6"
      },
      "source": [
        "df = df.loc[df['PUBLISHER'].isin(['Reuters', 'Huffington Post', 'Businessweek', 'Contactmusic.com', 'Daily Mail']),['TITLE','CATEGORY']]\n",
        "df.head(3)"
      ],
      "execution_count": null,
      "outputs": [
        {
          "output_type": "execute_result",
          "data": {
            "text/html": [
              "<div>\n",
              "<style scoped>\n",
              "    .dataframe tbody tr th:only-of-type {\n",
              "        vertical-align: middle;\n",
              "    }\n",
              "\n",
              "    .dataframe tbody tr th {\n",
              "        vertical-align: top;\n",
              "    }\n",
              "\n",
              "    .dataframe thead th {\n",
              "        text-align: right;\n",
              "    }\n",
              "</style>\n",
              "<table border=\"1\" class=\"dataframe\">\n",
              "  <thead>\n",
              "    <tr style=\"text-align: right;\">\n",
              "      <th></th>\n",
              "      <th>TITLE</th>\n",
              "      <th>CATEGORY</th>\n",
              "    </tr>\n",
              "  </thead>\n",
              "  <tbody>\n",
              "    <tr>\n",
              "      <th>12</th>\n",
              "      <td>Europe reaches crunch point on banking union</td>\n",
              "      <td>b</td>\n",
              "    </tr>\n",
              "    <tr>\n",
              "      <th>13</th>\n",
              "      <td>ECB FOCUS-Stronger euro drowns out ECB's messa...</td>\n",
              "      <td>b</td>\n",
              "    </tr>\n",
              "    <tr>\n",
              "      <th>19</th>\n",
              "      <td>Euro Anxieties Wane as Bunds Top Treasuries, S...</td>\n",
              "      <td>b</td>\n",
              "    </tr>\n",
              "  </tbody>\n",
              "</table>\n",
              "</div>"
            ],
            "text/plain": [
              "                                                TITLE CATEGORY\n",
              "12       Europe reaches crunch point on banking union        b\n",
              "13  ECB FOCUS-Stronger euro drowns out ECB's messa...        b\n",
              "19  Euro Anxieties Wane as Bunds Top Treasuries, S...        b"
            ]
          },
          "metadata": {},
          "execution_count": 73
        }
      ]
    },
    {
      "cell_type": "code",
      "metadata": {
        "id": "-2PXKDbyKepS",
        "colab": {
          "base_uri": "https://localhost:8080/"
        },
        "outputId": "c726e6c1-b0fe-4f58-9d23-7b515cb9c6ab"
      },
      "source": [
        "train,valid_test = train_test_split(df,test_size=0.2,shuffle=True,random_state=123,stratify=df['CATEGORY'])\n",
        "valid, test = train_test_split(valid_test,test_size=0.5,shuffle=True, random_state=123, stratify=valid_test['CATEGORY'])\n",
        "# train.shape, valid.shape, test.shape\n",
        "\n",
        "print('【学習データ】')\n",
        "print(train.CATEGORY.value_counts())\n",
        "print('【検証データ】')\n",
        "print(valid.CATEGORY.value_counts())\n",
        "print('【評価データ】')\n",
        "print(test.CATEGORY.value_counts())"
      ],
      "execution_count": null,
      "outputs": [
        {
          "output_type": "stream",
          "name": "stdout",
          "text": [
            "【学習データ】\n",
            "b    4501\n",
            "e    4235\n",
            "t    1220\n",
            "m     728\n",
            "Name: CATEGORY, dtype: int64\n",
            "【検証データ】\n",
            "b    563\n",
            "e    529\n",
            "t    153\n",
            "m     91\n",
            "Name: CATEGORY, dtype: int64\n",
            "【評価データ】\n",
            "b    563\n",
            "e    530\n",
            "t    152\n",
            "m     91\n",
            "Name: CATEGORY, dtype: int64\n"
          ]
        }
      ]
    },
    {
      "cell_type": "code",
      "metadata": {
        "colab": {
          "base_uri": "https://localhost:8080/"
        },
        "id": "kz8hQb1dUqhc",
        "outputId": "a420aea4-ff4d-406c-9552-a818215fefc3"
      },
      "source": [
        "# len(train)\n",
        "4501+  4235+ 1220+  728"
      ],
      "execution_count": null,
      "outputs": [
        {
          "output_type": "execute_result",
          "data": {
            "text/plain": [
              "10684"
            ]
          },
          "metadata": {},
          "execution_count": 75
        }
      ]
    },
    {
      "cell_type": "code",
      "metadata": {
        "id": "taYU1nQyKelP"
      },
      "source": [
        "# train.to_csv('/content/drive/MyDrive/NLP100/val_2020年/work/train.tsv', index=False, sep='\\t', header=False)\n",
        "# valid.to_csv('/content/drive/MyDrive/NLP100/val_2020年/work/valid.tsv', index=False, sep='\\t', header=False)\n",
        "# test.to_csv('/content/drive/MyDrive/NLP100/val_2020年/work/test.tsv', index=False, sep='\\t', header=False)"
      ],
      "execution_count": null,
      "outputs": []
    },
    {
      "cell_type": "code",
      "metadata": {
        "id": "Qn11ef1UKehk"
      },
      "source": [
        "import gdown\n",
        "from gensim.models import KeyedVectors"
      ],
      "execution_count": null,
      "outputs": []
    },
    {
      "cell_type": "code",
      "metadata": {
        "id": "0NlzTTDVKeel"
      },
      "source": [
        "import gdown\n",
        "from gensim.models import KeyedVectors\n",
        "\n",
        "# model = KeyedVectors.load_word2vec_format('https://s3.amazonaws.com/dl4j-distribution/GoogleNews-vectors-negative300.bin.gz', binary=True)\n",
        "\n",
        "# # 学習済み単語ベクトルのダウンロード\n",
        "# url = \"https://drive.google.com/uc?id=0B7XkCwpI5KDYNlNUTTlSS21pQmM\"\n",
        "# output = 'GoogleNews-vectors-negative300.bin.gz'\n",
        "# gdown.download(url, output, quiet=True)\n",
        " \n",
        "# # ダウンロードファイルのロード\n",
        "# model = KeyedVectors.load_word2vec_format('GoogleNews-vectors-negative300.bin.gz', binary=True)\n",
        "\n",
        "model = KeyedVectors.load_word2vec_format('https://s3.amazonaws.com/dl4j-distribution/GoogleNews-vectors-negative300.bin.gz', binary=True)"
      ],
      "execution_count": null,
      "outputs": []
    },
    {
      "cell_type": "code",
      "metadata": {
        "id": "MzAUuRGxmD9_"
      },
      "source": [
        "import string\n",
        "import torch"
      ],
      "execution_count": null,
      "outputs": []
    },
    {
      "cell_type": "code",
      "metadata": {
        "id": "eD-99oIQLERB"
      },
      "source": [
        "def transform_w2v(text):\n",
        "  table = str.maketrans(string.punctuation, ' '*len(string.punctuation))#string.punctuation(!\"#$%&'()*+,-./:;<=>?@[\\]^_`{|}~)\n",
        "  words = text.translate(table).split() # 記号をスペースに置換後、スペースで分割してリスト化\n",
        "  vec = [ model[word] for word in words if word in model]#wordがmodelの中にあればTrue\n",
        "  \n",
        "  return torch.tensor(sum(vec) / len(vec)) # 平均ベクトルをTensor型に変換して出力"
      ],
      "execution_count": null,
      "outputs": []
    },
    {
      "cell_type": "code",
      "metadata": {
        "colab": {
          "base_uri": "https://localhost:8080/"
        },
        "id": "JG_0bcEKLEB5",
        "outputId": "717ecb96-71ad-4669-cfac-2205a4444d74"
      },
      "source": [
        "X_train = torch.stack([transform_w2v(text) for text in train.TITLE])\n",
        "X_valid = torch.stack([transform_w2v(text) for text in valid.TITLE])\n",
        "X_test = torch.stack([transform_w2v(text) for text in test.TITLE])\n",
        "print(X_train)\n",
        "print(len((X_train)[1]))\n",
        "print(X_train.ndim)"
      ],
      "execution_count": null,
      "outputs": [
        {
          "output_type": "stream",
          "name": "stdout",
          "text": [
            "tensor([[ 0.0837,  0.0056,  0.0068,  ...,  0.0751,  0.0433, -0.0868],\n",
            "        [ 0.0272,  0.0266, -0.0947,  ..., -0.1046, -0.0489, -0.0092],\n",
            "        [ 0.0577, -0.0159, -0.0780,  ..., -0.0421,  0.1229,  0.0876],\n",
            "        ...,\n",
            "        [ 0.0392, -0.0052,  0.0686,  ..., -0.0175,  0.0061, -0.0224],\n",
            "        [ 0.0798,  0.1017,  0.1066,  ..., -0.0752,  0.0623,  0.1138],\n",
            "        [ 0.1664,  0.0451,  0.0508,  ..., -0.0531, -0.0183, -0.0039]])\n",
            "300\n",
            "2\n"
          ]
        }
      ]
    },
    {
      "cell_type": "code",
      "metadata": {
        "colab": {
          "base_uri": "https://localhost:8080/"
        },
        "id": "RvKOoGVPLD1u",
        "outputId": "f44f2052-5939-4bec-a4f7-809a5940e570"
      },
      "source": [
        "# ラベルベクトルの作成\n",
        "set(train.CATEGORY)"
      ],
      "execution_count": null,
      "outputs": [
        {
          "output_type": "execute_result",
          "data": {
            "text/plain": [
              "{'b', 'e', 'm', 't'}"
            ]
          },
          "metadata": {},
          "execution_count": 82
        }
      ]
    },
    {
      "cell_type": "code",
      "metadata": {
        "colab": {
          "base_uri": "https://localhost:8080/"
        },
        "id": "1ilIjC8uLDo5",
        "outputId": "7bb36c16-da83-4570-f69e-9cbde8988588"
      },
      "source": [
        "category_dict = {'b':0, 'e':1, 'm':2, 't':3}\n",
        "y_train =torch.LongTensor(train.CATEGORY. map(lambda x : category_dict[x]).values)\n",
        "y_valid =torch.LongTensor(valid.CATEGORY. map(lambda x : category_dict[x]).values)\n",
        "y_test =torch.LongTensor(test.CATEGORY. map(lambda x : category_dict[x]).values)\n",
        "\n",
        "print(y_train.size())\n",
        "print(y_valid.size())\n",
        "print(y_test.size())\n",
        "print(y_train)"
      ],
      "execution_count": null,
      "outputs": [
        {
          "output_type": "stream",
          "name": "stdout",
          "text": [
            "torch.Size([10684])\n",
            "torch.Size([1336])\n",
            "torch.Size([1336])\n",
            "tensor([0, 3, 2,  ..., 0, 2, 1])\n"
          ]
        }
      ]
    },
    {
      "cell_type": "code",
      "metadata": {
        "id": "YV7nCGtQg9nN"
      },
      "source": [
        "# 保存\n",
        "torch.save(X_train, 'X_train.pt')\n",
        "torch.save(X_valid, 'X_valid.pt')\n",
        "torch.save(X_test, 'X_test.pt')\n",
        "torch.save(y_train, 'y_train.pt')\n",
        "torch.save(y_valid, 'y_valid.pt')\n",
        "torch.save(y_test, 'y_test.pt')"
      ],
      "execution_count": null,
      "outputs": []
    },
    {
      "cell_type": "markdown",
      "metadata": {
        "id": "vXDSM3xI5Rf7"
      },
      "source": [
        "## 71. 単層ニューラルネットワークによる予測\n",
        "***\n",
        "問題70で保存した行列を読み込み，学習データについて以下の計算を実行せよ．\n",
        "\n",
        "$$\n",
        "\\hat{y}_1=softmax(x_1W),\\\\\\hat{Y}=softmax(X_{[1:4]}W)\n",
        "$$\n",
        "\n",
        "ただし，$softmax$はソフトマックス関数，$X_{[1:4]}∈\\mathbb{R}^{4×d}$は特徴ベクトル$x_1$,$x_2$,$x_3$,$x_4$を縦に並べた行列である．\n",
        "\n",
        "$$\n",
        "X_{[1:4]}=\\begin{pmatrix}x_1\\\\x_2\\\\x_3\\\\x_4\\end{pmatrix}\n",
        "$$\n",
        "\n",
        "行列$W \\in \\mathbb{R}^{d \\times L}$は単層ニューラルネットワークの重み行列で，ここではランダムな値で初期化すればよい（問題73以降で学習して求める）．なお，$\\hat{\\boldsymbol y_1} \\in \\mathbb{R}^L$は未学習の行列$W$で事例$x_1$を分類したときに，各カテゴリに属する確率を表すベクトルである．\n",
        "同様に，$\\hat{Y} \\in \\mathbb{R}^{n \\times L}$は，学習データの事例$x_1, x_2, x_3, x_4$について，各カテゴリに属する確率を行列として表現している．\n",
        "\n"
      ]
    },
    {
      "cell_type": "code",
      "metadata": {
        "id": "7J4Vp4-bibxZ"
      },
      "source": [
        "from torch import nn"
      ],
      "execution_count": null,
      "outputs": []
    },
    {
      "cell_type": "code",
      "metadata": {
        "id": "m-ZDk1Lsibqi"
      },
      "source": [
        "class SLPNet(nn.Module):\n",
        "  def __init__(self, input_size,output_size):\n",
        "    super().__init__()\n",
        "    self.fc = nn.Linear(input_size,output_size,bias=False)\n",
        "    nn.init.normal_(self.fc.weight,0.0, 1.0)  # 正規乱数で重みを初期化 \n",
        "    \n",
        "  def forward(self,x):\n",
        "    x = self.fc(x)\n",
        "    return x\n"
      ],
      "execution_count": null,
      "outputs": []
    },
    {
      "cell_type": "code",
      "metadata": {
        "colab": {
          "base_uri": "https://localhost:8080/"
        },
        "id": "u6LDwKJkibj3",
        "outputId": "dd435967-c618-416d-f0a2-604a6ef5ee51"
      },
      "source": [
        "model = SLPNet(300,4)\n",
        "y_hat_1 = torch.softmax(model(X_train[:1]),dim=-1)#1行目（x1）\n",
        "print(y_hat_1)\n",
        "[0.2091+ 0.0288+ 0.0318+ 0.7303]"
      ],
      "execution_count": null,
      "outputs": [
        {
          "output_type": "stream",
          "name": "stdout",
          "text": [
            "tensor([[0.0126, 0.7438, 0.0326, 0.2110]], grad_fn=<SoftmaxBackward0>)\n"
          ]
        },
        {
          "output_type": "execute_result",
          "data": {
            "text/plain": [
              "[1.0]"
            ]
          },
          "metadata": {},
          "execution_count": 87
        }
      ]
    },
    {
      "cell_type": "code",
      "metadata": {
        "colab": {
          "base_uri": "https://localhost:8080/"
        },
        "id": "NhctdXZVibdw",
        "outputId": "76df4972-8aa3-4d2d-fc7d-2d5948c867f3"
      },
      "source": [
        "Y_hat = torch.softmax(model(X_train[:4]),dim=-1)#1行目～4行目（X1,X2,X3,X4）\n",
        "print(Y_hat)\n",
        "[0.3519+ 0.3375+ 0.1571+ 0.1534]"
      ],
      "execution_count": null,
      "outputs": [
        {
          "output_type": "stream",
          "name": "stdout",
          "text": [
            "tensor([[0.0126, 0.7438, 0.0326, 0.2110],\n",
            "        [0.0422, 0.0782, 0.0823, 0.7973],\n",
            "        [0.0578, 0.1308, 0.2448, 0.5667],\n",
            "        [0.1446, 0.1187, 0.1350, 0.6016]], grad_fn=<SoftmaxBackward0>)\n"
          ]
        },
        {
          "output_type": "execute_result",
          "data": {
            "text/plain": [
              "[0.9999]"
            ]
          },
          "metadata": {},
          "execution_count": 88
        }
      ]
    },
    {
      "cell_type": "code",
      "metadata": {
        "colab": {
          "base_uri": "https://localhost:8080/"
        },
        "id": "9eMxU7BgS3jq",
        "outputId": "a12acf4c-fd1f-4e93-e533-4333c479d886"
      },
      "source": [
        "Y_hat = torch.softmax(model(X_train[:4]),dim=-1)#1行目～4行目（X1,X2,X3,X4）\n",
        "print(Y_hat)\n",
        "[0.3519+ 0.3375+ 0.1571+ 0.1534]"
      ],
      "execution_count": null,
      "outputs": [
        {
          "output_type": "stream",
          "name": "stdout",
          "text": [
            "tensor([[0.0126, 0.7438, 0.0326, 0.2110],\n",
            "        [0.0422, 0.0782, 0.0823, 0.7973],\n",
            "        [0.0578, 0.1308, 0.2448, 0.5667],\n",
            "        [0.1446, 0.1187, 0.1350, 0.6016]], grad_fn=<SoftmaxBackward0>)\n"
          ]
        },
        {
          "output_type": "execute_result",
          "data": {
            "text/plain": [
              "[0.9999]"
            ]
          },
          "metadata": {},
          "execution_count": 89
        }
      ]
    },
    {
      "cell_type": "markdown",
      "metadata": {
        "id": "7Ph2yFA45fKk"
      },
      "source": [
        "## 72. 損失と勾配の計算\n",
        "***\n",
        "学習データの事例$x_1$と事例集合$x_1$,$x_2$,$x_3$,$x_4$に対して，クロスエントロピー損失と，行列$W$に対する勾配を計算せよ．なお，ある事例$x_i$に対して損失は次式で計算される．\n",
        "\n",
        "$$l_i=−log[事例x_iがy_iに分類される確率]$$\n",
        "\n",
        "ただし，事例集合に対するクロスエントロピー損失は，その集合に含まれる各事例の損失の平均とする．"
      ]
    },
    {
      "cell_type": "code",
      "metadata": {
        "id": "T3Oei9c1n7Ov"
      },
      "source": [
        "criterion=nn.CrossEntropyLoss()"
      ],
      "execution_count": null,
      "outputs": []
    },
    {
      "cell_type": "code",
      "metadata": {
        "colab": {
          "base_uri": "https://localhost:8080/"
        },
        "id": "InlcLhdqn7E0",
        "outputId": "34c5bf38-be0f-455b-b0da-1721d86ccfb9"
      },
      "source": [
        "l_1 = criterion(model.forward(X_train[:1]),y_train[:1])\n",
        "# model.zero_grad()\n",
        "# l_1.backward()\n",
        "print(f'損失{l_1:.3f}')\n",
        "print(f'勾配\\n{model.fc.weight.grad}')\n"
      ],
      "execution_count": null,
      "outputs": [
        {
          "output_type": "stream",
          "name": "stdout",
          "text": [
            "損失4.377\n",
            "勾配\n",
            "None\n"
          ]
        }
      ]
    },
    {
      "cell_type": "code",
      "metadata": {
        "colab": {
          "base_uri": "https://localhost:8080/"
        },
        "id": "DDdWMWPY2ccx",
        "outputId": "bed0eaf9-69f9-41ff-e7f9-1556d0f3ff7e"
      },
      "source": [
        "l_1 = criterion(model.forward(X_train[:1]),y_train[:1])\n",
        "model.zero_grad()\n",
        "l_1.backward()\n",
        "print(f'損失{l_1:.3f}')\n",
        "print(f'勾配\\n{model.fc.weight.grad}')\n"
      ],
      "execution_count": null,
      "outputs": [
        {
          "output_type": "stream",
          "name": "stdout",
          "text": [
            "損失4.377\n",
            "勾配\n",
            "tensor([[-0.0826, -0.0056, -0.0067,  ..., -0.0742, -0.0428,  0.0857],\n",
            "        [ 0.0622,  0.0042,  0.0051,  ...,  0.0559,  0.0322, -0.0646],\n",
            "        [ 0.0027,  0.0002,  0.0002,  ...,  0.0025,  0.0014, -0.0028],\n",
            "        [ 0.0177,  0.0012,  0.0014,  ...,  0.0159,  0.0091, -0.0183]])\n"
          ]
        }
      ]
    },
    {
      "cell_type": "markdown",
      "metadata": {
        "id": "82tY9cQC5wsy"
      },
      "source": [
        "## 73. 確率的勾配降下法による学習\n",
        "***\n",
        "確率的勾配降下法（SGD: Stochastic Gradient Descent）を用いて，行列$W$を学習せよ．なお，学習は適当な基準で終了させればよい（例えば「100エポックで終了」など）．"
      ]
    },
    {
      "cell_type": "code",
      "metadata": {
        "id": "7kQr618EAVol"
      },
      "source": [
        "from torch.utils.data import Dataset\n",
        "from torch.utils.data import DataLoader"
      ],
      "execution_count": null,
      "outputs": []
    },
    {
      "cell_type": "code",
      "metadata": {
        "id": "Mya_AhbRAVlm"
      },
      "source": [
        "class CreateDataset(Dataset):\n",
        "  def __init__(self,X, y):\n",
        "    self.X = X\n",
        "    self.y = y\n",
        "\n",
        "  def __len__(self):\n",
        "    return len(self.y)\n",
        "\n",
        "  def __getitem__(self,idx):\n",
        "    return [self.X[idx],self.y[idx]]\n"
      ],
      "execution_count": null,
      "outputs": []
    },
    {
      "cell_type": "code",
      "metadata": {
        "id": "GnlS_7kHAViH",
        "colab": {
          "base_uri": "https://localhost:8080/"
        },
        "outputId": "ef76b2ce-38b4-4aed-b9ad-fd275c58fae6"
      },
      "source": [
        "dataset_train = CreateDataset(X_train,y_train)\n",
        "dataset_valid = CreateDataset(X_valid,y_valid)\n",
        "dataset_test = CreateDataset(X_test,y_test)\n",
        "\n",
        "dataloader_train = DataLoader(dataset_train,batch_size=1, shuffle=True)\n",
        "dataloader_valid = DataLoader(dataset_valid,batch_size=len(dataset_valid), shuffle=False)\n",
        "dataloader_test = DataLoader(dataset_test,batch_size=len(dataset_test), shuffle=False)\n",
        "\n",
        "print(len(dataset_train))\n",
        "print(next(iter(dataloader_train)))\n",
        "print(len(dataloader_train))"
      ],
      "execution_count": null,
      "outputs": [
        {
          "output_type": "stream",
          "name": "stdout",
          "text": [
            "10684\n",
            "[tensor([[ 0.0974, -0.0590,  0.0129, -0.0752,  0.0816, -0.0058, -0.0213, -0.1000,\n",
            "          0.0000,  0.0201, -0.0421,  0.0469,  0.0629,  0.0401,  0.0284, -0.0060,\n",
            "          0.0946,  0.1228, -0.0284,  0.0722,  0.0040,  0.0944,  0.0681,  0.0321,\n",
            "          0.0323,  0.0095, -0.0907,  0.0784,  0.0972,  0.1361, -0.0751, -0.0549,\n",
            "         -0.0284, -0.0406, -0.0522, -0.1461,  0.0013, -0.0089, -0.0919,  0.0181,\n",
            "         -0.0152, -0.0211,  0.0762,  0.0980,  0.0101, -0.1156, -0.0200, -0.0522,\n",
            "          0.0087,  0.2402, -0.1449,  0.0845,  0.1138, -0.0142, -0.0301,  0.1239,\n",
            "         -0.0617,  0.0099,  0.0733, -0.1631, -0.1576,  0.1301, -0.1543, -0.0383,\n",
            "          0.0462, -0.0139, -0.0148,  0.0078,  0.0774,  0.0580, -0.0902, -0.0735,\n",
            "          0.0464,  0.0430,  0.0170, -0.0758,  0.0358,  0.1166, -0.0362,  0.0586,\n",
            "         -0.0456, -0.0943, -0.0178, -0.0754, -0.0821, -0.1226, -0.0491,  0.1513,\n",
            "         -0.0307, -0.0943,  0.0816, -0.0400, -0.0186, -0.0365, -0.0286,  0.0393,\n",
            "          0.1292,  0.0673,  0.0785, -0.0065, -0.0647, -0.0457, -0.0474, -0.0110,\n",
            "          0.0788,  0.1107, -0.0499, -0.0775, -0.0822, -0.0280,  0.0113, -0.0687,\n",
            "          0.1202, -0.1400, -0.0378,  0.1298, -0.0014, -0.0384,  0.1016, -0.0083,\n",
            "          0.0326,  0.0300, -0.2771,  0.0076,  0.0175, -0.0304, -0.1113, -0.0124,\n",
            "          0.0462,  0.1118, -0.1302, -0.1152,  0.0223, -0.0933, -0.1349, -0.0531,\n",
            "         -0.0787,  0.0405, -0.0206,  0.0656, -0.0559, -0.1000, -0.0648, -0.0278,\n",
            "         -0.0397, -0.0389, -0.0050,  0.0422,  0.0944,  0.0424,  0.1606, -0.1466,\n",
            "          0.0598, -0.0140,  0.0812,  0.0912, -0.0474, -0.0364, -0.0029, -0.1752,\n",
            "          0.1485, -0.0074,  0.1251,  0.0180,  0.0397,  0.1543,  0.0886, -0.0629,\n",
            "          0.0525,  0.0554, -0.0051,  0.0249,  0.0462, -0.1277, -0.0494,  0.0611,\n",
            "          0.0013, -0.0773,  0.0539,  0.0407, -0.1276, -0.1694, -0.0110, -0.0616,\n",
            "         -0.1358, -0.0176,  0.1404,  0.0080,  0.0745,  0.0535, -0.0361,  0.0876,\n",
            "          0.0568,  0.1469, -0.0482,  0.1720,  0.0286, -0.1922,  0.1436, -0.0562,\n",
            "          0.0713,  0.0515, -0.1423, -0.0328,  0.0765,  0.0254,  0.0036,  0.0662,\n",
            "          0.0193, -0.0041, -0.0395,  0.0478, -0.0620,  0.1932, -0.0666,  0.0217,\n",
            "          0.1060, -0.0019, -0.0573,  0.0979, -0.0338,  0.0910, -0.2273, -0.0238,\n",
            "         -0.0352, -0.0464,  0.1075,  0.1241, -0.0036,  0.0544, -0.0722,  0.0319,\n",
            "          0.0315,  0.0281, -0.0678, -0.0555,  0.1059, -0.0931,  0.1853,  0.0327,\n",
            "         -0.0367, -0.0236,  0.0300,  0.0068,  0.0338,  0.0074, -0.0673,  0.0655,\n",
            "         -0.0025, -0.0098, -0.1137,  0.0548, -0.0593,  0.1059,  0.0570,  0.0065,\n",
            "          0.0510, -0.0910, -0.0258, -0.0833,  0.1395,  0.0503,  0.1581,  0.0419,\n",
            "          0.0808,  0.0989, -0.0366, -0.0515, -0.0065,  0.0580,  0.0204,  0.0850,\n",
            "          0.0038, -0.0535,  0.0132,  0.0889, -0.0540, -0.0774,  0.0032,  0.0367,\n",
            "         -0.0307,  0.0617, -0.0235, -0.0812,  0.1196,  0.0467, -0.1122,  0.0221,\n",
            "          0.0153,  0.0184,  0.0088, -0.0310, -0.1334,  0.0701,  0.0515,  0.0315,\n",
            "         -0.0232, -0.0802,  0.1404, -0.0266]]), tensor([0])]\n",
            "10684\n"
          ]
        }
      ]
    },
    {
      "cell_type": "code",
      "metadata": {
        "id": "luCzlP8aAVcR",
        "colab": {
          "base_uri": "https://localhost:8080/"
        },
        "outputId": "f5dbd7ac-0b04-4c11-d89d-ea069056036e"
      },
      "source": [
        "model = SLPNet(300,4)\n",
        "criterion = nn.CrossEntropyLoss()\n",
        "optimizer = torch.optim.SGD(model.parameters(),lr=1e-1)\n",
        "num_epochs = 3\n",
        "\n",
        "for epoch in range(num_epochs):\n",
        "  model.train()\n",
        "  loss_train = 0.0\n",
        "  for i , (inputs,labels) in enumerate(dataloader_train):# i = バッチのインデックス  \n",
        "    optimizer.zero_grad()\n",
        "    output = model.forward(inputs)\n",
        "    loss = criterion(output, labels)\n",
        "    loss_train += loss.item()#.item() -> 要素が1個のtensorから値の取り出し\n",
        "    loss.backward()\n",
        "    optimizer.step()\n",
        "  loss_train = loss_train / i\n",
        "\n",
        "  model.eval()\n",
        "  with torch.no_grad():\n",
        "    inputs , labels  =  next(iter(dataloader_valid))\n",
        "    outputs = model.forward(inputs)\n",
        "    loss_valid = criterion(outputs,labels)\n",
        "  print(f'epoch:{epoch+1},loss_train{loss_train:.4f}, loss_valid{loss_valid:.4f}')\n",
        "\n"
      ],
      "execution_count": null,
      "outputs": [
        {
          "output_type": "stream",
          "name": "stdout",
          "text": [
            "epoch:1,loss_train0.4654, loss_valid0.3444\n",
            "epoch:2,loss_train0.3062, loss_valid0.3177\n",
            "epoch:3,loss_train0.2790, loss_valid0.3075\n"
          ]
        }
      ]
    },
    {
      "cell_type": "markdown",
      "metadata": {
        "id": "ERzuAATZQ71v"
      },
      "source": [
        "## 74. 正解率の計測\n",
        "***\n",
        "問題73で求めた行列を用いて学習データおよび評価データの事例を分類したとき，その正解率をそれぞれ求めよ．"
      ]
    },
    {
      "cell_type": "code",
      "metadata": {
        "id": "L03JkHbeveBR"
      },
      "source": [
        "def calculate_accuracy(model, X,y):\n",
        "  model.eval()\n",
        "  with torch.no_grad():\n",
        "    output = model(X)\n",
        "    pred = torch.argmax(output, dim=-1)\n",
        "  # predで最大値のクラスを返す \n",
        "\n",
        "  return (pred == y).sum() / len(y)\n",
        "  \n"
      ],
      "execution_count": null,
      "outputs": []
    },
    {
      "cell_type": "code",
      "metadata": {
        "colab": {
          "base_uri": "https://localhost:8080/"
        },
        "id": "C5vf-EHAIMR3",
        "outputId": "09337d44-0636-468c-9030-0bdd11ba7a15"
      },
      "source": [
        "acc_train = calculate_accuracy(model,X_train,y_train)\n",
        "acc_test = calculate_accuracy(model,X_test,y_test)\n",
        "print(f'正解率(学習データ)：{acc_train:.3f}%')\n",
        "print(f'正解率(評価データ)：{acc_test:.3f}%')\n",
        "# acc_train"
      ],
      "execution_count": null,
      "outputs": [
        {
          "output_type": "stream",
          "name": "stdout",
          "text": [
            "正解率(学習データ)：0.911%\n",
            "正解率(評価データ)：0.895%\n"
          ]
        }
      ]
    },
    {
      "cell_type": "markdown",
      "metadata": {
        "id": "5pJZg6qk56Ag"
      },
      "source": [
        "## 75. 損失と正解率のプロット\n",
        "***\n",
        "問題73のコードを改変し，各エポックのパラメータ更新が完了するたびに，訓練データでの損失，正解率，検証データでの損失，正解率をグラフにプロットし，学習の進捗状況を確認できるようにせよ．"
      ]
    },
    {
      "cell_type": "code",
      "metadata": {
        "id": "_QHNlisV12UB"
      },
      "source": [
        "def calculate_loss_and_accuracy(model, criterion, loader):\n",
        "  model.eval()\n",
        "  loss = 0.0\n",
        "  total = 0\n",
        "  correct = 0\n",
        "  with torch.no_grad():\n",
        "    for inputs, labels in loader:\n",
        "      outputs = model(inputs)\n",
        "      loss += criterion(outputs, labels).item()\n",
        "      pred = torch.argmax(outputs, dim=-1)\n",
        "      total += len(inputs)\n",
        "      correct += (pred == labels).sum().item()\n",
        "      \n",
        "  return loss / len(loader), correct / total"
      ],
      "execution_count": null,
      "outputs": []
    },
    {
      "cell_type": "code",
      "metadata": {
        "colab": {
          "base_uri": "https://localhost:8080/"
        },
        "id": "lYfwotsBmK1v",
        "outputId": "f9956cfd-ffcf-4541-fb8c-13c851e6eea4"
      },
      "source": [
        "# モデルの定義\n",
        "model = SLPNet(300, 4)\n",
        "\n",
        "# 損失関数の定義\n",
        "criterion = nn.CrossEntropyLoss()\n",
        "\n",
        "# オプティマイザの定義\n",
        "optimizer = torch.optim.SGD(model.parameters(), lr=1e-1)\n",
        "\n",
        "# 学習\n",
        "num_epochs = 5\n",
        "log_train = []\n",
        "log_valid = []\n",
        "for epoch in range(num_epochs):\n",
        "  # 訓練モードに設定\n",
        "  model.train()\n",
        "  for inputs, labels in dataloader_train:\n",
        "    # 勾配をゼロで初期化\n",
        "    optimizer.zero_grad()\n",
        "\n",
        "    # 順伝播 + 誤差逆伝播 + 重み更新\n",
        "    outputs = model(inputs)\n",
        "    loss = criterion(outputs, labels)\n",
        "    loss.backward()\n",
        "    optimizer.step()\n",
        "\n",
        "  # 損失と正解率の算出\n",
        "  loss_train, acc_train = calculate_loss_and_accuracy(model, criterion, dataloader_train)\n",
        "  loss_valid, acc_valid = calculate_loss_and_accuracy(model, criterion, dataloader_valid)\n",
        "  log_train.append([loss_train, acc_train])\n",
        "  log_valid.append([loss_valid, acc_valid])\n",
        "\n",
        "  # ログを出力\n",
        "  print(f'epoch: {epoch + 1}, loss_train: {loss_train:.4f}, accuracy_train: {acc_train:.4f}, loss_valid: {loss_valid:.4f}, accuracy_valid: {acc_valid:.4f}')"
      ],
      "execution_count": null,
      "outputs": [
        {
          "output_type": "stream",
          "name": "stdout",
          "text": [
            "epoch: 1, loss_train: 0.3258, accuracy_train: 0.8859, loss_valid: 0.3492, accuracy_valid: 0.8802\n",
            "epoch: 2, loss_train: 0.2828, accuracy_train: 0.9034, loss_valid: 0.3189, accuracy_valid: 0.8997\n",
            "epoch: 3, loss_train: 0.2672, accuracy_train: 0.9069, loss_valid: 0.3155, accuracy_valid: 0.8967\n",
            "epoch: 4, loss_train: 0.2526, accuracy_train: 0.9145, loss_valid: 0.3077, accuracy_valid: 0.8990\n",
            "epoch: 5, loss_train: 0.2523, accuracy_train: 0.9125, loss_valid: 0.3130, accuracy_valid: 0.8997\n"
          ]
        }
      ]
    },
    {
      "cell_type": "code",
      "metadata": {
        "id": "-FP1vkKsmKyK"
      },
      "source": [
        "from matplotlib import pyplot as plt\n",
        "import numpy as np\n"
      ],
      "execution_count": null,
      "outputs": []
    },
    {
      "cell_type": "code",
      "metadata": {
        "colab": {
          "base_uri": "https://localhost:8080/",
          "height": 279
        },
        "id": "SBbBOVgfUqf3",
        "outputId": "d9461009-4d07-432a-bd51-0f4c93a03f5f"
      },
      "source": [
        "fig, ax = plt.subplots(1,2 ,figsize = (10,4))\n",
        "ax[0].plot(np.array(log_train).T[0], label='train',c = 'black',linestyle=\"dashed\",marker='o')\n",
        "ax[0].plot(np.array(log_valid).T[0], label='valid',c='m')\n",
        "ax[0].set_xlabel('epoch')\n",
        "ax[0].set_ylabel('loss')\n",
        "ax[0].legend()\n",
        "\n",
        "ax[1].plot(np.array(log_train).T[1], label='train',c='black', linestyle=\"dashed\",marker='o')\n",
        "ax[1].plot(np.array(log_valid).T[1], label='valid',c='m')\n",
        "ax[1].set_xlabel('epoch')\n",
        "ax[1].set_ylabel('accuracy')\n",
        "ax[1].legend()\n",
        "plt.grid()\n",
        "plt.show()"
      ],
      "execution_count": null,
      "outputs": [
        {
          "output_type": "display_data",
          "data": {
            "image/png": "[encoded data removed]",
            "text/plain": [
              "<Figure size 720x288 with 2 Axes>"
            ]
          },
          "metadata": {
            "needs_background": "light"
          }
        }
      ]
    },
    {
      "cell_type": "markdown",
      "metadata": {
        "id": "uhiVlsvV5_-x"
      },
      "source": [
        "## 76. チェックポイント\n",
        "***\n",
        "問題75のコードを改変し，各エポックのパラメータ更新が完了するたびに，チェックポイント（学習途中のパラメータ（重み行列など）の値や最適化アルゴリズムの内部状態）をファイルに書き出せ．"
      ]
    },
    {
      "cell_type": "code",
      "metadata": {
        "colab": {
          "base_uri": "https://localhost:8080/"
        },
        "id": "k2dXFhJuuBn3",
        "outputId": "511466df-31d0-40ae-e4bc-e266bc7f9668"
      },
      "source": [
        "model = SLPNet(300,4)\n",
        "\n",
        "criterion = nn.CrossEntropyLoss()\n",
        "optimizer = torch.optim.SGD(model.parameters(),lr=1e-1)\n",
        "num_epochs = 3\n",
        "log_train = []\n",
        "log_valid = []\n",
        "\n",
        "for epoch in range(num_epochs):\n",
        "  model.train()\n",
        "  \n",
        "  for inputs, labels in dataloader_train:\n",
        "    optimizer.zero_grad()\n",
        "\n",
        "    outputs = model.forward(inputs)\n",
        "    loss = criterion(outputs, labels)\n",
        "    loss.backward()\n",
        "    optimizer.step()\n",
        "    \n",
        "  loss_train, acc_train = calculate_loss_and_accuracy(model,criterion,dataloader_train)\n",
        "  loss_valid, acc_valid = calculate_loss_and_accuracy(model,criterion,dataloader_valid)\n",
        "  log_train.append([loss_train,acc_train])\n",
        "  log_valid.append([loss_valid,acc_valid])\n",
        "\n",
        "  torch.save({'epoch': epoch,'model_state_dict': model.state_dict(),'optimizer_state_dict':optimizer.state_dict()},f'checkpoint{epoch + 1}.pt')\n",
        "  print(f'epoch : {epoch + 1},loss_train : {loss_train:.3f}, acc_train : {acc_train:.3f}, loss_valid : {loss_valid:.3f}, acc_valid : {acc_valid:.3f}')\n",
        "\n",
        "  \n",
        "    "
      ],
      "execution_count": null,
      "outputs": [
        {
          "output_type": "stream",
          "name": "stdout",
          "text": [
            "epoch : 1,loss_train : 0.323, acc_train : 0.889, loss_valid : 0.358, acc_valid : 0.876\n",
            "epoch : 2,loss_train : 0.282, acc_train : 0.904, loss_valid : 0.324, acc_valid : 0.894\n",
            "epoch : 3,loss_train : 0.264, acc_train : 0.910, loss_valid : 0.318, acc_valid : 0.889\n"
          ]
        }
      ]
    },
    {
      "cell_type": "markdown",
      "metadata": {
        "id": "DfUVIfNf6GgG"
      },
      "source": [
        "## 77. ミニバッチ化\n",
        "***\n",
        "問題76のコードを改変し，$B$事例ごとに損失・勾配を計算し，行列$W$の値を更新せよ（ミニバッチ化）．$B$の値を$1,2,4,8,…$と変化させながら，1エポックの学習に要する時間を比較せよ．"
      ]
    },
    {
      "cell_type": "code",
      "metadata": {
        "id": "xlcr0V7JQPgi"
      },
      "source": [
        "import time"
      ],
      "execution_count": null,
      "outputs": []
    },
    {
      "cell_type": "code",
      "metadata": {
        "id": "REP0BQu_7JyY"
      },
      "source": [
        "def train_model(dataset_train, dataset_valid, batch_size, model, criterion, optimizer,num_epoch):\n",
        "\n",
        "  dataloader_train = DataLoader(dataset_train ,batch_size=batch_size,shuffle=True)\n",
        "  dataloader_valid= DataLoader(dataset_valid,batch_size=len(dataset_valid),shuffle=False)\n",
        "\n",
        "  log_train = []\n",
        "  log_valid = []\n",
        "\n",
        "  for epoch in range(num_epoch):\n",
        "    # s_time = time.time()\n",
        "    model.train()\n",
        "    for inputs, labels in dataloader_train:\n",
        "      optimizer.zero_grad()\n",
        "\n",
        "      outputs = model(inputs)\n",
        "      loss = criterion(outputs, labels)\n",
        "      loss.backward()\n",
        "      optimizer.step()\n",
        "\n",
        "    loss_train, acc_train = calculate_loss_and_accuracy(model,criterion,dataloader_train)\n",
        "    loss_valid,acc_valid = calculate_loss_and_accuracy(model,criterion,dataloader_valid)\n",
        "    log_train.append([loss_train,acc_train])\n",
        "    log_valid.append([loss_valid,acc_valid])\n",
        "\n",
        "    torch.save({'epoch':epoch, 'model_state_dict':model.state_dict(),'optimizer_state_dict':optimizer.state_dict()},f'checkpoint{epoch + 1}.pt')\n",
        "\n",
        "    # e_time = time.time()\n",
        "\n",
        "    print(f'epoch : {epoch+1}, loss_train : {loss_train:.4f}, acc_train : {acc_train:.4f},loss_valid : {loss_valid:.4f},acc_valid : {acc_valid:.4f} ')\n",
        "\n",
        "  # return {'log_train ' : log_train, 'log_valid' : log_valid}"
      ],
      "execution_count": null,
      "outputs": []
    },
    {
      "cell_type": "code",
      "metadata": {
        "colab": {
          "base_uri": "https://localhost:8080/"
        },
        "id": "CEatMmt47Jnr",
        "outputId": "19cee745-671c-458e-e8a9-16c88a49dae9"
      },
      "source": [
        "dataset_train =CreateDataset(X_train, y_train)\n",
        "dataset_valid =CreateDataset(X_valid, y_valid)\n",
        "\n",
        "model = SLPNet(300,4)\n",
        "criterion = nn.CrossEntropyLoss()\n",
        "optimizer = torch.optim.SGD(model.parameters(),lr = 1e-1)\n",
        "\n",
        "for batch_size in [2 ** i for i in range(11)]:\n",
        "  print(f'バッチサイズ : {batch_size}')\n",
        "  train_model(dataset_train, dataset_valid, batch_size, model, criterion, optimizer, 1)"
      ],
      "execution_count": null,
      "outputs": [
        {
          "output_type": "stream",
          "name": "stdout",
          "text": [
            "バッチサイズ : 1\n",
            "epoch : 1, loss_train : 0.3269, acc_train : 0.8883,loss_valid : 0.3668,acc_valid : 0.8668 \n",
            "バッチサイズ : 2\n",
            "epoch : 1, loss_train : 0.2993, acc_train : 0.8972,loss_valid : 0.3442,acc_valid : 0.8765 \n",
            "バッチサイズ : 4\n",
            "epoch : 1, loss_train : 0.2898, acc_train : 0.9019,loss_valid : 0.3369,acc_valid : 0.8780 \n",
            "バッチサイズ : 8\n",
            "epoch : 1, loss_train : 0.2857, acc_train : 0.9026,loss_valid : 0.3336,acc_valid : 0.8757 \n",
            "バッチサイズ : 16\n",
            "epoch : 1, loss_train : 0.2841, acc_train : 0.9042,loss_valid : 0.3325,acc_valid : 0.8810 \n",
            "バッチサイズ : 32\n",
            "epoch : 1, loss_train : 0.2831, acc_train : 0.9040,loss_valid : 0.3317,acc_valid : 0.8787 \n",
            "バッチサイズ : 64\n",
            "epoch : 1, loss_train : 0.2827, acc_train : 0.9040,loss_valid : 0.3313,acc_valid : 0.8802 \n",
            "バッチサイズ : 128\n",
            "epoch : 1, loss_train : 0.2829, acc_train : 0.9043,loss_valid : 0.3312,acc_valid : 0.8802 \n",
            "バッチサイズ : 256\n",
            "epoch : 1, loss_train : 0.2824, acc_train : 0.9042,loss_valid : 0.3312,acc_valid : 0.8802 \n",
            "バッチサイズ : 512\n",
            "epoch : 1, loss_train : 0.2820, acc_train : 0.9042,loss_valid : 0.3311,acc_valid : 0.8802 \n",
            "バッチサイズ : 1024\n",
            "epoch : 1, loss_train : 0.2826, acc_train : 0.9042,loss_valid : 0.3311,acc_valid : 0.8802 \n"
          ]
        }
      ]
    },
    {
      "cell_type": "markdown",
      "metadata": {
        "id": "bbhSXdpG6Lit"
      },
      "source": [
        "## 78. GPU上での学習\n",
        "***\n",
        "問題77のコードを改変し，GPU上で学習を実行せよ．"
      ]
    },
    {
      "cell_type": "code",
      "metadata": {
        "id": "ZnsgyXKCnV_v"
      },
      "source": [
        "def calculate_loss_and_accuracy(model, criterion, loader,device):\n",
        "  model.eval()\n",
        "  loss = 0.0\n",
        "  total = 0\n",
        "  correct = 0\n",
        "  with torch.no_grad():\n",
        "    for inputs, labels in loader:\n",
        "      inputs = inputs.to(device)\n",
        "      labels = labels.to(device)\n",
        "      outputs = model(inputs)\n",
        "      loss += criterion(outputs, labels).item()\n",
        "      pred = torch.argmax(outputs,dim=-1)\n",
        "      correct += (pred == labels).sum().item()\n",
        "      total = len(inputs)\n",
        "  return loss / len(loader), correct / total"
      ],
      "execution_count": null,
      "outputs": []
    },
    {
      "cell_type": "code",
      "metadata": {
        "id": "YhHeJ0nkuWDx"
      },
      "source": [
        "def train_model(dataset_train, dataset_valid, batch_size,model,criterion, optimizer,num_epochs,device = None):\n",
        "  model.to(device)\n",
        "\n",
        "  dataloader_train = DataLoader(dataset_train,batch_size=batch_size,shuffle=True)\n",
        "  dataloader_valid = DataLoader(dataset_valid,batch_size=len(dataset_valid),shuffle=False)\n",
        "\n",
        "  # log_train = []\n",
        "  # log_valid = []\n",
        "  for epoch in range(num_epochs):\n",
        "    s_time = time.time()\n",
        "    \n",
        "    model.train()\n",
        "    for inputs, labels in dataloader_train:\n",
        "      optimizer.zero_grad()\n",
        "\n",
        "      inputs = inputs.to(device)\n",
        "      labels = labels.to(device)\n",
        "\n",
        "      outputs = model(inputs)\n",
        "      loss = criterion(outputs, labels)\n",
        "      loss.backward()\n",
        "      optimizer.step()\n",
        "\n",
        "    loss_train,acc_train = calculate_loss_and_accuracy(model,criterion,dataloader_train, device)\n",
        "    loss_valid,acc_valid = calculate_loss_and_accuracy(model,criterion,dataloader_valid, device)\n",
        "    # log_train.append([loss_train,acc_train])\n",
        "    # log_valid.append([loss_valid,acc_valid])\n",
        "    \n",
        "    # torch.save({'epoch':epoch,'model_state_dict':model.state_dict(),'optimizer_state_dict': optimizer.state_dict()},f'checkpoint{epoch+1}.pt')\n",
        "    e_time = time.time()\n",
        "\n",
        "    print(f'epoch : {epoch + 1},loss_train : {loss_train:.4f},acc_train : {acc_train:.4f}, loss_valid : {loss_valid:.4f},acc_valid{acc_valid:.4f},{(e_time - s_time):.4f}sec')\n"
      ],
      "execution_count": null,
      "outputs": []
    },
    {
      "cell_type": "code",
      "metadata": {
        "colab": {
          "base_uri": "https://localhost:8080/"
        },
        "id": "mqB-lSR51rcp",
        "outputId": "49079d72-b627-4d01-8a38-9431573d7d75"
      },
      "source": [
        "dataset_train = CreateDataset(X_train, y_train)\n",
        "dataset_valid = CreateDataset(X_valid, y_valid)\n",
        "\n",
        "model = SLPNet(300,4)\n",
        "\n",
        "criterion = nn.CrossEntropyLoss()\n",
        "optimizer = torch.optim.SGD(model.parameters(),lr=1e-1)\n",
        "\n",
        "# num_epoch = 5\n",
        "device = torch.device('cuda')\n",
        "\n",
        "for batch_size in [ 2 ** i for i in range(11)]:\n",
        "  print(f'バッチサイズ:{batch_size}')\n",
        "  train_model(dataset_train, dataset_valid, batch_size,model,criterion, optimizer,1,device=device)\n"
      ],
      "execution_count": null,
      "outputs": [
        {
          "output_type": "stream",
          "name": "stdout",
          "text": [
            "バッチサイズ:1\n",
            "epoch : 1,loss_train : 0.3348,acc_train : 9452.0000, loss_valid : 0.3642,acc_valid0.8743,14.0418sec\n",
            "バッチサイズ:2\n",
            "epoch : 1,loss_train : 0.3043,acc_train : 4794.0000, loss_valid : 0.3399,acc_valid0.8832,7.0472sec\n",
            "バッチサイズ:4\n",
            "epoch : 1,loss_train : 0.2958,acc_train : 2406.0000, loss_valid : 0.3341,acc_valid0.8840,3.6631sec\n",
            "バッチサイズ:8\n",
            "epoch : 1,loss_train : 0.2907,acc_train : 2407.2500, loss_valid : 0.3303,acc_valid0.8840,1.9024sec\n",
            "バッチサイズ:16\n",
            "epoch : 1,loss_train : 0.2888,acc_train : 803.5000, loss_valid : 0.3289,acc_valid0.8855,1.0207sec\n",
            "バッチサイズ:32\n",
            "epoch : 1,loss_train : 0.2878,acc_train : 344.5357, loss_valid : 0.3282,acc_valid0.8855,0.5426sec\n",
            "バッチサイズ:64\n",
            "epoch : 1,loss_train : 0.2874,acc_train : 160.8333, loss_valid : 0.3279,acc_valid0.8855,0.3595sec\n",
            "バッチサイズ:128\n",
            "epoch : 1,loss_train : 0.2881,acc_train : 160.8167, loss_valid : 0.3278,acc_valid0.8862,0.2295sec\n",
            "バッチサイズ:256\n",
            "epoch : 1,loss_train : 0.2872,acc_train : 51.3298, loss_valid : 0.3277,acc_valid0.8862,0.1690sec\n",
            "バッチサイズ:512\n",
            "epoch : 1,loss_train : 0.2868,acc_train : 21.7342, loss_valid : 0.3277,acc_valid0.8862,0.1471sec\n",
            "バッチサイズ:1024\n",
            "epoch : 1,loss_train : 0.2848,acc_train : 21.7342, loss_valid : 0.3276,acc_valid0.8862,0.1266sec\n"
          ]
        }
      ]
    },
    {
      "cell_type": "markdown",
      "metadata": {
        "id": "O2Hyc7XdRelw"
      },
      "source": [
        "## 79. 多層ニューラルネットワーク\n",
        "***\n",
        "問題78のコードを改変し，バイアス項の導入や多層化など，ニューラルネットワークの形状を変更しながら，高性能なカテゴリ分類器を構築せよ．"
      ]
    },
    {
      "cell_type": "code",
      "metadata": {
        "id": "5Se2t73qX-jZ"
      },
      "source": [
        "from torch.nn import functional as F"
      ],
      "execution_count": null,
      "outputs": []
    },
    {
      "cell_type": "code",
      "metadata": {
        "id": "PqAGfL5SX-f9"
      },
      "source": [
        "class MLPNet(nn.Module):\n",
        "  def __init__(self, input_size, mid_size, output_size, mid_layers):\n",
        "    super().__init__()\n",
        "    self.mid_layers = mid_layers\n",
        "    self.fc = nn.Linear(input_size, mid_size)\n",
        "    self.fc_mid = nn.Linear(mid_size, mid_size)\n",
        "    self.fc_out = nn.Linear(mid_size, output_size) \n",
        "    self.bn = nn.BatchNorm1d(mid_size)\n",
        "\n",
        "  def forward(self, x):\n",
        "    x = F.relu(self.fc(x))\n",
        "    for _ in range(self.mid_layers):\n",
        "      x = F.relu(self.bn(self.fc_mid(x)))\n",
        "    x = F.relu(self.fc_out(x))\n",
        " \n",
        "    return x"
      ],
      "execution_count": null,
      "outputs": []
    },
    {
      "cell_type": "code",
      "metadata": {
        "id": "3xshrB18X-cg"
      },
      "source": [
        "from torch import optim"
      ],
      "execution_count": null,
      "outputs": []
    },
    {
      "cell_type": "code",
      "metadata": {
        "id": "K_9AIvuwZsjn"
      },
      "source": [
        "def calculate_loss_and_accuracy(model, criterion, loader, device):\n",
        "  model.eval()\n",
        "  loss = 0.0\n",
        "  total = 0\n",
        "  correct = 0\n",
        "\n",
        "  with torch.no_grad():\n",
        "    for inputs, labels in loader:\n",
        "      inputs = inputs.to(device)\n",
        "      labels = labels.to(device)\n",
        "      outputs = model(inputs)\n",
        "      loss += criterion(outputs, labels).item()\n",
        "      pred = torch.argmax(outputs,dim= -1)\n",
        "      correct += (pred == labels).sum().item()\n",
        "      total += len(inputs)\n",
        "\n",
        "  return loss / len(loader), correct / total"
      ],
      "execution_count": null,
      "outputs": []
    },
    {
      "cell_type": "code",
      "metadata": {
        "id": "Ws2lEmuhfhky"
      },
      "source": [
        "def train_model(dataset_train, dataset_valid, batch_size, model, criterion, optimizer, num_epochs, device=None):\n",
        "  model.to(device)\n",
        "\n",
        "  dataloader_train = DataLoader(dataset_train,batch_size=batch_size,shuffle=True)\n",
        "  dataloader_valid = DataLoader(dataset_valid,batch_size=len(dataset_valid),shuffle=False)\n",
        "\n",
        "  scheduler = optim.lr_scheduler.CosineAnnealingLR(optimizer, num_epochs, eta_min=1e-5, last_epoch=-1)\n",
        "  \n",
        "  log_train = []\n",
        "  log_valid = []\n",
        "\n",
        "  for epoch in range(num_epochs):\n",
        "    s_time = time.time()\n",
        "\n",
        "    model.train()\n",
        "    for inputs, labels in dataloader_train:\n",
        "      inputs = inputs.to(device)\n",
        "      labels = labels.to(device)\n",
        "\n",
        "      optimizer.zero_grad()\n",
        "\n",
        "      outputs = model(inputs)\n",
        "      loss = criterion(outputs, labels)\n",
        "      loss.backward()\n",
        "      optimizer.step()\n",
        "\n",
        "    loss_train, acc_train = calculate_loss_and_accuracy(model, criterion, dataloader_train, device)\n",
        "    loss_valid, acc_valid = calculate_loss_and_accuracy(model, criterion, dataloader_valid, device)\n",
        "    log_train.append([loss_train, acc_train])\n",
        "    log_valid.append([loss_valid,acc_valid])\n",
        "    e_time = time.time()\n",
        "    print(f'epoch{epoch + 1},loss_train{loss_train:.4f},acc_train{acc_train:.4f},loss_valid{loss_valid:.4f},acc_valid{acc_valid:.4f},{(e_time - s_time):.4f}sec')\n",
        "\n",
        "    if epoch >2 and log_valid[epoch -3][0] <= log_valid[epoch -2][0] <=log_valid[epoch-1][0]<=log_valid[epoch][0]:\n",
        "      break\n",
        "\n",
        "    scheduler.step()\n",
        "\n",
        "  return {'train': log_train, 'valid':[log_valid]}\n",
        "\n",
        "\n",
        "\n"
      ],
      "execution_count": null,
      "outputs": []
    },
    {
      "cell_type": "code",
      "metadata": {
        "colab": {
          "base_uri": "https://localhost:8080/"
        },
        "id": "u_x9aAcJrAVS",
        "outputId": "c6c32870-5c8a-4e1b-840a-c9703af70071"
      },
      "source": [
        "dataset_train = CreateDataset(X_train,y_train)\n",
        "dataset_valid = CreateDataset(X_valid,y_valid)\n",
        "\n",
        "model = MLPNet(300,200,4,1)\n",
        "criterion = nn.CrossEntropyLoss()\n",
        "optimizer = torch.optim.SGD(model.parameters(),lr=1e-3)\n",
        "\n",
        "device = torch.device('cuda')\n",
        "log = train_model(dataset_train, dataset_valid, 64, model, criterion, optimizer, 30, device)"
      ],
      "execution_count": null,
      "outputs": [
        {
          "output_type": "stream",
          "name": "stdout",
          "text": [
            "epoch1,loss_train1.3091,acc_train0.5179,loss_valid1.3157,acc_valid0.5052,0.5806sec\n",
            "epoch2,loss_train0.8503,acc_train0.7639,loss_valid0.8543,acc_valid0.7612,0.6298sec\n",
            "epoch3,loss_train0.6979,acc_train0.7756,loss_valid0.7018,acc_valid0.7710,0.6165sec\n",
            "epoch4,loss_train0.6300,acc_train0.7823,loss_valid0.6351,acc_valid0.7784,0.6299sec\n",
            "epoch5,loss_train0.5901,acc_train0.7884,loss_valid0.5970,acc_valid0.7829,0.6148sec\n",
            "epoch6,loss_train0.5581,acc_train0.7980,loss_valid0.5670,acc_valid0.7934,0.5797sec\n",
            "epoch7,loss_train0.5261,acc_train0.8098,loss_valid0.5384,acc_valid0.8061,0.5941sec\n",
            "epoch8,loss_train0.5014,acc_train0.8206,loss_valid0.5153,acc_valid0.8211,0.5784sec\n",
            "epoch9,loss_train0.4762,acc_train0.8338,loss_valid0.4920,acc_valid0.8353,0.6201sec\n",
            "epoch10,loss_train0.4605,acc_train0.8454,loss_valid0.4774,acc_valid0.8383,0.6035sec\n",
            "epoch11,loss_train0.4426,acc_train0.8550,loss_valid0.4604,acc_valid0.8391,0.5814sec\n",
            "epoch12,loss_train0.4288,acc_train0.8594,loss_valid0.4480,acc_valid0.8443,0.5970sec\n",
            "epoch13,loss_train0.4150,acc_train0.8660,loss_valid0.4354,acc_valid0.8533,0.5852sec\n",
            "epoch14,loss_train0.4071,acc_train0.8679,loss_valid0.4285,acc_valid0.8578,0.5930sec\n",
            "epoch15,loss_train0.3984,acc_train0.8754,loss_valid0.4202,acc_valid0.8638,0.6277sec\n",
            "epoch16,loss_train0.3894,acc_train0.8769,loss_valid0.4122,acc_valid0.8668,0.6026sec\n",
            "epoch17,loss_train0.3830,acc_train0.8775,loss_valid0.4062,acc_valid0.8713,0.6375sec\n",
            "epoch18,loss_train0.3784,acc_train0.8794,loss_valid0.4025,acc_valid0.8735,0.6032sec\n",
            "epoch19,loss_train0.3751,acc_train0.8822,loss_valid0.3994,acc_valid0.8735,0.5887sec\n",
            "epoch20,loss_train0.3681,acc_train0.8816,loss_valid0.3929,acc_valid0.8735,0.5750sec\n",
            "epoch21,loss_train0.3664,acc_train0.8826,loss_valid0.3916,acc_valid0.8757,0.5939sec\n",
            "epoch22,loss_train0.3648,acc_train0.8834,loss_valid0.3903,acc_valid0.8750,0.6344sec\n",
            "epoch23,loss_train0.3622,acc_train0.8853,loss_valid0.3878,acc_valid0.8765,0.5824sec\n",
            "epoch24,loss_train0.3645,acc_train0.8852,loss_valid0.3900,acc_valid0.8750,0.6096sec\n",
            "epoch25,loss_train0.3606,acc_train0.8864,loss_valid0.3866,acc_valid0.8757,0.6131sec\n",
            "epoch26,loss_train0.3598,acc_train0.8854,loss_valid0.3857,acc_valid0.8780,0.5804sec\n",
            "epoch27,loss_train0.3575,acc_train0.8842,loss_valid0.3838,acc_valid0.8780,0.5951sec\n",
            "epoch28,loss_train0.3595,acc_train0.8855,loss_valid0.3857,acc_valid0.8757,0.5843sec\n",
            "epoch29,loss_train0.3574,acc_train0.8877,loss_valid0.3838,acc_valid0.8772,0.6230sec\n",
            "epoch30,loss_train0.3595,acc_train0.8860,loss_valid0.3853,acc_valid0.8765,0.5902sec\n"
          ]
        }
      ]
    },
    {
      "cell_type": "code",
      "metadata": {
        "colab": {
          "base_uri": "https://localhost:8080/",
          "height": 278
        },
        "id": "5xevX7tesKeT",
        "outputId": "91b3f765-f9f2-47f0-e6da-54bbc75eeabd"
      },
      "source": [
        "# 可視化\n",
        "fig, ax = plt.subplots(1, 2, figsize=(15, 5))\n",
        "# ax[0].plot(np.array(log_train).T[0], label='train',c = 'black',linestyle=\"dashed\",marker='o')\n",
        "\n",
        "ax[0].plot(np.array(log['train']).T[0], label='train',c = 'black', linestyle = 'dashed')\n",
        "ax[0].plot(np.array(log['valid']).T[0], label='valid',c ='m')\n",
        "ax[0].set_xlabel('epoch')\n",
        "ax[0].set_ylabel('loss')\n",
        "ax[0].legend()\n",
        "ax[1].plot(np.array(log['train']).T[1], label='train',c = 'black', linestyle = 'dashed')\n",
        "ax[1].plot(np.array(log['valid']).T[1], label='valid',c ='m')\n",
        "ax[1].set_xlabel('epoch')\n",
        "ax[1].set_ylabel('accuracy')\n",
        "ax[1].legend()\n",
        "plt.grid()\n",
        "plt.show()"
      ],
      "execution_count": null,
      "outputs": [
        {
          "output_type": "display_data",
          "data": {
            "image/png": "[encoded data removed]",
            "text/plain": [
              "<Figure size 1080x360 with 2 Axes>"
            ]
          },
          "metadata": {
            "needs_background": "light"
          }
        }
      ]
    },
    {
      "cell_type": "code",
      "metadata": {
        "id": "Rkm3FYnntoiP"
      },
      "source": [
        "def calculate_accuracy(model,X , y, device):\n",
        "  model.eval()\n",
        "  with torch.no_grad():\n",
        "    inputs = X.to(device)\n",
        "    outputs = model(inputs)\n",
        "    pred = torch.argmax(outputs,dim=-1).cpu()\n",
        "\n",
        "  return  (pred == y).sum().item() / len(y)"
      ],
      "execution_count": null,
      "outputs": []
    },
    {
      "cell_type": "code",
      "metadata": {
        "colab": {
          "base_uri": "https://localhost:8080/"
        },
        "id": "EhYcJGgvtoed",
        "outputId": "8081906c-f126-4b17-c5b5-bfb7eabb61f8"
      },
      "source": [
        "acc_train = calculate_accuracy(model,X_train, y_train,device)\n",
        "acc_test = calculate_accuracy(model,X_test, y_test,device)\n",
        "print(f'正解率(学習データ) : {acc_train:.4f}')\n",
        "print(f'正解率(評価データ) : {acc_test:.4f}')"
      ],
      "execution_count": null,
      "outputs": [
        {
          "output_type": "stream",
          "name": "stdout",
          "text": [
            "正解率(学習データ) : 0.8175\n",
            "正解率(評価データ) : 0.8219\n"
          ]
        }
      ]
    },
    {
      "cell_type": "code",
      "metadata": {
        "id": "LJ5N22ZRtobA"
      },
      "source": [
        ""
      ],
      "execution_count": null,
      "outputs": []
    },
    {
      "cell_type": "code",
      "metadata": {
        "id": "NTSbUtFytoPt"
      },
      "source": [
        ""
      ],
      "execution_count": null,
      "outputs": []
    },
    {
      "cell_type": "code",
      "metadata": {
        "id": "y2AF692CtoLp"
      },
      "source": [
        ""
      ],
      "execution_count": null,
      "outputs": []
    },
    {
      "cell_type": "code",
      "metadata": {
        "id": "FIHfzb_ytoIv"
      },
      "source": [
        ""
      ],
      "execution_count": null,
      "outputs": []
    },
    {
      "cell_type": "code",
      "metadata": {
        "id": "jN3tJJPAtoGI"
      },
      "source": [
        ""
      ],
      "execution_count": null,
      "outputs": []
    },
    {
      "cell_type": "code",
      "metadata": {
        "id": "dDNdo-RptoDs"
      },
      "source": [
        ""
      ],
      "execution_count": null,
      "outputs": []
    },
    {
      "cell_type": "code",
      "metadata": {
        "id": "O8m_QrOrtoAl"
      },
      "source": [
        ""
      ],
      "execution_count": null,
      "outputs": []
    },
    {
      "cell_type": "code",
      "metadata": {
        "id": "3BidnDgVtn9C"
      },
      "source": [
        ""
      ],
      "execution_count": null,
      "outputs": []
    }
  ]
}