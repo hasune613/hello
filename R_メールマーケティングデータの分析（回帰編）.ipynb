{
  "nbformat": 4,
  "nbformat_minor": 0,
  "metadata": {
    "colab": {
      "name": "R_メールマーケティングデータの分析（回帰編）.ipynb",
      "provenance": [],
      "collapsed_sections": [],
      "include_colab_link": true
    },
    "kernelspec": {
      "name": "ir",
      "display_name": "R"
    },
    "language_info": {
      "name": "python"
    }
  },
  "cells": [
    {
      "cell_type": "markdown",
      "metadata": {
        "id": "view-in-github",
        "colab_type": "text"
      },
      "source": [
        "<a href=\"https://colab.research.google.com/github/hasune613/hello-world/blob/main/R_%E3%83%A1%E3%83%BC%E3%83%AB%E3%83%9E%E3%83%BC%E3%82%B1%E3%83%86%E3%82%A3%E3%83%B3%E3%82%B0%E3%83%87%E3%83%BC%E3%82%BF%E3%81%AE%E5%88%86%E6%9E%90%EF%BC%88%E5%9B%9E%E5%B8%B0%E7%B7%A8%EF%BC%89.ipynb\" target=\"_parent\"><img src=\"https://colab.research.google.com/assets/colab-badge.svg\" alt=\"Open In Colab\"/></a>"
      ]
    },
    {
      "cell_type": "markdown",
      "metadata": {
        "id": "NHIcgZb2FPny"
      },
      "source": [
        "## R練習"
      ]
    },
    {
      "cell_type": "code",
      "metadata": {
        "id": "JuliMf-nSkCj",
        "colab": {
          "base_uri": "https://localhost:8080/",
          "height": 34
        },
        "outputId": "3cd5274e-5bd4-4bbc-81ce-473853f536f9"
      },
      "source": [
        "a =10\n",
        "b = 20\n",
        "a + b"
      ],
      "execution_count": null,
      "outputs": [
        {
          "output_type": "display_data",
          "data": {
            "text/plain": [
              "[1] 30"
            ],
            "text/latex": "30",
            "text/markdown": "30",
            "text/html": [
              "30"
            ]
          },
          "metadata": {}
        }
      ]
    },
    {
      "cell_type": "code",
      "metadata": {
        "id": "D6XshGf7UpCe",
        "colab": {
          "base_uri": "https://localhost:8080/",
          "height": 272
        },
        "outputId": "e3770e69-1fa0-4bc5-fb70-226b38fa67a9"
      },
      "source": [
        "df = data.frame(x = 1:5, y = 6:10)\n",
        "df "
      ],
      "execution_count": null,
      "outputs": [
        {
          "output_type": "display_data",
          "data": {
            "text/plain": [
              "  x y \n",
              "1 1  6\n",
              "2 2  7\n",
              "3 3  8\n",
              "4 4  9\n",
              "5 5 10"
            ],
            "text/latex": "A data.frame: 5 × 2\n\\begin{tabular}{ll}\n x & y\\\\\n <int> & <int>\\\\\n\\hline\n\t 1 &  6\\\\\n\t 2 &  7\\\\\n\t 3 &  8\\\\\n\t 4 &  9\\\\\n\t 5 & 10\\\\\n\\end{tabular}\n",
            "text/markdown": "\nA data.frame: 5 × 2\n\n| x &lt;int&gt; | y &lt;int&gt; |\n|---|---|\n| 1 |  6 |\n| 2 |  7 |\n| 3 |  8 |\n| 4 |  9 |\n| 5 | 10 |\n\n",
            "text/html": [
              "<table class=\"dataframe\">\n",
              "<caption>A data.frame: 5 × 2</caption>\n",
              "<thead>\n",
              "\t<tr><th scope=col>x</th><th scope=col>y</th></tr>\n",
              "\t<tr><th scope=col>&lt;int&gt;</th><th scope=col>&lt;int&gt;</th></tr>\n",
              "</thead>\n",
              "<tbody>\n",
              "\t<tr><td>1</td><td> 6</td></tr>\n",
              "\t<tr><td>2</td><td> 7</td></tr>\n",
              "\t<tr><td>3</td><td> 8</td></tr>\n",
              "\t<tr><td>4</td><td> 9</td></tr>\n",
              "\t<tr><td>5</td><td>10</td></tr>\n",
              "</tbody>\n",
              "</table>\n"
            ]
          },
          "metadata": {}
        }
      ]
    },
    {
      "cell_type": "code",
      "metadata": {
        "id": "ZmnjRmv2Ukpc",
        "colab": {
          "base_uri": "https://localhost:8080/",
          "height": 437
        },
        "outputId": "acbadfbb-5b6a-4bff-82ed-8face5c5d8d2"
      },
      "source": [
        "x = rnorm( 10000)\n",
        "hist( x , nclass = 40)"
      ],
      "execution_count": null,
      "outputs": [
        {
          "output_type": "display_data",
          "data": {
            "image/png": "[encoded data removed]",
            "text/plain": [
              "Plot with title “Histogram of x”"
            ]
          },
          "metadata": {
            "image/png": {
              "width": 420,
              "height": 420
            }
          }
        }
      ]
    },
    {
      "cell_type": "markdown",
      "metadata": {
        "id": "9Ccv7TExFXzL"
      },
      "source": [
        "## 効果検証実装"
      ]
    },
    {
      "cell_type": "code",
      "metadata": {
        "id": "TvGeOEzeU82l",
        "colab": {
          "base_uri": "https://localhost:8080/"
        },
        "outputId": "cd563751-ff0f-4430-dfa9-94d95842e2d4"
      },
      "source": [
        "install.packages('tidyverse')"
      ],
      "execution_count": null,
      "outputs": [
        {
          "output_type": "stream",
          "name": "stderr",
          "text": [
            "Installing package into ‘/usr/local/lib/R/site-library’\n",
            "(as ‘lib’ is unspecified)\n",
            "\n"
          ]
        }
      ]
    },
    {
      "cell_type": "code",
      "metadata": {
        "id": "YWFyG1noVIcX",
        "colab": {
          "base_uri": "https://localhost:8080/"
        },
        "outputId": "0ed4e42a-9640-4e70-dd70-dd9a1b786b92"
      },
      "source": [
        "library('tidyverse')"
      ],
      "execution_count": null,
      "outputs": [
        {
          "output_type": "stream",
          "name": "stderr",
          "text": [
            "Warning message in system(\"timedatectl\", intern = TRUE):\n",
            "“running command 'timedatectl' had status 1”\n",
            "── \u001b[1mAttaching packages\u001b[22m ─────────────────────────────────────── tidyverse 1.3.1 ──\n",
            "\n",
            "\u001b[32m✔\u001b[39m \u001b[34mggplot2\u001b[39m 3.3.5     \u001b[32m✔\u001b[39m \u001b[34mpurrr  \u001b[39m 0.3.4\n",
            "\u001b[32m✔\u001b[39m \u001b[34mtibble \u001b[39m 3.1.5     \u001b[32m✔\u001b[39m \u001b[34mdplyr  \u001b[39m 1.0.7\n",
            "\u001b[32m✔\u001b[39m \u001b[34mtidyr  \u001b[39m 1.1.4     \u001b[32m✔\u001b[39m \u001b[34mstringr\u001b[39m 1.4.0\n",
            "\u001b[32m✔\u001b[39m \u001b[34mreadr  \u001b[39m 2.0.2     \u001b[32m✔\u001b[39m \u001b[34mforcats\u001b[39m 0.5.1\n",
            "\n",
            "── \u001b[1mConflicts\u001b[22m ────────────────────────────────────────── tidyverse_conflicts() ──\n",
            "\u001b[31m✖\u001b[39m \u001b[34mdplyr\u001b[39m::\u001b[32mfilter()\u001b[39m masks \u001b[34mstats\u001b[39m::filter()\n",
            "\u001b[31m✖\u001b[39m \u001b[34mdplyr\u001b[39m::\u001b[32mlag()\u001b[39m    masks \u001b[34mstats\u001b[39m::lag()\n",
            "\n"
          ]
        }
      ]
    },
    {
      "cell_type": "markdown",
      "metadata": {
        "id": "pAVsIxKHcG6r"
      },
      "source": [
        "## Rによるメールマーケティングデータの分析（回帰編）"
      ]
    },
    {
      "cell_type": "code",
      "metadata": {
        "id": "gWvH52maVN4P",
        "colab": {
          "base_uri": "https://localhost:8080/"
        },
        "outputId": "dfa402f6-2965-4c76-bacf-40bfdbf2ef36"
      },
      "source": [
        "email_data <- read_csv(\"http://www.minethatdata.com/Kevin_Hillstrom_MineThatData_E-MailAnalytics_DataMiningChallenge_2008.03.20.csv\")"
      ],
      "execution_count": null,
      "outputs": [
        {
          "output_type": "stream",
          "name": "stderr",
          "text": [
            "\u001b[1m\u001b[1mRows: \u001b[1m\u001b[22m\u001b[34m\u001b[34m64000\u001b[34m\u001b[39m \u001b[1m\u001b[1mColumns: \u001b[1m\u001b[22m\u001b[34m\u001b[34m12\u001b[34m\u001b[39m\n",
            "\n",
            "\u001b[36m──\u001b[39m \u001b[1m\u001b[1mColumn specification\u001b[1m\u001b[22m \u001b[36m────────────────────────────────────────────────────────\u001b[39m\n",
            "\u001b[1mDelimiter:\u001b[22m \",\"\n",
            "\u001b[31mchr\u001b[39m (4): history_segment, zip_code, channel, segment\n",
            "\u001b[32mdbl\u001b[39m (8): recency, history, mens, womens, newbie, visit, conversion, spend\n",
            "\n",
            "\n",
            "\u001b[36mℹ\u001b[39m Use \u001b[30m\u001b[47m\u001b[30m\u001b[47m`spec()`\u001b[47m\u001b[30m\u001b[49m\u001b[39m to retrieve the full column specification for this data.\n",
            "\u001b[36mℹ\u001b[39m Specify the column types or set \u001b[30m\u001b[47m\u001b[30m\u001b[47m`show_col_types = FALSE`\u001b[47m\u001b[30m\u001b[49m\u001b[39m to quiet this message.\n",
            "\n"
          ]
        }
      ]
    },
    {
      "cell_type": "code",
      "metadata": {
        "id": "DUd4na6bZ2kM",
        "colab": {
          "base_uri": "https://localhost:8080/",
          "height": 216
        },
        "outputId": "7cf8fb51-af89-4390-9064-982deefd7df1"
      },
      "source": [
        "head(email_data,2)"
      ],
      "execution_count": null,
      "outputs": [
        {
          "output_type": "display_data",
          "data": {
            "text/plain": [
              "  recency history_segment history mens womens zip_code  newbie channel\n",
              "1 10      2) $100 - $200  142.44  1    0      Surburban 0      Phone  \n",
              "2  6      3) $200 - $350  329.08  1    1      Rural     1      Web    \n",
              "  segment       visit conversion spend\n",
              "1 Womens E-Mail 0     0          0    \n",
              "2 No E-Mail     0     0          0    "
            ],
            "text/latex": "A tibble: 2 × 12\n\\begin{tabular}{llllllllllll}\n recency & history\\_segment & history & mens & womens & zip\\_code & newbie & channel & segment & visit & conversion & spend\\\\\n <dbl> & <chr> & <dbl> & <dbl> & <dbl> & <chr> & <dbl> & <chr> & <chr> & <dbl> & <dbl> & <dbl>\\\\\n\\hline\n\t 10 & 2) \\$100 - \\$200 & 142.44 & 1 & 0 & Surburban & 0 & Phone & Womens E-Mail & 0 & 0 & 0\\\\\n\t  6 & 3) \\$200 - \\$350 & 329.08 & 1 & 1 & Rural     & 1 & Web   & No E-Mail     & 0 & 0 & 0\\\\\n\\end{tabular}\n",
            "text/markdown": "\nA tibble: 2 × 12\n\n| recency &lt;dbl&gt; | history_segment &lt;chr&gt; | history &lt;dbl&gt; | mens &lt;dbl&gt; | womens &lt;dbl&gt; | zip_code &lt;chr&gt; | newbie &lt;dbl&gt; | channel &lt;chr&gt; | segment &lt;chr&gt; | visit &lt;dbl&gt; | conversion &lt;dbl&gt; | spend &lt;dbl&gt; |\n|---|---|---|---|---|---|---|---|---|---|---|---|\n| 10 | 2) $100 - $200 | 142.44 | 1 | 0 | Surburban | 0 | Phone | Womens E-Mail | 0 | 0 | 0 |\n|  6 | 3) $200 - $350 | 329.08 | 1 | 1 | Rural     | 1 | Web   | No E-Mail     | 0 | 0 | 0 |\n\n",
            "text/html": [
              "<table class=\"dataframe\">\n",
              "<caption>A tibble: 2 × 12</caption>\n",
              "<thead>\n",
              "\t<tr><th scope=col>recency</th><th scope=col>history_segment</th><th scope=col>history</th><th scope=col>mens</th><th scope=col>womens</th><th scope=col>zip_code</th><th scope=col>newbie</th><th scope=col>channel</th><th scope=col>segment</th><th scope=col>visit</th><th scope=col>conversion</th><th scope=col>spend</th></tr>\n",
              "\t<tr><th scope=col>&lt;dbl&gt;</th><th scope=col>&lt;chr&gt;</th><th scope=col>&lt;dbl&gt;</th><th scope=col>&lt;dbl&gt;</th><th scope=col>&lt;dbl&gt;</th><th scope=col>&lt;chr&gt;</th><th scope=col>&lt;dbl&gt;</th><th scope=col>&lt;chr&gt;</th><th scope=col>&lt;chr&gt;</th><th scope=col>&lt;dbl&gt;</th><th scope=col>&lt;dbl&gt;</th><th scope=col>&lt;dbl&gt;</th></tr>\n",
              "</thead>\n",
              "<tbody>\n",
              "\t<tr><td>10</td><td>2) $100 - $200</td><td>142.44</td><td>1</td><td>0</td><td>Surburban</td><td>0</td><td>Phone</td><td>Womens E-Mail</td><td>0</td><td>0</td><td>0</td></tr>\n",
              "\t<tr><td> 6</td><td>3) $200 - $350</td><td>329.08</td><td>1</td><td>1</td><td>Rural    </td><td>1</td><td>Web  </td><td>No E-Mail    </td><td>0</td><td>0</td><td>0</td></tr>\n",
              "</tbody>\n",
              "</table>\n"
            ]
          },
          "metadata": {}
        }
      ]
    },
    {
      "cell_type": "code",
      "metadata": {
        "id": "aX-hteO1adcX"
      },
      "source": [
        "male_df <- email_data %>%\n",
        "filter(segment != 'Womens E-Mail') %>%\n",
        "mutate(treatment = if_else(segment =='Mens E-Mail', 1, 0))"
      ],
      "execution_count": null,
      "outputs": []
    },
    {
      "cell_type": "code",
      "metadata": {
        "id": "G1qih3ORoHqE",
        "colab": {
          "base_uri": "https://localhost:8080/",
          "height": 362
        },
        "outputId": "5677455a-4601-4ec7-93ff-2240b2c43371"
      },
      "source": [
        "head(male_df,5)"
      ],
      "execution_count": null,
      "outputs": [
        {
          "output_type": "display_data",
          "data": {
            "text/plain": [
              "  recency history_segment history mens womens zip_code newbie channel     \n",
              "1 6       3) $200 - $350  329.08  1    1      Rural    1      Web         \n",
              "2 9       5) $500 - $750  675.83  1    0      Rural    1      Web         \n",
              "3 9       5) $500 - $750  675.07  1    1      Rural    1      Phone       \n",
              "4 2       2) $100 - $200  101.64  0    1      Urban    0      Web         \n",
              "5 4       3) $200 - $350  241.42  0    1      Rural    1      Multichannel\n",
              "  segment     visit conversion spend treatment\n",
              "1 No E-Mail   0     0          0     0        \n",
              "2 Mens E-Mail 0     0          0     1        \n",
              "3 Mens E-Mail 0     0          0     1        \n",
              "4 Mens E-Mail 1     0          0     1        \n",
              "5 No E-Mail   0     0          0     0        "
            ],
            "text/latex": "A tibble: 5 × 13\n\\begin{tabular}{lllllllllllll}\n recency & history\\_segment & history & mens & womens & zip\\_code & newbie & channel & segment & visit & conversion & spend & treatment\\\\\n <dbl> & <chr> & <dbl> & <dbl> & <dbl> & <chr> & <dbl> & <chr> & <chr> & <dbl> & <dbl> & <dbl> & <dbl>\\\\\n\\hline\n\t 6 & 3) \\$200 - \\$350 & 329.08 & 1 & 1 & Rural & 1 & Web          & No E-Mail   & 0 & 0 & 0 & 0\\\\\n\t 9 & 5) \\$500 - \\$750 & 675.83 & 1 & 0 & Rural & 1 & Web          & Mens E-Mail & 0 & 0 & 0 & 1\\\\\n\t 9 & 5) \\$500 - \\$750 & 675.07 & 1 & 1 & Rural & 1 & Phone        & Mens E-Mail & 0 & 0 & 0 & 1\\\\\n\t 2 & 2) \\$100 - \\$200 & 101.64 & 0 & 1 & Urban & 0 & Web          & Mens E-Mail & 1 & 0 & 0 & 1\\\\\n\t 4 & 3) \\$200 - \\$350 & 241.42 & 0 & 1 & Rural & 1 & Multichannel & No E-Mail   & 0 & 0 & 0 & 0\\\\\n\\end{tabular}\n",
            "text/markdown": "\nA tibble: 5 × 13\n\n| recency &lt;dbl&gt; | history_segment &lt;chr&gt; | history &lt;dbl&gt; | mens &lt;dbl&gt; | womens &lt;dbl&gt; | zip_code &lt;chr&gt; | newbie &lt;dbl&gt; | channel &lt;chr&gt; | segment &lt;chr&gt; | visit &lt;dbl&gt; | conversion &lt;dbl&gt; | spend &lt;dbl&gt; | treatment &lt;dbl&gt; |\n|---|---|---|---|---|---|---|---|---|---|---|---|---|\n| 6 | 3) $200 - $350 | 329.08 | 1 | 1 | Rural | 1 | Web          | No E-Mail   | 0 | 0 | 0 | 0 |\n| 9 | 5) $500 - $750 | 675.83 | 1 | 0 | Rural | 1 | Web          | Mens E-Mail | 0 | 0 | 0 | 1 |\n| 9 | 5) $500 - $750 | 675.07 | 1 | 1 | Rural | 1 | Phone        | Mens E-Mail | 0 | 0 | 0 | 1 |\n| 2 | 2) $100 - $200 | 101.64 | 0 | 1 | Urban | 0 | Web          | Mens E-Mail | 1 | 0 | 0 | 1 |\n| 4 | 3) $200 - $350 | 241.42 | 0 | 1 | Rural | 1 | Multichannel | No E-Mail   | 0 | 0 | 0 | 0 |\n\n",
            "text/html": [
              "<table class=\"dataframe\">\n",
              "<caption>A tibble: 5 × 13</caption>\n",
              "<thead>\n",
              "\t<tr><th scope=col>recency</th><th scope=col>history_segment</th><th scope=col>history</th><th scope=col>mens</th><th scope=col>womens</th><th scope=col>zip_code</th><th scope=col>newbie</th><th scope=col>channel</th><th scope=col>segment</th><th scope=col>visit</th><th scope=col>conversion</th><th scope=col>spend</th><th scope=col>treatment</th></tr>\n",
              "\t<tr><th scope=col>&lt;dbl&gt;</th><th scope=col>&lt;chr&gt;</th><th scope=col>&lt;dbl&gt;</th><th scope=col>&lt;dbl&gt;</th><th scope=col>&lt;dbl&gt;</th><th scope=col>&lt;chr&gt;</th><th scope=col>&lt;dbl&gt;</th><th scope=col>&lt;chr&gt;</th><th scope=col>&lt;chr&gt;</th><th scope=col>&lt;dbl&gt;</th><th scope=col>&lt;dbl&gt;</th><th scope=col>&lt;dbl&gt;</th><th scope=col>&lt;dbl&gt;</th></tr>\n",
              "</thead>\n",
              "<tbody>\n",
              "\t<tr><td>6</td><td>3) $200 - $350</td><td>329.08</td><td>1</td><td>1</td><td>Rural</td><td>1</td><td>Web         </td><td>No E-Mail  </td><td>0</td><td>0</td><td>0</td><td>0</td></tr>\n",
              "\t<tr><td>9</td><td>5) $500 - $750</td><td>675.83</td><td>1</td><td>0</td><td>Rural</td><td>1</td><td>Web         </td><td>Mens E-Mail</td><td>0</td><td>0</td><td>0</td><td>1</td></tr>\n",
              "\t<tr><td>9</td><td>5) $500 - $750</td><td>675.07</td><td>1</td><td>1</td><td>Rural</td><td>1</td><td>Phone       </td><td>Mens E-Mail</td><td>0</td><td>0</td><td>0</td><td>1</td></tr>\n",
              "\t<tr><td>2</td><td>2) $100 - $200</td><td>101.64</td><td>0</td><td>1</td><td>Urban</td><td>0</td><td>Web         </td><td>Mens E-Mail</td><td>1</td><td>0</td><td>0</td><td>1</td></tr>\n",
              "\t<tr><td>4</td><td>3) $200 - $350</td><td>241.42</td><td>0</td><td>1</td><td>Rural</td><td>1</td><td>Multichannel</td><td>No E-Mail  </td><td>0</td><td>0</td><td>0</td><td>0</td></tr>\n",
              "</tbody>\n",
              "</table>\n"
            ]
          },
          "metadata": {}
        }
      ]
    },
    {
      "cell_type": "code",
      "metadata": {
        "id": "iJkUeuceb321"
      },
      "source": [
        "summary_by_segment <- male_df %>%\n",
        "\n",
        "group_by(treatment) %>%\n",
        "summarise(conversion_rate = mean(conversion),\n",
        "spend_mean = mean(spend),\n",
        "count = n())"
      ],
      "execution_count": null,
      "outputs": []
    },
    {
      "cell_type": "code",
      "metadata": {
        "id": "f2A5H9yddDex",
        "colab": {
          "base_uri": "https://localhost:8080/",
          "height": 161
        },
        "outputId": "e32e87f2-058d-4edd-b3ff-b9f0923c6526"
      },
      "source": [
        "summary_by_segment"
      ],
      "execution_count": null,
      "outputs": [
        {
          "output_type": "display_data",
          "data": {
            "text/plain": [
              "  treatment conversion_rate spend_mean count\n",
              "1 0         0.005726087     0.6527894  21306\n",
              "2 1         0.012531093     1.4226165  21307"
            ],
            "text/latex": "A tibble: 2 × 4\n\\begin{tabular}{llll}\n treatment & conversion\\_rate & spend\\_mean & count\\\\\n <dbl> & <dbl> & <dbl> & <int>\\\\\n\\hline\n\t 0 & 0.005726087 & 0.6527894 & 21306\\\\\n\t 1 & 0.012531093 & 1.4226165 & 21307\\\\\n\\end{tabular}\n",
            "text/markdown": "\nA tibble: 2 × 4\n\n| treatment &lt;dbl&gt; | conversion_rate &lt;dbl&gt; | spend_mean &lt;dbl&gt; | count &lt;int&gt; |\n|---|---|---|---|\n| 0 | 0.005726087 | 0.6527894 | 21306 |\n| 1 | 0.012531093 | 1.4226165 | 21307 |\n\n",
            "text/html": [
              "<table class=\"dataframe\">\n",
              "<caption>A tibble: 2 × 4</caption>\n",
              "<thead>\n",
              "\t<tr><th scope=col>treatment</th><th scope=col>conversion_rate</th><th scope=col>spend_mean</th><th scope=col>count</th></tr>\n",
              "\t<tr><th scope=col>&lt;dbl&gt;</th><th scope=col>&lt;dbl&gt;</th><th scope=col>&lt;dbl&gt;</th><th scope=col>&lt;int&gt;</th></tr>\n",
              "</thead>\n",
              "<tbody>\n",
              "\t<tr><td>0</td><td>0.005726087</td><td>0.6527894</td><td>21306</td></tr>\n",
              "\t<tr><td>1</td><td>0.012531093</td><td>1.4226165</td><td>21307</td></tr>\n",
              "</tbody>\n",
              "</table>\n"
            ]
          },
          "metadata": {}
        }
      ]
    },
    {
      "cell_type": "code",
      "metadata": {
        "id": "vTjRn--NsAN9",
        "colab": {
          "base_uri": "https://localhost:8080/",
          "height": 208
        },
        "outputId": "7fefe1b6-3b98-4e08-9535-b4e04117be18"
      },
      "source": [
        "mens_mail <- male_df %>%\n",
        "filter(treatment == 1) %>%\n",
        "pull(spend)\n",
        "\n",
        "no_mail <- male_df %>%\n",
        "filter(treatment == 0) %>%\n",
        "pull(spend)\n",
        "\n",
        "rct_ttest <- t.test(mens_mail, no_mail, var.equal = TRUE)\n",
        "rct_ttest"
      ],
      "execution_count": null,
      "outputs": [
        {
          "output_type": "display_data",
          "data": {
            "text/plain": [
              "\n",
              "\tTwo Sample t-test\n",
              "\n",
              "data:  mens_mail and no_mail\n",
              "t = 5.3001, df = 42611, p-value = 1.163e-07\n",
              "alternative hypothesis: true difference in means is not equal to 0\n",
              "95 percent confidence interval:\n",
              " 0.4851384 1.0545160\n",
              "sample estimates:\n",
              "mean of x mean of y \n",
              "1.4226165 0.6527894 \n"
            ]
          },
          "metadata": {}
        }
      ]
    },
    {
      "cell_type": "code",
      "metadata": {
        "id": "KJeAA4DtyXai",
        "colab": {
          "base_uri": "https://localhost:8080/",
          "height": 362
        },
        "outputId": "cc26e5ba-5ea3-4d31-af5a-911bfede0d93"
      },
      "source": [
        "head(male_df,5)"
      ],
      "execution_count": null,
      "outputs": [
        {
          "output_type": "display_data",
          "data": {
            "text/plain": [
              "  recency history_segment history mens womens zip_code newbie channel     \n",
              "1 6       3) $200 - $350  329.08  1    1      Rural    1      Web         \n",
              "2 9       5) $500 - $750  675.83  1    0      Rural    1      Web         \n",
              "3 9       5) $500 - $750  675.07  1    1      Rural    1      Phone       \n",
              "4 2       2) $100 - $200  101.64  0    1      Urban    0      Web         \n",
              "5 4       3) $200 - $350  241.42  0    1      Rural    1      Multichannel\n",
              "  segment     visit conversion spend treatment\n",
              "1 No E-Mail   0     0          0     0        \n",
              "2 Mens E-Mail 0     0          0     1        \n",
              "3 Mens E-Mail 0     0          0     1        \n",
              "4 Mens E-Mail 1     0          0     1        \n",
              "5 No E-Mail   0     0          0     0        "
            ],
            "text/latex": "A tibble: 5 × 13\n\\begin{tabular}{lllllllllllll}\n recency & history\\_segment & history & mens & womens & zip\\_code & newbie & channel & segment & visit & conversion & spend & treatment\\\\\n <dbl> & <chr> & <dbl> & <dbl> & <dbl> & <chr> & <dbl> & <chr> & <chr> & <dbl> & <dbl> & <dbl> & <dbl>\\\\\n\\hline\n\t 6 & 3) \\$200 - \\$350 & 329.08 & 1 & 1 & Rural & 1 & Web          & No E-Mail   & 0 & 0 & 0 & 0\\\\\n\t 9 & 5) \\$500 - \\$750 & 675.83 & 1 & 0 & Rural & 1 & Web          & Mens E-Mail & 0 & 0 & 0 & 1\\\\\n\t 9 & 5) \\$500 - \\$750 & 675.07 & 1 & 1 & Rural & 1 & Phone        & Mens E-Mail & 0 & 0 & 0 & 1\\\\\n\t 2 & 2) \\$100 - \\$200 & 101.64 & 0 & 1 & Urban & 0 & Web          & Mens E-Mail & 1 & 0 & 0 & 1\\\\\n\t 4 & 3) \\$200 - \\$350 & 241.42 & 0 & 1 & Rural & 1 & Multichannel & No E-Mail   & 0 & 0 & 0 & 0\\\\\n\\end{tabular}\n",
            "text/markdown": "\nA tibble: 5 × 13\n\n| recency &lt;dbl&gt; | history_segment &lt;chr&gt; | history &lt;dbl&gt; | mens &lt;dbl&gt; | womens &lt;dbl&gt; | zip_code &lt;chr&gt; | newbie &lt;dbl&gt; | channel &lt;chr&gt; | segment &lt;chr&gt; | visit &lt;dbl&gt; | conversion &lt;dbl&gt; | spend &lt;dbl&gt; | treatment &lt;dbl&gt; |\n|---|---|---|---|---|---|---|---|---|---|---|---|---|\n| 6 | 3) $200 - $350 | 329.08 | 1 | 1 | Rural | 1 | Web          | No E-Mail   | 0 | 0 | 0 | 0 |\n| 9 | 5) $500 - $750 | 675.83 | 1 | 0 | Rural | 1 | Web          | Mens E-Mail | 0 | 0 | 0 | 1 |\n| 9 | 5) $500 - $750 | 675.07 | 1 | 1 | Rural | 1 | Phone        | Mens E-Mail | 0 | 0 | 0 | 1 |\n| 2 | 2) $100 - $200 | 101.64 | 0 | 1 | Urban | 0 | Web          | Mens E-Mail | 1 | 0 | 0 | 1 |\n| 4 | 3) $200 - $350 | 241.42 | 0 | 1 | Rural | 1 | Multichannel | No E-Mail   | 0 | 0 | 0 | 0 |\n\n",
            "text/html": [
              "<table class=\"dataframe\">\n",
              "<caption>A tibble: 5 × 13</caption>\n",
              "<thead>\n",
              "\t<tr><th scope=col>recency</th><th scope=col>history_segment</th><th scope=col>history</th><th scope=col>mens</th><th scope=col>womens</th><th scope=col>zip_code</th><th scope=col>newbie</th><th scope=col>channel</th><th scope=col>segment</th><th scope=col>visit</th><th scope=col>conversion</th><th scope=col>spend</th><th scope=col>treatment</th></tr>\n",
              "\t<tr><th scope=col>&lt;dbl&gt;</th><th scope=col>&lt;chr&gt;</th><th scope=col>&lt;dbl&gt;</th><th scope=col>&lt;dbl&gt;</th><th scope=col>&lt;dbl&gt;</th><th scope=col>&lt;chr&gt;</th><th scope=col>&lt;dbl&gt;</th><th scope=col>&lt;chr&gt;</th><th scope=col>&lt;chr&gt;</th><th scope=col>&lt;dbl&gt;</th><th scope=col>&lt;dbl&gt;</th><th scope=col>&lt;dbl&gt;</th><th scope=col>&lt;dbl&gt;</th></tr>\n",
              "</thead>\n",
              "<tbody>\n",
              "\t<tr><td>6</td><td>3) $200 - $350</td><td>329.08</td><td>1</td><td>1</td><td>Rural</td><td>1</td><td>Web         </td><td>No E-Mail  </td><td>0</td><td>0</td><td>0</td><td>0</td></tr>\n",
              "\t<tr><td>9</td><td>5) $500 - $750</td><td>675.83</td><td>1</td><td>0</td><td>Rural</td><td>1</td><td>Web         </td><td>Mens E-Mail</td><td>0</td><td>0</td><td>0</td><td>1</td></tr>\n",
              "\t<tr><td>9</td><td>5) $500 - $750</td><td>675.07</td><td>1</td><td>1</td><td>Rural</td><td>1</td><td>Phone       </td><td>Mens E-Mail</td><td>0</td><td>0</td><td>0</td><td>1</td></tr>\n",
              "\t<tr><td>2</td><td>2) $100 - $200</td><td>101.64</td><td>0</td><td>1</td><td>Urban</td><td>0</td><td>Web         </td><td>Mens E-Mail</td><td>1</td><td>0</td><td>0</td><td>1</td></tr>\n",
              "\t<tr><td>4</td><td>3) $200 - $350</td><td>241.42</td><td>0</td><td>1</td><td>Rural</td><td>1</td><td>Multichannel</td><td>No E-Mail  </td><td>0</td><td>0</td><td>0</td><td>0</td></tr>\n",
              "</tbody>\n",
              "</table>\n"
            ]
          },
          "metadata": {}
        }
      ]
    },
    {
      "cell_type": "code",
      "metadata": {
        "id": "jxc-ED8Mtcp7"
      },
      "source": [
        "set.seed(1)\n",
        "obs_rate_c <- 0.5\n",
        "obs_rate_t <- 0.5"
      ],
      "execution_count": null,
      "outputs": []
    },
    {
      "cell_type": "code",
      "metadata": {
        "id": "gQcJPk7MuqtB"
      },
      "source": [
        "biased_data <- male_df %>%\n",
        "mutate(obs_rate_c = if_else(\n",
        "    (history > 300) | (recency < 6) | (channel == 'MUltichannel'),\n",
        "    obs_rate_c, 1),\n",
        "    obs_rate_t = if_else(\n",
        "    (history > 300) | (recency < 6) | (channel == 'Multichannel'),\n",
        "    1, obs_rate_t),\n",
        "    random_number = runif(n = NROW(male_df))) %>%\n",
        "    filter((treatment == 0 & random_number < obs_rate_c) |\n",
        "    (treatment == 1 & random_number < obs_rate_t))"
      ],
      "execution_count": null,
      "outputs": []
    },
    {
      "cell_type": "code",
      "metadata": {
        "id": "jMCDYrOcuqpc",
        "colab": {
          "base_uri": "https://localhost:8080/",
          "height": 411
        },
        "outputId": "9d628b39-d8d9-448c-ae24-640f8c8410d6"
      },
      "source": [
        "head(biased_data,)"
      ],
      "execution_count": null,
      "outputs": [
        {
          "output_type": "display_data",
          "data": {
            "text/plain": [
              "  recency history_segment history mens womens zip_code  newbie channel     \n",
              "1 6       3) $200 - $350  329.08  1    1      Rural     1      Web         \n",
              "2 9       5) $500 - $750  675.83  1    0      Rural     1      Web         \n",
              "3 9       5) $500 - $750  675.07  1    1      Rural     1      Phone       \n",
              "4 2       2) $100 - $200  101.64  0    1      Urban     0      Web         \n",
              "5 4       3) $200 - $350  241.42  0    1      Rural     1      Multichannel\n",
              "6 5       1) $0 - $100     29.99  1    0      Surburban 0      Phone       \n",
              "  segment     visit conversion spend treatment obs_rate_c obs_rate_t\n",
              "1 No E-Mail   0     0          0     0         0.5        1         \n",
              "2 Mens E-Mail 0     0          0     1         0.5        1         \n",
              "3 Mens E-Mail 0     0          0     1         0.5        1         \n",
              "4 Mens E-Mail 1     0          0     1         0.5        1         \n",
              "5 No E-Mail   0     0          0     0         0.5        1         \n",
              "6 Mens E-Mail 0     0          0     1         0.5        1         \n",
              "  random_number\n",
              "1 0.2655087    \n",
              "2 0.3721239    \n",
              "3 0.5728534    \n",
              "4 0.9082078    \n",
              "5 0.2016819    \n",
              "6 0.9446753    "
            ],
            "text/latex": "A tibble: 6 × 16\n\\begin{tabular}{llllllllllllllll}\n recency & history\\_segment & history & mens & womens & zip\\_code & newbie & channel & segment & visit & conversion & spend & treatment & obs\\_rate\\_c & obs\\_rate\\_t & random\\_number\\\\\n <dbl> & <chr> & <dbl> & <dbl> & <dbl> & <chr> & <dbl> & <chr> & <chr> & <dbl> & <dbl> & <dbl> & <dbl> & <dbl> & <dbl> & <dbl>\\\\\n\\hline\n\t 6 & 3) \\$200 - \\$350 & 329.08 & 1 & 1 & Rural     & 1 & Web          & No E-Mail   & 0 & 0 & 0 & 0 & 0.5 & 1 & 0.2655087\\\\\n\t 9 & 5) \\$500 - \\$750 & 675.83 & 1 & 0 & Rural     & 1 & Web          & Mens E-Mail & 0 & 0 & 0 & 1 & 0.5 & 1 & 0.3721239\\\\\n\t 9 & 5) \\$500 - \\$750 & 675.07 & 1 & 1 & Rural     & 1 & Phone        & Mens E-Mail & 0 & 0 & 0 & 1 & 0.5 & 1 & 0.5728534\\\\\n\t 2 & 2) \\$100 - \\$200 & 101.64 & 0 & 1 & Urban     & 0 & Web          & Mens E-Mail & 1 & 0 & 0 & 1 & 0.5 & 1 & 0.9082078\\\\\n\t 4 & 3) \\$200 - \\$350 & 241.42 & 0 & 1 & Rural     & 1 & Multichannel & No E-Mail   & 0 & 0 & 0 & 0 & 0.5 & 1 & 0.2016819\\\\\n\t 5 & 1) \\$0 - \\$100   &  29.99 & 1 & 0 & Surburban & 0 & Phone        & Mens E-Mail & 0 & 0 & 0 & 1 & 0.5 & 1 & 0.9446753\\\\\n\\end{tabular}\n",
            "text/markdown": "\nA tibble: 6 × 16\n\n| recency &lt;dbl&gt; | history_segment &lt;chr&gt; | history &lt;dbl&gt; | mens &lt;dbl&gt; | womens &lt;dbl&gt; | zip_code &lt;chr&gt; | newbie &lt;dbl&gt; | channel &lt;chr&gt; | segment &lt;chr&gt; | visit &lt;dbl&gt; | conversion &lt;dbl&gt; | spend &lt;dbl&gt; | treatment &lt;dbl&gt; | obs_rate_c &lt;dbl&gt; | obs_rate_t &lt;dbl&gt; | random_number &lt;dbl&gt; |\n|---|---|---|---|---|---|---|---|---|---|---|---|---|---|---|---|\n| 6 | 3) $200 - $350 | 329.08 | 1 | 1 | Rural     | 1 | Web          | No E-Mail   | 0 | 0 | 0 | 0 | 0.5 | 1 | 0.2655087 |\n| 9 | 5) $500 - $750 | 675.83 | 1 | 0 | Rural     | 1 | Web          | Mens E-Mail | 0 | 0 | 0 | 1 | 0.5 | 1 | 0.3721239 |\n| 9 | 5) $500 - $750 | 675.07 | 1 | 1 | Rural     | 1 | Phone        | Mens E-Mail | 0 | 0 | 0 | 1 | 0.5 | 1 | 0.5728534 |\n| 2 | 2) $100 - $200 | 101.64 | 0 | 1 | Urban     | 0 | Web          | Mens E-Mail | 1 | 0 | 0 | 1 | 0.5 | 1 | 0.9082078 |\n| 4 | 3) $200 - $350 | 241.42 | 0 | 1 | Rural     | 1 | Multichannel | No E-Mail   | 0 | 0 | 0 | 0 | 0.5 | 1 | 0.2016819 |\n| 5 | 1) $0 - $100   |  29.99 | 1 | 0 | Surburban | 0 | Phone        | Mens E-Mail | 0 | 0 | 0 | 1 | 0.5 | 1 | 0.9446753 |\n\n",
            "text/html": [
              "<table class=\"dataframe\">\n",
              "<caption>A tibble: 6 × 16</caption>\n",
              "<thead>\n",
              "\t<tr><th scope=col>recency</th><th scope=col>history_segment</th><th scope=col>history</th><th scope=col>mens</th><th scope=col>womens</th><th scope=col>zip_code</th><th scope=col>newbie</th><th scope=col>channel</th><th scope=col>segment</th><th scope=col>visit</th><th scope=col>conversion</th><th scope=col>spend</th><th scope=col>treatment</th><th scope=col>obs_rate_c</th><th scope=col>obs_rate_t</th><th scope=col>random_number</th></tr>\n",
              "\t<tr><th scope=col>&lt;dbl&gt;</th><th scope=col>&lt;chr&gt;</th><th scope=col>&lt;dbl&gt;</th><th scope=col>&lt;dbl&gt;</th><th scope=col>&lt;dbl&gt;</th><th scope=col>&lt;chr&gt;</th><th scope=col>&lt;dbl&gt;</th><th scope=col>&lt;chr&gt;</th><th scope=col>&lt;chr&gt;</th><th scope=col>&lt;dbl&gt;</th><th scope=col>&lt;dbl&gt;</th><th scope=col>&lt;dbl&gt;</th><th scope=col>&lt;dbl&gt;</th><th scope=col>&lt;dbl&gt;</th><th scope=col>&lt;dbl&gt;</th><th scope=col>&lt;dbl&gt;</th></tr>\n",
              "</thead>\n",
              "<tbody>\n",
              "\t<tr><td>6</td><td>3) $200 - $350</td><td>329.08</td><td>1</td><td>1</td><td>Rural    </td><td>1</td><td>Web         </td><td>No E-Mail  </td><td>0</td><td>0</td><td>0</td><td>0</td><td>0.5</td><td>1</td><td>0.2655087</td></tr>\n",
              "\t<tr><td>9</td><td>5) $500 - $750</td><td>675.83</td><td>1</td><td>0</td><td>Rural    </td><td>1</td><td>Web         </td><td>Mens E-Mail</td><td>0</td><td>0</td><td>0</td><td>1</td><td>0.5</td><td>1</td><td>0.3721239</td></tr>\n",
              "\t<tr><td>9</td><td>5) $500 - $750</td><td>675.07</td><td>1</td><td>1</td><td>Rural    </td><td>1</td><td>Phone       </td><td>Mens E-Mail</td><td>0</td><td>0</td><td>0</td><td>1</td><td>0.5</td><td>1</td><td>0.5728534</td></tr>\n",
              "\t<tr><td>2</td><td>2) $100 - $200</td><td>101.64</td><td>0</td><td>1</td><td>Urban    </td><td>0</td><td>Web         </td><td>Mens E-Mail</td><td>1</td><td>0</td><td>0</td><td>1</td><td>0.5</td><td>1</td><td>0.9082078</td></tr>\n",
              "\t<tr><td>4</td><td>3) $200 - $350</td><td>241.42</td><td>0</td><td>1</td><td>Rural    </td><td>1</td><td>Multichannel</td><td>No E-Mail  </td><td>0</td><td>0</td><td>0</td><td>0</td><td>0.5</td><td>1</td><td>0.2016819</td></tr>\n",
              "\t<tr><td>5</td><td>1) $0 - $100  </td><td> 29.99</td><td>1</td><td>0</td><td>Surburban</td><td>0</td><td>Phone       </td><td>Mens E-Mail</td><td>0</td><td>0</td><td>0</td><td>1</td><td>0.5</td><td>1</td><td>0.9446753</td></tr>\n",
              "</tbody>\n",
              "</table>\n"
            ]
          },
          "metadata": {}
        }
      ]
    },
    {
      "cell_type": "code",
      "metadata": {
        "id": "-D1zZCsnuqmL"
      },
      "source": [
        "summary_by_segment_biased <- biased_data %>%\n",
        "group_by(treatment) %>%\n",
        "summarise(\n",
        "    conversion_rate = mean(conversion),\n",
        "    spend_mean = mean(spend),\n",
        "    count = n())"
      ],
      "execution_count": null,
      "outputs": []
    },
    {
      "cell_type": "code",
      "metadata": {
        "id": "2mhfXAnCuqjK"
      },
      "source": [
        "mens_mail_biased <- biased_data %>%\n",
        "filter(treatment == 1) %>%\n",
        "pull(spend)\n",
        "\n",
        "no_mail_biased <-biased_data %>%\n",
        "filter(treatment == 0) %>%\n",
        "pull(spend)\n",
        "\n",
        "rct_ttest_biased <- t.test(mens_mail_biased, no_mail_biased, var.equal = T)"
      ],
      "execution_count": null,
      "outputs": []
    },
    {
      "cell_type": "code",
      "metadata": {
        "id": "wAzYt7pduqfW",
        "colab": {
          "base_uri": "https://localhost:8080/",
          "height": 161
        },
        "outputId": "df84dd03-8550-412a-d8e3-aefda8baf066"
      },
      "source": [
        "summary_by_segment_biased"
      ],
      "execution_count": null,
      "outputs": [
        {
          "output_type": "display_data",
          "data": {
            "text/plain": [
              "  treatment conversion_rate spend_mean count\n",
              "1 0         0.004925444     0.5425349  14821\n",
              "2 1         0.013431794     1.5277526  17198"
            ],
            "text/latex": "A tibble: 2 × 4\n\\begin{tabular}{llll}\n treatment & conversion\\_rate & spend\\_mean & count\\\\\n <dbl> & <dbl> & <dbl> & <int>\\\\\n\\hline\n\t 0 & 0.004925444 & 0.5425349 & 14821\\\\\n\t 1 & 0.013431794 & 1.5277526 & 17198\\\\\n\\end{tabular}\n",
            "text/markdown": "\nA tibble: 2 × 4\n\n| treatment &lt;dbl&gt; | conversion_rate &lt;dbl&gt; | spend_mean &lt;dbl&gt; | count &lt;int&gt; |\n|---|---|---|---|\n| 0 | 0.004925444 | 0.5425349 | 14821 |\n| 1 | 0.013431794 | 1.5277526 | 17198 |\n\n",
            "text/html": [
              "<table class=\"dataframe\">\n",
              "<caption>A tibble: 2 × 4</caption>\n",
              "<thead>\n",
              "\t<tr><th scope=col>treatment</th><th scope=col>conversion_rate</th><th scope=col>spend_mean</th><th scope=col>count</th></tr>\n",
              "\t<tr><th scope=col>&lt;dbl&gt;</th><th scope=col>&lt;dbl&gt;</th><th scope=col>&lt;dbl&gt;</th><th scope=col>&lt;int&gt;</th></tr>\n",
              "</thead>\n",
              "<tbody>\n",
              "\t<tr><td>0</td><td>0.004925444</td><td>0.5425349</td><td>14821</td></tr>\n",
              "\t<tr><td>1</td><td>0.013431794</td><td>1.5277526</td><td>17198</td></tr>\n",
              "</tbody>\n",
              "</table>\n"
            ]
          },
          "metadata": {}
        }
      ]
    },
    {
      "cell_type": "code",
      "metadata": {
        "id": "1vSuaxjTuqcF",
        "colab": {
          "base_uri": "https://localhost:8080/",
          "height": 208
        },
        "outputId": "5658ccaa-b948-4f60-a2c8-8dc0de8bf98a"
      },
      "source": [
        "rct_ttest_biased"
      ],
      "execution_count": null,
      "outputs": [
        {
          "output_type": "display_data",
          "data": {
            "text/plain": [
              "\n",
              "\tTwo Sample t-test\n",
              "\n",
              "data:  mens_mail_biased and no_mail_biased\n",
              "t = 5.7345, df = 32017, p-value = 9.869e-09\n",
              "alternative hypothesis: true difference in means is not equal to 0\n",
              "95 percent confidence interval:\n",
              " 0.6484712 1.3219643\n",
              "sample estimates:\n",
              "mean of x mean of y \n",
              "1.5277526 0.5425349 \n"
            ]
          },
          "metadata": {}
        }
      ]
    },
    {
      "cell_type": "code",
      "metadata": {
        "id": "Ev3fM4wimtS4",
        "colab": {
          "base_uri": "https://localhost:8080/",
          "height": 347
        },
        "outputId": "d1eeaa18-8ad7-4875-db6c-ee1cf618ee57"
      },
      "source": [
        "biased_reg <- lm(\n",
        "    data = biased_data, formula = spend ~ treatment + history #formula（回帰式）\n",
        ")\n",
        "summary(biased_reg)"
      ],
      "execution_count": null,
      "outputs": [
        {
          "output_type": "display_data",
          "data": {
            "text/plain": [
              "\n",
              "Call:\n",
              "lm(formula = spend ~ treatment + history, data = biased_data)\n",
              "\n",
              "Residuals:\n",
              "   Min     1Q Median     3Q    Max \n",
              " -4.74  -1.46  -1.26  -0.47 497.74 \n",
              "\n",
              "Coefficients:\n",
              "             Estimate Std. Error t value Pr(>|t|)    \n",
              "(Intercept) 0.3183431  0.1435646   2.217  0.02660 *  \n",
              "treatment   0.9089568  0.1733766   5.243 1.59e-07 ***\n",
              "history     0.0010909  0.0003358   3.249  0.00116 ** \n",
              "---\n",
              "Signif. codes:  0 ‘***’ 0.001 ‘**’ 0.01 ‘*’ 0.05 ‘.’ 0.1 ‘ ’ 1\n",
              "\n",
              "Residual standard error: 15.33 on 32016 degrees of freedom\n",
              "Multiple R-squared:  0.001355,\tAdjusted R-squared:  0.001293 \n",
              "F-statistic: 21.73 on 2 and 32016 DF,  p-value: 3.726e-10\n"
            ]
          },
          "metadata": {}
        }
      ]
    },
    {
      "cell_type": "code",
      "metadata": {
        "id": "0rNtzt_fPpCW",
        "colab": {
          "base_uri": "https://localhost:8080/",
          "height": 192
        },
        "outputId": "352288e3-ff58-4159-d807-e4cfa29e332e"
      },
      "source": [
        "library('broom')\n",
        "biased_reg_coef <- tidy(biased_reg)\n",
        "biased_reg_coef"
      ],
      "execution_count": null,
      "outputs": [
        {
          "output_type": "display_data",
          "data": {
            "text/plain": [
              "  term        estimate    std.error    statistic p.value     \n",
              "1 (Intercept) 0.318343106 0.1435645721 2.217421  2.660133e-02\n",
              "2 treatment   0.908956788 0.1733766026 5.242673  1.592703e-07\n",
              "3 history     0.001090905 0.0003357575 3.249087  1.158954e-03"
            ],
            "text/latex": "A tibble: 3 × 5\n\\begin{tabular}{lllll}\n term & estimate & std.error & statistic & p.value\\\\\n <chr> & <dbl> & <dbl> & <dbl> & <dbl>\\\\\n\\hline\n\t (Intercept) & 0.318343106 & 0.1435645721 & 2.217421 & 2.660133e-02\\\\\n\t treatment   & 0.908956788 & 0.1733766026 & 5.242673 & 1.592703e-07\\\\\n\t history     & 0.001090905 & 0.0003357575 & 3.249087 & 1.158954e-03\\\\\n\\end{tabular}\n",
            "text/markdown": "\nA tibble: 3 × 5\n\n| term &lt;chr&gt; | estimate &lt;dbl&gt; | std.error &lt;dbl&gt; | statistic &lt;dbl&gt; | p.value &lt;dbl&gt; |\n|---|---|---|---|---|\n| (Intercept) | 0.318343106 | 0.1435645721 | 2.217421 | 2.660133e-02 |\n| treatment   | 0.908956788 | 0.1733766026 | 5.242673 | 1.592703e-07 |\n| history     | 0.001090905 | 0.0003357575 | 3.249087 | 1.158954e-03 |\n\n",
            "text/html": [
              "<table class=\"dataframe\">\n",
              "<caption>A tibble: 3 × 5</caption>\n",
              "<thead>\n",
              "\t<tr><th scope=col>term</th><th scope=col>estimate</th><th scope=col>std.error</th><th scope=col>statistic</th><th scope=col>p.value</th></tr>\n",
              "\t<tr><th scope=col>&lt;chr&gt;</th><th scope=col>&lt;dbl&gt;</th><th scope=col>&lt;dbl&gt;</th><th scope=col>&lt;dbl&gt;</th><th scope=col>&lt;dbl&gt;</th></tr>\n",
              "</thead>\n",
              "<tbody>\n",
              "\t<tr><td>(Intercept)</td><td>0.318343106</td><td>0.1435645721</td><td>2.217421</td><td>2.660133e-02</td></tr>\n",
              "\t<tr><td>treatment  </td><td>0.908956788</td><td>0.1733766026</td><td>5.242673</td><td>1.592703e-07</td></tr>\n",
              "\t<tr><td>history    </td><td>0.001090905</td><td>0.0003357575</td><td>3.249087</td><td>1.158954e-03</td></tr>\n",
              "</tbody>\n",
              "</table>\n"
            ]
          },
          "metadata": {}
        }
      ]
    },
    {
      "cell_type": "code",
      "metadata": {
        "id": "39dhWYM2XMtb",
        "colab": {
          "base_uri": "https://localhost:8080/",
          "height": 86
        },
        "outputId": "7581f39e-93c1-4911-9a2c-7ffe196a4a6f"
      },
      "source": [
        "## RCTデータでの単回帰\n",
        "rct_reg <- lm(data =  male_df, formula = spend ~ treatment )\n",
        "rct_reg_coef <- summary(rct_reg) %>% tidy()\n",
        "\n",
        "nonrct_reg  <- lm(data = biased_data, formula = spend ~ treatment)\n",
        "nonrct_reg_coef <- summary(nonrct_reg) %>% tidy()\n",
        "tidy\n",
        "\n",
        "# rct_reg_coef\n",
        "# nonrct_reg_coef"
      ],
      "execution_count": null,
      "outputs": [
        {
          "output_type": "display_data",
          "data": {
            "text/plain": [
              "function (x, ...) \n",
              "{\n",
              "    UseMethod(\"tidy\")\n",
              "}\n",
              "<bytecode: 0x55995fa37508>\n",
              "<environment: namespace:generics>"
            ],
            "text/latex": "\\begin{minted}{r}\nfunction (x, ...) \n\\{\n    UseMethod(\"tidy\")\n\\}\n\\end{minted}",
            "text/markdown": "```r\nfunction (x, ...) \n{\n    UseMethod(\"tidy\")\n}\n```",
            "text/html": [
              "<pre class=language-r><code>function (x, ...) \n",
              "{\n",
              "<span style=white-space:pre-wrap>    UseMethod(\"tidy\")</span>\n",
              "}</code></pre>"
            ]
          },
          "metadata": {}
        }
      ]
    },
    {
      "cell_type": "code",
      "metadata": {
        "id": "iLgX5Hu-YRhi",
        "colab": {
          "base_uri": "https://localhost:8080/",
          "height": 286
        },
        "outputId": "229db4fc-d981-4d87-aef9-0de3dbb5d9cf"
      },
      "source": [
        "nonrct_mreg <- lm(data = biased_data,\n",
        "formula = spend ~ treatment + recency + channel + history)\n",
        "nonrct_mreg_coef <- tidy(nonrct_mreg)\n",
        "nonrct_mreg_coef"
      ],
      "execution_count": null,
      "outputs": [
        {
          "output_type": "display_data",
          "data": {
            "text/plain": [
              "  term         estimate     std.error    statistic   p.value     \n",
              "1 (Intercept)   0.482235964 0.3730881437  1.29255237 1.961753e-01\n",
              "2 treatment     0.850686723 0.1775724559  4.79064571 1.669892e-06\n",
              "3 recency      -0.040592342 0.0258380908 -1.57102715 1.161862e-01\n",
              "4 channelPhone  0.016713862 0.2974769120  0.05618541 9.551945e-01\n",
              "5 channelWeb    0.244641636 0.2969202238  0.82393052 4.099852e-01\n",
              "6 history       0.001037089 0.0003737514  2.77480977 5.526602e-03"
            ],
            "text/latex": "A tibble: 6 × 5\n\\begin{tabular}{lllll}\n term & estimate & std.error & statistic & p.value\\\\\n <chr> & <dbl> & <dbl> & <dbl> & <dbl>\\\\\n\\hline\n\t (Intercept)  &  0.482235964 & 0.3730881437 &  1.29255237 & 1.961753e-01\\\\\n\t treatment    &  0.850686723 & 0.1775724559 &  4.79064571 & 1.669892e-06\\\\\n\t recency      & -0.040592342 & 0.0258380908 & -1.57102715 & 1.161862e-01\\\\\n\t channelPhone &  0.016713862 & 0.2974769120 &  0.05618541 & 9.551945e-01\\\\\n\t channelWeb   &  0.244641636 & 0.2969202238 &  0.82393052 & 4.099852e-01\\\\\n\t history      &  0.001037089 & 0.0003737514 &  2.77480977 & 5.526602e-03\\\\\n\\end{tabular}\n",
            "text/markdown": "\nA tibble: 6 × 5\n\n| term &lt;chr&gt; | estimate &lt;dbl&gt; | std.error &lt;dbl&gt; | statistic &lt;dbl&gt; | p.value &lt;dbl&gt; |\n|---|---|---|---|---|\n| (Intercept)  |  0.482235964 | 0.3730881437 |  1.29255237 | 1.961753e-01 |\n| treatment    |  0.850686723 | 0.1775724559 |  4.79064571 | 1.669892e-06 |\n| recency      | -0.040592342 | 0.0258380908 | -1.57102715 | 1.161862e-01 |\n| channelPhone |  0.016713862 | 0.2974769120 |  0.05618541 | 9.551945e-01 |\n| channelWeb   |  0.244641636 | 0.2969202238 |  0.82393052 | 4.099852e-01 |\n| history      |  0.001037089 | 0.0003737514 |  2.77480977 | 5.526602e-03 |\n\n",
            "text/html": [
              "<table class=\"dataframe\">\n",
              "<caption>A tibble: 6 × 5</caption>\n",
              "<thead>\n",
              "\t<tr><th scope=col>term</th><th scope=col>estimate</th><th scope=col>std.error</th><th scope=col>statistic</th><th scope=col>p.value</th></tr>\n",
              "\t<tr><th scope=col>&lt;chr&gt;</th><th scope=col>&lt;dbl&gt;</th><th scope=col>&lt;dbl&gt;</th><th scope=col>&lt;dbl&gt;</th><th scope=col>&lt;dbl&gt;</th></tr>\n",
              "</thead>\n",
              "<tbody>\n",
              "\t<tr><td>(Intercept) </td><td> 0.482235964</td><td>0.3730881437</td><td> 1.29255237</td><td>1.961753e-01</td></tr>\n",
              "\t<tr><td>treatment   </td><td> 0.850686723</td><td>0.1775724559</td><td> 4.79064571</td><td>1.669892e-06</td></tr>\n",
              "\t<tr><td>recency     </td><td>-0.040592342</td><td>0.0258380908</td><td>-1.57102715</td><td>1.161862e-01</td></tr>\n",
              "\t<tr><td>channelPhone</td><td> 0.016713862</td><td>0.2974769120</td><td> 0.05618541</td><td>9.551945e-01</td></tr>\n",
              "\t<tr><td>channelWeb  </td><td> 0.244641636</td><td>0.2969202238</td><td> 0.82393052</td><td>4.099852e-01</td></tr>\n",
              "\t<tr><td>history     </td><td> 0.001037089</td><td>0.0003737514</td><td> 2.77480977</td><td>5.526602e-03</td></tr>\n",
              "</tbody>\n",
              "</table>\n"
            ]
          },
          "metadata": {}
        }
      ]
    },
    {
      "cell_type": "code",
      "metadata": {
        "id": "vuFxyS4BYRey",
        "colab": {
          "base_uri": "https://localhost:8080/",
          "height": 156
        },
        "outputId": "d464f34e-b95c-42bd-ce38-1bafcb946320"
      },
      "source": [
        "library(broom)\n",
        "\n",
        "formula_vec <- c(spend ~ treatment + recency + channel, #モデルA\n",
        "                spend ~ treatment + recency + channel + history, #モデルB\n",
        "                history ~ treatment + recency + channel) #モデルC\n",
        "names(formula_vec) <- paste('reg', LETTERS[1:3], sep = '_')\n",
        "formula_vec"
      ],
      "execution_count": null,
      "outputs": [
        {
          "output_type": "display_data",
          "data": {
            "text/plain": [
              "$reg_A\n",
              "spend ~ treatment + recency + channel\n",
              "\n",
              "$reg_B\n",
              "spend ~ treatment + recency + channel + history\n",
              "\n",
              "$reg_C\n",
              "history ~ treatment + recency + channel\n"
            ]
          },
          "metadata": {}
        }
      ]
    },
    {
      "cell_type": "code",
      "metadata": {
        "id": "R7zcvhAHYRbt",
        "colab": {
          "base_uri": "https://localhost:8080/",
          "height": 192
        },
        "outputId": "ed7352bd-03ca-48c6-b1e6-6e6ac25b6926"
      },
      "source": [
        "models <- formula_vec %>%\n",
        "    enframe(name = ' model_index',value='formula')\n",
        "models"
      ],
      "execution_count": null,
      "outputs": [
        {
          "output_type": "display_data",
          "data": {
            "text/plain": [
              "   model_index formula                                        \n",
              "1 reg_A        spend ~ treatment + recency + channel          \n",
              "2 reg_B        spend ~ treatment + recency + channel + history\n",
              "3 reg_C        history ~ treatment + recency + channel        "
            ],
            "text/latex": "A tibble: 3 × 2\n\\begin{tabular}{ll}\n  model\\_index & formula\\\\\n <chr> & <list>\\\\\n\\hline\n\t reg\\_A & spend \\textasciitilde{} treatment + recency + channel\\\\\n\t reg\\_B & spend \\textasciitilde{} treatment + recency + channel + history\\\\\n\t reg\\_C & history \\textasciitilde{} treatment + recency + channel\\\\\n\\end{tabular}\n",
            "text/markdown": "\nA tibble: 3 × 2\n\n|  model_index &lt;chr&gt; | formula &lt;list&gt; |\n|---|---|\n| reg_A | spend ~ treatment + recency + channel |\n| reg_B | spend ~ treatment + recency + channel + history |\n| reg_C | history ~ treatment + recency + channel |\n\n",
            "text/html": [
              "<table class=\"dataframe\">\n",
              "<caption>A tibble: 3 × 2</caption>\n",
              "<thead>\n",
              "\t<tr><th scope=col> model_index</th><th scope=col>formula</th></tr>\n",
              "\t<tr><th scope=col>&lt;chr&gt;</th><th scope=col>&lt;list&gt;</th></tr>\n",
              "</thead>\n",
              "<tbody>\n",
              "\t<tr><td>reg_A</td><td>spend ~ treatment + recency + channel</td></tr>\n",
              "\t<tr><td>reg_B</td><td>spend ~ treatment + recency + channel + history</td></tr>\n",
              "\t<tr><td>reg_C</td><td>history ~ treatment + recency + channel</td></tr>\n",
              "</tbody>\n",
              "</table>\n"
            ]
          },
          "metadata": {}
        }
      ]
    },
    {
      "cell_type": "code",
      "metadata": {
        "id": "46_-ampoYRYw"
      },
      "source": [
        "# df_models <- models %>%\n",
        "#     mutate(model = map(.x = formula, .f = lm, data = biased_data)) %>%\n",
        "#     mutate(lm_result = map(.x = model, .f = tidy))\n",
        "#     df_models"
      ],
      "execution_count": null,
      "outputs": []
    },
    {
      "cell_type": "code",
      "metadata": {
        "id": "rOSmSRjXYRVb"
      },
      "source": [
        "# df_results <- df_models %>%\n",
        "# mutate(formula = as.character(formula)) %>%\n",
        "# select(formula, model_index, lm_result) %>%\n",
        "# unnest(cols = c(lm_result))"
      ],
      "execution_count": null,
      "outputs": []
    },
    {
      "cell_type": "code",
      "metadata": {
        "id": "CsWBaCX8YRSU"
      },
      "source": [
        "# treatment_cief <-df_results %>%\n",
        "# filter(term == 'treatment') %>%\n",
        "# pull(estimate)\n",
        "\n",
        "# history_coef <- df_results %>%\n",
        "# filter(model_index =='reg_b',\n",
        "# term == 'history') %>%\n",
        "# pull(estimate)\n",
        "\n",
        "# OVB <- history_coef * treatment_coef[3]\n",
        "# coef_gap <- treatment_coef[1] -treatment_coef[2]\n",
        "# OVB\n",
        "# coef_gap"
      ],
      "execution_count": null,
      "outputs": []
    },
    {
      "cell_type": "code",
      "metadata": {
        "id": "Cpv6ULG7SElW",
        "colab": {
          "base_uri": "https://localhost:8080/"
        },
        "outputId": "ea0ee939-bc8e-497b-fa38-1a20246d9cfe"
      },
      "source": [
        "install.packages('MatchIt')"
      ],
      "execution_count": null,
      "outputs": [
        {
          "output_type": "stream",
          "name": "stderr",
          "text": [
            "Installing package into ‘/usr/local/lib/R/site-library’\n",
            "(as ‘lib’ is unspecified)\n",
            "\n",
            "also installing the dependency ‘RcppProgress’\n",
            "\n",
            "\n"
          ]
        }
      ]
    },
    {
      "cell_type": "code",
      "metadata": {
        "id": "GOForTCDSEiZ"
      },
      "source": [
        "library('MatchIt')"
      ],
      "execution_count": null,
      "outputs": []
    },
    {
      "cell_type": "code",
      "metadata": {
        "id": "dduPIPm1SEfe",
        "colab": {
          "base_uri": "https://localhost:8080/",
          "height": 190
        },
        "outputId": "ee39d9bd-7ee5-4669-bb3b-20fe68ac9ab4"
      },
      "source": [
        "m_near <- matchit(formula = treatment~recency + history + channel,\n",
        "data = biased_data,\n",
        "method = \"nearest\",\n",
        "replace =TRUE)"
      ],
      "execution_count": null,
      "outputs": [
        {
          "output_type": "error",
          "ename": "ERROR",
          "evalue": "ignored",
          "traceback": [
            "Error: Non-finite values are not allowed in the covariates.\nTraceback:\n",
            "1. matchit(formula = treatment ~ recency + history + channel, data = biased_data, \n .     method = \"nearest\", replace = TRUE)",
            "2. stop(\"Non-finite values are not allowed in the covariates.\", \n .     call. = FALSE)"
          ]
        }
      ]
    },
    {
      "cell_type": "code",
      "metadata": {
        "id": "FzCRzy0VSEcY"
      },
      "source": [
        ""
      ],
      "execution_count": null,
      "outputs": []
    },
    {
      "cell_type": "code",
      "metadata": {
        "id": "4C5A5I5VSEZd"
      },
      "source": [
        ""
      ],
      "execution_count": null,
      "outputs": []
    },
    {
      "cell_type": "code",
      "metadata": {
        "id": "GluAp0eISEW7"
      },
      "source": [
        ""
      ],
      "execution_count": null,
      "outputs": []
    },
    {
      "cell_type": "code",
      "metadata": {
        "id": "jsDrVy59SET1"
      },
      "source": [
        ""
      ],
      "execution_count": null,
      "outputs": []
    }
  ]
}