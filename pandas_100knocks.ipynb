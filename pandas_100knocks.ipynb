{
  "nbformat": 4,
  "nbformat_minor": 0,
  "metadata": {
    "colab": {
      "name": "pandas_100knocks.ipynb",
      "provenance": [],
      "collapsed_sections": [],
      "authorship_tag": "ABX9TyOkShIy1T/mNPKOIrhgWHAO",
      "include_colab_link": true
    },
    "kernelspec": {
      "name": "python3",
      "display_name": "Python 3"
    },
    "language_info": {
      "name": "python"
    }
  },
  "cells": [
    {
      "cell_type": "markdown",
      "metadata": {
        "id": "view-in-github",
        "colab_type": "text"
      },
      "source": [
        "<a href=\"https://colab.research.google.com/github/hasune613/hello-world/blob/main/pandas_100knocks.ipynb\" target=\"_parent\"><img src=\"https://colab.research.google.com/assets/colab-badge.svg\" alt=\"Open In Colab\"/></a>"
      ]
    },
    {
      "cell_type": "markdown",
      "source": [
        "# データサイエンス100本ノック（構造化データ加工編） - Python\n",
        "for Google Colab"
      ],
      "metadata": {
        "id": "dbPagOdJln5D"
      }
    },
    {
      "cell_type": "markdown",
      "source": [
        "### 【注意】オリジナル版との変更点\n",
        "1. Google Colab ではDockerを使えないので、2020.06.18時点の 100knocks-preprocess/docker/work/data にあるCSVファイルをPostgreSQLから入手する代わりに使います。\n",
        "2. オリジナルのCSVデータ, geocode.csvの'latitude'列名の初めにスペースが入っていたため、それを削除しました。\n",
        "\n",
        "   オリジナル(100knocks-preprocess ver.1.0): ' latitude' --> 'latitude'\n",
        "   \n",
        "\n",
        "4. オリジナルの解答を元に、必要のないlibraryはimportせず、そして必要なlibraryをAzureNotebookでインストールするように最初のセルを改変してあります。\n",
        "5. また、SQLではなく上記CSVからデータを読み込むように'はじめに'の最初のセルを改変してあります。"
      ],
      "metadata": {
        "id": "U9c6_bh7lvVU"
      }
    },
    {
      "cell_type": "markdown",
      "source": [
        "### はじめに\n",
        "- 初めに以下のセルを実行してください\n",
        "- 必要なライブラリのインポートと~~データベース（PostgreSQL）~~ 100knocks-preprocess/docker/work/data にあるCSVファイルからのデータ読み込みを行います。geocode.csvに変更を加えたため、またgit cloneをするとColabの簡便さを損なうため、noguhiro2002のgithubレポジトリから直接読み込みます。\n",
        "- pandas等、利用が想定されるライブラリは以下セルでインポートしています\n",
        "- その他利用したいライブラリがあれば適宜インストールしてください（\"!pip install ライブラリ名\"でインストールも可能)\n",
        "- オリジナルの解答例を元に、必要なライブラリーをpipでインストールします。\n",
        "- 処理は複数回に分けても構いません\n",
        "- 名前、住所等はダミーデータであり、実在するものではありません"
      ],
      "metadata": {
        "id": "ZkWg6z3tl4WP"
      }
    },
    {
      "cell_type": "code",
      "execution_count": null,
      "metadata": {
        "id": "v7iz93a-k32v"
      },
      "outputs": [],
      "source": [
        "#  pip install --upgrade pip"
      ]
    },
    {
      "cell_type": "code",
      "source": [
        "# pip install imblearn"
      ],
      "metadata": {
        "id": "iuBBuI92lRDh"
      },
      "execution_count": null,
      "outputs": []
    },
    {
      "cell_type": "code",
      "source": [
        "# pip install --upgrade scikit-learn"
      ],
      "metadata": {
        "id": "Z7brvcPglQ_z"
      },
      "execution_count": null,
      "outputs": []
    },
    {
      "cell_type": "code",
      "source": [
        "# pipでオリジナルの解答に必要なライブラリーをインポート\n",
        "import os\n",
        "import pandas as pd\n",
        "import numpy as np\n",
        "from datetime import datetime, date\n",
        "from dateutil.relativedelta import relativedelta\n",
        "import math\n",
        "from sklearn import preprocessing\n",
        "from sklearn.model_selection import train_test_split\n",
        "from imblearn.under_sampling import RandomUnderSampler\n"
      ],
      "metadata": {
        "id": "Ov519XAzlQ8P"
      },
      "execution_count": null,
      "outputs": []
    },
    {
      "cell_type": "code",
      "source": [
        "df_customer =pd.read_csv('customer.csv')\n",
        "df_category = pd.read_csv('category.csv')\n",
        "df_product = pd.read_csv('product.csv')\n",
        "df_receipt  =pd.read_csv('receipt.csv')\n",
        "df_store = pd.read_csv('store.csv')\n",
        "df_geocode = pd.read_csv('geocode.csv')"
      ],
      "metadata": {
        "id": "atuGMVwmlQ4q"
      },
      "execution_count": null,
      "outputs": []
    },
    {
      "cell_type": "code",
      "source": [
        "df_geocode.head()"
      ],
      "metadata": {
        "id": "6QSgptr7lQ1I"
      },
      "execution_count": null,
      "outputs": []
    },
    {
      "cell_type": "markdown",
      "source": [
        "# 演習問題"
      ],
      "metadata": {
        "id": "as8usuqxmH-F"
      }
    },
    {
      "cell_type": "markdown",
      "source": [
        "> P-001: レシート明細のデータフレーム（df_receipt）から全項目の先頭10件を表示し、どのようなデータを保有しているか目視で確認せよ。"
      ],
      "metadata": {
        "id": "fInnU59vmLzQ"
      }
    },
    {
      "cell_type": "code",
      "source": [
        "df_receipt.head(10)"
      ],
      "metadata": {
        "id": "J7h8iMPelQxs"
      },
      "execution_count": null,
      "outputs": []
    },
    {
      "cell_type": "markdown",
      "source": [
        "---\n",
        "> P-002: レシート明細のデータフレーム（df_receipt）から売上日（sales_ymd）、顧客ID（customer_id）、商品コード（product_cd）、売上金額（amount）の順に列を指定し、10件表示させよ。"
      ],
      "metadata": {
        "id": "uL1YW47smQFX"
      }
    },
    {
      "cell_type": "code",
      "source": [
        "df_receipt[['sales_ymd','customer_id','product_cd','amount']].head(10)"
      ],
      "metadata": {
        "id": "-zxK7KC0lQuG"
      },
      "execution_count": null,
      "outputs": []
    },
    {
      "cell_type": "markdown",
      "source": [
        "---\n",
        "> P-003: レシート明細のデータフレーム（df_receipt）から売上日（sales_ymd）、顧客ID（customer_id）、商品コード（product_cd）、売上金額（amount）の順に列を指定し、10件表示させよ。ただし、sales_ymdはsales_dateに項目名を変更しながら抽出すること。"
      ],
      "metadata": {
        "id": "ArDZyzb0mUdF"
      }
    },
    {
      "cell_type": "code",
      "source": [
        "df_receipt[['sales_ymd','customer_id','product_cd','amount']].\\\n",
        "rename(columns={'sales_ymd':'sales_date'}).head(10)"
      ],
      "metadata": {
        "id": "W3lHFSGIlQqv"
      },
      "execution_count": null,
      "outputs": []
    },
    {
      "cell_type": "code",
      "source": [
        "df_receipt.head(3)"
      ],
      "metadata": {
        "id": "m4yxzC_ilQnZ"
      },
      "execution_count": null,
      "outputs": []
    },
    {
      "cell_type": "markdown",
      "source": [
        "---\n",
        "> P-004: レシート明細のデータフレーム（df_receipt）から売上日（sales_ymd）、顧客ID（customer_id）、商品コード（product_cd）、売上金額（amount）の順に列を指定し、以下の条件を満たすデータを抽出せよ。\n",
        "> - 顧客ID（customer_id）が\"CS018205000001\""
      ],
      "metadata": {
        "id": "qfa1BCaLmdrP"
      }
    },
    {
      "cell_type": "code",
      "source": [
        "df_receipt[['sales_ymd','customer_id','product_cd','amount']]\\\n",
        ".query('customer_id==\"CS018205000001\"')"
      ],
      "metadata": {
        "id": "CFs0p93zlQj8"
      },
      "execution_count": null,
      "outputs": []
    },
    {
      "cell_type": "markdown",
      "source": [
        "---\n",
        "> P-005: レシート明細のデータフレーム（df_receipt）から売上日（sales_ymd）、顧客ID（customer_id）、商品コード（product_cd）、売上金額（amount）の順に列を指定し、以下の条件を満たすデータを抽出せよ。\n",
        "> - 顧客ID（customer_id）が\"CS018205000001\"\n",
        "> - 売上金額（amount）が1,000以上"
      ],
      "metadata": {
        "id": "ELROWAHimiPR"
      }
    },
    {
      "cell_type": "code",
      "source": [
        "df_receipt[['sales_ymd','customer_id','product_cd','amount']]\\\n",
        ".query('customer_id==\"CS018205000001\"&amount>=1000')"
      ],
      "metadata": {
        "id": "4KlBXcqKlQhG"
      },
      "execution_count": null,
      "outputs": []
    },
    {
      "cell_type": "markdown",
      "source": [
        "---\n",
        "> P-006: レシート明細データフレーム「df_receipt」から売上日（sales_ymd）、顧客ID（customer_id）、商品コード（product_cd）、売上数量（quantity）、売上金額（amount）の順に列を指定し、以下の条件を満たすデータを抽出せよ。\n",
        "> - 顧客ID（customer_id）が\"CS018205000001\"\n",
        "> - 売上金額（amount）が1,000以上または売上数量（quantity）が5以上"
      ],
      "metadata": {
        "id": "hBDvM4dxmmK4"
      }
    },
    {
      "cell_type": "code",
      "source": [
        "df_receipt[['sales_ymd','customer_id','product_cd','quantity','amount']]\\\n",
        ".query('customer_id==\"CS018205000001\"&amount>=1000|quantity>=5')"
      ],
      "metadata": {
        "id": "Bf9P5oBtlQeN"
      },
      "execution_count": null,
      "outputs": []
    },
    {
      "cell_type": "markdown",
      "source": [
        "---\n",
        "> P-007: レシート明細のデータフレーム（df_receipt）から売上日（sales_ymd）、顧客ID（customer_id）、商品コード（product_cd）、売上金額（amount）の順に列を指定し、以下の条件を満たすデータを抽出せよ。\n",
        "> - 顧客ID（customer_id）が\"CS018205000001\"\n",
        "> - 売上金額（amount）が1,000以上2,000以下"
      ],
      "metadata": {
        "id": "fF8j3EukmpHH"
      }
    },
    {
      "cell_type": "code",
      "source": [
        "df_receipt[['sales_ymd','customer_id','product_cd','amount']]\\\n",
        ".query('customer_id==\"CS018205000001\"& 1000 <= amount <= 2000')"
      ],
      "metadata": {
        "id": "WUMzLSbfm3p1"
      },
      "execution_count": null,
      "outputs": []
    },
    {
      "cell_type": "markdown",
      "source": [
        "---\n",
        "> P-008: レシート明細のデータフレーム（df_receipt）から売上日（sales_ymd）、顧客ID（customer_id）、商品コード（product_cd）、売上金額（amount）の順に列を指定し、以下の条件を満たすデータを抽出せよ。\n",
        "> - 顧客ID（customer_id）が\"CS018205000001\"\n",
        "> - 商品コード（product_cd）が\"P071401019\"以外"
      ],
      "metadata": {
        "id": "FnvgpaMam6af"
      }
    },
    {
      "cell_type": "code",
      "source": [
        "df_receipt[['sales_ymd','customer_id','product_cd','amount']]\\\n",
        ".query('customer_id==\"CS018205000001\"& product_cd != \"P071401019\"')"
      ],
      "metadata": {
        "id": "4flxDrjcm3ll"
      },
      "execution_count": null,
      "outputs": []
    },
    {
      "cell_type": "markdown",
      "source": [
        "---\n",
        "> P-009: 以下の処理において、出力結果を変えずにORをANDに書き換えよ。\n",
        "\n",
        "`df_store.query('not(prefecture_cd == \"13\" | floor_area > 900)')`"
      ],
      "metadata": {
        "id": "f-E6UKgKm-aw"
      }
    },
    {
      "cell_type": "code",
      "source": [
        "df_store.query('prefecture_cd != \"13\" & floor_area <=900')"
      ],
      "metadata": {
        "id": "AfsvGAv-m3iA"
      },
      "execution_count": null,
      "outputs": []
    },
    {
      "cell_type": "markdown",
      "source": [
        "---\n",
        "> P-010: 店舗データフレーム（df_store）から、店舗コード（store_cd）が\"S14\"で始まるものだけ全項目抽出し、10件だけ表示せよ。"
      ],
      "metadata": {
        "id": "RD4h_3iwnCns"
      }
    },
    {
      "cell_type": "code",
      "source": [
        "df_store.query(\"store_cd.str.startswith('S14')\",engine='python').head(10)"
      ],
      "metadata": {
        "id": "MhJIL2tDm3ch"
      },
      "execution_count": null,
      "outputs": []
    },
    {
      "cell_type": "markdown",
      "source": [
        "---\n",
        "> P-011: 顧客データフレーム（df_customer）から顧客ID（customer_id）の末尾が1のものだけ全項目抽出し、10件だけ表示せよ。"
      ],
      "metadata": {
        "id": "P-mQhMsUnGjB"
      }
    },
    {
      "cell_type": "code",
      "source": [
        "df_customer.query(\"customer_id.str.endswith('1')\",engine='python').head(10)"
      ],
      "metadata": {
        "id": "JKn_u75_m3YT"
      },
      "execution_count": null,
      "outputs": []
    },
    {
      "cell_type": "markdown",
      "source": [
        "---\n",
        "> P-012: 店舗データフレーム（df_store）から横浜市の店舗だけ全項目表示せよ。"
      ],
      "metadata": {
        "id": "T82oMtUYnKXk"
      }
    },
    {
      "cell_type": "code",
      "source": [
        "df_store.head(3)"
      ],
      "metadata": {
        "id": "Sgj131xum3T_"
      },
      "execution_count": null,
      "outputs": []
    },
    {
      "cell_type": "code",
      "source": [
        "df_store.query(\"address.str.contains('横浜市')\",engine='python')"
      ],
      "metadata": {
        "id": "PX-im5r7m3Pi"
      },
      "execution_count": null,
      "outputs": []
    },
    {
      "cell_type": "markdown",
      "source": [
        "---\n",
        "> P-013: 顧客データフレーム（df_customer）から、ステータスコード（status_cd）の先頭がアルファベットのA〜Fで始まるデータを全項目抽出し、10件だけ表示せよ。"
      ],
      "metadata": {
        "id": "2r5JfUNZnQYJ"
      }
    },
    {
      "cell_type": "code",
      "source": [
        "df_customer.query(\"status_cd.str.contains('^[A-F]')\",engine='python').head(10)\n",
        "# df_customer.query(\"status_cd.str.contains('^A|^B|^C|^D|^E|^F')\", engine='python').head(10)"
      ],
      "metadata": {
        "id": "oNLEewGlm3LZ"
      },
      "execution_count": null,
      "outputs": []
    },
    {
      "cell_type": "code",
      "source": [
        "#for文での回答\n",
        "df_customer[[item[0] in set('ABCDEF')\n",
        "              for item in df_customer['status_cd'].tolist()]][:10]"
      ],
      "metadata": {
        "id": "5s1OXzrgm3HQ"
      },
      "execution_count": null,
      "outputs": []
    },
    {
      "cell_type": "markdown",
      "source": [
        "---\n",
        "> P-014: 顧客データフレーム（df_customer）から、ステータスコード（status_cd）の末尾が数字の1〜9で終わるデータを全項目抽出し、10件だけ表示せよ。"
      ],
      "metadata": {
        "id": "oujbphHanX2i"
      }
    },
    {
      "cell_type": "code",
      "source": [
        "df_customer.query(\"status_cd.str.contains('[1-9]$')\", engine='python').head(10)"
      ],
      "metadata": {
        "id": "4MWhdE2Rm3C_"
      },
      "execution_count": null,
      "outputs": []
    },
    {
      "cell_type": "markdown",
      "source": [
        "---\n",
        "> P-015: 顧客データフレーム（df_customer）から、ステータスコード（status_cd）の先頭がアルファベットのA〜Fで始まり、末尾が数字の1〜9で終わるデータを全項目抽出し、10件だけ表示せよ。"
      ],
      "metadata": {
        "id": "6Ad_n1dDnfK1"
      }
    },
    {
      "cell_type": "code",
      "source": [
        "df_customer.query(\"status_cd.str.contains('^[A-F].*[1-9]$')\",engine='python').head(10)"
      ],
      "metadata": {
        "id": "XtC8MF94m2-y"
      },
      "execution_count": null,
      "outputs": []
    },
    {
      "cell_type": "markdown",
      "source": [
        "---\n",
        "> P-016: 店舗データフレーム（df_store）から、電話番号（tel_no）が3桁-3桁-4桁のデータを全項目表示せよ。"
      ],
      "metadata": {
        "id": "5zWHacwknkbM"
      }
    },
    {
      "cell_type": "code",
      "source": [
        "df_store.query(\"tel_no.str.contains('[0-9]{3}-[0-9]{3}-[0-9]{4}')\",engine='python')"
      ],
      "metadata": {
        "id": "D__TU2hYm26n"
      },
      "execution_count": null,
      "outputs": []
    },
    {
      "cell_type": "markdown",
      "source": [
        "---\n",
        "> P-17: 顧客データフレーム（df_customer）を生年月日（birth_day）で高齢順にソートし、先頭10件を全項目表示せよ。"
      ],
      "metadata": {
        "id": "lC3tJnMunprn"
      }
    },
    {
      "cell_type": "code",
      "source": [
        "df_customer.head(3)"
      ],
      "metadata": {
        "id": "oGAyJ2Mgm22w"
      },
      "execution_count": null,
      "outputs": []
    },
    {
      "cell_type": "code",
      "source": [
        "df_customer.sort_values('birth_day',ascending=True).head(10)"
      ],
      "metadata": {
        "id": "Ku8xfYCcm2yl"
      },
      "execution_count": null,
      "outputs": []
    },
    {
      "cell_type": "markdown",
      "source": [
        "---\n",
        "> P-18: 顧客データフレーム（df_customer）を生年月日（birth_day）で若い順にソートし、先頭10件を全項目表示せよ。"
      ],
      "metadata": {
        "id": "dahquecRnwxc"
      }
    },
    {
      "cell_type": "code",
      "source": [
        "df_customer.sort_values('birth_day',ascending=False).head(10)"
      ],
      "metadata": {
        "id": "TdLRhpFYm2ur"
      },
      "execution_count": null,
      "outputs": []
    },
    {
      "cell_type": "markdown",
      "source": [
        "---\n",
        "> P-19: レシート明細データフレーム（df_receipt）に対し、1件あたりの売上金額（amount）が高い順にランクを付与し、先頭10件を抽出せよ。項目は顧客ID（customer_id）、売上金額（amount）、付与したランクを表示させること。なお、売上金額（amount）が等しい場合は同一順位を付与するものとする。"
      ],
      "metadata": {
        "id": "IIdjXSBOn1AD"
      }
    },
    {
      "cell_type": "code",
      "source": [
        "df_receipt.head(3)"
      ],
      "metadata": {
        "id": "m3wCbI0_m2qf"
      },
      "execution_count": null,
      "outputs": []
    },
    {
      "cell_type": "code",
      "source": [
        "df_tmp=pd.concat([df_receipt[['customer_id','amount']],\n",
        "                 df_receipt['amount'].rank(method='min',ascending=False)],axis=1)\n",
        "df_tmp.columns=['customer_id','amount','ranking']\n",
        "df_tmp.sort_values('ranking',ascending=True).head(10)                  \n"
      ],
      "metadata": {
        "id": "9yDAjtmhm2mC"
      },
      "execution_count": null,
      "outputs": []
    },
    {
      "cell_type": "code",
      "source": [
        "#Tosakas_ans\n",
        "df_amount_rank = pd.concat([df_receipt[['customer_id', 'amount']] \\\n",
        "                            ,df_receipt['amount'].rank(method='min', ascending=False)], axis=1)\n",
        "df_amount_rank.columns = ['customer_id', 'amount', 'amount_ranking']\n",
        "df_amount_rank.sort_values('amount_ranking', ascending=True).head(10)"
      ],
      "metadata": {
        "id": "aASFFoU6m2h0"
      },
      "execution_count": null,
      "outputs": []
    },
    {
      "cell_type": "markdown",
      "source": [
        "---\n",
        "> P-020: レシート明細データフレーム（df_receipt）に対し、1件あたりの売上金額（amount）が高い順にランクを付与し、先頭10件を抽出せよ。項目は顧客ID（customer_id）、売上金額（amount）、付与したランクを表示させること。なお、売上金額（amount）が等しい場合でも別順位を付与すること。"
      ],
      "metadata": {
        "id": "vYgflnV1oB_c"
      }
    },
    {
      "cell_type": "code",
      "source": [
        "df_tmp = pd.concat([df_receipt[['customer_id','amount']],\\\n",
        "                   df_receipt['amount'].rank(method='first',ascending=False)],axis=1)\n",
        "df_tmp.columns = ['customer_id','amount','ranking']\n",
        "df_tmp.sort_values('ranking',ascending=True).head(10)"
      ],
      "metadata": {
        "id": "6SWrmuMvm2d4"
      },
      "execution_count": null,
      "outputs": []
    },
    {
      "cell_type": "code",
      "source": [
        "#Tosakas_ans\n",
        "df_amount_rank= pd.concat([df_receipt[['customer_id','amount']]\\\n",
        "                           ,df_receipt['amount'].rank(method='first',ascending=False)],axis=1)\n",
        "df_amount_rank.columns = ['customer_id','amount','amount_ranking']\n",
        "df_amount_rank.sort_values('amount_ranking',ascending=True).head(10)"
      ],
      "metadata": {
        "id": "FuwJLkB1m2ZU"
      },
      "execution_count": null,
      "outputs": []
    },
    {
      "cell_type": "markdown",
      "source": [
        "---\n",
        "> P-021: レシート明細データフレーム（df_receipt）に対し、件数をカウントせよ。"
      ],
      "metadata": {
        "id": "FlFJlx8AoIwH"
      }
    },
    {
      "cell_type": "code",
      "source": [
        "len(df_receipt)"
      ],
      "metadata": {
        "id": "qkZXqnyyoGvm"
      },
      "execution_count": null,
      "outputs": []
    },
    {
      "cell_type": "markdown",
      "source": [
        "---\n",
        "> P-022: レシート明細データフレーム（df_receipt）の顧客ID（customer_id）に対し、ユニーク件数をカウントせよ。"
      ],
      "metadata": {
        "id": "QFPBqrvyoM2_"
      }
    },
    {
      "cell_type": "code",
      "source": [
        "len(df_receipt['customer_id'].unique())"
      ],
      "metadata": {
        "id": "9UgX2rtrm2UV"
      },
      "execution_count": null,
      "outputs": []
    },
    {
      "cell_type": "markdown",
      "source": [
        "---\n",
        "> P-023: レシート明細データフレーム（df_receipt）に対し、店舗コード（store_cd）ごとに売上金額（amount）と売上数量（quantity）を合計せよ。"
      ],
      "metadata": {
        "id": "w6WR2GHBoSOf"
      }
    },
    {
      "cell_type": "code",
      "source": [
        "df_receipt.head(3)"
      ],
      "metadata": {
        "id": "Wxdej_ySm2P5"
      },
      "execution_count": null,
      "outputs": []
    },
    {
      "cell_type": "code",
      "source": [
        "df_receipt.groupby('store_cd').agg({'amount':'sum','quantity':'sum'}).reset_index()"
      ],
      "metadata": {
        "id": "sjVgxZyDm2LR"
      },
      "execution_count": null,
      "outputs": []
    },
    {
      "cell_type": "markdown",
      "source": [
        "---\n",
        "> P-024: レシート明細データフレーム（df_receipt）に対し、顧客ID（customer_id）ごとに最も新しい売上日（sales_ymd）を求め、10件表示せよ。"
      ],
      "metadata": {
        "id": "SVLQ_FNCoYxM"
      }
    },
    {
      "cell_type": "code",
      "source": [
        "df_receipt.groupby('customer_id').sales_ymd.max().reset_index().head(10)"
      ],
      "metadata": {
        "id": "ZK7ehcpfm2Gv"
      },
      "execution_count": null,
      "outputs": []
    },
    {
      "cell_type": "code",
      "source": [
        "df_receipt.groupby('customer_id').agg({'sales_ymd':'max'}).reset_index().head(10)"
      ],
      "metadata": {
        "id": "mo92S0wXm2Cb"
      },
      "execution_count": null,
      "outputs": []
    },
    {
      "cell_type": "markdown",
      "source": [
        "---\n",
        "> P-025: レシート明細データフレーム（df_receipt）に対し、顧客ID（customer_id）ごとに最も古い売上日（sales_ymd）を求め、10件表示せよ。"
      ],
      "metadata": {
        "id": "iZ_qmOGwo_q6"
      }
    },
    {
      "cell_type": "code",
      "source": [
        "df_receipt.groupby('customer_id').sales_ymd.min().reset_index().head(10)"
      ],
      "metadata": {
        "id": "6QTMkBbFm19-"
      },
      "execution_count": null,
      "outputs": []
    },
    {
      "cell_type": "code",
      "source": [
        "df_receipt.groupby('customer_id').agg({'sales_ymd':'min'}).reset_index().head()"
      ],
      "metadata": {
        "id": "koPsfgGHm15t"
      },
      "execution_count": null,
      "outputs": []
    },
    {
      "cell_type": "markdown",
      "source": [
        "---\n",
        "> P-026: レシート明細データフレーム（df_receipt）に対し、顧客ID（customer_id）ごとに最も新しい売上日（sales_ymd）と古い売上日を求め、両者が異なるデータを10件表示せよ。"
      ],
      "metadata": {
        "id": "GFIlKq8fpFyX"
      }
    },
    {
      "cell_type": "code",
      "source": [
        "#tosakas ans\n",
        "df_sales_ymd = df_receipt.groupby('customer_id').agg({'sales_ymd':['max','min']}).reset_index()\n",
        "df_sales_ymd.columns = ['customer_id','sales_ymd_max','sales_ymd_min']\n",
        "df_sales_ymd.query('sales_ymd_max != sales_ymd_min').head(10)"
      ],
      "metadata": {
        "id": "7j6_8AyTm11h"
      },
      "execution_count": null,
      "outputs": []
    },
    {
      "cell_type": "code",
      "source": [
        "df_tmp = df_receipt.groupby('customer_id').agg({'sales_ymd':['max','min']}).reset_index()\n",
        "df_tmp.columns = [\"_\".join(pair) for pair in df_tmp.columns]\n",
        "df_tmp.query('sales_ymd_max != sales_ymd_min').head(10)"
      ],
      "metadata": {
        "id": "gNBY3_kUm1xp"
      },
      "execution_count": null,
      "outputs": []
    },
    {
      "cell_type": "markdown",
      "source": [
        "---\n",
        "> P-027: レシート明細データフレーム（df_receipt）に対し、店舗コード（store_cd）ごとに売上金額（amount）の平均を計算し、降順でTOP5を表示せよ。"
      ],
      "metadata": {
        "id": "mdfFfLmOpPfh"
      }
    },
    {
      "cell_type": "code",
      "source": [
        "df_receipt.groupby('store_cd').amount.mean().reset_index().sort_values('amount',ascending=False).head(5)"
      ],
      "metadata": {
        "id": "aW0jxB0qm1ss"
      },
      "execution_count": null,
      "outputs": []
    },
    {
      "cell_type": "code",
      "source": [
        "#tosakas ans\n",
        "df_receipt.groupby('store_cd').agg({'amount':'mean'}).reset_index().sort_values('amount',ascending=False).head(5)"
      ],
      "metadata": {
        "id": "Wumo65fjm1ol"
      },
      "execution_count": null,
      "outputs": []
    },
    {
      "cell_type": "markdown",
      "source": [
        "---\n",
        "> P-028: レシート明細データフレーム（df_receipt）に対し、店舗コード（store_cd）ごとに売上金額（amount）の中央値を計算し、降順でTOP5を表示せよ。"
      ],
      "metadata": {
        "id": "fixDtnV0pXNZ"
      }
    },
    {
      "cell_type": "code",
      "source": [
        "df_receipt.groupby('store_cd').amount.median().reset_index().sort_values('amount',ascending=False).head(5)"
      ],
      "metadata": {
        "id": "uzgdo3Vcm1kH"
      },
      "execution_count": null,
      "outputs": []
    },
    {
      "cell_type": "code",
      "source": [
        "df_receipt.groupby('store_cd').agg({'amount':'median'}).reset_index().sort_values('amount',ascending=False).head(5)"
      ],
      "metadata": {
        "id": "6BIfXlOsm1gv"
      },
      "execution_count": null,
      "outputs": []
    },
    {
      "cell_type": "markdown",
      "source": [
        "---\n",
        "> P-029: レシート明細データフレーム（df_receipt）に対し、店舗コード（store_cd）ごとに商品コード（product_cd）の最頻値を求めよ。"
      ],
      "metadata": {
        "id": "ykI3NtElpd_N"
      }
    },
    {
      "cell_type": "code",
      "source": [
        "df_receipt.groupby('store_cd').product_cd.apply(lambda x : x.mode()).reset_index()"
      ],
      "metadata": {
        "id": "KFGrx9zCm1cG"
      },
      "execution_count": null,
      "outputs": []
    },
    {
      "cell_type": "code",
      "source": [
        "#tosakas ans\n",
        "df_receipt.groupby('store_cd').product_cd.apply(lambda x : x.mode()).reset_index()\\\n",
        ".set_index(['store_cd','level_1','product_cd'])"
      ],
      "metadata": {
        "id": "mOX4PENPm1YK"
      },
      "execution_count": null,
      "outputs": []
    },
    {
      "cell_type": "markdown",
      "source": [
        "---\n",
        "> P-030: レシート明細データフレーム（df_receipt）に対し、店舗コード（store_cd）ごとに売上金額（amount）の標本分散を計算し、降順でTOP5を表示せよ。"
      ],
      "metadata": {
        "id": "6Uvh0ocwpmpw"
      }
    },
    {
      "cell_type": "code",
      "source": [
        "df_receipt.groupby('store_cd').amount.var(ddof=0).reset_index().sort_values('amount',ascending=False).head(5)"
      ],
      "metadata": {
        "id": "BfKBlW0Npjpm"
      },
      "execution_count": null,
      "outputs": []
    },
    {
      "cell_type": "code",
      "source": [
        "#aggを用いた別解\n",
        "df_receipt.groupby('store_cd').agg({'amount':'var'}).reset_index().sort_values('amount',ascending=False).head(5)"
      ],
      "metadata": {
        "id": "LiRInzkWm1T3"
      },
      "execution_count": null,
      "outputs": []
    },
    {
      "cell_type": "markdown",
      "source": [
        "---\n",
        "> P-031: レシート明細データフレーム（df_receipt）に対し、店舗コード（store_cd）ごとに売上金額（amount）の標本標準偏差を計算し、降順でTOP5を表示せよ。"
      ],
      "metadata": {
        "id": "w3sq3s9IpsWh"
      }
    },
    {
      "cell_type": "code",
      "source": [
        "df_receipt.groupby('store_cd').amount.std().reset_index().sort_values('amount',ascending=False).head(5)"
      ],
      "metadata": {
        "id": "GH0x2TaRm1P4"
      },
      "execution_count": null,
      "outputs": []
    },
    {
      "cell_type": "code",
      "source": [
        "#aggを用いた別解\n",
        "df_receipt.groupby('store_cd').agg({'amount':'std'}).reset_index().sort_values('amount',ascending=False).head(5)"
      ],
      "metadata": {
        "id": "g81lNkqym1Lf"
      },
      "execution_count": null,
      "outputs": []
    },
    {
      "cell_type": "markdown",
      "source": [
        "---\n",
        "> P-032: レシート明細データフレーム（df_receipt）の売上金額（amount）について、25％刻みでパーセンタイル値を求めよ。"
      ],
      "metadata": {
        "id": "55q_hjZjp9Ov"
      }
    },
    {
      "cell_type": "code",
      "source": [
        "#コード例1\n",
        "np.percentile(df_receipt['amount'],q=[25,50,75,100])"
      ],
      "metadata": {
        "id": "7nnYxy_cm1He"
      },
      "execution_count": null,
      "outputs": []
    },
    {
      "cell_type": "code",
      "source": [
        "#コード例2\n",
        "df_receipt.amount.quantile(q=np.arange(5)/4)"
      ],
      "metadata": {
        "id": "31OjmW1Bm1C2"
      },
      "execution_count": null,
      "outputs": []
    },
    {
      "cell_type": "markdown",
      "source": [
        "---\n",
        "> P-033: レシート明細データフレーム（df_receipt）に対し、店舗コード（store_cd）ごとに売上金額（amount）の平均を計算し、330以上のものを抽出せよ。"
      ],
      "metadata": {
        "id": "Hr4f6MkiqJHM"
      }
    },
    {
      "cell_type": "code",
      "source": [
        "df_receipt.groupby('store_cd').amount.mean().reset_index().query('amount>=330')"
      ],
      "metadata": {
        "id": "TbwGKkXlm0-1"
      },
      "execution_count": null,
      "outputs": []
    },
    {
      "cell_type": "code",
      "source": [
        "#aggを用いた別解\n",
        "df_receipt.groupby('store_cd').agg({'amount':'mean'}).reset_index().query('amount>=330')"
      ],
      "metadata": {
        "id": "ClAzI8xZm06P"
      },
      "execution_count": null,
      "outputs": []
    },
    {
      "cell_type": "markdown",
      "source": [
        "---\n",
        "> P-034: レシート明細データフレーム（df_receipt）に対し、顧客ID（customer_id）ごとに売上金額（amount）を合計して全顧客の平均を求めよ。ただし、顧客IDが\"Z\"から始まるのものは非会員を表すため、除外して計算すること。\n"
      ],
      "metadata": {
        "id": "X9c5GY_WqRAu"
      }
    },
    {
      "cell_type": "code",
      "source": [
        "#queryを使わない書き方\n",
        "df_receipt[~df_receipt['customer_id'].str.startswith(\"Z\")].groupby('customer_id').amount.sum().mean()"
      ],
      "metadata": {
        "id": "wuaLlvunm02E"
      },
      "execution_count": null,
      "outputs": []
    },
    {
      "cell_type": "code",
      "source": [
        "# queryを使う書き方\n",
        "df_receipt.query('not customer_id.str.startswith(\"Z\")',engine='python').groupby('customer_id').amount.sum().mean()"
      ],
      "metadata": {
        "id": "-TyDiFW-m0x7"
      },
      "execution_count": null,
      "outputs": []
    },
    {
      "cell_type": "markdown",
      "source": [
        "---\n",
        "> P-035: レシート明細データフレーム（df_receipt）に対し、顧客ID（customer_id）ごとに売上金額（amount）を合計して全顧客の平均を求め、平均以上に買い物をしている顧客を抽出せよ。ただし、顧客IDが\"Z\"から始まるのものは非会員を表すため、除外して計算すること。なお、データは10件だけ表示させれば良い。"
      ],
      "metadata": {
        "id": "O4nG2facqWMN"
      }
    },
    {
      "cell_type": "code",
      "source": [
        "df_receipt.head()"
      ],
      "metadata": {
        "id": "EjZQ0WlXm0t9"
      },
      "execution_count": null,
      "outputs": []
    },
    {
      "cell_type": "code",
      "source": [
        "amount_mean =df_receipt[~df_receipt['customer_id'].str.startswith('Z')].groupby('customer_id').amount.sum().mean()\n",
        "df_amount_sum = df_receipt.groupby('customer_id').amount.sum().reset_index()\n",
        "df_amount_sum[df_amount_sum['amount'] >= amount_mean].head(10)"
      ],
      "metadata": {
        "id": "ZtuZ7om5m0pl"
      },
      "execution_count": null,
      "outputs": []
    },
    {
      "cell_type": "markdown",
      "source": [
        "---\n",
        "> P-036: レシート明細データフレーム（df_receipt）と店舗データフレーム（df_store）を内部結合し、レシート明細データフレームの全項目と店舗データフレームの店舗名（store_name）を10件表示させよ。"
      ],
      "metadata": {
        "id": "LiUmm6FKqgoy"
      }
    },
    {
      "cell_type": "code",
      "source": [
        "df_receipt.head(1)"
      ],
      "metadata": {
        "id": "dSFKQ-44m0lR"
      },
      "execution_count": null,
      "outputs": []
    },
    {
      "cell_type": "code",
      "source": [
        "df_store.head(1)"
      ],
      "metadata": {
        "id": "uBrpe28km0hG"
      },
      "execution_count": null,
      "outputs": []
    },
    {
      "cell_type": "code",
      "source": [
        "pd.merge(df_receipt,df_store[['store_cd','store_name']],how='inner',on='store_cd').head(10)"
      ],
      "metadata": {
        "id": "iBc3Us4Fm0ck"
      },
      "execution_count": null,
      "outputs": []
    },
    {
      "cell_type": "markdown",
      "source": [
        "---\n",
        "> P-037: 商品データフレーム（df_product）とカテゴリデータフレーム（df_category）を内部結合し、商品データフレームの全項目とカテゴリデータフレームの小区分名（category_small_name）を10件表示させよ。"
      ],
      "metadata": {
        "id": "xtB9iuH8qrT6"
      }
    },
    {
      "cell_type": "code",
      "source": [
        "df_product.head(1)"
      ],
      "metadata": {
        "id": "fYbe8fqcm0YU"
      },
      "execution_count": null,
      "outputs": []
    },
    {
      "cell_type": "code",
      "source": [
        "df_category.head(1)"
      ],
      "metadata": {
        "id": "Btsx80xYm0Ur"
      },
      "execution_count": null,
      "outputs": []
    },
    {
      "cell_type": "code",
      "source": [
        "pd.merge(df_product,\n",
        "         df_category[['category_major_cd','category_medium_cd','category_small_cd','category_small_name']],\n",
        "         how='inner',on=['category_major_cd','category_medium_cd','category_small_cd']).head(10)"
      ],
      "metadata": {
        "id": "DiACK1EFm0QR"
      },
      "execution_count": null,
      "outputs": []
    },
    {
      "cell_type": "markdown",
      "source": [
        "---\n",
        "> P-038: 顧客データフレーム（df_customer）とレシート明細データフレーム（df_receipt）から、各顧客ごとの売上金額合計を求めよ。ただし、買い物の実績がない顧客については売上金額を0として表示させること。また、顧客は性別コード（gender_cd）が女性（1）であるものを対象とし、非会員（顧客IDが'Z'から始まるもの）は除外すること。なお、結果は10件だけ表示させれば良い。"
      ],
      "metadata": {
        "id": "s03MIPpVq_Hk"
      }
    },
    {
      "cell_type": "code",
      "source": [
        "df_customer.head(1)"
      ],
      "metadata": {
        "id": "6c6z6mvFm0MP"
      },
      "execution_count": null,
      "outputs": []
    },
    {
      "cell_type": "code",
      "source": [
        "df_receipt.head(10)"
      ],
      "metadata": {
        "id": "lbsMW8KUm0HK"
      },
      "execution_count": null,
      "outputs": []
    },
    {
      "cell_type": "code",
      "source": [
        "df_amount_sum= df_receipt.groupby('customer_id').amount.sum().reset_index()\n",
        "df_tmp = df_customer.query('gender_cd == \"1\" and not customer_id.str.startswith(\"Z\")',engine='python')\n",
        "pd.merge(df_tmp['customer_id'],df_amount_sum,how='left',on='customer_id').fillna(0).head(10)"
      ],
      "metadata": {
        "id": "j4vRTV8ym0DC"
      },
      "execution_count": null,
      "outputs": []
    },
    {
      "cell_type": "markdown",
      "source": [
        "---\n",
        "> P-039: レシート明細データフレーム（df_receipt）から売上日数の多い顧客の上位20件と、売上金額合計の多い顧客の上位20件を抽出し、完全外部結合せよ。ただし、非会員（顧客IDが'Z'から始まるもの）は除外すること。"
      ],
      "metadata": {
        "id": "cETahRThrpfk"
      }
    },
    {
      "cell_type": "code",
      "source": [
        "df_sum = df_receipt.groupby('customer_id').amount.sum().reset_index()\n",
        "df_sum = df_sum.query('not customer_id.str.startswith(\"Z\")',engine='python')\n",
        "df_sum = df_sum.sort_values('amount',ascending=False).head(20)\n",
        "\n",
        "df_cnt = df_receipt[~df_receipt.duplicated(subset=['customer_id','sales_ymd'])]\n",
        "df_cnt = df_cnt.query('not customer_id.str.startswith(\"Z\")',engine='python')\n",
        "df_cnt = df_cnt.groupby('customer_id').sales_ymd.count().reset_index()\n",
        "df_cnt = df_cnt.sort_values('sales_ymd',ascending=False).head(20)\n",
        "\n",
        "pd.merge(df_sum,df_cnt,how='outer',on='customer_id')"
      ],
      "metadata": {
        "id": "0puWth34mz-g"
      },
      "execution_count": null,
      "outputs": []
    },
    {
      "cell_type": "markdown",
      "source": [
        "---\n",
        "> P-040: 全ての店舗と全ての商品を組み合わせると何件のデータとなるか調査したい。店舗（df_store）と商品（df_product）を直積した件数を計算せよ。"
      ],
      "metadata": {
        "id": "r_nA25A5rvHI"
      }
    },
    {
      "cell_type": "code",
      "source": [
        "df_store.head(3)"
      ],
      "metadata": {
        "id": "qPk-D19Bmz6S"
      },
      "execution_count": null,
      "outputs": []
    },
    {
      "cell_type": "code",
      "source": [
        "df_product.head(3)"
      ],
      "metadata": {
        "id": "aBkVyMuhmz15"
      },
      "execution_count": null,
      "outputs": []
    },
    {
      "cell_type": "code",
      "source": [
        "df_store_tmp = df_store.copy()\n",
        "df_product_tmp = df_product.copy()\n",
        "df_store_tmp['key'] = 0\n",
        "df_product_tmp['key'] = 0\n",
        "len(pd.merge(df_store_tmp,df_product_tmp,how='outer',on='key'))"
      ],
      "metadata": {
        "id": "hkCL9e6Fmzxu"
      },
      "execution_count": null,
      "outputs": []
    },
    {
      "cell_type": "markdown",
      "source": [
        "---\n",
        "> P-041: レシート明細データフレーム（df_receipt）の売上金額（amount）を日付（sales_ymd）ごとに集計し、前日からの売上金額増減を計算せよ。なお、計算結果は10件表示すればよい。"
      ],
      "metadata": {
        "id": "WEXpzol-r3s2"
      }
    },
    {
      "cell_type": "code",
      "source": [
        "df_receipt.head(3)"
      ],
      "metadata": {
        "id": "1__rAEFAmztq"
      },
      "execution_count": null,
      "outputs": []
    },
    {
      "cell_type": "code",
      "source": [
        "df_sales_amount_by_date = df_receipt[['sales_ymd','amount']].groupby('sales_ymd').sum().reset_index()\n",
        "df_sales_amount_by_date = pd.concat([df_sales_amount_by_date,df_sales_amount_by_date.shift()],axis=1)\n",
        "df_sales_amount_by_date.columns={'sales_ymd','amount','lag_ymd','lag_amount'}\n",
        "df_sales_amount_by_date['diff_amount'] = df_sales_amount_by_date['amount']- df_sales_amount_by_date['lag_amount']\n",
        "df_sales_amount_by_date.head(10)"
      ],
      "metadata": {
        "id": "qp8EljbVmzph"
      },
      "execution_count": null,
      "outputs": []
    },
    {
      "cell_type": "markdown",
      "source": [
        "---\n",
        "> P-042: レシート明細データフレーム（df_receipt）の売上金額（amount）を日付（sales_ymd）ごとに集計し、各日付のデータに対し、１日前、２日前、３日前のデータを結合せよ。結果は10件表示すればよい。"
      ],
      "metadata": {
        "id": "oOdTrmGcr83S"
      }
    },
    {
      "cell_type": "code",
      "source": [
        "# （縦持ちのケース）\n",
        "df_sales_amount_by_date = df_receipt[['sales_ymd','amount']].groupby('sales_ymd').sum().reset_index()\n",
        "for i in range(1,4):\n",
        "    if i == 1:\n",
        "        df_lag = pd.concat([df_sales_amount_by_date,df_sales_amount_by_date.shift(i)],axis=1)\n",
        "    else:\n",
        "        df_lag = df_lag.append(pd.concat([df_sales_amount_by_date,df_sales_amount_by_date.shift(i)],axis=1))\n",
        "df_lag.columns=['sales_ymd','amount','lag_sales_ymd','lag_sales_amount']\n",
        "df_lag.dropna().sort_values(['sales_ymd','lag_sales_ymd']).head(10)        "
      ],
      "metadata": {
        "id": "97Y3OahUmzmz"
      },
      "execution_count": null,
      "outputs": []
    },
    {
      "cell_type": "code",
      "source": [
        "# 横持ちのケース\n",
        "df_sales_amount_by_date = df_receipt[['sales_ymd','amount']].groupby('sales_ymd').sum().reset_index()\n",
        "for i in range(1,4):\n",
        "    if i == 1:\n",
        "        df_lag = pd.concat([df_sales_amount_by_date,df_sales_amount_by_date.shift(i)],axis=1)\n",
        "    else:\n",
        "        df_lag = pd.concat([df_lag,df_sales_amount_by_date.shift(i)],axis=1)\n",
        "        \n",
        "df_lag.columns = ['sales_ymd','amount','lag1_sales_ymd','lag1_amount',\n",
        "                 'lag2_sales_ymd','lag2_amount','lag3_sales_ymd','lag3_amount']\n",
        "df_lag.dropna().sort_values('sales_ymd').head(10)"
      ],
      "metadata": {
        "id": "eNXCIQ3amzjx"
      },
      "execution_count": null,
      "outputs": []
    },
    {
      "cell_type": "markdown",
      "source": [
        "---\n",
        "> P-043： レシート明細データフレーム（df_receipt）と顧客データフレーム（df_customer）を結合し、性別（gender）と年代（ageから計算）ごとに売上金額（amount）を合計した売上サマリデータフレーム（df_sales_summary）を作成せよ。性別は0が男性、1が女性、9が不明を表すものとする。\n",
        ">\n",
        "> ただし、項目構成は年代、女性の売上金額、男性の売上金額、性別不明の売上金額の4項目とすること（縦に年代、横に性別のクロス集計）。また、年代は10歳ごとの階級とすること。"
      ],
      "metadata": {
        "id": "YB0lVuf3sC57"
      }
    },
    {
      "cell_type": "code",
      "source": [
        "df_tmp = pd.merge(df_receipt,df_customer,how='inner',on='customer_id')\n",
        "df_tmp['era'] = df_tmp['age'].apply(lambda x : math.floor(x/10)*10)\n",
        "df_sales_summary = pd.pivot_table(df_tmp,index='era',columns='gender_cd',values='amount',aggfunc='sum').reset_index()\n",
        "df_sales_summary.columns=['era','male','female','unknown']\n",
        "df_sales_summary"
      ],
      "metadata": {
        "id": "6ZzoUXtmmzd3"
      },
      "execution_count": null,
      "outputs": []
    },
    {
      "cell_type": "markdown",
      "source": [
        "---\n",
        "> P-044： 前設問で作成した売上サマリデータフレーム（df_sales_summary）は性別の売上を横持ちさせたものであった。このデータフレームから性別を縦持ちさせ、年代、性別コード、売上金額の3項目に変換せよ。ただし、性別コードは男性を'00'、女性を'01'、不明を'99'とする。"
      ],
      "metadata": {
        "id": "Zme4mAgVsIIJ"
      }
    },
    {
      "cell_type": "code",
      "source": [
        "df_sales_summary = df_sales_summary.set_index('era').\\\n",
        "    stack().reset_index().replace({'female':'01',\n",
        "                                  'male':'00',\n",
        "                                  'unknown':'99'}).rename(columns={'level_1':'gender_cd',0:'amount'})"
      ],
      "metadata": {
        "id": "G228OvWZmzaj"
      },
      "execution_count": null,
      "outputs": []
    },
    {
      "cell_type": "code",
      "source": [
        "df_sales_summary"
      ],
      "metadata": {
        "id": "TXtqf8j3mzVk"
      },
      "execution_count": null,
      "outputs": []
    },
    {
      "cell_type": "markdown",
      "source": [
        "---\n",
        "> P-045: 顧客データフレーム（df_customer）の生年月日（birth_day）は日付型（Date）でデータを保有している。これをYYYYMMDD形式の文字列に変換し、顧客ID（customer_id）とともに抽出せよ。データは10件を抽出すれば良い。"
      ],
      "metadata": {
        "id": "tvDFUDxUsOvf"
      }
    },
    {
      "cell_type": "code",
      "source": [
        "df_customer.head(3)"
      ],
      "metadata": {
        "id": "HQgLzqkOmzRg"
      },
      "execution_count": null,
      "outputs": []
    },
    {
      "cell_type": "code",
      "source": [
        "pd.concat([df_customer['customer_id'],\n",
        "          pd.to_datetime(df_customer['birth_day']).dt.strftime('%Y/%m/%d')],\n",
        "         axis=1).head(10)"
      ],
      "metadata": {
        "id": "0gNG39lnmzNV"
      },
      "execution_count": null,
      "outputs": []
    },
    {
      "cell_type": "markdown",
      "source": [
        "---\n",
        "> P-046: 顧客データフレーム（df_customer）の申し込み日（application_date）はYYYYMMD形式の文字列型でデータを保有している。これを日付型（dateやdatetime）に変換し、顧客ID（customer_id）とともに抽出せよ。データは10件を抽出すれば良い。"
      ],
      "metadata": {
        "id": "QBaoTOLTsVb4"
      }
    },
    {
      "cell_type": "code",
      "source": [
        "pd.concat([df_customer['customer_id'],pd.to_datetime(df_customer['application_date'])],axis=1).head(10)"
      ],
      "metadata": {
        "id": "QRW5xmbWmzJa"
      },
      "execution_count": null,
      "outputs": []
    },
    {
      "cell_type": "markdown",
      "source": [
        "---\n",
        "> P-047: レシート明細データフレーム（df_receipt）の売上日（sales_ymd）はYYYYMMDD形式の数値型でデータを保有している。これを日付型（dateやdatetime）に変換し、レシート番号(receipt_no)、レシートサブ番号（receipt_sub_no）とともに抽出せよ。データは10件を抽出すれば良い。"
      ],
      "metadata": {
        "id": "7hfVe4sgsZRE"
      }
    },
    {
      "cell_type": "code",
      "source": [
        "df_receipt.head(3)"
      ],
      "metadata": {
        "id": "O8OwlectmzFN"
      },
      "execution_count": null,
      "outputs": []
    },
    {
      "cell_type": "code",
      "source": [
        "pd.concat([df_receipt[['receipt_no','receipt_sub_no']],\n",
        "           pd.to_datetime(df_receipt['sales_ymd'].astype(str))],axis=1).head(10)"
      ],
      "metadata": {
        "id": "mosLUx2omzBt"
      },
      "execution_count": null,
      "outputs": []
    },
    {
      "cell_type": "markdown",
      "source": [
        "---\n",
        "> P-048: レシート明細データフレーム（df_receipt）の売上エポック秒（sales_epoch）は数値型のUNIX秒でデータを保有している。これを日付型（dateやdatetime）に変換し、レシート番号(receipt_no)、レシートサブ番号（receipt_sub_no）とともに抽出せよ。データは10件を抽出すれば良い。"
      ],
      "metadata": {
        "id": "xJsmLJL8si8S"
      }
    },
    {
      "cell_type": "code",
      "source": [
        "df_receipt.head(3)"
      ],
      "metadata": {
        "id": "jfVYkRenmy9l"
      },
      "execution_count": null,
      "outputs": []
    },
    {
      "cell_type": "code",
      "source": [
        "pd.concat([df_receipt[['receipt_no','receipt_sub_no']],\n",
        "          pd.to_datetime(df_receipt['sales_epoch'].astype(int),unit='s')],axis=1).head(10)"
      ],
      "metadata": {
        "id": "7hFGoRnVmy5j"
      },
      "execution_count": null,
      "outputs": []
    },
    {
      "cell_type": "markdown",
      "source": [
        "---\n",
        "> P-049: レシート明細データフレーム（df_receipt）の売上エポック秒（sales_epoch）を日付型（timestamp型）に変換し、\"年\"だけ取り出してレシート番号(receipt_no)、レシートサブ番号（receipt_sub_no）とともに抽出せよ。データは10件を抽出すれば良い。"
      ],
      "metadata": {
        "id": "1pndoHSfsoaN"
      }
    },
    {
      "cell_type": "code",
      "source": [
        "df_receipt.head(3)"
      ],
      "metadata": {
        "id": "Uvkwcm9Fmy14"
      },
      "execution_count": null,
      "outputs": []
    },
    {
      "cell_type": "code",
      "source": [
        "pd.concat([df_receipt[['receipt_no','receipt_sub_no']],\n",
        "          pd.to_datetime(df_receipt['sales_ymd'],unit='s').dt.year],axis=1).head(10)"
      ],
      "metadata": {
        "id": "xdMuvPLDmyyE"
      },
      "execution_count": null,
      "outputs": []
    },
    {
      "cell_type": "markdown",
      "source": [
        "---\n",
        "> P-050: レシート明細データフレーム（df_receipt）の売上エポック秒（sales_epoch）を日付型（timestamp型）に変換し、\"月\"だけ取り出してレシート番号(receipt_no)、レシートサブ番号（receipt_sub_no）とともに抽出せよ。なお、\"月\"は0埋め2桁で取り出すこと。データは10件を抽出すれば良い。"
      ],
      "metadata": {
        "id": "iposLAKGsusb"
      }
    },
    {
      "cell_type": "code",
      "source": [
        "pd.concat([df_receipt[['receipt_no','receipt_sub_no']],\n",
        "          pd.to_datetime(df_receipt['sales_epoch'],unit='s').dt.strftime('%m')],axis=1).head(10)"
      ],
      "metadata": {
        "id": "H2A27OcGmyv0"
      },
      "execution_count": null,
      "outputs": []
    },
    {
      "cell_type": "markdown",
      "source": [
        "---\n",
        "> P-051: レシート明細データフレーム（df_receipt）の売上エポック秒（sales_epoch）を日付型（timestamp型）に変換し、\"日\"だけ取り出してレシート番号(receipt_no)、レシートサブ番号（receipt_sub_no）とともに抽出せよ。なお、\"日\"は0埋め2桁で取り出すこと。データは10件を抽出すれば良い。"
      ],
      "metadata": {
        "id": "rNcgFRdoszYQ"
      }
    },
    {
      "cell_type": "code",
      "source": [
        "pd.concat([df_receipt[['receipt_no','receipt_sub_no']],\n",
        "         pd.to_datetime(df_receipt['sales_epoch'],unit='s').dt.strftime('%d')],axis=1).head(10)"
      ],
      "metadata": {
        "id": "Y0OwLnDemyqW"
      },
      "execution_count": null,
      "outputs": []
    },
    {
      "cell_type": "markdown",
      "source": [
        "---\n",
        "> P-052: レシート明細データフレーム（df_receipt）の売上金額（amount）を顧客ID（customer_id）ごとに合計の上、売上金額合計に対して2000円以下を0、2000円超を1に2値化し、顧客ID、売上金額合計とともに10件表示せよ。ただし、顧客IDが\"Z\"から始まるのものは非会員を表すため、除外して計算すること。"
      ],
      "metadata": {
        "id": "KgSR239fs4A5"
      }
    },
    {
      "cell_type": "code",
      "source": [
        "df_sales_amount = df_receipt.query('not customer_id.str.startswith(\"Z\")',engine='python')\n",
        "\n",
        "df_sales_amount = df_sales_amount[['customer_id','amount']].groupby('customer_id').sum().reset_index()\n",
        "\n",
        "df_sales_amount['sales_flg'] = df_sales_amount['amount'].apply(lambda x : 1 if x>2000 else 0)\n",
        "df_sales_amount.head(10)"
      ],
      "metadata": {
        "id": "Q8D5Be1xmyl_"
      },
      "execution_count": null,
      "outputs": []
    },
    {
      "cell_type": "code",
      "source": [
        "# 解2\n",
        "# np.where\n",
        "df_sales_amount = df_receipt.query('not customer_id.str.startswith(\"Z\")',engine='python')\n",
        "df_sales_amount = df_sales_amount[['customer_id','amount']].groupby('customer_id').sum().reset_index()\n",
        "\n",
        "# np.where(条件式, x(真の場合), y(偽の場合))\n",
        "df_sales_amount['sales_fig'] = np.where(df_sales_amount['amount']>2000,1,0)\n",
        "df_sales_amount.head(10)"
      ],
      "metadata": {
        "id": "Wnjmqwn8myiD"
      },
      "execution_count": null,
      "outputs": []
    },
    {
      "cell_type": "code",
      "source": [
        "# 解3\n",
        "df_sales_amount = df_receipt[~df_receipt['customer_id'].str.startswith(\"Z\")].groupby('customer_id').amount.sum().reset_index()\n",
        "df_sales_amount.loc[df_sales_amount['amount']<=2000,'threshold'] = 0\n",
        "df_sales_amount.loc[df_sales_amount['amount']>2000,'threshold'] = 1\n",
        "df_sales_amount.head(10)\n"
      ],
      "metadata": {
        "id": "MRkgW5yOmyeP"
      },
      "execution_count": null,
      "outputs": []
    },
    {
      "cell_type": "markdown",
      "source": [
        "\n",
        "> P-053: 顧客データフレーム（df_customer）の郵便番号（postal_cd）に対し、東京（先頭3桁が100〜209のもの）を1、それ以外のものを0に２値化せよ。さらにレシート明細データフレーム（df_receipt）と結合し、全期間において買い物実績のある顧客数を、作成した2値ごとにカウントせよ。"
      ],
      "metadata": {
        "id": "o0UriBBZs_zb"
      }
    },
    {
      "cell_type": "code",
      "source": [
        "df_customer.head(3)"
      ],
      "metadata": {
        "id": "npZDujw6myaG"
      },
      "execution_count": null,
      "outputs": []
    },
    {
      "cell_type": "code",
      "source": [
        "df_receipt.head(3)"
      ],
      "metadata": {
        "id": "ugB0hMa8myXO"
      },
      "execution_count": null,
      "outputs": []
    },
    {
      "cell_type": "code",
      "source": [
        "# 郵便番号（postal_cd）を２値化する(東京:1, その他:0)\n",
        "df_tmp = df_customer[['customer_id','postal_cd']].copy()\n",
        "df_tmp['postal_flg'] = df_tmp['postal_cd'].apply(lambda x : 1 if 100 <= int(x[0:3]) <=209 else 0)\n",
        "\n",
        "# レシート明細データフレーム（df_receipt）と結合(pd.merge(df1, df2, on='キー', how='inner'))\n",
        "# ユニークな要素の個数(重複のない個数)をcustomer_idごとに算出(pandas.DataFrame.nunique())\n",
        "pd.merge(df_tmp,df_receipt,how='inner',on='customer_id').groupby('postal_flg').agg({'customer_id':'nunique'})"
      ],
      "metadata": {
        "id": "8QsyFSSimySQ"
      },
      "execution_count": null,
      "outputs": []
    },
    {
      "cell_type": "code",
      "source": [
        "# 別解\n",
        "# np.where\n",
        "df_tmp = df_customer[['customer_id','postal_cd']].copy()\n",
        "df_tmp['postal_flg'] = np.where(df_tmp['postal_cd'].str[0:3].astype(int).\n",
        "                               between(100,209),1,0)\n",
        "pd.merge(df_tmp,df_receipt,how='inner',on='customer_id').groupby('postal_flg').agg({'customer_id':'nunique'})"
      ],
      "metadata": {
        "id": "SIhF8TNcmyON"
      },
      "execution_count": null,
      "outputs": []
    },
    {
      "cell_type": "markdown",
      "source": [
        "---\n",
        "> P-054: 顧客データデータフレーム（df_customer）の住所（address）は、埼玉県、千葉県、東京都、神奈川県のいずれかとなっている。都道府県毎にコード値を作成し、顧客ID、住所とともに抽出せよ。値は埼玉県を11、千葉県を12、東京都を13、神奈川県を14とすること。結果は10件表示させれば良い。"
      ],
      "metadata": {
        "id": "s5h5p-nBtUNx"
      }
    },
    {
      "cell_type": "code",
      "source": [
        "df_customer.head(2)"
      ],
      "metadata": {
        "id": "xTnkxHmcmyKB"
      },
      "execution_count": null,
      "outputs": []
    },
    {
      "cell_type": "code",
      "source": [
        "# 住所（address）の都道府県部分を抽出し、それぞれ値をつける\n",
        "# map()の引数に辞書dict（{key: value}）を指定すると、keyと一致する要素がvalueに置き換えられる。\n",
        "pd.concat([df_customer[['customer_id','address']],\n",
        "          df_customer['address'].str[0:3].map({'埼玉県':'11',\n",
        "                                               '千葉県':'12',\n",
        "                                               '東京都':'13',\n",
        "                                               '神奈川':'14'})],axis=1).head(10)"
      ],
      "metadata": {
        "id": "puKkf_GKmyGN"
      },
      "execution_count": null,
      "outputs": []
    },
    {
      "cell_type": "markdown",
      "source": [
        "---\n",
        "> P-055: レシート明細データフレーム（df_receipt）の売上金額（amount）を顧客ID（customer_id）ごとに合計し、その合計金額の四分位点を求めよ。その上で、顧客ごとの売上金額合計に対して以下の基準でカテゴリ値を作成し、顧客ID、売上金額と合計ともに表示せよ。カテゴリ値は上から順に1〜4とする。結果は10件表示させれば良い。\n",
        ">\n",
        "> - 最小値以上第一四分位未満\n",
        "> - 第一四分位以上第二四分位未満\n",
        "> - 第二四分位以上第三四分位未満\n",
        "> - 第三四分位以上"
      ],
      "metadata": {
        "id": "E8k8krR1tZ1A"
      }
    },
    {
      "cell_type": "code",
      "source": [
        "#コード例1\n",
        "# 顧客ID（customer_id）ごとにグループ分け(groupby)し、売上金額（amount）を合計する(sum)\n",
        "df_sales_amount = df_receipt[['customer_id','amount']].groupby('customer_id').sum().reset_index()\n",
        "# 売上金額（amount）ごとに四分位点を求める。(25パーセンタイル: 25pct, 50パーセンタイル: 50pct, 75パーセンタイル: 75pct)\n",
        "pct25 = np.quantile(df_sales_amount['amount'],0.25)\n",
        "pct50 = np.quantile(df_sales_amount['amount'],0.50)\n",
        "pct75 = np.quantile(df_sales_amount['amount'],0.75)\n",
        "\n",
        "# カテゴリ値の関数を作成し、適用する\n",
        "def pct_group(x):\n",
        "    if x < pct25:\n",
        "        return 1\n",
        "    elif pct25 <= x < pct50:\n",
        "        return 2\n",
        "    elif pct50 <= x < pct75:\n",
        "        return 3\n",
        "    elif pct75 <= x:\n",
        "        return 4\n",
        "# applyを用いてpct_groupを各行に適用する\n",
        "df_sales_amount['pct_group'] = df_sales_amount['amount'].apply(lambda x: pct_group(x))\n",
        "df_sales_amount.head(10)\n",
        "    "
      ],
      "metadata": {
        "id": "1zC3UeZ8myDu"
      },
      "execution_count": null,
      "outputs": []
    },
    {
      "cell_type": "code",
      "source": [
        "# 確認用\n",
        "print('pct25:',pct25)\n",
        "print('pct50:',pct50)\n",
        "print('pct75:',pct75)"
      ],
      "metadata": {
        "id": "3J6FJNlDmx-S"
      },
      "execution_count": null,
      "outputs": []
    },
    {
      "cell_type": "code",
      "source": [
        "#mayukiアレンジ\n",
        "df_sales_amount = df_receipt[['customer_id','amount']].groupby('customer_id').sum().reset_index()\n",
        "q1 = df_sales_amount['amount'].describe()['25%']\n",
        "q2 = df_sales_amount['amount'].describe()['50%']\n",
        "q3 = df_sales_amount['amount'].describe()['75%']\n",
        "print('pct25:',q1)\n",
        "print('pct50:',q2)\n",
        "print('pct75:',q3)"
      ],
      "metadata": {
        "id": "1ayGncd7mx6d"
      },
      "execution_count": null,
      "outputs": []
    },
    {
      "cell_type": "code",
      "source": [
        "#コード例2\n",
        "df_tmp = df_receipt.groupby('customer_id')[['amount']].sum()\n",
        "df_tmp['quentile'] ,bins= pd.qcut(df_receipt.groupby('customer_id')['amount'].sum(),4,retbins=True)\n",
        "display(df_tmp.head(10))\n",
        "print('quantiles:',bins)"
      ],
      "metadata": {
        "id": "KJ2g7Aokmx2j"
      },
      "execution_count": null,
      "outputs": []
    },
    {
      "cell_type": "markdown",
      "source": [
        "---\n",
        "> P-056: 顧客データフレーム（df_customer）の年齢（age）をもとに10歳刻みで年代を算出し、顧客ID（customer_id）、生年月日（birth_day）とともに抽出せよ。ただし、60歳以上は全て60歳代とすること。年代を表すカテゴリ名は任意とする。先頭10件を表示させればよい。"
      ],
      "metadata": {
        "id": "smaCh7A_tkYt"
      }
    },
    {
      "cell_type": "code",
      "source": [
        "# コード例1\n",
        "# 年齢（age）を10歳刻みで年代を算出\n",
        "# math.floorで切り捨て。min(, 60)で６０以上が出力されない。\n",
        "df_customer_era = pd.concat([df_customer[['customer_id','birth_day']],\n",
        "                            df_customer['age'].apply(lambda x : min(math.floor(x / 10)*10,60))],axis=1)\n",
        "df_customer_era.head(10)"
      ],
      "metadata": {
        "id": "rn1gXiKMmxyW"
      },
      "execution_count": null,
      "outputs": []
    },
    {
      "cell_type": "code",
      "source": [
        "# コード例2\n",
        "df_customer['age_group'] = pd.cut(df_customer['age'],bins=[1,10,20,30,40,50,60,np.inf],right=False)\n",
        "df_customer[['customer_id','birth_day','age_group']].head(10)"
      ],
      "metadata": {
        "id": "UG8iLncUmxvF"
      },
      "execution_count": null,
      "outputs": []
    },
    {
      "cell_type": "code",
      "source": [
        "# (別解)\n",
        "# 年齢（age）を(10代未満、１０代、２０代、３０代、４０代、５０代、６０代以上)で分ける。(flg_age)\n",
        "def age_group(x):\n",
        "    if x < 10:\n",
        "        return '10代未満'\n",
        "    elif 10 <= x < 20:\n",
        "        return '10代'\n",
        "    elif 20 <= x < 30:\n",
        "        return '20代'\n",
        "    elif 30 <= x < 40:\n",
        "        return '30代'\n",
        "    elif 40 <= x < 50:\n",
        "        return '40代'\n",
        "    elif 50 <= x < 60:\n",
        "        return '50代'\n",
        "    elif 60 <= x:\n",
        "        return '60代以上'\n",
        "    \n",
        "df_customer['flg_age'] = df_customer['age'].apply(lambda x : age_group(int(x)))\n",
        "# 顧客ID（customer_id）、生年月日（birth_day）とともに抽出\n",
        "df_customer[['customer_id','birth_day','flg_age']].head(10)\n",
        "   "
      ],
      "metadata": {
        "id": "LicRHMFrmxrS"
      },
      "execution_count": null,
      "outputs": []
    },
    {
      "cell_type": "markdown",
      "source": [
        "\n",
        "> P-057: 前問題の抽出結果と性別（gender）を組み合わせ、新たに性別×年代の組み合わせを表すカテゴリデータを作成せよ。組み合わせを表すカテゴリの値は任意とする。先頭10件を表示させればよい。"
      ],
      "metadata": {
        "id": "aEP4j8cPtvRa"
      }
    },
    {
      "cell_type": "code",
      "source": [
        "# カテゴリーデータ(性別x年代)'gender_era'を作成する\n",
        "# int型なのでastype(str)で変換する\n",
        "df_customer_era['era_gender'] = df_customer['gender_cd'].astype('str') + df_customer_era['age'].astype('str')\n",
        "df_customer_era.head(10)"
      ],
      "metadata": {
        "id": "K-cAO4oHmxn6"
      },
      "execution_count": null,
      "outputs": []
    },
    {
      "cell_type": "markdown",
      "source": [
        "---\n",
        "> P-058: 顧客データフレーム（df_customer）の性別コード（gender_cd）をダミー変数化し、顧客ID（customer_id）とともに抽出せよ。結果は10件表示させれば良い。"
      ],
      "metadata": {
        "id": "6wtUn9spt0XT"
      }
    },
    {
      "cell_type": "code",
      "source": [
        "# 性別コード（gender_cd）をダミー変数化する(get_dummies)\n",
        "# 引数columnsにダミー化したい列の列名をリストで指定\n",
        "pd.get_dummies(df_customer[['customer_id','gender_cd']],columns=['gender_cd']).head(10)"
      ],
      "metadata": {
        "id": "DFSaQlvGmxjK"
      },
      "execution_count": null,
      "outputs": []
    },
    {
      "cell_type": "markdown",
      "source": [
        "---\n",
        "> P-059: レシート明細データフレーム（df_receipt）の売上金額（amount）を顧客ID（customer_id）ごとに合計し、合計した売上金額を平均0、標準偏差1に標準化して顧客ID、売上金額合計とともに表示せよ。標準化に使用する標準偏差は、不偏標準偏差と標本標準偏差のどちらでも良いものとする。ただし、顧客IDが\"Z\"から始まるのものは非会員を表すため、除外して計算すること。結果は10件表示させれば良い。"
      ],
      "metadata": {
        "id": "fhwcqbIVt5mm"
      }
    },
    {
      "cell_type": "code",
      "source": [
        "# skleanのpreprocessing.scaleを利用するため、標本標準偏差で計算されている\n",
        "# 顧客IDが\"Z\"から始まるのものを除外し、顧客ID（customer_id）ごとに売上金額（amount）を合計する\n",
        "df_sales_amount = df_receipt.query('not customer_id.str.startswith(\"Z\")',engine='python')\\\n",
        ".groupby('customer_id').agg({'amount':'sum'}).reset_index()\n",
        "# 売り上げ金額を標準化する\n",
        "df_sales_amount['amount_ss'] = preprocessing.scale(df_sales_amount['amount'])\n",
        "df_sales_amount.head(10)\n",
        "                           "
      ],
      "metadata": {
        "id": "zv5_ctQXmxfV"
      },
      "execution_count": null,
      "outputs": []
    },
    {
      "cell_type": "code",
      "source": [
        "# (別解)\n",
        "# コード例2（fitを行うことで、別のデータでも同じの平均・標準偏差で標準化を行える）\n",
        "df_sales_amount = df_receipt.query('not customer_id.str.startswith(\"Z\")',engine='python').\\\n",
        "groupby('customer_id').agg({'amount':'sum'}).reset_index()\n",
        "scaler=preprocessing.StandardScaler()\n",
        "scaler.fit(df_sales_amount[['amount']])\n",
        "df_sales_amount['amount_ss'] = scaler.transform(df_sales_amount[['amount']])\n",
        "df_sales_amount.head(10)"
      ],
      "metadata": {
        "id": "_SZd6a3bmxa_"
      },
      "execution_count": null,
      "outputs": []
    },
    {
      "cell_type": "markdown",
      "source": [
        "---\n",
        "> P-060: レシート明細データフレーム（df_receipt）の売上金額（amount）を顧客ID（customer_id）ごとに合計し、合計した売上金額を最小値0、最大値1に正規化して顧客ID、売上金額合計とともに表示せよ。ただし、顧客IDが\"Z\"から始まるのものは非会員を表すため、除外して計算すること。結果は10件表示させれば良い。"
      ],
      "metadata": {
        "id": "wtcXZdvCuACQ"
      }
    },
    {
      "cell_type": "code",
      "source": [
        "# skleanのpreprocessing.scaleを利用するため、標本標準偏差で計算されている\n",
        "# 売上金額（amount）を顧客ID（customer_id）ごとに合計\n",
        "df_sales_amount = df_receipt.query('not customer_id.str.startswith(\"Z\")',engine='python')\\\n",
        ".groupby('customer_id').agg({'amount':'sum'}).reset_index()\n",
        "# 売上金額を最小値0、最大値1に正規化(preprocessing.minmax_scale)\n",
        "df_sales_amount['amount_mm'] = preprocessing.minmax_scale(df_sales_amount['amount'])\n",
        "df_sales_amount.head(10)"
      ],
      "metadata": {
        "id": "c6Fe5feUmxXO"
      },
      "execution_count": null,
      "outputs": []
    },
    {
      "cell_type": "code",
      "source": [
        "# (別解)\n",
        "# コード例2（fitを行うことで、別のデータでも同じの平均・標準偏差で標準化を行える）\n",
        "df_sales_amount = df_receipt.query('not customer_id.str.startswith(\"Z\")',engine='python')\\\n",
        ".groupby('customer_id').agg({'amount':'sum'}).reset_index()\n",
        "scaler = preprocessing.MinMaxScaler()\n",
        "scaler.fit(df_sales_amount[['amount']])\n",
        "df_sales_amount['amount_mm'] =scaler.transform(df_sales_amount[['amount']])\n",
        "df_sales_amount.head(10)"
      ],
      "metadata": {
        "id": "Vo2kcJRlmxTm"
      },
      "execution_count": null,
      "outputs": []
    },
    {
      "cell_type": "markdown",
      "source": [
        "---\n",
        "> P-061: レシート明細データフレーム（df_receipt）の売上金額（amount）を顧客ID（customer_id）ごとに合計し、合計した売上金額を常用対数化（底=10）して顧客ID、売上金額合計とともに表示せよ。ただし、顧客IDが\"Z\"から始まるのものは非会員を表すため、除外して計算すること。結果は10件表示させれば良い。"
      ],
      "metadata": {
        "id": "PXZnd0y_uFe2"
      }
    },
    {
      "cell_type": "code",
      "source": [
        "df_sales_amount = df_receipt.query('not customer_id.str.startswith(\"Z\")',engine='python')\\\n",
        ".groupby('customer_id').amount.sum().reset_index()\n",
        "df_sales_amount['amount_log10'] = df_amount_sum['amount'].apply(lambda x : math.log10(x+1))\n",
        "df_sales_amount.head(10)"
      ],
      "metadata": {
        "id": "a8IuCsC9mxQN"
      },
      "execution_count": null,
      "outputs": []
    },
    {
      "cell_type": "code",
      "source": [
        "# 別解\n",
        "# np.log10を用いている\n",
        "df_sales_amount = df_receipt.query('not customer_id.str.startswith(\"Z\")',engine='python')\\\n",
        ".groupby('customer_id').agg({'amount':'sum'}).reset_index()\n",
        "df_sales_amount['amount_log10'] = np.log10(df_sales_amount['amount']+1)\n",
        "df_sales_amount.head(10)"
      ],
      "metadata": {
        "id": "bvm2s1JrmxMU"
      },
      "execution_count": null,
      "outputs": []
    },
    {
      "cell_type": "markdown",
      "source": [
        "---\n",
        "> P-062: レシート明細データフレーム（df_receipt）の売上金額（amount）を顧客ID（customer_id）ごとに合計し、合計した売上金額を自然対数化(底=e）して顧客ID、売上金額合計とともに表示せよ。ただし、顧客IDが\"Z\"から始まるのものは非会員を表すため、除外して計算すること。結果は10件表示させれば良い。"
      ],
      "metadata": {
        "id": "DXym2y_fuL9y"
      }
    },
    {
      "cell_type": "code",
      "source": [
        "df_sales_amount = df_receipt.query('not customer_id.str.startswith(\"Z\")',engine='python')\\\n",
        ".groupby('customer_id').agg({'amount':'sum'}).reset_index()\n",
        "df_sales_amount['amount_log'] = np.log(df_sales_amount['amount']+1) \n",
        "df_sales_amount.head(10)"
      ],
      "metadata": {
        "id": "OE7fKwcGmxIl"
      },
      "execution_count": null,
      "outputs": []
    },
    {
      "cell_type": "code",
      "source": [
        "df_sales_amount = df_receipt.query('not customer_id.str.startswith(\"Z\")',engine='python')\\\n",
        ".groupby('customer_id').amount.sum().reset_index()\n",
        "df_sales_amount['amount_log'] = np.log(df_sales_amount['amount']+1)\n",
        "df_sales_amount.head(10)"
      ],
      "metadata": {
        "id": "PaBHojJOmxFT"
      },
      "execution_count": null,
      "outputs": []
    },
    {
      "cell_type": "markdown",
      "source": [
        "---\n",
        "> P-063: 商品データフレーム（df_product）の単価（unit_price）と原価（unit_cost）から、各商品の利益額を算出せよ。結果は10件表示させれば良い。"
      ],
      "metadata": {
        "id": "rupyalz6uSlF"
      }
    },
    {
      "cell_type": "code",
      "source": [
        "df_product.head(2)"
      ],
      "metadata": {
        "id": "D-jg6iTYmxB0"
      },
      "execution_count": null,
      "outputs": []
    },
    {
      "cell_type": "code",
      "source": [
        "df_tmp = df_product.copy()\n",
        "df_tmp['unit_profit'] = df_tmp['unit_price'] - df_tmp['unit_cost']\n",
        "df_tmp.head(10)"
      ],
      "metadata": {
        "id": "RzW7evaGmw-N"
      },
      "execution_count": null,
      "outputs": []
    },
    {
      "cell_type": "markdown",
      "source": [
        "\n",
        "> P-064: 商品データフレーム（df_product）の単価（unit_price）と原価（unit_cost）から、各商品の利益率の全体平均を算出せよ。\n",
        "ただし、単価と原価にはNULLが存在することに注意せよ。"
      ],
      "metadata": {
        "id": "cBsAJR6cwvt-"
      }
    },
    {
      "cell_type": "code",
      "source": [
        "df_tmp = df_product.copy()\n",
        "df_tmp ['unit_profit_rate'] = (df_tmp['unit_price']-df_tmp['unit_cost']) / df_tmp['unit_price']\n",
        "df_tmp['unit_profit_rate'].mean(skipna=True)"
      ],
      "metadata": {
        "id": "cjBL65nYmw6Y"
      },
      "execution_count": null,
      "outputs": []
    },
    {
      "cell_type": "markdown",
      "source": [
        "---\n",
        "> P-065: 商品データフレーム（df_product）の各商品について、利益率が30%となる新たな単価を求めよ。ただし、1円未満は切り捨てること。そして結果を10件表示させ、利益率がおよそ30％付近であることを確認せよ。ただし、単価（unit_price）と原価（unit_cost）にはNULLが存在することに注意せよ。"
      ],
      "metadata": {
        "id": "tncJau5nw2V_"
      }
    },
    {
      "cell_type": "code",
      "source": [
        "# 商品データフレーム（df_product）をコピーする。\n",
        "df_tmp = df_product.copy()\n",
        "# 原価（unit_cost）から利益率が30%となる新たな単価(new_price)を求める(1円未満は切り捨て)\n",
        "df_tmp['new_price'] = df_tmp['unit_cost'].apply(lambda x :np.floor(x/0.7))\n",
        "# 利益率を確認する\n",
        "df_tmp['new_price_rate'] = (df_tmp['new_price']-df_tmp['unit_cost']) / df_tmp['new_price']\n",
        "df_tmp.head(10)"
      ],
      "metadata": {
        "id": "6hwB_lW_mw1h"
      },
      "execution_count": null,
      "outputs": []
    },
    {
      "cell_type": "code",
      "source": [
        "# (別解)\n",
        "# 商品データフレーム（df_product）をコピーする。\n",
        "df_tmp = df_product.copy()\n",
        "# 原価（unit_cost）から利益率が30%となる新たな単価(new_price)を求める(1円未満は切り捨て)\n",
        "# 原価（unit_cost） x 10/7 (利益率が30%となる)計算式。math.floorはエラー\n",
        "df_tmp['new_price'] = np.floor(df_tmp['unit_cost']*10/7)\n",
        "# 利益率を確認する\n",
        "df_tmp['new_price_rate'] = (df_tmp['new_price']-df_tmp['unit_cost']) / df_tmp['new_price']\n",
        "df_tmp.head(10)"
      ],
      "metadata": {
        "id": "hUfUFcYWmwxk"
      },
      "execution_count": null,
      "outputs": []
    },
    {
      "cell_type": "markdown",
      "source": [
        "---\n",
        "> P-067: 商品データフレーム（df_product）の各商品について、利益率が30%となる新たな単価を求めよ。今回は、1円未満を切り上げること。そして結果を10件表示させ、利益率がおよそ30％付近であることを確認せよ。ただし、単価（unit_price）と原価（unit_cost）にはNULLが存在することに注意せよ。"
      ],
      "metadata": {
        "id": "RCKJbIKCxqVC"
      }
    },
    {
      "cell_type": "code",
      "source": [
        "# 商品データフレーム（df_product）をコピーする。\n",
        "df_tmp = df_product.copy()\n",
        "# 原価（unit_cost）から利益率が30%となる新たな単価(new_price)を求める(1円未満を切り上げ)\n",
        "# math.ceilはNaNでエラーとなるが、numpy.ceilはエラーとならない\n",
        "df_tmp['new_price'] = df_tmp['unit_cost'].apply(lambda x :np.ceil(x/0.7))\n",
        "df_tmp['new_price_rate'] = (df_tmp['new_price']-df_tmp['unit_cost']) / df_tmp['new_price']\n",
        "df_tmp.head(10)\n"
      ],
      "metadata": {
        "id": "bw6Amp2Tmwti"
      },
      "execution_count": null,
      "outputs": []
    },
    {
      "cell_type": "code",
      "source": [
        "# 別解\n",
        "# 商品データフレーム（df_product）をコピーする。\n",
        "df_tmp = df_product.copy()\n",
        "# 原価（unit_cost）から利益率が30%となる新たな単価(new_price)を求める(1円未満を切り上げ)\n",
        "# 原価（unit_cost） x 10/7 (利益率が30%となる)計算式。\n",
        "# math.ceilはNaNでエラーとなるが、numpy.ceilはエラーとならない\n",
        "df_tmp['new_price']  = np.ceil(df_tmp['unit_cost']*10/7)\n",
        "# 利益率を確認する\n",
        "df_tmp['new_price_rate'] =(df_tmp['new_price'] - df_tmp['unit_cost']) / df_tmp['new_price']\n",
        "df_tmp.head(10)\n",
        "                               "
      ],
      "metadata": {
        "id": "U1rxGbUJmwp2"
      },
      "execution_count": null,
      "outputs": []
    },
    {
      "cell_type": "markdown",
      "source": [
        "---\n",
        "> P-068: 商品データフレーム（df_product）の各商品について、消費税率10%の税込み金額を求めよ。 1円未満の端数は切り捨てとし、結果は10件表示すれば良い。ただし、単価（unit_price）にはNULLが存在することに注意せよ。"
      ],
      "metadata": {
        "id": "HIcEW541xzby"
      }
    },
    {
      "cell_type": "code",
      "source": [
        "# 商品データフレーム（df_product）をコピーする。\n",
        "df_tmp = df_product.copy()\n",
        "# math.floorはNaNでエラーとなるが、numpy.floorはエラーとならない\n",
        "df_tmp['price_tax'] = df_tmp['unit_price'].apply(lambda x : np.floor(x*1.1))\n",
        "df_tmp.head(10)"
      ],
      "metadata": {
        "id": "g3vbTqsLmwma"
      },
      "execution_count": null,
      "outputs": []
    },
    {
      "cell_type": "code",
      "source": [
        "# 別解\n",
        "df_tmp = df_product.copy()\n",
        "df_tmp['price_tax'] = np.floor(df_tmp['unit_price']*1.1)\n",
        "df_tmp.head(10)"
      ],
      "metadata": {
        "id": "zECyQgy0mwiu"
      },
      "execution_count": null,
      "outputs": []
    },
    {
      "cell_type": "markdown",
      "source": [
        "---\n",
        "> P-069: レシート明細データフレーム（df_receipt）と商品データフレーム（df_product）を結合し、顧客毎に全商品の売上金額合計と、カテゴリ大区分（category_major_cd）が\"07\"（瓶詰缶詰）の売上金額合計を計算の上、両者の比率を求めよ。抽出対象はカテゴリ大区分\"07\"（瓶詰缶詰）の購入実績がある顧客のみとし、結果は10件表示させればよい。"
      ],
      "metadata": {
        "id": "ZD9TlKZEx4UJ"
      }
    },
    {
      "cell_type": "code",
      "source": [
        "df_receipt.head(3)"
      ],
      "metadata": {
        "id": "cQdxaR8BmwfA"
      },
      "execution_count": null,
      "outputs": []
    },
    {
      "cell_type": "code",
      "source": [
        "df_product.head(3)"
      ],
      "metadata": {
        "id": "7yspCH4imwbW"
      },
      "execution_count": null,
      "outputs": []
    },
    {
      "cell_type": "code",
      "source": [
        "#解１\n",
        "#  agg({カラム: 適用する関数})\n",
        "# レシート明細データフレーム（df_receipt）と商品データフレーム（df_product）を結合(pd.merge, キーはproduct_cd)\n",
        "# 顧客毎に全商品の売上金額合計を算出する\n",
        "df_tmp_1 = pd.merge(df_receipt,df_product,\n",
        "                   how='inner',on='product_cd').groupby('customer_id').agg({'amount':'sum'}).reset_index()\n",
        "\n",
        "# カテゴリ大区分（category_major_cd）が\"07\"（瓶詰缶詰）の売上金額合計\n",
        "# merge(df1, df2, on='キー', how='inner')で結合\n",
        "# groupbyで顧客ごとにグルーピング。amount.sum()で売上金額合計\n",
        "df_tmp_2 =pd.merge(df_receipt,df_product.query('category_major_cd==\"07\"'),\n",
        "                   how='inner',on='product_cd').groupby('customer_id').agg({'amount':'sum'}).reset_index()\n",
        "\n",
        "# df_tmp1とdf_tmp2を結合する。\n",
        "df_tmp_3 =pd.merge(df_tmp_1,df_tmp_2,how='inner',on='customer_id')\n",
        "# df_tmp_3.head(2)\n",
        "df_tmp_3['rate_07'] = df_tmp_3['amount_y'] / df_tmp_3['amount_x']\n",
        "df_tmp_3.head(10)"
      ],
      "metadata": {
        "id": "Q8fjG138mwX5"
      },
      "execution_count": null,
      "outputs": []
    },
    {
      "cell_type": "code",
      "source": [
        "#解２\n",
        "df_temp= df_receipt.merge(df_product,how='left',on='product_cd').\\\n",
        "groupby(['customer_id','category_major_cd'])['amount'].sum().unstack()\n",
        "df_temp = df_temp[df_temp[7]>0]\n",
        "df_temp['sum'] = df_temp.sum(axis=1)\n",
        "df_temp['07_rate'] = df_temp[7] / df_temp['sum']\n",
        "df_temp.head(10)"
      ],
      "metadata": {
        "id": "LWFWC69umwUe"
      },
      "execution_count": null,
      "outputs": []
    },
    {
      "cell_type": "code",
      "source": [
        "#解３\n",
        "# レシート明細データフレーム（df_receipt）と商品データフレーム（df_product）を結合(pd.merge, キーはproduct_cd)\n",
        "# 顧客毎に全商品の売上金額合計を算出する\n",
        "df_tmp_1 = pd.merge(df_receipt,df_product,how='inner',on='product_cd').groupby('customer_id').amount.sum().reset_index()\n",
        "# カテゴリ大区分（category_major_cd）が\"07\"（瓶詰缶詰）の売上金額合計\n",
        "# merge(df1, df2, on='キー', how='inner')で結合\n",
        "# groupbyで顧客ごとにグルーピング。amount.sum()で売上金額合計\n",
        "df_tmp_2 = pd.merge(df_receipt,df_product.query('category_major_cd==\"07\"')\\\n",
        "                    ,how='inner',on='product_cd').groupby('customer_id').amount.sum().reset_index()\n",
        "# df_tmp_2.head() \n",
        "# df_tmp1とdf_tmp2を結合する。\n",
        "df_tmp_3 = pd.merge(df_tmp_1,df_tmp_2,how='inner',on='customer_id')\n",
        "\n",
        "# df_tmp_3.head() amound_xとamound_y生成\n",
        "\n",
        "df_tmp_3['rate_07'] = df_tmp_3['amount_y'] / df_tmp_3['amount_x']\n",
        "df_tmp_3.head(10)\n",
        "                    "
      ],
      "metadata": {
        "id": "HNiwFw1ymwQv"
      },
      "execution_count": null,
      "outputs": []
    },
    {
      "cell_type": "markdown",
      "source": [
        "---\n",
        "> P-070: レシート明細データフレーム（df_receipt）の売上日（sales_ymd）に対し、顧客データフレーム（df_customer）の会員申込日（application_date）からの経過日数を計算し、顧客ID（customer_id）、売上日、会員申込日とともに表示せよ。結果は10件表示させれば良い（なお、sales_ymdは数値、application_dateは文字列でデータを保持している点に注意）。"
      ],
      "metadata": {
        "id": "BtvQX7foyCXd"
      }
    },
    {
      "cell_type": "code",
      "source": [
        "# レシート明細データフレーム（df_receipt）と顧客データフレーム（df_customer）を結合する\n",
        "df_tmp = pd.merge(df_receipt[['sales_ymd','customer_id']],df_customer[['application_date','customer_id']],\\\n",
        "                 how='inner',on='customer_id')\n",
        "# 重複部分を削除する\n",
        "df_tmp = df_tmp.drop_duplicates()\n",
        "# pandas.to_datetime()関数を使うと、日時（日付・時間）を表した文字列の列pandas.Seriesをdatetime64[ns]型に変換できる。\n",
        "# sales_ymdは数値型のためastype('str')で文字列型へ変更\n",
        "df_tmp['sales_ymd'] = pd.to_datetime(df_tmp['sales_ymd'].astype('str'))\n",
        "df_tmp['application_date'] = pd.to_datetime(df_tmp['application_date'])\n",
        "# 会員申込日（application_date）からの売上日（sales_ymd）を引く\n",
        "df_tmp['elapsed_date'] = df_tmp['sales_ymd']-df_tmp['application_date']\n",
        "df_tmp.head(10)"
      ],
      "metadata": {
        "id": "TlVRvyDYmwNR"
      },
      "execution_count": null,
      "outputs": []
    },
    {
      "cell_type": "code",
      "source": [
        "#別解\n",
        "df_tmp = pd.merge(df_receipt[['sales_ymd','customer_id']],df_customer[['application_date','customer_id']],\\\n",
        "                  how='inner',on='customer_id')\n",
        "df_tmp = df_tmp.drop_duplicates()\n",
        "df_tmp['elapsed_date'] = pd.to_datetime(df_tmp['sales_ymd'].astype('str'))-pd.to_datetime(df_tmp['application_date'])\n",
        "df_tmp[['customer_id','sales_ymd','application_date','elapsed_date']].head(10)"
      ],
      "metadata": {
        "id": "GupzgdBjmwJr"
      },
      "execution_count": null,
      "outputs": []
    },
    {
      "cell_type": "code",
      "source": [
        "# relativedeltaの使い方 d0（指定日）からd1（本日）までの年月日の差を求める\n",
        "d0 = date(1998,5,12)\n",
        "d1 = date.today()\n",
        "dy = relativedelta(d1,d0)\n",
        "dy"
      ],
      "metadata": {
        "id": "gGEP201ymwGI"
      },
      "execution_count": null,
      "outputs": []
    },
    {
      "cell_type": "markdown",
      "source": [
        "---\n",
        "> P-071: レシート明細データフレーム（df_receipt）の売上日（sales_ymd）に対し、顧客データフレーム（df_customer）の会員申込日（application_date）からの経過月数を計算し、顧客ID（customer_id）、売上日、会員申込日とともに表示せよ。結果は10件表示させれば良い（なお、sales_ymdは数値、application_dateは文字列でデータを保持している点に注意）。1ヶ月未満は切り捨てること。"
      ],
      "metadata": {
        "id": "WEfqwfYNyPsM"
      }
    },
    {
      "cell_type": "code",
      "source": [
        "# pd.mergeでレシート明細データフレーム（df_receipt）と顧客データフレーム（df_customer）を結合(キーはcustomer_id)\n",
        "df_tmp = pd.merge(df_receipt[['customer_id','sales_ymd']],df_customer[['customer_id','application_date']],\\\n",
        "                  how='inner',on='customer_id')\n",
        "# 重複を削除する(drop_duplicates())\n",
        "df_tmp = df_tmp.drop_duplicates()\n",
        "# pandas.to_datetime()関数を使うと、日時（日付・時間）を表した文字列の列pandas.Seriesをdatetime64[ns]型に変換できる。\n",
        "df_tmp['sales_ymd'] = pd.to_datetime(df_tmp['sales_ymd'].astype('str'))\n",
        "df_tmp['application_date'] = pd.to_datetime(df_tmp['application_date'])\n",
        "# 月数を計算するrelativedelta(datetime1, datetime2) datetime1 - datetime2\n",
        "df_tmp['elepsed_date'] = df_tmp[['sales_ymd','application_date']].apply(lambda x :\\\n",
        "                                                                       relativedelta(x[0],x[1]).years * 12 +relativedelta(x[0],x[1]).months,axis=1)\n",
        "\n",
        "# 顧客ID（customer_id）でソートし、１０件表示する\n",
        "df_tmp.sort_values('customer_id').head(10)"
      ],
      "metadata": {
        "id": "Q4xO2uETmwCW"
      },
      "execution_count": null,
      "outputs": []
    },
    {
      "cell_type": "markdown",
      "source": [
        "---\n",
        "> P-072: レシート明細データフレーム（df_receipt）の売上日（sales_ymd）に対し、顧客データフレーム（df_customer）の会員申込日（application_date）からの経過年数を計算し、顧客ID（customer_id）、売上日、会員申込日とともに表示せよ。結果は10件表示させれば良い。（なお、sales_ymdは数値、application_dateは文字列でデータを保持している点に注意）。1年未満は切り捨てること。"
      ],
      "metadata": {
        "id": "issix5ZeyUry"
      }
    },
    {
      "cell_type": "code",
      "source": [
        "# pd.mergeでレシート明細データフレーム（df_receipt）と顧客データフレーム（df_customer）を結合(キーはcustomer_id)\n",
        "df_tmp = pd.merge(df_receipt[['customer_id','sales_ymd']],df_customer[['customer_id','application_date']],\\\n",
        "                 how='inner',on='customer_id')\n",
        "# 重複を削除する(drop_duplicates())\n",
        "df_tmp = df_tmp.drop_duplicates()\n",
        "# pandas.to_datetime()関数を使うと、日時（日付・時間）を表した文字列の列pandas.Seriesをdatetime64[ns]型に変換できる。\n",
        "df_tmp['sales_ymd'] = pd.to_datetime(df_tmp['sales_ymd'].astype('str'))\n",
        "df_tmp['application_date'] = pd.to_datetime(df_tmp['application_date'])\n",
        "# 経過年数を計算する。relativedelta(datetime1, datetime2).yearsで年数差(axis=1で行に沿った処理)\n",
        "df_tmp['elapsed_date'] = df_tmp[['sales_ymd','application_date']].apply(lambda x:\\\n",
        "                                                                     relativedelta(x[0],x[1]).years,axis=1)\n",
        "df_tmp.head(10)"
      ],
      "metadata": {
        "id": "VNqTLU0Gmv_L"
      },
      "execution_count": null,
      "outputs": []
    },
    {
      "cell_type": "markdown",
      "source": [
        "---\n",
        "> P-073: レシート明細データフレーム（df_receipt）の売上日（sales_ymd）に対し、顧客データフレーム（df_customer）の会員申込日（application_date）からのエポック秒による経過時間を計算し、顧客ID（customer_id）、売上日、会員申込日とともに表示せよ。結果は10件表示させれば良い（なお、sales_ymdは数値、application_dateは文字列でデータを保持している点に注意）。なお、時間情報は保有していないため各日付は0時0分0秒を表すものとする。"
      ],
      "metadata": {
        "id": "qqQHttCpyZGH"
      }
    },
    {
      "cell_type": "code",
      "source": [
        "# pd.mergeでレシート明細データフレーム（df_receipt）と顧客データフレーム（df_customer）を結合(キーはcustomer_id)\n",
        "df_tmp = pd.merge(df_receipt[['customer_id','sales_ymd']],df_customer[['customer_id','application_date']],\\\n",
        "                 how='inner',on='customer_id')\n",
        "# 重複を削除する(drop_duplicates())\n",
        "df_tmp = df_tmp.drop_duplicates()\n",
        "\n",
        "# pandas.to_datetime()関数を使うと、日時（日付・時間）を表した文字列の列pandas.Seriesをdatetime64[ns]型に変換できる。\n",
        "df_tmp['sales_ymd'] = pd.to_datetime(df_tmp['sales_ymd'].astype('str'))\n",
        "df_tmp['application_date'] = pd.to_datetime(df_tmp['application_date'])\n",
        "\n",
        "# エポック秒による経過時間を計算(timestamp()メソッドでdatetimeオブジェクトをUNIX時間に変換)\n",
        "# 注：タイムスタンプは、ナノ秒を含むunix時間（10 ** 9で除算）\n",
        "df_tmp['elapsed_date'] = (df_tmp['sales_ymd'].astype(np.int64) / 10**9)-\\\n",
        "(df_tmp['application_date'].astype(np.int64) / 10**9)\n",
        "\n",
        "# 1０件表示する\n",
        "df_tmp.head(10)"
      ],
      "metadata": {
        "id": "NsbSsvrNmv7C"
      },
      "execution_count": null,
      "outputs": []
    },
    {
      "cell_type": "code",
      "source": [
        "# なぜ１０の９乗で除算するのか？\n",
        "nano_time = pd.to_datetime('1970-01-02')\n",
        "nano_time.value\n",
        "#エポック時間は1970-01-01からの経過時間なので24時間x60分x60秒=86400秒\n",
        "#unix時間がナノ秒（10の９乗）であることがわかる"
      ],
      "metadata": {
        "id": "V60AshJzmv3M"
      },
      "execution_count": null,
      "outputs": []
    },
    {
      "cell_type": "markdown",
      "source": [
        "---\n",
        "> P-074: レシート明細データフレーム（df_receipt）の売上日（sales_ymd）に対し、当該週の月曜日からの経過日数を計算し、売上日、当該週の月曜日付とともに表示せよ。結果は10件表示させれば良い（なお、sales_ymdは数値でデータを保持している点に注意）。"
      ],
      "metadata": {
        "id": "DGiL8BhSyfR2"
      }
    },
    {
      "cell_type": "code",
      "source": [
        "# レシート明細データフレーム（df_receipt）の顧客データ(customer_id),売上日（sales_ymd）\n",
        "df_tmp = df_receipt[['customer_id','sales_ymd']]\n",
        "# 重複を削除する\n",
        "df_tmp = df_tmp.drop_duplicates()\n",
        "df_tmp['sales_ymd'] = pd.to_datetime(df_tmp['sales_ymd'].astype('str'))\n",
        "# 月曜のデータを追加する。(relativedelta(days=x.weekday())月曜：０, 火曜：１・・・)\n",
        "df_tmp['monday'] = df_tmp['sales_ymd'].apply(lambda x : x - relativedelta(days = x.weekday()))\n",
        "# 売上日（sales_ymd）から月曜日を引いて経過日数を求める\n",
        "df_tmp['elapsed_weekday'] = df_tmp['sales_ymd'] - df_tmp['monday']\n",
        "df_tmp.head(10)"
      ],
      "metadata": {
        "id": "WyRm6W-Xmvz8"
      },
      "execution_count": null,
      "outputs": []
    },
    {
      "cell_type": "markdown",
      "source": [
        "---\n",
        "> P-075: 顧客データフレーム（df_customer）からランダムに1%のデータを抽出し、先頭から10件データを抽出せよ。"
      ],
      "metadata": {
        "id": "E5N6BKJayj1F"
      }
    },
    {
      "cell_type": "code",
      "source": [
        "# 顧客データフレーム（df_customer）より抽出する(sample)\n",
        "# ランダムに1%のデータは引数frac=0.01\n",
        "df_customer.sample(frac=0.01).head(10)"
      ],
      "metadata": {
        "id": "heMmqhD0mvwC"
      },
      "execution_count": null,
      "outputs": []
    },
    {
      "cell_type": "markdown",
      "source": [
        "---\n",
        "> P-076: 顧客データフレーム（df_customer）から性別（gender_cd）の割合に基づきランダムに10%のデータを層化抽出データし、性別ごとに件数を集計せよ。"
      ],
      "metadata": {
        "id": "9WLcea3byogr"
      }
    },
    {
      "cell_type": "code",
      "source": [
        "# sklearn.model_selection.train_test_splitを使用した例\n",
        "# _(訓練データ９０％)、df_tmp(テストデータ10%)とすることでランダムに１０％を抽出する(層化抽出: 引数stratify)\n",
        "_, df_tmp = train_test_split(df_customer,test_size=0.1,stratify=df_customer['gender_cd'])\n",
        "# 性別（gender_cd）でグループ分けし、customer_idの件数(count)を集計\n",
        "df_tmp.groupby('gender_cd').agg({'customer_id' : 'count'})"
      ],
      "metadata": {
        "id": "nx-h6BvDmvsZ"
      },
      "execution_count": null,
      "outputs": []
    },
    {
      "cell_type": "code",
      "source": [
        "# (別解)\n",
        "# sampleメソッドを用いてランダムに抽出(frac=0.1で１０％データを抽出)\n",
        "# 性別（gender_cd）でグループ分けし、customer_idの件数(count)を集計\n",
        "df_customer.sample(frac=0.1).groupby('gender_cd').agg({'customer_id' : 'count'})"
      ],
      "metadata": {
        "id": "TInDzBXMmvou"
      },
      "execution_count": null,
      "outputs": []
    },
    {
      "cell_type": "code",
      "source": [
        "df_tmp.head(10)"
      ],
      "metadata": {
        "id": "EY3-kp8-mvlE"
      },
      "execution_count": null,
      "outputs": []
    },
    {
      "cell_type": "markdown",
      "source": [
        "---\n",
        "> P-077: レシート明細データフレーム（df_receipt）の売上金額（amount）を顧客単位に合計し、合計した売上金額の外れ値を抽出せよ。ただし、顧客IDが\"Z\"から始まるのものは非会員を表すため、除外して計算すること。なお、ここでは外れ値を平均から3σ以上離れたものとする。結果は10件表示させれば良い。"
      ],
      "metadata": {
        "id": "z9hKBXvny7Yt"
      }
    },
    {
      "cell_type": "code",
      "source": [
        "# 顧客IDが\"Z\"から始まるものを除外する\n",
        "# レシート明細データフレーム（df_receipt）の売上金額（amount）を顧客単位に合計する\n",
        "df_sales_amount = df_receipt.query('not customer_id.str.startswith(\"Z\")',engine='python').\\\n",
        "groupby('customer_id').amount.sum().reset_index()\n",
        "# 正規化・標準化(平均０、標準偏差１)：preprocessing.scale()関数を使う。\n",
        "df_sales_amount ['amount_ss'] = preprocessing.scale(df_sales_amount['amount'])\n",
        "# 外れ値を抽出する(平均(mean)の ± 3σ(std)以上離れたものを抽出する)\n",
        "# queryメソッドで条件に合うものを抽出。3σ以上離れたは、絶対値(abs)を用いる\n",
        "df_sales_amount.query('abs(amount_ss)>=3').head(10)"
      ],
      "metadata": {
        "id": "8Bvs58wrmvhu"
      },
      "execution_count": null,
      "outputs": []
    },
    {
      "cell_type": "code",
      "source": [
        "# (別解)\n",
        "# 顧客IDが\"Z\"から始まるものを除外する\n",
        "# レシート明細データフレーム（df_receipt）の売上金額（amount）を顧客単位に合計する\n",
        "df_sales_amount = df_receipt.query(\"not customer_id.str.startswith('Z')\", \n",
        "                                   engine='python').groupby('customer_id').amount.sum().reset_index()\n",
        "\n",
        "# 各顧客の売り上げ合計の平均、標準偏差を求める\n",
        "mean = df_sales_amount.describe().loc['mean']\n",
        "std = df_sales_amount.describe().loc['std']\n",
        "\n",
        "# 外れ値を抽出する(平均(mean)の ± 3σ(std)以上離れたものを抽出する)\n",
        "df_sales_amount[(df_sales_amount['amount'] >= int(mean) + 3*int(std)) | \\\n",
        "                (df_sales_amount['amount'] <= int(mean) - 3*int(std))].head(10)"
      ],
      "metadata": {
        "id": "pHAh0i5PmveG"
      },
      "execution_count": null,
      "outputs": []
    },
    {
      "cell_type": "markdown",
      "source": [
        "---\n",
        "> P-078: レシート明細データフレーム（df_receipt）の売上金額（amount）を顧客単位に合計し、合計した売上金額の外れ値を抽出せよ。ただし、顧客IDが\"Z\"から始まるのものは非会員を表すため、除外して計算すること。なお、ここでは外れ値を第一四分位と第三四分位の差であるIQRを用いて、「第一四分位数-1.5×IQR」よりも下回るもの、または「第三四分位数+1.5×IQR」を超えるものとする。結果は10件表示させれば良い。"
      ],
      "metadata": {
        "id": "yJrMEQWTzCA3"
      }
    },
    {
      "cell_type": "code",
      "source": [
        "#np.ercentileを用いた回答\n",
        "# 顧客IDが\"Z\"から始まるものを除外する\n",
        "# レシート明細データフレーム（df_receipt）の売上金額（amount）を顧客単位に合計する\n",
        "df_sales_amount = df_receipt.query('not customer_id.str.startswith(\"Z\")',engine='python').groupby('customer_id').agg({'amount':'sum'}).reset_index()\n",
        "# 第一四分位と第三四分位の差であるIQRを求める\n",
        "pct75 = np.percentile(df_sales_amount['amount'],q=75)\n",
        "pct25 = np.percentile(df_sales_amount['amount'],q=25)\n",
        "iqr = pct75 - pct25\n",
        "# 第一四分位数-1.5×IQR(amount_low), 第三四分位数+1.5×IQR(amount_hight)をそれぞれ求める\n",
        "amount_low = pct25 - (iqr *1.5)\n",
        "amount_hight = pct75 + (iqr * 1.5)\n",
        "# 外れ値を抽出する(@で変数名)\n",
        "df_sales_amount.query('amount < @amount_low or @amount_hight <amount').head(10)"
      ],
      "metadata": {
        "id": "LlSbITWLmvaa"
      },
      "execution_count": null,
      "outputs": []
    },
    {
      "cell_type": "code",
      "source": [
        "# 顧客IDが\"Z\"から始まるものを除外する\n",
        "# レシート明細データフレーム（df_receipt）の売上金額（amount）を顧客単位に合計する\n",
        "df_sales_amount = df_receipt.query('not customer_id.str.startswith(\"Z\")',\\\n",
        "                                  engine='python').groupby('customer_id').amount.sum().reset_index()\n",
        "# 第一四分位と第三四分位の差であるIQRを求める\n",
        "pct75 = df_sales_amount['amount'].quantile(0.75)\n",
        "pct25 = df_sales_amount['amount'].quantile(0.25)\n",
        "iqr = pct75-pct25\n",
        "# 第一四分位数-1.5×IQR(amount_low), 第三四分位数+1.5×IQR(amount_hight)をそれぞれ求める\n",
        "amount_low = pct25 - (iqr * 1.5)\n",
        "amount_hight = pct75 + (iqr * 1.5)\n",
        "# 外れ値を抽出する(@で変数名)\n",
        "df_sales_amount.query('amount > @amount_hight | amount<@amount_low').head(10)"
      ],
      "metadata": {
        "id": "Lp2Z4YEtmvWy"
      },
      "execution_count": null,
      "outputs": []
    },
    {
      "cell_type": "markdown",
      "source": [
        "---\n",
        "> P-079: 商品データフレーム（df_product）の各項目に対し、欠損数を確認せよ。"
      ],
      "metadata": {
        "id": "iiiZ8WwNzIda"
      }
    },
    {
      "cell_type": "code",
      "source": [
        "# isnull()で要素ごとに欠損値か判定\n",
        "df_product.isnull().sum()"
      ],
      "metadata": {
        "id": "O_5V2R_kmvTy"
      },
      "execution_count": null,
      "outputs": []
    },
    {
      "cell_type": "markdown",
      "source": [
        "---\n",
        "> P-080: 商品データフレーム（df_product）のいずれかの項目に欠損が発生しているレコードを全て削除した新たなdf_product_1を作成せよ。なお、削除前後の件数を表示させ、前設問で確認した件数だけ減少していることも確認すること。"
      ],
      "metadata": {
        "id": "HmWZrl0EzL8f"
      }
    },
    {
      "cell_type": "code",
      "source": [
        "# 商品データフレーム（df_product）をコピーする\n",
        "df_product_1 = df_product.copy()\n",
        "# 欠損値削除前の件数を確認する\n",
        "print('削除前:',len(df_product_1))\n",
        "# 欠損値を除外（削除）するにはdropna()メソッド\n",
        "df_product_1.dropna(inplace=True)\n",
        "print('削除後:',len(df_product_1))\n"
      ],
      "metadata": {
        "id": "oYZXHPTWmvQB"
      },
      "execution_count": null,
      "outputs": []
    },
    {
      "cell_type": "markdown",
      "source": [
        "---\n",
        "> P-081: 単価（unit_price）と原価（unit_cost）の欠損値について、それぞれの平均値で補完した新たなdf_product_2を作成せよ。なお、平均値について1円未満は四捨五入とし、0.5については偶数寄せでかまわない。補完実施後、各項目について欠損が生じていないことも確認すること。"
      ],
      "metadata": {
        "id": "H8NvsCILzPsi"
      }
    },
    {
      "cell_type": "code",
      "source": [
        "# fillnaで欠損値を補完する。\n",
        "# np.roundで偶数よせの四捨五入。np.nanmeanで欠損値の値を除いた平均値\n",
        "df_product_2 = df_product.fillna({'unit_price':np.round(np.nanmean(df_product['unit_price'])), \n",
        "                                  'unit_cost':np.round(np.nanmean(df_product['unit_cost']))})\n",
        "\n",
        "# isnull().sum()で欠損を確認する\n",
        "df_product_2.isnull().sum()"
      ],
      "metadata": {
        "id": "I9OzblejmvMH"
      },
      "execution_count": null,
      "outputs": []
    },
    {
      "cell_type": "markdown",
      "source": [
        "---\n",
        "> P-082: 単価（unit_price）と原価（unit_cost）の欠損値について、それぞれの中央値で補完した新たなdf_product_3を作成せよ。なお、中央値について1円未満は四捨五入とし、0.5については偶数寄せでかまわない。補完実施後、各項目について欠損が生じていないことも確認すること。"
      ],
      "metadata": {
        "id": "DwLUZHFuzTt9"
      }
    },
    {
      "cell_type": "code",
      "source": [
        "# 欠損値はfillnaを用いる\n",
        "# np.roundで偶数よせの四捨五入。中央値np.nanmedianで補完する\n",
        "df_product_3 = df_product.fillna({'unit_price':np.round(np.nanmedian(df_product['unit_price'])),\\\n",
        "                                 'unit_cost':np.round(np.nanmedian(df_product['unit_cost']))})\n",
        "# isnull().sum()で欠損を確認する\n",
        "df_product_3.isnull().sum()\n",
        "                                 "
      ],
      "metadata": {
        "id": "zWVedCcmmvIp"
      },
      "execution_count": null,
      "outputs": []
    },
    {
      "cell_type": "markdown",
      "source": [
        "---\n",
        "> P-083: 単価（unit_price）と原価（unit_cost）の欠損値について、各商品の小区分（category_small_cd）ごとに算出した中央値で補完した新たなdf_product_4を作成せよ。なお、中央値について1円未満は四捨五入とし、0.5については偶数寄せでかまわない。補完実施後、各項目について欠損が生じていないことも確認すること。"
      ],
      "metadata": {
        "id": "3M5t7NX2zX_R"
      }
    },
    {
      "cell_type": "code",
      "source": [
        "# 解1\n",
        "# 各商品の小区分（category_small_cd）ごとに中央値を出す\n",
        "df_tmp = df_product.groupby('category_small_cd').agg({'unit_price':'median', 'unit_cost':'median'}).reset_index()\n",
        "# カラム名を変更する\n",
        "df_tmp.columns = ['category_small_cd', 'median_price', 'median_cost']\n",
        "\n",
        "# 商品データフレーム（df_product）と中央値が入ったデータフレーム(df_tmp)を結合する\n",
        "df_product_4 = pd.merge(df_product, df_tmp, how='inner', on='category_small_cd')\n",
        "\n",
        "# 単価（unit_price）の欠損値に中央値を補完する(axis=1で各行に適用)\n",
        "df_product_4['unit_price'] = df_product_4[['unit_price', 'median_price']]. \\\n",
        "                    apply(lambda x: np.round(x[1]) if np.isnan(x[0]) else x[0], axis=1)\n",
        "# 原価（unit_cost）の欠損値に中央値を補完する(axis=1で各行に適用)\n",
        "df_product_4['unit_cost'] = df_product_4[['unit_cost', 'median_cost']]. \\\n",
        "                    apply(lambda x: np.round(x[1]) if np.isnan(x[0]) else x[0], axis=1)\n",
        "\n",
        "# isnull().sum()で欠損を確認する\n",
        "df_product_4.isnull().sum()"
      ],
      "metadata": {
        "id": "qy5TP81DmvFC"
      },
      "execution_count": null,
      "outputs": []
    },
    {
      "cell_type": "code",
      "source": [
        "# (解法2) 否v＞0.25なのでエラー\n",
        "# 各商品の小区分（category_small_cd）ごとに中央値を出す\n",
        "df_tmp = df_product.groupby('category_small_cd').agg(median_price=('unit_price', 'median'), \n",
        "                                                     median_cost=('unit_cost', 'median')).reset_index()\n",
        "# 商品データフレーム（df_product）と中央値が入ったデータフレーム(df_tmp)を結合する\n",
        "df_product_4 = pd.merge(df_product, df_tmp, how='inner', on='category_small_cd')\n",
        "# maskを用いて欠損値(Nan)の部分はマスク（見えないように)して、中央値を代入する\n",
        "# mask(隠す条件, 埋める値)、roundで四捨五入\n",
        "df_product_4['unit_price'] = (df_product_4['unit_price'].mask(df_product_4['unit_price'].isnull(),\n",
        "                                                             df_product_4['median_price'].round()))\n",
        "df_product_4['unit_cost'] = (df_product_4['unit_cost'].mask(df_product_4['unit_cost'].isnull(),\n",
        "                                                             df_product_4['median_price'].round()))\n",
        "\n",
        "# isnull().sum()で欠損を確認する\n",
        "df_product_4.isnull().sum()"
      ],
      "metadata": {
        "id": "DkwnC9J2mvBs"
      },
      "execution_count": null,
      "outputs": []
    },
    {
      "cell_type": "code",
      "source": [
        "#  解３\n",
        "# 商品データフレーム（df_product）をコピーする\n",
        "\n",
        "df_product_4 = df_product.copy()\n",
        "# 単価（unit_price）と原価（unit_cost）それぞれの処理を行う\n",
        "# fillnaを用いて欠損値を補完する。\n",
        "# 各商品の小区分（category_small_cd）ごとに中央値を出す。transformを用いる。\n",
        "for x in ['unit_price', 'unit_cost']:\n",
        "    df_product_4[x] = df_product_4[x].fillna(df_product_4.groupby('category_small_cd')[x].transform('median').round())\n",
        "df_product_4.isnull().sum()\n"
      ],
      "metadata": {
        "id": "sGwm0dRGmu-A"
      },
      "execution_count": null,
      "outputs": []
    },
    {
      "cell_type": "markdown",
      "source": [
        "---\n",
        "> P-084: 顧客データフレーム（df_customer）の全顧客に対し、全期間の売上金額に占める2019年売上金額の割合を計算せよ。ただし、販売実績のない場合は0として扱うこと。そして計算した割合が0超のものを抽出せよ。 結果は10件表示させれば良い。また、作成したデータにNAやNANが存在しないことを確認せよ。"
      ],
      "metadata": {
        "id": "EeOJNZSRzgMz"
      }
    },
    {
      "cell_type": "code",
      "source": [
        "# 解１\n",
        "df_tmp_1 = df_receipt.query('20190101 <= sales_ymd <= 20191231')\n",
        "df_tmp_1 = pd.merge(df_customer['customer_id'],df_tmp_1[['customer_id','amount']],how='left',on='customer_id').\\\n",
        "groupby('customer_id').sum().reset_index().rename(columns={'amount':'amount_2019'})\n",
        "\n",
        "df_tmp_2 = pd.merge(df_customer['customer_id'],df_receipt[['customer_id','amount']],how='left',on='customer_id').\\\n",
        "groupby('customer_id').sum().reset_index()\n",
        "\n",
        "df_tmp = pd.merge(df_tmp_1,df_tmp_2,how='inner',on='customer_id')\n",
        "df_tmp['amount_2019'] = df_tmp['amount_2019'].fillna(0)\n",
        "df_tmp['amount'] = df_tmp['amount'].fillna(0)\n",
        "\n",
        "df_tmp['amount_rate'] = df_tmp['amount_2019'] / df_tmp['amount']\n",
        "df_tmp['amount_rate'] = df_tmp['amount_rate'].fillna(0)\n",
        "\n",
        "df_tmp.query('amount_rate > 0').head(10)"
      ],
      "metadata": {
        "id": "5YoCcEhomu6w"
      },
      "execution_count": null,
      "outputs": []
    },
    {
      "cell_type": "code",
      "source": [
        "# 解２\n",
        "df_tmp_1 = df_receipt.query('20190101 <= sales_ymd <= 20191231')\n",
        "df_tmp_1 = pd.merge(df_customer['customer_id'],df_tmp_1[['customer_id','amount']],how='left',on='customer_id').\\\n",
        "groupby('customer_id').sum().reset_index().rename(columns={'amount':'amount_2019'})\n",
        "\n",
        "df_tmp_2 = pd.merge(df_customer['customer_id'],df_receipt[['customer_id','amount']],how='left',on='customer_id').\\\n",
        "groupby('customer_id').sum().reset_index()\n",
        "\n",
        "df_tmp = pd.merge(df_tmp_1,df_tmp_2,how='inner',on='customer_id')\n",
        "df_tmp['amount_rate'] = df_tmp['amount_2019'] / df_tmp['amount']"
      ],
      "metadata": {
        "id": "n0yK4o-3mu3N"
      },
      "execution_count": null,
      "outputs": []
    },
    {
      "cell_type": "code",
      "source": [
        "df_tmp.query('amount_rate > 0').head(10)"
      ],
      "metadata": {
        "id": "NJZBF5Bzmuzf"
      },
      "execution_count": null,
      "outputs": []
    },
    {
      "cell_type": "markdown",
      "source": [
        "---\n",
        "> P-085: 顧客データフレーム（df_customer）の全顧客に対し、郵便番号（postal_cd）を用いて経度緯度変換用データフレーム（df_geocode）を紐付け、新たなdf_customer_1を作成せよ。ただし、複数紐づく場合は経度（longitude）、緯度（latitude）それぞれ平均を算出すること。\n"
      ],
      "metadata": {
        "id": "O-IPj-1Kzmxh"
      }
    },
    {
      "cell_type": "code",
      "source": [
        "df_geocode.head(5)"
      ],
      "metadata": {
        "id": "dkvTVR7gmuv5"
      },
      "execution_count": null,
      "outputs": []
    },
    {
      "cell_type": "code",
      "source": [
        "df_geocode.duplicated().sum()"
      ],
      "metadata": {
        "id": "2IJPV6lumusR"
      },
      "execution_count": null,
      "outputs": []
    },
    {
      "cell_type": "code",
      "source": [
        "df_customer.head(3)"
      ],
      "metadata": {
        "id": "pC9rQhofmuo7"
      },
      "execution_count": null,
      "outputs": []
    },
    {
      "cell_type": "code",
      "source": [
        "df_customer_1 = pd.merge(df_customer[['customer_id','postal_cd']],\\\n",
        "                       df_geocode[['postal_cd','longitude','latitude']],\\\n",
        "                         how='inner',on='postal_cd')\n",
        "df_customer_1 = df_customer_1.groupby('customer_id').\\\n",
        "agg({'longitude':'mean','latitude':'mean'}).reset_index().\\\n",
        "rename(columns={'longitude':'m_longitude','latitude':'m_latitude'})\n",
        "\n",
        "df_customer_1 = pd.merge(df_customer,df_customer_1,how='inner',on='customer_id')\n",
        "df_customer_1.head(3)"
      ],
      "metadata": {
        "id": "gIJxvAPsmulQ"
      },
      "execution_count": null,
      "outputs": []
    },
    {
      "cell_type": "markdown",
      "source": [
        "---\n",
        "> P-086: 前設問で作成した緯度経度つき顧客データフレーム（df_customer_1）に対し、申込み店舗コード（application_store_cd）をキーに店舗データフレーム（df_store）と結合せよ。そして申込み店舗の緯度（latitude）・経度情報（longitude)と顧客の緯度・経度を用いて距離（km）を求め、顧客ID（customer_id）、顧客住所（address）、店舗住所（address）とともに表示せよ。計算式は簡易式で良いものとするが、その他精度の高い方式を利用したライブラリを利用してもかまわない。結果は10件表示すれば良い。"
      ],
      "metadata": {
        "id": "kaI_4WOtz6hR"
      }
    },
    {
      "cell_type": "markdown",
      "source": [
        "$$\n",
        "緯度（ラジアン）：\\phi \\\\\n",
        "経度（ラジアン）：\\lambda \\\\\n",
        "距離L = 6371 * arccos(sin \\phi_1 * sin \\phi_2\n",
        "+ cos \\phi_1 * cos \\phi_2 * cos(\\lambda_1 − \\lambda_2))\n",
        "$$"
      ],
      "metadata": {
        "id": "OwRTignVz-a9"
      }
    },
    {
      "cell_type": "code",
      "source": [
        "#  mathを使ったパターン\n",
        "def calc_distance(x1,y1,x2,y2):\n",
        "    distance = 6371 * math.acos(math.sin(math.radians(y1))*math.sin(math.radians(y2))\\\n",
        "    +math.cos(math.radians(y1))*math.cos(math.radians(y2))\\\n",
        "    *math.cos(math.radians(x1)-math.radians(x2)))\n",
        "    return distance\n",
        "\n",
        "df_tmp = pd.merge(df_customer_1,df_store,how='inner',left_on='application_store_cd',right_on='store_cd')\n",
        "df_tmp['distance'] = df_tmp[['m_longitude','m_latitude','longitude','latitude']].\\\n",
        "apply(lambda x : calc_distance(x[0],x[1],x[2],x[3]),axis=1)\n",
        "df_tmp[['customer_id','address_x','address_y','distance']].head(10)"
      ],
      "metadata": {
        "id": "nQNgndWBmuhp"
      },
      "execution_count": null,
      "outputs": []
    },
    {
      "cell_type": "markdown",
      "source": [
        "$$\n",
        "緯度（ラジアン）：\\phi \\\\\n",
        "経度（ラジアン）：\\lambda \\\\\n",
        "距離L = 6371 * arccos(sin \\phi_1 * sin \\phi_2\n",
        "+ cos \\phi_1 * cos \\phi_2 * cos(\\lambda_1 − \\lambda_2))\n",
        "$$"
      ],
      "metadata": {
        "id": "hmhdTh3Q0F0U"
      }
    },
    {
      "cell_type": "code",
      "source": [
        "# 別解　計算式の関数を作成\n",
        "def calc_distance(x1,y1,x2,y2):\n",
        "    x1_r = np.radians(x1)\n",
        "    y1_r = np.radians(y1)\n",
        "    x2_r = np.radians(x2)\n",
        "    y2_r = np.radians(y2)\n",
        "    return 6371 * np.arccos(np.sin(y1_r)*np.sin(y2_r) \\\n",
        "                            + np.cos(y1_r)*np.cos(y2_r)\\\n",
        "                            *np.cos(x1_r - x2_r))\n",
        "df_tmp = pd.merge(df_customer_1,df_store,how='inner',left_on=['application_store_cd'],right_on=['store_cd'])\n",
        "df_tmp['distance']  = calc_distance(df_tmp['m_longitude'],df_tmp['m_latitude'],\\\n",
        "                                          df_tmp['longitude'],df_tmp['latitude'])\n",
        "df_tmp[['customer_id','address_x','address_y','distance']].head(10)\n",
        "    "
      ],
      "metadata": {
        "id": "6TFDQSQGmueS"
      },
      "execution_count": null,
      "outputs": []
    },
    {
      "cell_type": "markdown",
      "source": [
        "---\n",
        "> P-087:  顧客データフレーム（df_customer）では、異なる店舗での申込みなどにより同一顧客が複数登録されている。名前（customer_name）と郵便番号（postal_cd）が同じ顧客は同一顧客とみなし、1顧客1レコードとなるように名寄せした名寄顧客データフレーム（df_customer_u）を作成せよ。ただし、同一顧客に対しては売上金額合計が最も高いものを残すものとし、売上金額合計が同一もしくは売上実績の無い顧客については顧客ID（customer_id）の番号が小さいものを残すこととする。"
      ],
      "metadata": {
        "id": "fGCGOJNh0KT_"
      }
    },
    {
      "cell_type": "code",
      "source": [
        "df_receipt.head(3)"
      ],
      "metadata": {
        "id": "WxjFLkm-mubJ"
      },
      "execution_count": null,
      "outputs": []
    },
    {
      "cell_type": "code",
      "source": [
        "df_tmp = df_receipt.groupby('customer_id').agg({'amount':sum}).reset_index()\n",
        "df_customer_u = pd.merge(df_customer,df_tmp,how='left',on='customer_id').\\\n",
        "sort_values(['amount','customer_id'],ascending=[False,True])\n",
        "df_customer_u.drop_duplicates(subset=['customer_name','postal_cd'],keep='first',inplace=True)\n",
        "print('現少数：',len(df_customer) - len(df_customer_u))"
      ],
      "metadata": {
        "id": "dujsHcf8muXX"
      },
      "execution_count": null,
      "outputs": []
    },
    {
      "cell_type": "code",
      "source": [
        "df_customer_u.head(3)"
      ],
      "metadata": {
        "id": "BFlTmSZsmuUD"
      },
      "execution_count": null,
      "outputs": []
    },
    {
      "cell_type": "markdown",
      "source": [
        "---\n",
        "> P-088: 前設問で作成したデータを元に、顧客データフレームに統合名寄IDを付与したデータフレーム（df_customer_n）を作成せよ。ただし、統合名寄IDは以下の仕様で付与するものとする。\n",
        ">\n",
        "> - 重複していない顧客：顧客ID（customer_id）を設定\n",
        "> - 重複している顧客：前設問で抽出したレコードの顧客IDを設定"
      ],
      "metadata": {
        "id": "8YN6OAQp0R6r"
      }
    },
    {
      "cell_type": "code",
      "source": [
        "df_customer_n = pd.merge(df_customer,df_customer_u[['customer_id','customer_name','postal_cd']],\\\n",
        "                        how='inner',on=['customer_name','postal_cd'])\n",
        "# df_customer_n.head(3)\n",
        "df_customer_n.rename(columns={'customer_id_x':'customer_id','customer_id_y':'integration_id'},inplace=True)\n",
        "# df_customer_n.head(3)\n",
        "\n",
        "print('ID数の差',len(df_customer_n['customer_id'].unique()) - len(df_customer_n['integration_id'].unique()))"
      ],
      "metadata": {
        "id": "juy_cy0mmuQ2"
      },
      "execution_count": null,
      "outputs": []
    },
    {
      "cell_type": "markdown",
      "source": [
        "---\n",
        "> P-閑話: df_customer_1, df_customer_nは使わないので削除する。"
      ],
      "metadata": {
        "id": "cmYxim7o0Zq5"
      }
    },
    {
      "cell_type": "code",
      "source": [
        "del df_customer_1\n",
        "del df_customer_n"
      ],
      "metadata": {
        "id": "qYMwPCcgmuNj"
      },
      "execution_count": null,
      "outputs": []
    },
    {
      "cell_type": "markdown",
      "source": [
        "---\n",
        "> P-089: 売上実績のある顧客に対し、予測モデル構築のため学習用データとテスト用データに分割したい。それぞれ8:2の割合でランダムにデータを分割せよ。"
      ],
      "metadata": {
        "id": "fnZkvcYv0d5S"
      }
    },
    {
      "cell_type": "code",
      "source": [
        "df_tmp = pd.merge(df_customer,df_receipt['customer_id'],how='inner',on='customer_id')\n",
        "df_train,df_test = train_test_split(df_tmp,test_size=0.2,random_state=71)\n",
        "print('学習データ割合：',len(df_train) / len(df_tmp))\n",
        "print('テストデータ割合：',len(df_test) / len(df_tmp))"
      ],
      "metadata": {
        "id": "OJYL66pbmuJ5"
      },
      "execution_count": null,
      "outputs": []
    },
    {
      "cell_type": "markdown",
      "source": [
        "---\n",
        "> P-090: レシート明細データフレーム（df_receipt）は2017年1月1日〜2019年10月31日までのデータを有している。売上金額（amount）を月次で集計し、学習用に12ヶ月、テスト用に6ヶ月のモデル構築用データを3セット作成せよ。"
      ],
      "metadata": {
        "id": "y8LNtZQ50jFN"
      }
    },
    {
      "cell_type": "code",
      "source": [
        "# レシート明細データフレーム（df_receipt）をコピーする\n",
        "df_tmp = df_receipt.copy()\n",
        "# sales_ymdをint64からstr型へ変更し、スライスを用いて年月を取り出す\n",
        "df_tmp['sales_ymd'] = df_tmp['sales_ymd'].astype('str').str[:6]\n",
        "\n",
        "# sales_ymd(年月)でグループ分けして、売上金額（amount）を合計する\n",
        "df_tmp = df_tmp.groupby('sales_ymd').agg({'amount':'sum'}).reset_index()\n",
        "\n",
        "# 学習データとテストデータに分ける関数\n",
        "def split_date(df,train_size,test_size,slide_window,start_point):\n",
        "    train_start = start_point  * slide_window\n",
        "    test_start = train_start + train_size\n",
        "    return df[train_start : test_start] , df[test_start : test_start + test_size]\n",
        "\n",
        "# モデル構築用データを3セット作成\n",
        "df_train_1,df_test_1 = split_date(df_tmp , train_size = 12 , test_size = 6 , slide_window = 6 , start_point = 0)\n",
        "df_train_2,df_test_2 = split_date(df_tmp , train_size = 12 , test_size = 6 , slide_window = 6 , start_point = 1)\n",
        "df_train_3,df_test_3 = split_date(df_tmp , train_size = 12 , test_size = 6 , slide_window = 6 , start_point = 2)\n",
        "            "
      ],
      "metadata": {
        "id": "Os9FZoXdmuGW"
      },
      "execution_count": null,
      "outputs": []
    },
    {
      "cell_type": "code",
      "source": [
        "df_train_1"
      ],
      "metadata": {
        "id": "YP9FRkXgmuC3"
      },
      "execution_count": null,
      "outputs": []
    },
    {
      "cell_type": "code",
      "source": [
        "df_test_1"
      ],
      "metadata": {
        "id": "yaMB9vYnmt_p"
      },
      "execution_count": null,
      "outputs": []
    },
    {
      "cell_type": "code",
      "source": [
        "'''(補足: 問題を理解する)\n",
        "学習用は１２ヶ月データでテスト用は６ヶ月データとするモデルは３つ\n",
        "\n",
        "モデル \t学習データ \t学習データ範囲 \tテストデータ \tテストデータ範囲\n",
        "モデル1 \tdf_train_1 \t2017/01月〜2017/12月 \tdf_train_1 \t2017/01月〜2017/12月\n",
        "モデル2 \tdf_train_2 \t2017/06月〜2018/06月 \tdf_train_2 \t2018/06月〜2018/12月\n",
        "モデル3 \tdf_train_3 \t2018/01月〜2018/12月 \tdf_train_3 \t2019/01月〜2019/06月\n",
        "'''"
      ],
      "metadata": {
        "id": "aSN-DQ4ymt7y"
      },
      "execution_count": null,
      "outputs": []
    },
    {
      "cell_type": "markdown",
      "source": [
        "---\n",
        "> P-091: 顧客データフレーム（df_customer）の各顧客に対し、売上実績のある顧客数と売上実績のない顧客数が1:1となるようにアンダーサンプリングで抽出せよ。"
      ],
      "metadata": {
        "id": "uIaiC9At0shy"
      }
    },
    {
      "cell_type": "code",
      "source": [
        "# レシート明細データフレーム（df_receipt）を顧客ごとにグループ分けし、売り上げを合計する\n",
        "df_tmp = df_receipt.groupby('customer_id').agg({'amount':'sum'}).reset_index()\n",
        "# 顧客データフレーム（df_customer）とレシート明細データフレーム（df_receipt）を結合(左結合)\n",
        "df_tmp = pd.merge(df_customer,df_tmp,how='left',on='customer_id')\n",
        "# 売り上げ実績(amount)がある場合は１、ない場合は０を入れる\n",
        "df_tmp['buy_flg'] = df_tmp['amount'] . apply(lambda x : 0 if np.isnan(x) else 1)\n",
        "\n",
        "# 売上実績のある顧客数と売上実績のない顧客数の件数を出力する\n",
        "print('０の件数' , len(df_tmp.query('buy_flg==0')))\n",
        "print('１の件数 ' ,len(df_tmp.query('buy_flg==1')))\n",
        "\n",
        "positive_count = len(df_tmp.query('buy_flg == 1'))\n",
        "\n",
        "# RandomUnderSampler でアンダーサンプリングする\n",
        "rs = RandomUnderSampler(random_state = 71)\n",
        "df_sample, _ = rs.fit_sample(df_tmp , df_tmp.buy_flg)\n",
        "\n",
        "# 売上実績のある顧客数と売上実績のない顧客数の件数を出力する\n",
        "print('０の件数', len(df_sample.query('buy_flg == 0')))\n",
        "print('１の件数', len(df_sample.query('buy_flg == 1')))"
      ],
      "metadata": {
        "id": "JfxXx_aEmt4f"
      },
      "execution_count": null,
      "outputs": []
    },
    {
      "cell_type": "markdown",
      "source": [
        "---\n",
        "> P-092: 顧客データフレーム（df_customer）では、性別に関する情報が非正規化の状態で保持されている。これを第三正規化せよ。"
      ],
      "metadata": {
        "id": "i0fNc8Lw0w43"
      }
    },
    {
      "cell_type": "code",
      "source": [
        "# 顧客データフレーム（df_customer）のgender_cdの重複を取り除く\n",
        "df_gender = df_customer[['gender_cd','gender']].drop_duplicates()\n",
        "\n",
        "# 性別のデータフレーム(df_gender)を作成したので顧客データフレームからgenderカラムを削除する\n",
        "df_customer_s = df_customer.drop(columns='gender')"
      ],
      "metadata": {
        "id": "d3TYSaTZmt1b"
      },
      "execution_count": null,
      "outputs": []
    },
    {
      "cell_type": "code",
      "source": [
        "df_customer_s.head(3)"
      ],
      "metadata": {
        "id": "RbyavtEumtxt"
      },
      "execution_count": null,
      "outputs": []
    },
    {
      "cell_type": "markdown",
      "source": [
        "---\n",
        "> P-093: 商品データフレーム（df_product）では各カテゴリのコード値だけを保有し、カテゴリ名は保有していない。カテゴリデータフレーム（df_category）と組み合わせて非正規化し、カテゴリ名を保有した新たな商品データフレームを作成せよ。"
      ],
      "metadata": {
        "id": "pLFT9RoM02RS"
      }
    },
    {
      "cell_type": "code",
      "source": [
        "df_product.head(1)"
      ],
      "metadata": {
        "id": "oFYdf965mtuR"
      },
      "execution_count": null,
      "outputs": []
    },
    {
      "cell_type": "code",
      "source": [
        "df_category.head(3)"
      ],
      "metadata": {
        "id": "UQj9Qt3RmtrZ"
      },
      "execution_count": null,
      "outputs": []
    },
    {
      "cell_type": "code",
      "source": [
        "df_product_full = pd.merge(df_product,df_category[['category_small_cd','category_major_name',\\\n",
        "                                                  'category_medium_name','category_small_name']],\\\n",
        "                                                  how='inner',on='category_small_cd')\n",
        "df_product_full.head()\n",
        "#キーを\"category_small_cd\"としているのは、\"category_major_cd\"や\"category_medium_cd\"ではカテゴリーとなっており、細かく分類できないからである。"
      ],
      "metadata": {
        "id": "CJefMSIgmtoM"
      },
      "execution_count": null,
      "outputs": []
    },
    {
      "cell_type": "markdown",
      "source": [
        "---\n",
        "> P-094: 先に作成したカテゴリ名付き商品データを以下の仕様でファイル出力せよ。なお、出力先のパスはdata配下とする。\n",
        ">\n",
        "> - ファイル形式はCSV（カンマ区切り）\n",
        "> - ヘッダ有り\n",
        "> - 文字コードはUTF-8"
      ],
      "metadata": {
        "id": "amnf9vSr09CE"
      }
    },
    {
      "cell_type": "code",
      "source": [
        "# to_csv(ファイル形式はCSV)を用いて出力する\n",
        "df_product_full.to_csv('./data/P_df_product_full_UTF-8_header.csv',\n",
        "                      encoding = 'utf_8_sig',\n",
        "                      index = False)"
      ],
      "metadata": {
        "id": "4kRC9Dehmtkr"
      },
      "execution_count": null,
      "outputs": []
    },
    {
      "cell_type": "markdown",
      "source": [
        "---\n",
        "> P-095: 先に作成したカテゴリ名付き商品データを以下の仕様でファイル出力せよ。なお、出力先のパスはdata配下とする。\n",
        ">\n",
        "> - ファイル形式はCSV（カンマ区切り）\n",
        "> - ヘッダ有り\n",
        "> - 文字コードはCP932"
      ],
      "metadata": {
        "id": "Te1gYxGF1Cna"
      }
    },
    {
      "cell_type": "code",
      "source": [
        "#CP932とは？\n",
        "Microsoft コードページ 932（CP932）は、マイクロソフト及び、MS-DOSのOEMベンダがShift_JISを独自に拡張した文字コードである。\n",
        "df_product_full.to_csv('./data/P_df_product_full_CP932_header.csv',encoding='CP932',index=False)"
      ],
      "metadata": {
        "id": "O6-KrNh6mtg4"
      },
      "execution_count": null,
      "outputs": []
    },
    {
      "cell_type": "markdown",
      "source": [
        "---\n",
        "> P-096: 先に作成したカテゴリ名付き商品データを以下の仕様でファイル出力せよ。なお、出力先のパスはdata配下とする。\n",
        ">\n",
        "> - ファイル形式はCSV（カンマ区切り）\n",
        "> - ヘッダ無し\n",
        "> - 文字コードはUTF-8"
      ],
      "metadata": {
        "id": "Gs9QOfVp1IWL"
      }
    },
    {
      "cell_type": "code",
      "source": [
        "df_product_full.to_csv('./data/p_df_product_full_UTF-8_noh.csv',header='False',encoding='UTF-8',index=False)"
      ],
      "metadata": {
        "id": "6CxGvPAgmtdf"
      },
      "execution_count": null,
      "outputs": []
    },
    {
      "cell_type": "markdown",
      "source": [
        "---\n",
        "> P-097: 先に作成した以下形式のファイルを読み込み、データフレームを作成せよ。また、先頭10件を表示させ、正しくとりまれていることを確認せよ。\n",
        ">\n",
        "> - ファイル形式はCSV（カンマ区切り）\n",
        "> - ヘッダ有り\n",
        "> - 文字コードはUTF-8"
      ],
      "metadata": {
        "id": "MQ3LALx31Llw"
      }
    },
    {
      "cell_type": "code",
      "source": [
        "df_tmp = pd.read_csv('./data/P_df_product_full_UTF-8_header.csv')\n",
        "df_tmp.head(10)"
      ],
      "metadata": {
        "id": "9KcEBLRvmtbU"
      },
      "execution_count": null,
      "outputs": []
    },
    {
      "cell_type": "markdown",
      "source": [
        "---\n",
        "> P-098: 先に作成した以下形式のファイルを読み込み、データフレームを作成せよ。また、先頭10件を表示させ、正しくとりまれていることを確認せよ。\n",
        ">\n",
        "> - ファイル形式はCSV（カンマ区切り）\n",
        "> - ヘッダ無し\n",
        "> - 文字コードはUTF-8"
      ],
      "metadata": {
        "id": "EsVJcCd01PGL"
      }
    },
    {
      "cell_type": "code",
      "source": [
        "df_tmp = pd.read_csv('./data/P_df_product_full_UTF-8_noh.csv',header=None)\n",
        "df_tmp.head(10)"
      ],
      "metadata": {
        "id": "li3ZZNXe1Tda"
      },
      "execution_count": null,
      "outputs": []
    },
    {
      "cell_type": "markdown",
      "source": [
        "---\n",
        "> P-099: 先に作成したカテゴリ名付き商品データを以下の仕様でファイル出力せよ。なお、出力先のパスはdata配下とする。\n",
        ">\n",
        "> - ファイル形式はTSV（タブ区切り）\n",
        "> - ヘッダ有り\n",
        "> - 文字コードはUTF-8"
      ],
      "metadata": {
        "id": "kmfWgZsH1WOp"
      }
    },
    {
      "cell_type": "code",
      "source": [
        "df_product_full.to_csv('./data/P_df_product_full_UTF-8_header.tsv',sep='\\t',encoding='UTF-8',index=False)\n"
      ],
      "metadata": {
        "id": "d8bEiUad1TZF"
      },
      "execution_count": null,
      "outputs": []
    },
    {
      "cell_type": "markdown",
      "source": [
        "---\n",
        "> P-100: 先に作成した以下形式のファイルを読み込み、データフレームを作成せよ。また、先頭10件を表示させ、正しくとりまれていることを確認せよ。\n",
        ">\n",
        "> - ファイル形式はTSV（タブ区切り）\n",
        "> - ヘッダ有り\n",
        "> - 文字コードはUTF-8"
      ],
      "metadata": {
        "id": "XVjsQxiJ1acU"
      }
    },
    {
      "cell_type": "code",
      "source": [
        "df_tmp = pd.read_table('./data/P_df_product_full_UTF-8_header.tsv',encoding='UTF-8')\n",
        "df_tmp.head(10)"
      ],
      "metadata": {
        "id": "ua7m8oAs1ff-"
      },
      "execution_count": null,
      "outputs": []
    },
    {
      "cell_type": "markdown",
      "source": [
        "## 終了"
      ],
      "metadata": {
        "id": "GVpkyjX_mn4L"
      }
    },
    {
      "cell_type": "code",
      "source": [
        ""
      ],
      "metadata": {
        "id": "TJL9QR2r1nqe"
      },
      "execution_count": null,
      "outputs": []
    }
  ]
}