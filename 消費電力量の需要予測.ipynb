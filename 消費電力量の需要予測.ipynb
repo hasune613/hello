{
  "nbformat": 4,
  "nbformat_minor": 0,
  "metadata": {
    "colab": {
      "name": "消費電力量の需要予測.ipynb",
      "provenance": [],
      "mount_file_id": "1GoRqkbTpmXnd1oDR6dz7ZxU_0a7hTzgS",
      "authorship_tag": "ABX9TyNDD/M3sbaXxFXLf4sm5he2",
      "include_colab_link": true
    },
    "kernelspec": {
      "name": "python3",
      "display_name": "Python 3"
    },
    "language_info": {
      "name": "python"
    }
  },
  "cells": [
    {
      "cell_type": "markdown",
      "metadata": {
        "id": "view-in-github",
        "colab_type": "text"
      },
      "source": [
        "<a href=\"https://colab.research.google.com/github/hasune613/hello-world/blob/main/%E6%B6%88%E8%B2%BB%E9%9B%BB%E5%8A%9B%E9%87%8F%E3%81%AE%E9%9C%80%E8%A6%81%E4%BA%88%E6%B8%AC.ipynb\" target=\"_parent\"><img src=\"https://colab.research.google.com/assets/colab-badge.svg\" alt=\"Open In Colab\"/></a>"
      ]
    },
    {
      "cell_type": "code",
      "metadata": {
        "id": "ozQkUruGHqka"
      },
      "source": [
        "!pip install -q pystan\n",
        "!pip install -q fbprophet"
      ],
      "execution_count": null,
      "outputs": []
    },
    {
      "cell_type": "code",
      "metadata": {
        "id": "dX3JsOO2IA9r"
      },
      "source": [
        "import pandas as pd\n",
        "from fbprophet import Prophet"
      ],
      "execution_count": null,
      "outputs": []
    },
    {
      "cell_type": "code",
      "metadata": {
        "id": "_fv_63C7IT_d"
      },
      "source": [
        "_df = pd.read_csv('https://www.tepco.co.jp/forecast/html/images/juyo-2017.csv',encoding='shift-jis',skiprows=1)"
      ],
      "execution_count": null,
      "outputs": []
    },
    {
      "cell_type": "code",
      "metadata": {
        "colab": {
          "base_uri": "https://localhost:8080/",
          "height": 206
        },
        "id": "FNL42ZBXLseR",
        "outputId": "c18be26f-2ff3-48ea-ec79-883875acdd42"
      },
      "source": [
        "_df.tail()"
      ],
      "execution_count": null,
      "outputs": [
        {
          "output_type": "execute_result",
          "data": {
            "text/html": [
              "<div>\n",
              "<style scoped>\n",
              "    .dataframe tbody tr th:only-of-type {\n",
              "        vertical-align: middle;\n",
              "    }\n",
              "\n",
              "    .dataframe tbody tr th {\n",
              "        vertical-align: top;\n",
              "    }\n",
              "\n",
              "    .dataframe thead th {\n",
              "        text-align: right;\n",
              "    }\n",
              "</style>\n",
              "<table border=\"1\" class=\"dataframe\">\n",
              "  <thead>\n",
              "    <tr style=\"text-align: right;\">\n",
              "      <th></th>\n",
              "      <th>DATE</th>\n",
              "      <th>TIME</th>\n",
              "      <th>実績(万kW)</th>\n",
              "    </tr>\n",
              "  </thead>\n",
              "  <tbody>\n",
              "    <tr>\n",
              "      <th>8755</th>\n",
              "      <td>2017/12/31</td>\n",
              "      <td>19:00</td>\n",
              "      <td>3527</td>\n",
              "    </tr>\n",
              "    <tr>\n",
              "      <th>8756</th>\n",
              "      <td>2017/12/31</td>\n",
              "      <td>20:00</td>\n",
              "      <td>3443</td>\n",
              "    </tr>\n",
              "    <tr>\n",
              "      <th>8757</th>\n",
              "      <td>2017/12/31</td>\n",
              "      <td>21:00</td>\n",
              "      <td>3335</td>\n",
              "    </tr>\n",
              "    <tr>\n",
              "      <th>8758</th>\n",
              "      <td>2017/12/31</td>\n",
              "      <td>22:00</td>\n",
              "      <td>3200</td>\n",
              "    </tr>\n",
              "    <tr>\n",
              "      <th>8759</th>\n",
              "      <td>2017/12/31</td>\n",
              "      <td>23:00</td>\n",
              "      <td>3141</td>\n",
              "    </tr>\n",
              "  </tbody>\n",
              "</table>\n",
              "</div>"
            ],
            "text/plain": [
              "            DATE   TIME  実績(万kW)\n",
              "8755  2017/12/31  19:00     3527\n",
              "8756  2017/12/31  20:00     3443\n",
              "8757  2017/12/31  21:00     3335\n",
              "8758  2017/12/31  22:00     3200\n",
              "8759  2017/12/31  23:00     3141"
            ]
          },
          "metadata": {
            "tags": []
          },
          "execution_count": 64
        }
      ]
    },
    {
      "cell_type": "code",
      "metadata": {
        "id": "g37yUI4sMeM9"
      },
      "source": [
        "years = [2017, 2018, 2019]\n",
        "# year = years[2]\n",
        "df = pd.DataFrame()\n",
        "for year in years:\n",
        "    _df = pd.read_csv(f'https://www.tepco.co.jp/forecast/html/images/juyo-{year}.csv',encoding='shift-jis',skiprows=1)\n",
        "    df = pd.concat([df,_df],axis=0)"
      ],
      "execution_count": null,
      "outputs": []
    },
    {
      "cell_type": "code",
      "metadata": {
        "colab": {
          "base_uri": "https://localhost:8080/",
          "height": 206
        },
        "id": "J4wUOEr9gDB4",
        "outputId": "7f97da7a-df0c-41b1-ae3f-fc1a6ea2a6db"
      },
      "source": [
        "df.head()"
      ],
      "execution_count": null,
      "outputs": [
        {
          "output_type": "execute_result",
          "data": {
            "text/html": [
              "<div>\n",
              "<style scoped>\n",
              "    .dataframe tbody tr th:only-of-type {\n",
              "        vertical-align: middle;\n",
              "    }\n",
              "\n",
              "    .dataframe tbody tr th {\n",
              "        vertical-align: top;\n",
              "    }\n",
              "\n",
              "    .dataframe thead th {\n",
              "        text-align: right;\n",
              "    }\n",
              "</style>\n",
              "<table border=\"1\" class=\"dataframe\">\n",
              "  <thead>\n",
              "    <tr style=\"text-align: right;\">\n",
              "      <th></th>\n",
              "      <th>DATE</th>\n",
              "      <th>TIME</th>\n",
              "      <th>実績(万kW)</th>\n",
              "    </tr>\n",
              "  </thead>\n",
              "  <tbody>\n",
              "    <tr>\n",
              "      <th>0</th>\n",
              "      <td>2017/1/1</td>\n",
              "      <td>0:00</td>\n",
              "      <td>2783</td>\n",
              "    </tr>\n",
              "    <tr>\n",
              "      <th>1</th>\n",
              "      <td>2017/1/1</td>\n",
              "      <td>1:00</td>\n",
              "      <td>2634</td>\n",
              "    </tr>\n",
              "    <tr>\n",
              "      <th>2</th>\n",
              "      <td>2017/1/1</td>\n",
              "      <td>2:00</td>\n",
              "      <td>2520</td>\n",
              "    </tr>\n",
              "    <tr>\n",
              "      <th>3</th>\n",
              "      <td>2017/1/1</td>\n",
              "      <td>3:00</td>\n",
              "      <td>2438</td>\n",
              "    </tr>\n",
              "    <tr>\n",
              "      <th>4</th>\n",
              "      <td>2017/1/1</td>\n",
              "      <td>4:00</td>\n",
              "      <td>2389</td>\n",
              "    </tr>\n",
              "  </tbody>\n",
              "</table>\n",
              "</div>"
            ],
            "text/plain": [
              "       DATE  TIME  実績(万kW)\n",
              "0  2017/1/1  0:00     2783\n",
              "1  2017/1/1  1:00     2634\n",
              "2  2017/1/1  2:00     2520\n",
              "3  2017/1/1  3:00     2438\n",
              "4  2017/1/1  4:00     2389"
            ]
          },
          "metadata": {
            "tags": []
          },
          "execution_count": 66
        }
      ]
    },
    {
      "cell_type": "code",
      "metadata": {
        "id": "Hf3FFas3gyQt"
      },
      "source": [
        "df =df.reset_index(drop=True)"
      ],
      "execution_count": null,
      "outputs": []
    },
    {
      "cell_type": "code",
      "metadata": {
        "id": "CCeFB4ML4uVy",
        "colab": {
          "base_uri": "https://localhost:8080/"
        },
        "outputId": "f5d9807d-c693-4cf6-b279-06a613570214"
      },
      "source": [
        "df.shape"
      ],
      "execution_count": null,
      "outputs": [
        {
          "output_type": "execute_result",
          "data": {
            "text/plain": [
              "(26280, 3)"
            ]
          },
          "metadata": {
            "tags": []
          },
          "execution_count": 68
        }
      ]
    },
    {
      "cell_type": "code",
      "metadata": {
        "colab": {
          "base_uri": "https://localhost:8080/",
          "height": 35
        },
        "id": "hgcilO9PjgyD",
        "outputId": "24e5fc2e-d28a-4c15-ad20-d966aa2bd3d1"
      },
      "source": [
        "date = df['DATE'][0]\n",
        "time = df['TIME'][0]\n",
        "\n",
        "str_datetime = f'{date} {time}'\n",
        "str_datetime"
      ],
      "execution_count": null,
      "outputs": [
        {
          "output_type": "execute_result",
          "data": {
            "application/vnd.google.colaboratory.intrinsic+json": {
              "type": "string"
            },
            "text/plain": [
              "'2017/1/1 0:00'"
            ]
          },
          "metadata": {
            "tags": []
          },
          "execution_count": 69
        }
      ]
    },
    {
      "cell_type": "code",
      "metadata": {
        "id": "j0At8cUtsaQF"
      },
      "source": [
        "from datetime import datetime as dt"
      ],
      "execution_count": null,
      "outputs": []
    },
    {
      "cell_type": "code",
      "metadata": {
        "colab": {
          "base_uri": "https://localhost:8080/"
        },
        "id": "ygeEx2TTsmjZ",
        "outputId": "816a74ef-8248-4cd7-fe43-8253a39c895a"
      },
      "source": [
        "dt.strptime(str_datetime,'%Y/%m/%d %H:%M')"
      ],
      "execution_count": null,
      "outputs": [
        {
          "output_type": "execute_result",
          "data": {
            "text/plain": [
              "datetime.datetime(2017, 1, 1, 0, 0)"
            ]
          },
          "metadata": {
            "tags": []
          },
          "execution_count": 71
        }
      ]
    },
    {
      "cell_type": "code",
      "metadata": {
        "id": "DVQ9UnKRtw2w"
      },
      "source": [
        "datetimes = []\n",
        "\n",
        "for index,datum in df.iterrows():\n",
        "    date = datum['DATE']\n",
        "    time = datum['TIME']\n",
        "    str_datetime = f'{date} {time}'\n",
        "    datetime = dt.strptime(str_datetime,'%Y/%m/%d %H:%M')\n",
        "    datetimes.append(datetime)"
      ],
      "execution_count": null,
      "outputs": []
    },
    {
      "cell_type": "code",
      "metadata": {
        "colab": {
          "base_uri": "https://localhost:8080/"
        },
        "id": "h81PJRBhyjI2",
        "outputId": "0fcec340-a07b-401e-aeb4-8d5bbd7b8098"
      },
      "source": [
        "datetimes[:3]"
      ],
      "execution_count": null,
      "outputs": [
        {
          "output_type": "execute_result",
          "data": {
            "text/plain": [
              "[datetime.datetime(2017, 1, 1, 0, 0),\n",
              " datetime.datetime(2017, 1, 1, 1, 0),\n",
              " datetime.datetime(2017, 1, 1, 2, 0)]"
            ]
          },
          "metadata": {
            "tags": []
          },
          "execution_count": 73
        }
      ]
    },
    {
      "cell_type": "code",
      "metadata": {
        "id": "p6C7WI1hy9Eg",
        "colab": {
          "base_uri": "https://localhost:8080/",
          "height": 206
        },
        "outputId": "b06b358c-107c-4c06-e231-7489b5080f7a"
      },
      "source": [
        "df['ds']=datetimes\n",
        "df.head()"
      ],
      "execution_count": null,
      "outputs": [
        {
          "output_type": "execute_result",
          "data": {
            "text/html": [
              "<div>\n",
              "<style scoped>\n",
              "    .dataframe tbody tr th:only-of-type {\n",
              "        vertical-align: middle;\n",
              "    }\n",
              "\n",
              "    .dataframe tbody tr th {\n",
              "        vertical-align: top;\n",
              "    }\n",
              "\n",
              "    .dataframe thead th {\n",
              "        text-align: right;\n",
              "    }\n",
              "</style>\n",
              "<table border=\"1\" class=\"dataframe\">\n",
              "  <thead>\n",
              "    <tr style=\"text-align: right;\">\n",
              "      <th></th>\n",
              "      <th>DATE</th>\n",
              "      <th>TIME</th>\n",
              "      <th>実績(万kW)</th>\n",
              "      <th>ds</th>\n",
              "    </tr>\n",
              "  </thead>\n",
              "  <tbody>\n",
              "    <tr>\n",
              "      <th>0</th>\n",
              "      <td>2017/1/1</td>\n",
              "      <td>0:00</td>\n",
              "      <td>2783</td>\n",
              "      <td>2017-01-01 00:00:00</td>\n",
              "    </tr>\n",
              "    <tr>\n",
              "      <th>1</th>\n",
              "      <td>2017/1/1</td>\n",
              "      <td>1:00</td>\n",
              "      <td>2634</td>\n",
              "      <td>2017-01-01 01:00:00</td>\n",
              "    </tr>\n",
              "    <tr>\n",
              "      <th>2</th>\n",
              "      <td>2017/1/1</td>\n",
              "      <td>2:00</td>\n",
              "      <td>2520</td>\n",
              "      <td>2017-01-01 02:00:00</td>\n",
              "    </tr>\n",
              "    <tr>\n",
              "      <th>3</th>\n",
              "      <td>2017/1/1</td>\n",
              "      <td>3:00</td>\n",
              "      <td>2438</td>\n",
              "      <td>2017-01-01 03:00:00</td>\n",
              "    </tr>\n",
              "    <tr>\n",
              "      <th>4</th>\n",
              "      <td>2017/1/1</td>\n",
              "      <td>4:00</td>\n",
              "      <td>2389</td>\n",
              "      <td>2017-01-01 04:00:00</td>\n",
              "    </tr>\n",
              "  </tbody>\n",
              "</table>\n",
              "</div>"
            ],
            "text/plain": [
              "       DATE  TIME  実績(万kW)                  ds\n",
              "0  2017/1/1  0:00     2783 2017-01-01 00:00:00\n",
              "1  2017/1/1  1:00     2634 2017-01-01 01:00:00\n",
              "2  2017/1/1  2:00     2520 2017-01-01 02:00:00\n",
              "3  2017/1/1  3:00     2438 2017-01-01 03:00:00\n",
              "4  2017/1/1  4:00     2389 2017-01-01 04:00:00"
            ]
          },
          "metadata": {
            "tags": []
          },
          "execution_count": 74
        }
      ]
    },
    {
      "cell_type": "code",
      "metadata": {
        "colab": {
          "base_uri": "https://localhost:8080/",
          "height": 424
        },
        "id": "-DEdqlzd7Q3-",
        "outputId": "a6b6621c-d3db-4839-ef08-e53bf0de0598"
      },
      "source": [
        "df = df.rename(columns={'実績(万kW)':'y'})\n",
        "df"
      ],
      "execution_count": null,
      "outputs": [
        {
          "output_type": "execute_result",
          "data": {
            "text/html": [
              "<div>\n",
              "<style scoped>\n",
              "    .dataframe tbody tr th:only-of-type {\n",
              "        vertical-align: middle;\n",
              "    }\n",
              "\n",
              "    .dataframe tbody tr th {\n",
              "        vertical-align: top;\n",
              "    }\n",
              "\n",
              "    .dataframe thead th {\n",
              "        text-align: right;\n",
              "    }\n",
              "</style>\n",
              "<table border=\"1\" class=\"dataframe\">\n",
              "  <thead>\n",
              "    <tr style=\"text-align: right;\">\n",
              "      <th></th>\n",
              "      <th>DATE</th>\n",
              "      <th>TIME</th>\n",
              "      <th>y</th>\n",
              "      <th>ds</th>\n",
              "    </tr>\n",
              "  </thead>\n",
              "  <tbody>\n",
              "    <tr>\n",
              "      <th>0</th>\n",
              "      <td>2017/1/1</td>\n",
              "      <td>0:00</td>\n",
              "      <td>2783</td>\n",
              "      <td>2017-01-01 00:00:00</td>\n",
              "    </tr>\n",
              "    <tr>\n",
              "      <th>1</th>\n",
              "      <td>2017/1/1</td>\n",
              "      <td>1:00</td>\n",
              "      <td>2634</td>\n",
              "      <td>2017-01-01 01:00:00</td>\n",
              "    </tr>\n",
              "    <tr>\n",
              "      <th>2</th>\n",
              "      <td>2017/1/1</td>\n",
              "      <td>2:00</td>\n",
              "      <td>2520</td>\n",
              "      <td>2017-01-01 02:00:00</td>\n",
              "    </tr>\n",
              "    <tr>\n",
              "      <th>3</th>\n",
              "      <td>2017/1/1</td>\n",
              "      <td>3:00</td>\n",
              "      <td>2438</td>\n",
              "      <td>2017-01-01 03:00:00</td>\n",
              "    </tr>\n",
              "    <tr>\n",
              "      <th>4</th>\n",
              "      <td>2017/1/1</td>\n",
              "      <td>4:00</td>\n",
              "      <td>2389</td>\n",
              "      <td>2017-01-01 04:00:00</td>\n",
              "    </tr>\n",
              "    <tr>\n",
              "      <th>...</th>\n",
              "      <td>...</td>\n",
              "      <td>...</td>\n",
              "      <td>...</td>\n",
              "      <td>...</td>\n",
              "    </tr>\n",
              "    <tr>\n",
              "      <th>26275</th>\n",
              "      <td>2019/12/31</td>\n",
              "      <td>19:00</td>\n",
              "      <td>3302</td>\n",
              "      <td>2019-12-31 19:00:00</td>\n",
              "    </tr>\n",
              "    <tr>\n",
              "      <th>26276</th>\n",
              "      <td>2019/12/31</td>\n",
              "      <td>20:00</td>\n",
              "      <td>3263</td>\n",
              "      <td>2019-12-31 20:00:00</td>\n",
              "    </tr>\n",
              "    <tr>\n",
              "      <th>26277</th>\n",
              "      <td>2019/12/31</td>\n",
              "      <td>21:00</td>\n",
              "      <td>3182</td>\n",
              "      <td>2019-12-31 21:00:00</td>\n",
              "    </tr>\n",
              "    <tr>\n",
              "      <th>26278</th>\n",
              "      <td>2019/12/31</td>\n",
              "      <td>22:00</td>\n",
              "      <td>3077</td>\n",
              "      <td>2019-12-31 22:00:00</td>\n",
              "    </tr>\n",
              "    <tr>\n",
              "      <th>26279</th>\n",
              "      <td>2019/12/31</td>\n",
              "      <td>23:00</td>\n",
              "      <td>3029</td>\n",
              "      <td>2019-12-31 23:00:00</td>\n",
              "    </tr>\n",
              "  </tbody>\n",
              "</table>\n",
              "<p>26280 rows × 4 columns</p>\n",
              "</div>"
            ],
            "text/plain": [
              "             DATE   TIME     y                  ds\n",
              "0        2017/1/1   0:00  2783 2017-01-01 00:00:00\n",
              "1        2017/1/1   1:00  2634 2017-01-01 01:00:00\n",
              "2        2017/1/1   2:00  2520 2017-01-01 02:00:00\n",
              "3        2017/1/1   3:00  2438 2017-01-01 03:00:00\n",
              "4        2017/1/1   4:00  2389 2017-01-01 04:00:00\n",
              "...           ...    ...   ...                 ...\n",
              "26275  2019/12/31  19:00  3302 2019-12-31 19:00:00\n",
              "26276  2019/12/31  20:00  3263 2019-12-31 20:00:00\n",
              "26277  2019/12/31  21:00  3182 2019-12-31 21:00:00\n",
              "26278  2019/12/31  22:00  3077 2019-12-31 22:00:00\n",
              "26279  2019/12/31  23:00  3029 2019-12-31 23:00:00\n",
              "\n",
              "[26280 rows x 4 columns]"
            ]
          },
          "metadata": {
            "tags": []
          },
          "execution_count": 75
        }
      ]
    },
    {
      "cell_type": "code",
      "metadata": {
        "colab": {
          "base_uri": "https://localhost:8080/"
        },
        "id": "OIXt1GTW7gpB",
        "outputId": "9c28bed6-66ed-464f-f24e-fcf85c6fa3ec"
      },
      "source": [
        "model = Prophet()\n",
        "model.fit(df)"
      ],
      "execution_count": null,
      "outputs": [
        {
          "output_type": "execute_result",
          "data": {
            "text/plain": [
              "<fbprophet.forecaster.Prophet at 0x7fd864a35990>"
            ]
          },
          "metadata": {
            "tags": []
          },
          "execution_count": 76
        }
      ]
    },
    {
      "cell_type": "code",
      "metadata": {
        "id": "Kyo0SdTO8YCI"
      },
      "source": [
        "future = model.make_future_dataframe(24*366,freq='H')"
      ],
      "execution_count": null,
      "outputs": []
    },
    {
      "cell_type": "code",
      "metadata": {
        "id": "jIBKp-Bm9IZL"
      },
      "source": [
        "forecast = model.predict(future)"
      ],
      "execution_count": null,
      "outputs": []
    },
    {
      "cell_type": "code",
      "metadata": {
        "colab": {
          "base_uri": "https://localhost:8080/",
          "height": 313
        },
        "id": "D72Th2h5T6gH",
        "outputId": "666ffd0f-e182-4e53-c782-600dbec8b578"
      },
      "source": [
        "forecast.tail()"
      ],
      "execution_count": null,
      "outputs": [
        {
          "output_type": "execute_result",
          "data": {
            "text/html": [
              "<div>\n",
              "<style scoped>\n",
              "    .dataframe tbody tr th:only-of-type {\n",
              "        vertical-align: middle;\n",
              "    }\n",
              "\n",
              "    .dataframe tbody tr th {\n",
              "        vertical-align: top;\n",
              "    }\n",
              "\n",
              "    .dataframe thead th {\n",
              "        text-align: right;\n",
              "    }\n",
              "</style>\n",
              "<table border=\"1\" class=\"dataframe\">\n",
              "  <thead>\n",
              "    <tr style=\"text-align: right;\">\n",
              "      <th></th>\n",
              "      <th>ds</th>\n",
              "      <th>trend</th>\n",
              "      <th>yhat_lower</th>\n",
              "      <th>yhat_upper</th>\n",
              "      <th>trend_lower</th>\n",
              "      <th>trend_upper</th>\n",
              "      <th>additive_terms</th>\n",
              "      <th>additive_terms_lower</th>\n",
              "      <th>additive_terms_upper</th>\n",
              "      <th>daily</th>\n",
              "      <th>daily_lower</th>\n",
              "      <th>daily_upper</th>\n",
              "      <th>weekly</th>\n",
              "      <th>weekly_lower</th>\n",
              "      <th>weekly_upper</th>\n",
              "      <th>yearly</th>\n",
              "      <th>yearly_lower</th>\n",
              "      <th>yearly_upper</th>\n",
              "      <th>multiplicative_terms</th>\n",
              "      <th>multiplicative_terms_lower</th>\n",
              "      <th>multiplicative_terms_upper</th>\n",
              "      <th>yhat</th>\n",
              "    </tr>\n",
              "  </thead>\n",
              "  <tbody>\n",
              "    <tr>\n",
              "      <th>35059</th>\n",
              "      <td>2020-12-31 19:00:00</td>\n",
              "      <td>2762.320726</td>\n",
              "      <td>966.921434</td>\n",
              "      <td>5852.459392</td>\n",
              "      <td>364.385774</td>\n",
              "      <td>5064.328650</td>\n",
              "      <td>670.635253</td>\n",
              "      <td>670.635253</td>\n",
              "      <td>670.635253</td>\n",
              "      <td>396.227734</td>\n",
              "      <td>396.227734</td>\n",
              "      <td>396.227734</td>\n",
              "      <td>120.977144</td>\n",
              "      <td>120.977144</td>\n",
              "      <td>120.977144</td>\n",
              "      <td>153.430374</td>\n",
              "      <td>153.430374</td>\n",
              "      <td>153.430374</td>\n",
              "      <td>0.0</td>\n",
              "      <td>0.0</td>\n",
              "      <td>0.0</td>\n",
              "      <td>3432.955979</td>\n",
              "    </tr>\n",
              "    <tr>\n",
              "      <th>35060</th>\n",
              "      <td>2020-12-31 20:00:00</td>\n",
              "      <td>2762.278350</td>\n",
              "      <td>820.046693</td>\n",
              "      <td>5670.164839</td>\n",
              "      <td>363.923085</td>\n",
              "      <td>5065.077999</td>\n",
              "      <td>566.922395</td>\n",
              "      <td>566.922395</td>\n",
              "      <td>566.922395</td>\n",
              "      <td>292.169710</td>\n",
              "      <td>292.169710</td>\n",
              "      <td>292.169710</td>\n",
              "      <td>121.385983</td>\n",
              "      <td>121.385983</td>\n",
              "      <td>121.385983</td>\n",
              "      <td>153.366703</td>\n",
              "      <td>153.366703</td>\n",
              "      <td>153.366703</td>\n",
              "      <td>0.0</td>\n",
              "      <td>0.0</td>\n",
              "      <td>0.0</td>\n",
              "      <td>3329.200745</td>\n",
              "    </tr>\n",
              "    <tr>\n",
              "      <th>35061</th>\n",
              "      <td>2020-12-31 21:00:00</td>\n",
              "      <td>2762.235974</td>\n",
              "      <td>784.292374</td>\n",
              "      <td>5478.911022</td>\n",
              "      <td>363.460396</td>\n",
              "      <td>5065.827348</td>\n",
              "      <td>401.360681</td>\n",
              "      <td>401.360681</td>\n",
              "      <td>401.360681</td>\n",
              "      <td>126.182033</td>\n",
              "      <td>126.182033</td>\n",
              "      <td>126.182033</td>\n",
              "      <td>121.869350</td>\n",
              "      <td>121.869350</td>\n",
              "      <td>121.869350</td>\n",
              "      <td>153.309298</td>\n",
              "      <td>153.309298</td>\n",
              "      <td>153.309298</td>\n",
              "      <td>0.0</td>\n",
              "      <td>0.0</td>\n",
              "      <td>0.0</td>\n",
              "      <td>3163.596655</td>\n",
              "    </tr>\n",
              "    <tr>\n",
              "      <th>35062</th>\n",
              "      <td>2020-12-31 22:00:00</td>\n",
              "      <td>2762.193598</td>\n",
              "      <td>618.709121</td>\n",
              "      <td>5326.539166</td>\n",
              "      <td>362.997707</td>\n",
              "      <td>5066.576698</td>\n",
              "      <td>190.194424</td>\n",
              "      <td>190.194424</td>\n",
              "      <td>190.194424</td>\n",
              "      <td>-85.475310</td>\n",
              "      <td>-85.475310</td>\n",
              "      <td>-85.475310</td>\n",
              "      <td>122.411558</td>\n",
              "      <td>122.411558</td>\n",
              "      <td>122.411558</td>\n",
              "      <td>153.258175</td>\n",
              "      <td>153.258175</td>\n",
              "      <td>153.258175</td>\n",
              "      <td>0.0</td>\n",
              "      <td>0.0</td>\n",
              "      <td>0.0</td>\n",
              "      <td>2952.388022</td>\n",
              "    </tr>\n",
              "    <tr>\n",
              "      <th>35063</th>\n",
              "      <td>2020-12-31 23:00:00</td>\n",
              "      <td>2762.151222</td>\n",
              "      <td>232.961793</td>\n",
              "      <td>5044.267369</td>\n",
              "      <td>362.535018</td>\n",
              "      <td>5067.326047</td>\n",
              "      <td>-27.942535</td>\n",
              "      <td>-27.942535</td>\n",
              "      <td>-27.942535</td>\n",
              "      <td>-304.148420</td>\n",
              "      <td>-304.148420</td>\n",
              "      <td>-304.148420</td>\n",
              "      <td>122.992535</td>\n",
              "      <td>122.992535</td>\n",
              "      <td>122.992535</td>\n",
              "      <td>153.213350</td>\n",
              "      <td>153.213350</td>\n",
              "      <td>153.213350</td>\n",
              "      <td>0.0</td>\n",
              "      <td>0.0</td>\n",
              "      <td>0.0</td>\n",
              "      <td>2734.208687</td>\n",
              "    </tr>\n",
              "  </tbody>\n",
              "</table>\n",
              "</div>"
            ],
            "text/plain": [
              "                       ds        trend  ...  multiplicative_terms_upper         yhat\n",
              "35059 2020-12-31 19:00:00  2762.320726  ...                         0.0  3432.955979\n",
              "35060 2020-12-31 20:00:00  2762.278350  ...                         0.0  3329.200745\n",
              "35061 2020-12-31 21:00:00  2762.235974  ...                         0.0  3163.596655\n",
              "35062 2020-12-31 22:00:00  2762.193598  ...                         0.0  2952.388022\n",
              "35063 2020-12-31 23:00:00  2762.151222  ...                         0.0  2734.208687\n",
              "\n",
              "[5 rows x 22 columns]"
            ]
          },
          "metadata": {
            "tags": []
          },
          "execution_count": 79
        }
      ]
    },
    {
      "cell_type": "code",
      "metadata": {
        "colab": {
          "base_uri": "https://localhost:8080/"
        },
        "id": "_DUIbzryTc0E",
        "outputId": "5913ef1a-e493-477b-d998-eadf718968b6"
      },
      "source": [
        "forecast.info()"
      ],
      "execution_count": null,
      "outputs": [
        {
          "output_type": "stream",
          "text": [
            "<class 'pandas.core.frame.DataFrame'>\n",
            "RangeIndex: 35064 entries, 0 to 35063\n",
            "Data columns (total 22 columns):\n",
            " #   Column                      Non-Null Count  Dtype         \n",
            "---  ------                      --------------  -----         \n",
            " 0   ds                          35064 non-null  datetime64[ns]\n",
            " 1   trend                       35064 non-null  float64       \n",
            " 2   yhat_lower                  35064 non-null  float64       \n",
            " 3   yhat_upper                  35064 non-null  float64       \n",
            " 4   trend_lower                 35064 non-null  float64       \n",
            " 5   trend_upper                 35064 non-null  float64       \n",
            " 6   additive_terms              35064 non-null  float64       \n",
            " 7   additive_terms_lower        35064 non-null  float64       \n",
            " 8   additive_terms_upper        35064 non-null  float64       \n",
            " 9   daily                       35064 non-null  float64       \n",
            " 10  daily_lower                 35064 non-null  float64       \n",
            " 11  daily_upper                 35064 non-null  float64       \n",
            " 12  weekly                      35064 non-null  float64       \n",
            " 13  weekly_lower                35064 non-null  float64       \n",
            " 14  weekly_upper                35064 non-null  float64       \n",
            " 15  yearly                      35064 non-null  float64       \n",
            " 16  yearly_lower                35064 non-null  float64       \n",
            " 17  yearly_upper                35064 non-null  float64       \n",
            " 18  multiplicative_terms        35064 non-null  float64       \n",
            " 19  multiplicative_terms_lower  35064 non-null  float64       \n",
            " 20  multiplicative_terms_upper  35064 non-null  float64       \n",
            " 21  yhat                        35064 non-null  float64       \n",
            "dtypes: datetime64[ns](1), float64(21)\n",
            "memory usage: 5.9 MB\n"
          ],
          "name": "stdout"
        }
      ]
    },
    {
      "cell_type": "code",
      "metadata": {
        "id": "gFqzW0OR9IV-"
      },
      "source": [
        "import matplotlib.pyplot as plt\n"
      ],
      "execution_count": null,
      "outputs": []
    },
    {
      "cell_type": "code",
      "metadata": {
        "colab": {
          "base_uri": "https://localhost:8080/",
          "height": 441
        },
        "id": "yRTtyq1P9IS6",
        "outputId": "7dc23100-7ac8-4c6a-ccd9-df129b21f2e8"
      },
      "source": [
        "model.plot(forecast)\n",
        "plt.xlim(dt(2018,1,1),dt(2018,1,30))\n",
        "plt.show()"
      ],
      "execution_count": null,
      "outputs": [
        {
          "output_type": "display_data",
          "data": {
            "image/png": "[encoded data removed]",
            "text/plain": [
              "<Figure size 720x432 with 1 Axes>"
            ]
          },
          "metadata": {
            "tags": []
          }
        }
      ]
    },
    {
      "cell_type": "code",
      "metadata": {
        "id": "M-tjUbWJ9IPr"
      },
      "source": [
        "df_2020 = pd.read_csv('https://www.tepco.co.jp/forecast/html/images/juyo-2020.csv',encoding='shift-jis',skiprows=1)"
      ],
      "execution_count": null,
      "outputs": []
    },
    {
      "cell_type": "code",
      "metadata": {
        "colab": {
          "base_uri": "https://localhost:8080/",
          "height": 206
        },
        "id": "86oEcziGSsyD",
        "outputId": "751aa299-38c8-444d-fdc7-3ac8d71fdd85"
      },
      "source": [
        "df_2020.head()"
      ],
      "execution_count": null,
      "outputs": [
        {
          "output_type": "execute_result",
          "data": {
            "text/html": [
              "<div>\n",
              "<style scoped>\n",
              "    .dataframe tbody tr th:only-of-type {\n",
              "        vertical-align: middle;\n",
              "    }\n",
              "\n",
              "    .dataframe tbody tr th {\n",
              "        vertical-align: top;\n",
              "    }\n",
              "\n",
              "    .dataframe thead th {\n",
              "        text-align: right;\n",
              "    }\n",
              "</style>\n",
              "<table border=\"1\" class=\"dataframe\">\n",
              "  <thead>\n",
              "    <tr style=\"text-align: right;\">\n",
              "      <th></th>\n",
              "      <th>DATE</th>\n",
              "      <th>TIME</th>\n",
              "      <th>実績(万kW)</th>\n",
              "    </tr>\n",
              "  </thead>\n",
              "  <tbody>\n",
              "    <tr>\n",
              "      <th>0</th>\n",
              "      <td>2020/1/1</td>\n",
              "      <td>0:00</td>\n",
              "      <td>2857</td>\n",
              "    </tr>\n",
              "    <tr>\n",
              "      <th>1</th>\n",
              "      <td>2020/1/1</td>\n",
              "      <td>1:00</td>\n",
              "      <td>2703</td>\n",
              "    </tr>\n",
              "    <tr>\n",
              "      <th>2</th>\n",
              "      <td>2020/1/1</td>\n",
              "      <td>2:00</td>\n",
              "      <td>2602</td>\n",
              "    </tr>\n",
              "    <tr>\n",
              "      <th>3</th>\n",
              "      <td>2020/1/1</td>\n",
              "      <td>3:00</td>\n",
              "      <td>2520</td>\n",
              "    </tr>\n",
              "    <tr>\n",
              "      <th>4</th>\n",
              "      <td>2020/1/1</td>\n",
              "      <td>4:00</td>\n",
              "      <td>2464</td>\n",
              "    </tr>\n",
              "  </tbody>\n",
              "</table>\n",
              "</div>"
            ],
            "text/plain": [
              "       DATE  TIME  実績(万kW)\n",
              "0  2020/1/1  0:00     2857\n",
              "1  2020/1/1  1:00     2703\n",
              "2  2020/1/1  2:00     2602\n",
              "3  2020/1/1  3:00     2520\n",
              "4  2020/1/1  4:00     2464"
            ]
          },
          "metadata": {
            "tags": []
          },
          "execution_count": 84
        }
      ]
    },
    {
      "cell_type": "code",
      "metadata": {
        "id": "psZ7bh5GSsvK"
      },
      "source": [
        "forecast_2020 = forecast[forecast['ds'] >=dt(2020,1,1)].reset_index(drop=True)"
      ],
      "execution_count": null,
      "outputs": []
    },
    {
      "cell_type": "code",
      "metadata": {
        "colab": {
          "base_uri": "https://localhost:8080/",
          "height": 313
        },
        "id": "SuU3-s0BSsol",
        "outputId": "4d63321b-cc98-41af-f461-4052fc7212ed"
      },
      "source": [
        "forecast_2020.head()"
      ],
      "execution_count": null,
      "outputs": [
        {
          "output_type": "execute_result",
          "data": {
            "text/html": [
              "<div>\n",
              "<style scoped>\n",
              "    .dataframe tbody tr th:only-of-type {\n",
              "        vertical-align: middle;\n",
              "    }\n",
              "\n",
              "    .dataframe tbody tr th {\n",
              "        vertical-align: top;\n",
              "    }\n",
              "\n",
              "    .dataframe thead th {\n",
              "        text-align: right;\n",
              "    }\n",
              "</style>\n",
              "<table border=\"1\" class=\"dataframe\">\n",
              "  <thead>\n",
              "    <tr style=\"text-align: right;\">\n",
              "      <th></th>\n",
              "      <th>ds</th>\n",
              "      <th>trend</th>\n",
              "      <th>yhat_lower</th>\n",
              "      <th>yhat_upper</th>\n",
              "      <th>trend_lower</th>\n",
              "      <th>trend_upper</th>\n",
              "      <th>additive_terms</th>\n",
              "      <th>additive_terms_lower</th>\n",
              "      <th>additive_terms_upper</th>\n",
              "      <th>daily</th>\n",
              "      <th>daily_lower</th>\n",
              "      <th>daily_upper</th>\n",
              "      <th>weekly</th>\n",
              "      <th>weekly_lower</th>\n",
              "      <th>weekly_upper</th>\n",
              "      <th>yearly</th>\n",
              "      <th>yearly_lower</th>\n",
              "      <th>yearly_upper</th>\n",
              "      <th>multiplicative_terms</th>\n",
              "      <th>multiplicative_terms_lower</th>\n",
              "      <th>multiplicative_terms_upper</th>\n",
              "      <th>yhat</th>\n",
              "    </tr>\n",
              "  </thead>\n",
              "  <tbody>\n",
              "    <tr>\n",
              "      <th>0</th>\n",
              "      <td>2020-01-01 00:00:00</td>\n",
              "      <td>3134.340011</td>\n",
              "      <td>2506.612663</td>\n",
              "      <td>3309.493299</td>\n",
              "      <td>3134.340011</td>\n",
              "      <td>3134.340011</td>\n",
              "      <td>-224.856836</td>\n",
              "      <td>-224.856836</td>\n",
              "      <td>-224.856836</td>\n",
              "      <td>-488.417802</td>\n",
              "      <td>-488.417802</td>\n",
              "      <td>-488.417802</td>\n",
              "      <td>108.739814</td>\n",
              "      <td>108.739814</td>\n",
              "      <td>108.739814</td>\n",
              "      <td>154.821152</td>\n",
              "      <td>154.821152</td>\n",
              "      <td>154.821152</td>\n",
              "      <td>0.0</td>\n",
              "      <td>0.0</td>\n",
              "      <td>0.0</td>\n",
              "      <td>2909.483175</td>\n",
              "    </tr>\n",
              "    <tr>\n",
              "      <th>1</th>\n",
              "      <td>2020-01-01 01:00:00</td>\n",
              "      <td>3134.297635</td>\n",
              "      <td>2391.561375</td>\n",
              "      <td>3170.942401</td>\n",
              "      <td>3134.297635</td>\n",
              "      <td>3134.297635</td>\n",
              "      <td>-354.546087</td>\n",
              "      <td>-354.546087</td>\n",
              "      <td>-354.546087</td>\n",
              "      <td>-617.309962</td>\n",
              "      <td>-617.309962</td>\n",
              "      <td>-617.309962</td>\n",
              "      <td>108.086395</td>\n",
              "      <td>108.086395</td>\n",
              "      <td>108.086395</td>\n",
              "      <td>154.677480</td>\n",
              "      <td>154.677480</td>\n",
              "      <td>154.677480</td>\n",
              "      <td>0.0</td>\n",
              "      <td>0.0</td>\n",
              "      <td>0.0</td>\n",
              "      <td>2779.751548</td>\n",
              "    </tr>\n",
              "    <tr>\n",
              "      <th>2</th>\n",
              "      <td>2020-01-01 02:00:00</td>\n",
              "      <td>3134.255259</td>\n",
              "      <td>2299.037576</td>\n",
              "      <td>3121.171865</td>\n",
              "      <td>3134.255259</td>\n",
              "      <td>3134.255259</td>\n",
              "      <td>-432.164816</td>\n",
              "      <td>-432.164816</td>\n",
              "      <td>-432.164816</td>\n",
              "      <td>-694.375983</td>\n",
              "      <td>-694.375983</td>\n",
              "      <td>-694.375983</td>\n",
              "      <td>107.671307</td>\n",
              "      <td>107.671307</td>\n",
              "      <td>107.671307</td>\n",
              "      <td>154.539860</td>\n",
              "      <td>154.539860</td>\n",
              "      <td>154.539860</td>\n",
              "      <td>0.0</td>\n",
              "      <td>0.0</td>\n",
              "      <td>0.0</td>\n",
              "      <td>2702.090443</td>\n",
              "    </tr>\n",
              "    <tr>\n",
              "      <th>3</th>\n",
              "      <td>2020-01-01 03:00:00</td>\n",
              "      <td>3134.212883</td>\n",
              "      <td>2271.353620</td>\n",
              "      <td>3064.142083</td>\n",
              "      <td>3134.212883</td>\n",
              "      <td>3134.212883</td>\n",
              "      <td>-466.064530</td>\n",
              "      <td>-466.064530</td>\n",
              "      <td>-466.064530</td>\n",
              "      <td>-727.960893</td>\n",
              "      <td>-727.960893</td>\n",
              "      <td>-727.960893</td>\n",
              "      <td>107.488055</td>\n",
              "      <td>107.488055</td>\n",
              "      <td>107.488055</td>\n",
              "      <td>154.408308</td>\n",
              "      <td>154.408308</td>\n",
              "      <td>154.408308</td>\n",
              "      <td>0.0</td>\n",
              "      <td>0.0</td>\n",
              "      <td>0.0</td>\n",
              "      <td>2668.148353</td>\n",
              "    </tr>\n",
              "    <tr>\n",
              "      <th>4</th>\n",
              "      <td>2020-01-01 04:00:00</td>\n",
              "      <td>3134.170507</td>\n",
              "      <td>2304.097482</td>\n",
              "      <td>3054.421216</td>\n",
              "      <td>3134.170507</td>\n",
              "      <td>3134.170507</td>\n",
              "      <td>-446.333967</td>\n",
              "      <td>-446.333967</td>\n",
              "      <td>-446.333967</td>\n",
              "      <td>-708.142983</td>\n",
              "      <td>-708.142983</td>\n",
              "      <td>-708.142983</td>\n",
              "      <td>107.526173</td>\n",
              "      <td>107.526173</td>\n",
              "      <td>107.526173</td>\n",
              "      <td>154.282843</td>\n",
              "      <td>154.282843</td>\n",
              "      <td>154.282843</td>\n",
              "      <td>0.0</td>\n",
              "      <td>0.0</td>\n",
              "      <td>0.0</td>\n",
              "      <td>2687.836539</td>\n",
              "    </tr>\n",
              "  </tbody>\n",
              "</table>\n",
              "</div>"
            ],
            "text/plain": [
              "                   ds        trend  ...  multiplicative_terms_upper         yhat\n",
              "0 2020-01-01 00:00:00  3134.340011  ...                         0.0  2909.483175\n",
              "1 2020-01-01 01:00:00  3134.297635  ...                         0.0  2779.751548\n",
              "2 2020-01-01 02:00:00  3134.255259  ...                         0.0  2702.090443\n",
              "3 2020-01-01 03:00:00  3134.212883  ...                         0.0  2668.148353\n",
              "4 2020-01-01 04:00:00  3134.170507  ...                         0.0  2687.836539\n",
              "\n",
              "[5 rows x 22 columns]"
            ]
          },
          "metadata": {
            "tags": []
          },
          "execution_count": 86
        }
      ]
    },
    {
      "cell_type": "code",
      "metadata": {
        "id": "fUoNPam4Ssli"
      },
      "source": [
        "df_2020 = df_2020.rename(columns={'実績(万kW)' : 'y'})"
      ],
      "execution_count": null,
      "outputs": []
    },
    {
      "cell_type": "code",
      "metadata": {
        "colab": {
          "base_uri": "https://localhost:8080/",
          "height": 206
        },
        "id": "_PIor5kjSsjM",
        "outputId": "cd0e2fbb-a3f4-489b-df04-aa2f050e2b73"
      },
      "source": [
        "df_2020.head()"
      ],
      "execution_count": null,
      "outputs": [
        {
          "output_type": "execute_result",
          "data": {
            "text/html": [
              "<div>\n",
              "<style scoped>\n",
              "    .dataframe tbody tr th:only-of-type {\n",
              "        vertical-align: middle;\n",
              "    }\n",
              "\n",
              "    .dataframe tbody tr th {\n",
              "        vertical-align: top;\n",
              "    }\n",
              "\n",
              "    .dataframe thead th {\n",
              "        text-align: right;\n",
              "    }\n",
              "</style>\n",
              "<table border=\"1\" class=\"dataframe\">\n",
              "  <thead>\n",
              "    <tr style=\"text-align: right;\">\n",
              "      <th></th>\n",
              "      <th>DATE</th>\n",
              "      <th>TIME</th>\n",
              "      <th>y</th>\n",
              "    </tr>\n",
              "  </thead>\n",
              "  <tbody>\n",
              "    <tr>\n",
              "      <th>0</th>\n",
              "      <td>2020/1/1</td>\n",
              "      <td>0:00</td>\n",
              "      <td>2857</td>\n",
              "    </tr>\n",
              "    <tr>\n",
              "      <th>1</th>\n",
              "      <td>2020/1/1</td>\n",
              "      <td>1:00</td>\n",
              "      <td>2703</td>\n",
              "    </tr>\n",
              "    <tr>\n",
              "      <th>2</th>\n",
              "      <td>2020/1/1</td>\n",
              "      <td>2:00</td>\n",
              "      <td>2602</td>\n",
              "    </tr>\n",
              "    <tr>\n",
              "      <th>3</th>\n",
              "      <td>2020/1/1</td>\n",
              "      <td>3:00</td>\n",
              "      <td>2520</td>\n",
              "    </tr>\n",
              "    <tr>\n",
              "      <th>4</th>\n",
              "      <td>2020/1/1</td>\n",
              "      <td>4:00</td>\n",
              "      <td>2464</td>\n",
              "    </tr>\n",
              "  </tbody>\n",
              "</table>\n",
              "</div>"
            ],
            "text/plain": [
              "       DATE  TIME     y\n",
              "0  2020/1/1  0:00  2857\n",
              "1  2020/1/1  1:00  2703\n",
              "2  2020/1/1  2:00  2602\n",
              "3  2020/1/1  3:00  2520\n",
              "4  2020/1/1  4:00  2464"
            ]
          },
          "metadata": {
            "tags": []
          },
          "execution_count": 88
        }
      ]
    },
    {
      "cell_type": "code",
      "metadata": {
        "id": "sWrK9i-gSsfc"
      },
      "source": [
        "# forecast_2020['yhat'] yhat ⇒ 予測値"
      ],
      "execution_count": null,
      "outputs": []
    },
    {
      "cell_type": "code",
      "metadata": {
        "id": "8bDZk5JPSscS"
      },
      "source": [
        "results = pd.DataFrame()\n",
        "results['t'] = df_2020[ 'y' ]\n",
        "results['y'] = forecast_2020['yhat']"
      ],
      "execution_count": null,
      "outputs": []
    },
    {
      "cell_type": "code",
      "metadata": {
        "id": "23TB1z7NSsY7"
      },
      "source": [
        "results['diff'] = results['t']-results['y']"
      ],
      "execution_count": null,
      "outputs": []
    },
    {
      "cell_type": "code",
      "metadata": {
        "colab": {
          "base_uri": "https://localhost:8080/",
          "height": 424
        },
        "id": "ij5Z5ipf5DkA",
        "outputId": "1fcb1a5d-afc5-4eaf-af94-2aab135637b4"
      },
      "source": [
        "results"
      ],
      "execution_count": null,
      "outputs": [
        {
          "output_type": "execute_result",
          "data": {
            "text/html": [
              "<div>\n",
              "<style scoped>\n",
              "    .dataframe tbody tr th:only-of-type {\n",
              "        vertical-align: middle;\n",
              "    }\n",
              "\n",
              "    .dataframe tbody tr th {\n",
              "        vertical-align: top;\n",
              "    }\n",
              "\n",
              "    .dataframe thead th {\n",
              "        text-align: right;\n",
              "    }\n",
              "</style>\n",
              "<table border=\"1\" class=\"dataframe\">\n",
              "  <thead>\n",
              "    <tr style=\"text-align: right;\">\n",
              "      <th></th>\n",
              "      <th>t</th>\n",
              "      <th>y</th>\n",
              "      <th>diff</th>\n",
              "    </tr>\n",
              "  </thead>\n",
              "  <tbody>\n",
              "    <tr>\n",
              "      <th>0</th>\n",
              "      <td>2857</td>\n",
              "      <td>2909.483175</td>\n",
              "      <td>-52.483175</td>\n",
              "    </tr>\n",
              "    <tr>\n",
              "      <th>1</th>\n",
              "      <td>2703</td>\n",
              "      <td>2779.751548</td>\n",
              "      <td>-76.751548</td>\n",
              "    </tr>\n",
              "    <tr>\n",
              "      <th>2</th>\n",
              "      <td>2602</td>\n",
              "      <td>2702.090443</td>\n",
              "      <td>-100.090443</td>\n",
              "    </tr>\n",
              "    <tr>\n",
              "      <th>3</th>\n",
              "      <td>2520</td>\n",
              "      <td>2668.148353</td>\n",
              "      <td>-148.148353</td>\n",
              "    </tr>\n",
              "    <tr>\n",
              "      <th>4</th>\n",
              "      <td>2464</td>\n",
              "      <td>2687.836539</td>\n",
              "      <td>-223.836539</td>\n",
              "    </tr>\n",
              "    <tr>\n",
              "      <th>...</th>\n",
              "      <td>...</td>\n",
              "      <td>...</td>\n",
              "      <td>...</td>\n",
              "    </tr>\n",
              "    <tr>\n",
              "      <th>8779</th>\n",
              "      <td>3746</td>\n",
              "      <td>3432.955979</td>\n",
              "      <td>313.044021</td>\n",
              "    </tr>\n",
              "    <tr>\n",
              "      <th>8780</th>\n",
              "      <td>3673</td>\n",
              "      <td>3329.200745</td>\n",
              "      <td>343.799255</td>\n",
              "    </tr>\n",
              "    <tr>\n",
              "      <th>8781</th>\n",
              "      <td>3560</td>\n",
              "      <td>3163.596655</td>\n",
              "      <td>396.403345</td>\n",
              "    </tr>\n",
              "    <tr>\n",
              "      <th>8782</th>\n",
              "      <td>3443</td>\n",
              "      <td>2952.388022</td>\n",
              "      <td>490.611978</td>\n",
              "    </tr>\n",
              "    <tr>\n",
              "      <th>8783</th>\n",
              "      <td>3404</td>\n",
              "      <td>2734.208687</td>\n",
              "      <td>669.791313</td>\n",
              "    </tr>\n",
              "  </tbody>\n",
              "</table>\n",
              "<p>8784 rows × 3 columns</p>\n",
              "</div>"
            ],
            "text/plain": [
              "         t            y        diff\n",
              "0     2857  2909.483175  -52.483175\n",
              "1     2703  2779.751548  -76.751548\n",
              "2     2602  2702.090443 -100.090443\n",
              "3     2520  2668.148353 -148.148353\n",
              "4     2464  2687.836539 -223.836539\n",
              "...    ...          ...         ...\n",
              "8779  3746  3432.955979  313.044021\n",
              "8780  3673  3329.200745  343.799255\n",
              "8781  3560  3163.596655  396.403345\n",
              "8782  3443  2952.388022  490.611978\n",
              "8783  3404  2734.208687  669.791313\n",
              "\n",
              "[8784 rows x 3 columns]"
            ]
          },
          "metadata": {
            "tags": []
          },
          "execution_count": 92
        }
      ]
    },
    {
      "cell_type": "code",
      "metadata": {
        "id": "uiG1GJVB5dJ_"
      },
      "source": [
        "import numpy as np"
      ],
      "execution_count": null,
      "outputs": []
    },
    {
      "cell_type": "code",
      "metadata": {
        "colab": {
          "base_uri": "https://localhost:8080/"
        },
        "id": "eCsMKafF64ih",
        "outputId": "a07b87ca-2e4e-448b-fd5e-e3962bfbbd6f"
      },
      "source": [
        "np.mean(abs((results['y']-results['t']) / results['t'])*100)"
      ],
      "execution_count": null,
      "outputs": [
        {
          "output_type": "execute_result",
          "data": {
            "text/plain": [
              "10.123644353466581"
            ]
          },
          "metadata": {
            "tags": []
          },
          "execution_count": 94
        }
      ]
    },
    {
      "cell_type": "code",
      "metadata": {
        "id": "jrM_8u3w7fIB"
      },
      "source": [
        "df_holidays = pd.read_csv('/content/drive/MyDrive/いまにゅ/holidays+hotdays+hour_2017_2019.csv')"
      ],
      "execution_count": null,
      "outputs": []
    },
    {
      "cell_type": "code",
      "metadata": {
        "colab": {
          "base_uri": "https://localhost:8080/",
          "height": 424
        },
        "id": "DCX65b9F8omJ",
        "outputId": "d131cbeb-30a3-40c1-86a0-f60ccbb6dae7"
      },
      "source": [
        "df_holidays"
      ],
      "execution_count": null,
      "outputs": [
        {
          "output_type": "execute_result",
          "data": {
            "text/html": [
              "<div>\n",
              "<style scoped>\n",
              "    .dataframe tbody tr th:only-of-type {\n",
              "        vertical-align: middle;\n",
              "    }\n",
              "\n",
              "    .dataframe tbody tr th {\n",
              "        vertical-align: top;\n",
              "    }\n",
              "\n",
              "    .dataframe thead th {\n",
              "        text-align: right;\n",
              "    }\n",
              "</style>\n",
              "<table border=\"1\" class=\"dataframe\">\n",
              "  <thead>\n",
              "    <tr style=\"text-align: right;\">\n",
              "      <th></th>\n",
              "      <th>ds</th>\n",
              "      <th>holiday</th>\n",
              "      <th>lower_window</th>\n",
              "      <th>upper_window</th>\n",
              "    </tr>\n",
              "  </thead>\n",
              "  <tbody>\n",
              "    <tr>\n",
              "      <th>0</th>\n",
              "      <td>2017/1/1 0:00</td>\n",
              "      <td>holiday</td>\n",
              "      <td>0</td>\n",
              "      <td>1</td>\n",
              "    </tr>\n",
              "    <tr>\n",
              "      <th>1</th>\n",
              "      <td>2017/1/1 1:00</td>\n",
              "      <td>holiday</td>\n",
              "      <td>0</td>\n",
              "      <td>1</td>\n",
              "    </tr>\n",
              "    <tr>\n",
              "      <th>2</th>\n",
              "      <td>2017/1/1 10:00</td>\n",
              "      <td>holiday</td>\n",
              "      <td>0</td>\n",
              "      <td>1</td>\n",
              "    </tr>\n",
              "    <tr>\n",
              "      <th>3</th>\n",
              "      <td>2017/1/1 11:00</td>\n",
              "      <td>holiday</td>\n",
              "      <td>0</td>\n",
              "      <td>1</td>\n",
              "    </tr>\n",
              "    <tr>\n",
              "      <th>4</th>\n",
              "      <td>2017/1/1 12:00</td>\n",
              "      <td>holiday</td>\n",
              "      <td>0</td>\n",
              "      <td>1</td>\n",
              "    </tr>\n",
              "    <tr>\n",
              "      <th>...</th>\n",
              "      <td>...</td>\n",
              "      <td>...</td>\n",
              "      <td>...</td>\n",
              "      <td>...</td>\n",
              "    </tr>\n",
              "    <tr>\n",
              "      <th>2329</th>\n",
              "      <td>2019/12/31 5:00</td>\n",
              "      <td>holiday</td>\n",
              "      <td>0</td>\n",
              "      <td>1</td>\n",
              "    </tr>\n",
              "    <tr>\n",
              "      <th>2330</th>\n",
              "      <td>2019/12/31 6:00</td>\n",
              "      <td>holiday</td>\n",
              "      <td>0</td>\n",
              "      <td>1</td>\n",
              "    </tr>\n",
              "    <tr>\n",
              "      <th>2331</th>\n",
              "      <td>2019/12/31 7:00</td>\n",
              "      <td>holiday</td>\n",
              "      <td>0</td>\n",
              "      <td>1</td>\n",
              "    </tr>\n",
              "    <tr>\n",
              "      <th>2332</th>\n",
              "      <td>2019/12/31 8:00</td>\n",
              "      <td>holiday</td>\n",
              "      <td>0</td>\n",
              "      <td>1</td>\n",
              "    </tr>\n",
              "    <tr>\n",
              "      <th>2333</th>\n",
              "      <td>2019/12/31 9:00</td>\n",
              "      <td>holiday</td>\n",
              "      <td>0</td>\n",
              "      <td>1</td>\n",
              "    </tr>\n",
              "  </tbody>\n",
              "</table>\n",
              "<p>2334 rows × 4 columns</p>\n",
              "</div>"
            ],
            "text/plain": [
              "                   ds  holiday  lower_window  upper_window\n",
              "0       2017/1/1 0:00  holiday             0             1\n",
              "1       2017/1/1 1:00  holiday             0             1\n",
              "2      2017/1/1 10:00  holiday             0             1\n",
              "3      2017/1/1 11:00  holiday             0             1\n",
              "4      2017/1/1 12:00  holiday             0             1\n",
              "...               ...      ...           ...           ...\n",
              "2329  2019/12/31 5:00  holiday             0             1\n",
              "2330  2019/12/31 6:00  holiday             0             1\n",
              "2331  2019/12/31 7:00  holiday             0             1\n",
              "2332  2019/12/31 8:00  holiday             0             1\n",
              "2333  2019/12/31 9:00  holiday             0             1\n",
              "\n",
              "[2334 rows x 4 columns]"
            ]
          },
          "metadata": {
            "tags": []
          },
          "execution_count": 96
        }
      ]
    },
    {
      "cell_type": "code",
      "metadata": {
        "colab": {
          "base_uri": "https://localhost:8080/"
        },
        "id": "Erj_LQBN8sQ3",
        "outputId": "f0aa2810-c3e9-455b-b04e-e643a47dfd79"
      },
      "source": [
        "df.y.max()"
      ],
      "execution_count": null,
      "outputs": [
        {
          "output_type": "execute_result",
          "data": {
            "text/plain": [
              "5653"
            ]
          },
          "metadata": {
            "tags": []
          },
          "execution_count": 97
        }
      ]
    },
    {
      "cell_type": "code",
      "metadata": {
        "id": "IJ1nEg2a9lh3"
      },
      "source": [
        "df['cap'] = 5700"
      ],
      "execution_count": null,
      "outputs": []
    },
    {
      "cell_type": "code",
      "metadata": {
        "colab": {
          "base_uri": "https://localhost:8080/",
          "height": 206
        },
        "id": "DIo74x689oqt",
        "outputId": "e4d7b72c-5f90-4277-e6cd-f8b1feb8b37f"
      },
      "source": [
        "df.tail()"
      ],
      "execution_count": null,
      "outputs": [
        {
          "output_type": "execute_result",
          "data": {
            "text/html": [
              "<div>\n",
              "<style scoped>\n",
              "    .dataframe tbody tr th:only-of-type {\n",
              "        vertical-align: middle;\n",
              "    }\n",
              "\n",
              "    .dataframe tbody tr th {\n",
              "        vertical-align: top;\n",
              "    }\n",
              "\n",
              "    .dataframe thead th {\n",
              "        text-align: right;\n",
              "    }\n",
              "</style>\n",
              "<table border=\"1\" class=\"dataframe\">\n",
              "  <thead>\n",
              "    <tr style=\"text-align: right;\">\n",
              "      <th></th>\n",
              "      <th>DATE</th>\n",
              "      <th>TIME</th>\n",
              "      <th>y</th>\n",
              "      <th>ds</th>\n",
              "      <th>cap</th>\n",
              "    </tr>\n",
              "  </thead>\n",
              "  <tbody>\n",
              "    <tr>\n",
              "      <th>26275</th>\n",
              "      <td>2019/12/31</td>\n",
              "      <td>19:00</td>\n",
              "      <td>3302</td>\n",
              "      <td>2019-12-31 19:00:00</td>\n",
              "      <td>5700</td>\n",
              "    </tr>\n",
              "    <tr>\n",
              "      <th>26276</th>\n",
              "      <td>2019/12/31</td>\n",
              "      <td>20:00</td>\n",
              "      <td>3263</td>\n",
              "      <td>2019-12-31 20:00:00</td>\n",
              "      <td>5700</td>\n",
              "    </tr>\n",
              "    <tr>\n",
              "      <th>26277</th>\n",
              "      <td>2019/12/31</td>\n",
              "      <td>21:00</td>\n",
              "      <td>3182</td>\n",
              "      <td>2019-12-31 21:00:00</td>\n",
              "      <td>5700</td>\n",
              "    </tr>\n",
              "    <tr>\n",
              "      <th>26278</th>\n",
              "      <td>2019/12/31</td>\n",
              "      <td>22:00</td>\n",
              "      <td>3077</td>\n",
              "      <td>2019-12-31 22:00:00</td>\n",
              "      <td>5700</td>\n",
              "    </tr>\n",
              "    <tr>\n",
              "      <th>26279</th>\n",
              "      <td>2019/12/31</td>\n",
              "      <td>23:00</td>\n",
              "      <td>3029</td>\n",
              "      <td>2019-12-31 23:00:00</td>\n",
              "      <td>5700</td>\n",
              "    </tr>\n",
              "  </tbody>\n",
              "</table>\n",
              "</div>"
            ],
            "text/plain": [
              "             DATE   TIME     y                  ds   cap\n",
              "26275  2019/12/31  19:00  3302 2019-12-31 19:00:00  5700\n",
              "26276  2019/12/31  20:00  3263 2019-12-31 20:00:00  5700\n",
              "26277  2019/12/31  21:00  3182 2019-12-31 21:00:00  5700\n",
              "26278  2019/12/31  22:00  3077 2019-12-31 22:00:00  5700\n",
              "26279  2019/12/31  23:00  3029 2019-12-31 23:00:00  5700"
            ]
          },
          "metadata": {
            "tags": []
          },
          "execution_count": 99
        }
      ]
    },
    {
      "cell_type": "code",
      "metadata": {
        "id": "nBQyorLV9p-u"
      },
      "source": [
        "model = Prophet(\n",
        "    growth='logistic',\n",
        "    yearly_seasonality = True,\n",
        "    weekly_seasonality = True,\n",
        "    daily_seasonality = True,\n",
        "    holidays=df_holidays\n",
        "\n",
        ")"
      ],
      "execution_count": null,
      "outputs": []
    },
    {
      "cell_type": "code",
      "metadata": {
        "colab": {
          "base_uri": "https://localhost:8080/"
        },
        "id": "9UUGYmz594x1",
        "outputId": "5f400488-44cd-4027-c34b-9c9d905500b6"
      },
      "source": [
        "model.fit(df)"
      ],
      "execution_count": null,
      "outputs": [
        {
          "output_type": "execute_result",
          "data": {
            "text/plain": [
              "<fbprophet.forecaster.Prophet at 0x7fd8645635d0>"
            ]
          },
          "metadata": {
            "tags": []
          },
          "execution_count": 101
        }
      ]
    },
    {
      "cell_type": "code",
      "metadata": {
        "id": "t6Zslh7k94os"
      },
      "source": [
        "future['cap'] = 5700"
      ],
      "execution_count": null,
      "outputs": []
    },
    {
      "cell_type": "code",
      "metadata": {
        "colab": {
          "base_uri": "https://localhost:8080/",
          "height": 424
        },
        "id": "W6pZ5n8wET5j",
        "outputId": "69c76124-2c2c-4c99-94f4-7151cea88de1"
      },
      "source": [
        "future"
      ],
      "execution_count": null,
      "outputs": [
        {
          "output_type": "execute_result",
          "data": {
            "text/html": [
              "<div>\n",
              "<style scoped>\n",
              "    .dataframe tbody tr th:only-of-type {\n",
              "        vertical-align: middle;\n",
              "    }\n",
              "\n",
              "    .dataframe tbody tr th {\n",
              "        vertical-align: top;\n",
              "    }\n",
              "\n",
              "    .dataframe thead th {\n",
              "        text-align: right;\n",
              "    }\n",
              "</style>\n",
              "<table border=\"1\" class=\"dataframe\">\n",
              "  <thead>\n",
              "    <tr style=\"text-align: right;\">\n",
              "      <th></th>\n",
              "      <th>ds</th>\n",
              "      <th>cap</th>\n",
              "    </tr>\n",
              "  </thead>\n",
              "  <tbody>\n",
              "    <tr>\n",
              "      <th>0</th>\n",
              "      <td>2017-01-01 00:00:00</td>\n",
              "      <td>5700</td>\n",
              "    </tr>\n",
              "    <tr>\n",
              "      <th>1</th>\n",
              "      <td>2017-01-01 01:00:00</td>\n",
              "      <td>5700</td>\n",
              "    </tr>\n",
              "    <tr>\n",
              "      <th>2</th>\n",
              "      <td>2017-01-01 02:00:00</td>\n",
              "      <td>5700</td>\n",
              "    </tr>\n",
              "    <tr>\n",
              "      <th>3</th>\n",
              "      <td>2017-01-01 03:00:00</td>\n",
              "      <td>5700</td>\n",
              "    </tr>\n",
              "    <tr>\n",
              "      <th>4</th>\n",
              "      <td>2017-01-01 04:00:00</td>\n",
              "      <td>5700</td>\n",
              "    </tr>\n",
              "    <tr>\n",
              "      <th>...</th>\n",
              "      <td>...</td>\n",
              "      <td>...</td>\n",
              "    </tr>\n",
              "    <tr>\n",
              "      <th>35059</th>\n",
              "      <td>2020-12-31 19:00:00</td>\n",
              "      <td>5700</td>\n",
              "    </tr>\n",
              "    <tr>\n",
              "      <th>35060</th>\n",
              "      <td>2020-12-31 20:00:00</td>\n",
              "      <td>5700</td>\n",
              "    </tr>\n",
              "    <tr>\n",
              "      <th>35061</th>\n",
              "      <td>2020-12-31 21:00:00</td>\n",
              "      <td>5700</td>\n",
              "    </tr>\n",
              "    <tr>\n",
              "      <th>35062</th>\n",
              "      <td>2020-12-31 22:00:00</td>\n",
              "      <td>5700</td>\n",
              "    </tr>\n",
              "    <tr>\n",
              "      <th>35063</th>\n",
              "      <td>2020-12-31 23:00:00</td>\n",
              "      <td>5700</td>\n",
              "    </tr>\n",
              "  </tbody>\n",
              "</table>\n",
              "<p>35064 rows × 2 columns</p>\n",
              "</div>"
            ],
            "text/plain": [
              "                       ds   cap\n",
              "0     2017-01-01 00:00:00  5700\n",
              "1     2017-01-01 01:00:00  5700\n",
              "2     2017-01-01 02:00:00  5700\n",
              "3     2017-01-01 03:00:00  5700\n",
              "4     2017-01-01 04:00:00  5700\n",
              "...                   ...   ...\n",
              "35059 2020-12-31 19:00:00  5700\n",
              "35060 2020-12-31 20:00:00  5700\n",
              "35061 2020-12-31 21:00:00  5700\n",
              "35062 2020-12-31 22:00:00  5700\n",
              "35063 2020-12-31 23:00:00  5700\n",
              "\n",
              "[35064 rows x 2 columns]"
            ]
          },
          "metadata": {
            "tags": []
          },
          "execution_count": 103
        }
      ]
    },
    {
      "cell_type": "code",
      "metadata": {
        "id": "0aD_dh-W94jo"
      },
      "source": [
        "forecast = model.predict(future)\n"
      ],
      "execution_count": null,
      "outputs": []
    },
    {
      "cell_type": "code",
      "metadata": {
        "colab": {
          "base_uri": "https://localhost:8080/",
          "height": 441
        },
        "id": "3bHCDoy394fX",
        "outputId": "1213bf9f-b0fe-4c48-d2b8-87c14a65ca54"
      },
      "source": [
        "model.plot(forecast)\n",
        "plt.xlim(dt(2018,1,1),dt(2018,1,10))\n",
        "plt.show()"
      ],
      "execution_count": null,
      "outputs": [
        {
          "output_type": "display_data",
          "data": {
            "image/png": "[encoded data removed]",
            "text/plain": [
              "<Figure size 720x432 with 1 Axes>"
            ]
          },
          "metadata": {
            "tags": []
          }
        }
      ]
    },
    {
      "cell_type": "code",
      "metadata": {
        "colab": {
          "base_uri": "https://localhost:8080/",
          "height": 313
        },
        "id": "o_JnNN7g94Wq",
        "outputId": "477af655-040e-4d42-acf5-a7a3fb289fc9"
      },
      "source": [
        "forecast_2020 = forecast[forecast['ds'] >= dt(2020,1,1)].reset_index(drop=True)\n",
        "forecast_2020.head()"
      ],
      "execution_count": null,
      "outputs": [
        {
          "output_type": "execute_result",
          "data": {
            "text/html": [
              "<div>\n",
              "<style scoped>\n",
              "    .dataframe tbody tr th:only-of-type {\n",
              "        vertical-align: middle;\n",
              "    }\n",
              "\n",
              "    .dataframe tbody tr th {\n",
              "        vertical-align: top;\n",
              "    }\n",
              "\n",
              "    .dataframe thead th {\n",
              "        text-align: right;\n",
              "    }\n",
              "</style>\n",
              "<table border=\"1\" class=\"dataframe\">\n",
              "  <thead>\n",
              "    <tr style=\"text-align: right;\">\n",
              "      <th></th>\n",
              "      <th>ds</th>\n",
              "      <th>trend</th>\n",
              "      <th>cap</th>\n",
              "      <th>yhat_lower</th>\n",
              "      <th>yhat_upper</th>\n",
              "      <th>trend_lower</th>\n",
              "      <th>trend_upper</th>\n",
              "      <th>additive_terms</th>\n",
              "      <th>additive_terms_lower</th>\n",
              "      <th>additive_terms_upper</th>\n",
              "      <th>daily</th>\n",
              "      <th>daily_lower</th>\n",
              "      <th>daily_upper</th>\n",
              "      <th>holiday</th>\n",
              "      <th>holiday_lower</th>\n",
              "      <th>holiday_upper</th>\n",
              "      <th>holidays</th>\n",
              "      <th>holidays_lower</th>\n",
              "      <th>holidays_upper</th>\n",
              "      <th>hotday</th>\n",
              "      <th>hotday_lower</th>\n",
              "      <th>hotday_upper</th>\n",
              "      <th>weekly</th>\n",
              "      <th>weekly_lower</th>\n",
              "      <th>weekly_upper</th>\n",
              "      <th>yearly</th>\n",
              "      <th>yearly_lower</th>\n",
              "      <th>yearly_upper</th>\n",
              "      <th>multiplicative_terms</th>\n",
              "      <th>multiplicative_terms_lower</th>\n",
              "      <th>multiplicative_terms_upper</th>\n",
              "      <th>yhat</th>\n",
              "    </tr>\n",
              "  </thead>\n",
              "  <tbody>\n",
              "    <tr>\n",
              "      <th>0</th>\n",
              "      <td>2020-01-01 00:00:00</td>\n",
              "      <td>3260.131643</td>\n",
              "      <td>5700</td>\n",
              "      <td>2642.076675</td>\n",
              "      <td>3369.145777</td>\n",
              "      <td>3260.131643</td>\n",
              "      <td>3260.131643</td>\n",
              "      <td>-264.600723</td>\n",
              "      <td>-264.600723</td>\n",
              "      <td>-264.600723</td>\n",
              "      <td>-488.412231</td>\n",
              "      <td>-488.412231</td>\n",
              "      <td>-488.412231</td>\n",
              "      <td>-136.404575</td>\n",
              "      <td>-136.404575</td>\n",
              "      <td>-136.404575</td>\n",
              "      <td>-136.404575</td>\n",
              "      <td>-136.404575</td>\n",
              "      <td>-136.404575</td>\n",
              "      <td>0.0</td>\n",
              "      <td>0.0</td>\n",
              "      <td>0.0</td>\n",
              "      <td>106.450247</td>\n",
              "      <td>106.450247</td>\n",
              "      <td>106.450247</td>\n",
              "      <td>253.765836</td>\n",
              "      <td>253.765836</td>\n",
              "      <td>253.765836</td>\n",
              "      <td>0.0</td>\n",
              "      <td>0.0</td>\n",
              "      <td>0.0</td>\n",
              "      <td>2995.530920</td>\n",
              "    </tr>\n",
              "    <tr>\n",
              "      <th>1</th>\n",
              "      <td>2020-01-01 01:00:00</td>\n",
              "      <td>3260.133809</td>\n",
              "      <td>5700</td>\n",
              "      <td>2519.374685</td>\n",
              "      <td>3228.815696</td>\n",
              "      <td>3260.133809</td>\n",
              "      <td>3260.133809</td>\n",
              "      <td>-394.622222</td>\n",
              "      <td>-394.622222</td>\n",
              "      <td>-394.622222</td>\n",
              "      <td>-617.297056</td>\n",
              "      <td>-617.297056</td>\n",
              "      <td>-617.297056</td>\n",
              "      <td>-136.404575</td>\n",
              "      <td>-136.404575</td>\n",
              "      <td>-136.404575</td>\n",
              "      <td>-136.404575</td>\n",
              "      <td>-136.404575</td>\n",
              "      <td>-136.404575</td>\n",
              "      <td>0.0</td>\n",
              "      <td>0.0</td>\n",
              "      <td>0.0</td>\n",
              "      <td>105.248625</td>\n",
              "      <td>105.248625</td>\n",
              "      <td>105.248625</td>\n",
              "      <td>253.830784</td>\n",
              "      <td>253.830784</td>\n",
              "      <td>253.830784</td>\n",
              "      <td>0.0</td>\n",
              "      <td>0.0</td>\n",
              "      <td>0.0</td>\n",
              "      <td>2865.511587</td>\n",
              "    </tr>\n",
              "    <tr>\n",
              "      <th>2</th>\n",
              "      <td>2020-01-01 02:00:00</td>\n",
              "      <td>3260.135975</td>\n",
              "      <td>5700</td>\n",
              "      <td>2432.980546</td>\n",
              "      <td>3148.220172</td>\n",
              "      <td>3260.135975</td>\n",
              "      <td>3260.135975</td>\n",
              "      <td>-472.534629</td>\n",
              "      <td>-472.534629</td>\n",
              "      <td>-472.534629</td>\n",
              "      <td>-694.361081</td>\n",
              "      <td>-694.361081</td>\n",
              "      <td>-694.361081</td>\n",
              "      <td>-136.404575</td>\n",
              "      <td>-136.404575</td>\n",
              "      <td>-136.404575</td>\n",
              "      <td>-136.404575</td>\n",
              "      <td>-136.404575</td>\n",
              "      <td>-136.404575</td>\n",
              "      <td>0.0</td>\n",
              "      <td>0.0</td>\n",
              "      <td>0.0</td>\n",
              "      <td>104.331912</td>\n",
              "      <td>104.331912</td>\n",
              "      <td>104.331912</td>\n",
              "      <td>253.899114</td>\n",
              "      <td>253.899114</td>\n",
              "      <td>253.899114</td>\n",
              "      <td>0.0</td>\n",
              "      <td>0.0</td>\n",
              "      <td>0.0</td>\n",
              "      <td>2787.601346</td>\n",
              "    </tr>\n",
              "    <tr>\n",
              "      <th>3</th>\n",
              "      <td>2020-01-01 03:00:00</td>\n",
              "      <td>3260.138141</td>\n",
              "      <td>5700</td>\n",
              "      <td>2400.047890</td>\n",
              "      <td>3105.439164</td>\n",
              "      <td>3260.138141</td>\n",
              "      <td>3260.138141</td>\n",
              "      <td>-506.689630</td>\n",
              "      <td>-506.689630</td>\n",
              "      <td>-506.689630</td>\n",
              "      <td>-727.948571</td>\n",
              "      <td>-727.948571</td>\n",
              "      <td>-727.948571</td>\n",
              "      <td>-136.404575</td>\n",
              "      <td>-136.404575</td>\n",
              "      <td>-136.404575</td>\n",
              "      <td>-136.404575</td>\n",
              "      <td>-136.404575</td>\n",
              "      <td>-136.404575</td>\n",
              "      <td>0.0</td>\n",
              "      <td>0.0</td>\n",
              "      <td>0.0</td>\n",
              "      <td>103.692680</td>\n",
              "      <td>103.692680</td>\n",
              "      <td>103.692680</td>\n",
              "      <td>253.970836</td>\n",
              "      <td>253.970836</td>\n",
              "      <td>253.970836</td>\n",
              "      <td>0.0</td>\n",
              "      <td>0.0</td>\n",
              "      <td>0.0</td>\n",
              "      <td>2753.448512</td>\n",
              "    </tr>\n",
              "    <tr>\n",
              "      <th>4</th>\n",
              "      <td>2020-01-01 04:00:00</td>\n",
              "      <td>3260.140307</td>\n",
              "      <td>5700</td>\n",
              "      <td>2418.669445</td>\n",
              "      <td>3129.494496</td>\n",
              "      <td>3260.140307</td>\n",
              "      <td>3260.140307</td>\n",
              "      <td>-487.174007</td>\n",
              "      <td>-487.174007</td>\n",
              "      <td>-487.174007</td>\n",
              "      <td>-708.134485</td>\n",
              "      <td>-708.134485</td>\n",
              "      <td>-708.134485</td>\n",
              "      <td>-136.404575</td>\n",
              "      <td>-136.404575</td>\n",
              "      <td>-136.404575</td>\n",
              "      <td>-136.404575</td>\n",
              "      <td>-136.404575</td>\n",
              "      <td>-136.404575</td>\n",
              "      <td>0.0</td>\n",
              "      <td>0.0</td>\n",
              "      <td>0.0</td>\n",
              "      <td>103.319091</td>\n",
              "      <td>103.319091</td>\n",
              "      <td>103.319091</td>\n",
              "      <td>254.045961</td>\n",
              "      <td>254.045961</td>\n",
              "      <td>254.045961</td>\n",
              "      <td>0.0</td>\n",
              "      <td>0.0</td>\n",
              "      <td>0.0</td>\n",
              "      <td>2772.966300</td>\n",
              "    </tr>\n",
              "  </tbody>\n",
              "</table>\n",
              "</div>"
            ],
            "text/plain": [
              "                   ds        trend  ...  multiplicative_terms_upper         yhat\n",
              "0 2020-01-01 00:00:00  3260.131643  ...                         0.0  2995.530920\n",
              "1 2020-01-01 01:00:00  3260.133809  ...                         0.0  2865.511587\n",
              "2 2020-01-01 02:00:00  3260.135975  ...                         0.0  2787.601346\n",
              "3 2020-01-01 03:00:00  3260.138141  ...                         0.0  2753.448512\n",
              "4 2020-01-01 04:00:00  3260.140307  ...                         0.0  2772.966300\n",
              "\n",
              "[5 rows x 32 columns]"
            ]
          },
          "metadata": {
            "tags": []
          },
          "execution_count": 109
        }
      ]
    },
    {
      "cell_type": "code",
      "metadata": {
        "id": "jCPDP4stHAJ_"
      },
      "source": [
        "results = pd.DataFrame()\n",
        "results['t'] = df_2020[ 'y' ]\n",
        "results['y'] = forecast_2020['yhat']"
      ],
      "execution_count": null,
      "outputs": []
    },
    {
      "cell_type": "code",
      "metadata": {
        "id": "q2RFpYP6HAKF"
      },
      "source": [
        "results['diff'] = results['t']-results['y']"
      ],
      "execution_count": null,
      "outputs": []
    },
    {
      "cell_type": "code",
      "metadata": {
        "colab": {
          "base_uri": "https://localhost:8080/",
          "height": 206
        },
        "id": "PotsNOegHAKH",
        "outputId": "5f7c6439-9919-413d-f596-7183e8d78bc4"
      },
      "source": [
        "results.head()"
      ],
      "execution_count": null,
      "outputs": [
        {
          "output_type": "execute_result",
          "data": {
            "text/html": [
              "<div>\n",
              "<style scoped>\n",
              "    .dataframe tbody tr th:only-of-type {\n",
              "        vertical-align: middle;\n",
              "    }\n",
              "\n",
              "    .dataframe tbody tr th {\n",
              "        vertical-align: top;\n",
              "    }\n",
              "\n",
              "    .dataframe thead th {\n",
              "        text-align: right;\n",
              "    }\n",
              "</style>\n",
              "<table border=\"1\" class=\"dataframe\">\n",
              "  <thead>\n",
              "    <tr style=\"text-align: right;\">\n",
              "      <th></th>\n",
              "      <th>t</th>\n",
              "      <th>y</th>\n",
              "      <th>diff</th>\n",
              "    </tr>\n",
              "  </thead>\n",
              "  <tbody>\n",
              "    <tr>\n",
              "      <th>0</th>\n",
              "      <td>2857</td>\n",
              "      <td>2995.530920</td>\n",
              "      <td>-138.530920</td>\n",
              "    </tr>\n",
              "    <tr>\n",
              "      <th>1</th>\n",
              "      <td>2703</td>\n",
              "      <td>2865.511587</td>\n",
              "      <td>-162.511587</td>\n",
              "    </tr>\n",
              "    <tr>\n",
              "      <th>2</th>\n",
              "      <td>2602</td>\n",
              "      <td>2787.601346</td>\n",
              "      <td>-185.601346</td>\n",
              "    </tr>\n",
              "    <tr>\n",
              "      <th>3</th>\n",
              "      <td>2520</td>\n",
              "      <td>2753.448512</td>\n",
              "      <td>-233.448512</td>\n",
              "    </tr>\n",
              "    <tr>\n",
              "      <th>4</th>\n",
              "      <td>2464</td>\n",
              "      <td>2772.966300</td>\n",
              "      <td>-308.966300</td>\n",
              "    </tr>\n",
              "  </tbody>\n",
              "</table>\n",
              "</div>"
            ],
            "text/plain": [
              "      t            y        diff\n",
              "0  2857  2995.530920 -138.530920\n",
              "1  2703  2865.511587 -162.511587\n",
              "2  2602  2787.601346 -185.601346\n",
              "3  2520  2753.448512 -233.448512\n",
              "4  2464  2772.966300 -308.966300"
            ]
          },
          "metadata": {
            "tags": []
          },
          "execution_count": 116
        }
      ]
    },
    {
      "cell_type": "code",
      "metadata": {
        "colab": {
          "base_uri": "https://localhost:8080/"
        },
        "id": "uPX8oao694MA",
        "outputId": "be568191-e29d-4b69-8a62-001a4ee81aa0"
      },
      "source": [
        "np.mean(abs((results['y']-results['t']) / results['t'])*100)"
      ],
      "execution_count": null,
      "outputs": [
        {
          "output_type": "execute_result",
          "data": {
            "text/plain": [
              "8.988907569161343"
            ]
          },
          "metadata": {
            "tags": []
          },
          "execution_count": 117
        }
      ]
    },
    {
      "cell_type": "code",
      "metadata": {
        "colab": {
          "base_uri": "https://localhost:8080/",
          "height": 1000
        },
        "id": "7pE8UFHlHSn-",
        "outputId": "607e024f-d61a-4c95-e417-d1913e1b5508"
      },
      "source": [
        "model.plot_components(forecast)\n",
        "plt.show()"
      ],
      "execution_count": null,
      "outputs": [
        {
          "output_type": "display_data",
          "data": {
            "image/png": "[encoded data removed]",
            "text/plain": [
              "<Figure size 648x1080 with 5 Axes>"
            ]
          },
          "metadata": {
            "tags": []
          }
        }
      ]
    },
    {
      "cell_type": "code",
      "metadata": {
        "id": "COAsiUyaHlOZ"
      },
      "source": [
        ""
      ],
      "execution_count": null,
      "outputs": []
    }
  ]
}