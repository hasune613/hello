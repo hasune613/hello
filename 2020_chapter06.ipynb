{
  "nbformat": 4,
  "nbformat_minor": 0,
  "metadata": {
    "colab": {
      "name": "2020_chapter06.ipynb",
      "provenance": [],
      "collapsed_sections": [],
      "include_colab_link": true
    },
    "kernelspec": {
      "display_name": "Python 3",
      "name": "python3"
    }
  },
  "cells": [
    {
      "cell_type": "markdown",
      "metadata": {
        "id": "view-in-github",
        "colab_type": "text"
      },
      "source": [
        "<a href=\"https://colab.research.google.com/github/hasune613/hello-world/blob/main/2020_chapter06.ipynb\" target=\"_parent\"><img src=\"https://colab.research.google.com/assets/colab-badge.svg\" alt=\"Open In Colab\"/></a>"
      ]
    },
    {
      "cell_type": "markdown",
      "metadata": {
        "id": "hDlDLGQhxg5f"
      },
      "source": [
        "# 第6章: 機械学習\n",
        "本章では，Fabio Gasparetti氏が公開しているNews Aggregator Data Setを用い，ニュース記事の見出しを「ビジネス」「科学技術」「エンターテイメント」「健康」のカテゴリに分類するタスク（カテゴリ分類）に取り組む．"
      ]
    },
    {
      "cell_type": "code",
      "metadata": {
        "colab": {
          "base_uri": "https://localhost:8080/"
        },
        "id": "elePSKuka8RL",
        "outputId": "5f2914a4-b1ad-4528-e9ee-fee42640fda4"
      },
      "source": [
        "from google.colab import drive\n",
        "drive.mount('/content/drive')"
      ],
      "execution_count": null,
      "outputs": [
        {
          "output_type": "stream",
          "name": "stdout",
          "text": [
            "Mounted at /content/drive\n"
          ]
        }
      ]
    },
    {
      "cell_type": "markdown",
      "metadata": {
        "id": "913DLklExns7"
      },
      "source": [
        "## 50. データの入手・整形\n",
        "***\n",
        "News Aggregator Data Setをダウンロードし、以下の要領で学習データ（train.txt），検証データ（valid.txt），評価データ（test.txt）を作成せよ．\n",
        "\n",
        "1.   ダウンロードしたzipファイルを解凍し，readme.txtの説明を読む．\n",
        "2.   情報源（publisher）が”Reuters”, “Huffington Post”, “Businessweek”, “Contactmusic.com”, “Daily Mail”の事例（記事）のみを抽出する．\n",
        "1.   抽出された事例をランダムに並び替える．\n",
        "2.   抽出された事例の80%を学習データ，残りの10%ずつを検証データと評価データに分割し，それぞれtrain.txt，valid.txt，test.txtというファイル名で保存する．ファイルには，１行に１事例を書き出すこととし，カテゴリ名と記事見出しのタブ区切り形式とせよ（このファイルは後に問題70で再利用する）．\n",
        "\n",
        "学習データと評価データを作成したら，各カテゴリの事例数を確認せよ．"
      ]
    },
    {
      "cell_type": "code",
      "metadata": {
        "colab": {
          "base_uri": "https://localhost:8080/"
        },
        "id": "wXZqs_xUOqqR",
        "outputId": "4a0ff2eb-78fe-4c15-b66f-9000da211d82"
      },
      "source": [
        "!wget https://archive.ics.uci.edu/ml/machine-learning-databases/00359/NewsAggregatorDataset.zip\n",
        "!unzip NewsAggregatorDataset.zip"
      ],
      "execution_count": null,
      "outputs": [
        {
          "output_type": "stream",
          "name": "stdout",
          "text": [
            "--2021-11-03 06:53:14--  https://archive.ics.uci.edu/ml/machine-learning-databases/00359/NewsAggregatorDataset.zip\n",
            "Resolving archive.ics.uci.edu (archive.ics.uci.edu)... 128.195.10.252\n",
            "Connecting to archive.ics.uci.edu (archive.ics.uci.edu)|128.195.10.252|:443... connected.\n",
            "HTTP request sent, awaiting response... 200 OK\n",
            "Length: 29224203 (28M) [application/x-httpd-php]\n",
            "Saving to: ‘NewsAggregatorDataset.zip’\n",
            "\n",
            "NewsAggregatorDatas 100%[===================>]  27.87M  57.2MB/s    in 0.5s    \n",
            "\n",
            "2021-11-03 06:53:15 (57.2 MB/s) - ‘NewsAggregatorDataset.zip’ saved [29224203/29224203]\n",
            "\n",
            "Archive:  NewsAggregatorDataset.zip\n",
            "  inflating: 2pageSessions.csv       \n",
            "   creating: __MACOSX/\n",
            "  inflating: __MACOSX/._2pageSessions.csv  \n",
            "  inflating: newsCorpora.csv         \n",
            "  inflating: __MACOSX/._newsCorpora.csv  \n",
            "  inflating: readme.txt              \n",
            "  inflating: __MACOSX/._readme.txt   \n"
          ]
        }
      ]
    },
    {
      "cell_type": "code",
      "metadata": {
        "colab": {
          "base_uri": "https://localhost:8080/"
        },
        "id": "nL8QxhZMOvQT",
        "outputId": "5e244158-2958-488d-f92f-57b85b28c693"
      },
      "source": [
        "!wc -l ./newsCorpora.csv\n"
      ],
      "execution_count": null,
      "outputs": [
        {
          "output_type": "stream",
          "name": "stdout",
          "text": [
            "422937 ./newsCorpora.csv\n"
          ]
        }
      ]
    },
    {
      "cell_type": "code",
      "metadata": {
        "colab": {
          "base_uri": "https://localhost:8080/"
        },
        "id": "YQgz8tcBO1Ha",
        "outputId": "c5db5aa2-f210-4c63-c87f-b358dc4c7e53"
      },
      "source": [
        "!head -10 ./newsCorpora.csv"
      ],
      "execution_count": null,
      "outputs": [
        {
          "output_type": "stream",
          "name": "stdout",
          "text": [
            "1\tFed official says weak data caused by weather, should not slow taper\thttp://www.latimes.com/business/money/la-fi-mo-federal-reserve-plosser-stimulus-economy-20140310,0,1312750.story\\?track=rss\tLos Angeles Times\tb\tddUyU0VZz0BRneMioxUPQVP6sIxvM\twww.latimes.com\t1394470370698\n",
            "2\tFed's Charles Plosser sees high bar for change in pace of tapering\thttp://www.livemint.com/Politics/H2EvwJSK2VE6OF7iK1g3PP/Feds-Charles-Plosser-sees-high-bar-for-change-in-pace-of-ta.html\tLivemint\tb\tddUyU0VZz0BRneMioxUPQVP6sIxvM\twww.livemint.com\t1394470371207\n",
            "3\tUS open: Stocks fall after Fed official hints at accelerated tapering\thttp://www.ifamagazine.com/news/us-open-stocks-fall-after-fed-official-hints-at-accelerated-tapering-294436\tIFA Magazine\tb\tddUyU0VZz0BRneMioxUPQVP6sIxvM\twww.ifamagazine.com\t1394470371550\n",
            "4\tFed risks falling 'behind the curve', Charles Plosser says\thttp://www.ifamagazine.com/news/fed-risks-falling-behind-the-curve-charles-plosser-says-294430\tIFA Magazine\tb\tddUyU0VZz0BRneMioxUPQVP6sIxvM\twww.ifamagazine.com\t1394470371793\n",
            "5\tFed's Plosser: Nasty Weather Has Curbed Job Growth\thttp://www.moneynews.com/Economy/federal-reserve-charles-plosser-weather-job-growth/2014/03/10/id/557011\tMoneynews\tb\tddUyU0VZz0BRneMioxUPQVP6sIxvM\twww.moneynews.com\t1394470372027\n",
            "6\tPlosser: Fed May Have to Accelerate Tapering Pace\thttp://www.nasdaq.com/article/plosser-fed-may-have-to-accelerate-tapering-pace-20140310-00371\tNASDAQ\tb\tddUyU0VZz0BRneMioxUPQVP6sIxvM\twww.nasdaq.com\t1394470372212\n",
            "7\tFed's Plosser: Taper pace may be too slow\thttp://www.marketwatch.com/story/feds-plosser-taper-pace-may-be-too-slow-2014-03-10\\?reflink=MW_news_stmp\tMarketWatch\tb\tddUyU0VZz0BRneMioxUPQVP6sIxvM\twww.marketwatch.com\t1394470372405\n",
            "8\tFed's Plosser expects US unemployment to fall to 6.2% by the end of 2014\thttp://www.fxstreet.com/news/forex-news/article.aspx\\?storyid=23285020-b1b5-47ed-a8c4-96124bb91a39\tFXstreet.com\tb\tddUyU0VZz0BRneMioxUPQVP6sIxvM\twww.fxstreet.com\t1394470372615\n",
            "9\tUS jobs growth last month hit by weather:Fed President Charles Plosser\thttp://economictimes.indiatimes.com/news/international/business/us-jobs-growth-last-month-hit-by-weatherfed-president-charles-plosser/articleshow/31788000.cms\tEconomic Times\tb\tddUyU0VZz0BRneMioxUPQVP6sIxvM\teconomictimes.indiatimes.com\t1394470372792\n",
            "10\tECB unlikely to end sterilisation of SMP purchases - traders\thttp://www.iii.co.uk/news-opinion/reuters/news/152615\tInteractive Investor\tb\tdPhGU51DcrolUIMxbRm0InaHGA2XM\twww.iii.co.uk\t1394470501265\n"
          ]
        }
      ]
    },
    {
      "cell_type": "code",
      "metadata": {
        "id": "84bS7vU516-Q"
      },
      "source": [
        "!sed -e 's/\"/'\\''/g' ./newsCorpora.csv > ./newsCorpora_re.csv"
      ],
      "execution_count": null,
      "outputs": []
    },
    {
      "cell_type": "code",
      "metadata": {
        "id": "AVEhvakWcO3b"
      },
      "source": [
        "import pandas as pd\n",
        "from sklearn.model_selection import train_test_split"
      ],
      "execution_count": null,
      "outputs": []
    },
    {
      "cell_type": "code",
      "metadata": {
        "colab": {
          "base_uri": "https://localhost:8080/"
        },
        "id": "r0QVAN_Qcaub",
        "outputId": "3f5c4f77-2f72-4f5f-cdfd-74aac9a41410"
      },
      "source": [
        "#データの呼び込み\n",
        "df = pd.read_csv('./newsCorpora_re.csv', header=None, sep='\\t', names=['ID', 'TITLE', 'URL', 'PUBLISHER', 'CATEGORY', 'STORY', 'HOSTNAME', 'TIMESTAMP'])\n",
        "# df.PUBLISHER.tolist()\n",
        "\n",
        "# データの抽出\n",
        "df= df.loc[df['PUBLISHER'].isin(['Reuters', 'Huffington Post', 'Businessweek', 'Contactmusic.com', 'Daily Mail']), ['TITLE', 'CATEGORY']]\n",
        "\n",
        "#データの分割\n",
        "train,valid_test = train_test_split(df,test_size = 0.2, shuffle=True,random_state=123, stratify=df['CATEGORY'])\n",
        "valid,test = train_test_split(valid_test, test_size = 0.5,shuffle=True, random_state=123, stratify = valid_test['CATEGORY'])\n",
        "\n",
        "#データの保存\n",
        "train.to_csv('./train.txt',sep='\\t',index = False)\n",
        "valid.to_csv('./valid.txt',sep='\\t',index = False)\n",
        "test.to_csv('./test.txt',sep='\\t',index = False)\n",
        "\n",
        "#事例数の確認\n",
        "print(' 【学習データ】')\n",
        "print(train['CATEGORY'].value_counts())\n",
        "print(' 【検証データ】')\n",
        "print(valid['CATEGORY'].value_counts())\n",
        "print(' 【評価データ】')\n",
        "print(test['CATEGORY'].value_counts())"
      ],
      "execution_count": null,
      "outputs": [
        {
          "output_type": "stream",
          "name": "stdout",
          "text": [
            " 【学習データ】\n",
            "b    4501\n",
            "e    4235\n",
            "t    1220\n",
            "m     728\n",
            "Name: CATEGORY, dtype: int64\n",
            " 【検証データ】\n",
            "b    563\n",
            "e    529\n",
            "t    153\n",
            "m     91\n",
            "Name: CATEGORY, dtype: int64\n",
            " 【評価データ】\n",
            "b    563\n",
            "e    530\n",
            "t    152\n",
            "m     91\n",
            "Name: CATEGORY, dtype: int64\n"
          ]
        }
      ]
    },
    {
      "cell_type": "markdown",
      "metadata": {
        "id": "xOHzY5hYz6c-"
      },
      "source": [
        "## 51. 特徴量抽出\n",
        "***\n",
        "学習データ，検証データ，評価データから特徴量を抽出し，それぞれtrain.feature.txt，valid.feature.txt，test.feature.txtというファイル名で保存せよ． なお，カテゴリ分類に有用そうな特徴量は各自で自由に設計せよ．記事の見出しを単語列に変換したものが最低限のベースラインとなるであろう．"
      ]
    },
    {
      "cell_type": "code",
      "metadata": {
        "id": "YhJnyrw4b2D7"
      },
      "source": [
        "import string\n",
        "import re\n",
        "\n",
        "def preprocessing(text):\n",
        "  table = str.maketrans(string.punctuation, ' '*len(string.punctuation))\n",
        "  #string.punctuation=!\"#$%&\\'()*+,-./:;<=>?@[\\\\]^_`{|}~を同じ長さの32個分の' '（スペース）で置換 \n",
        "  text = text.translate(table) \n",
        "  text = text.lower()#小文字化\n",
        "  text = re.sub('[0-9]+','0',text)#数字列を0に置換\n",
        "  return text  "
      ],
      "execution_count": null,
      "outputs": []
    },
    {
      "cell_type": "code",
      "metadata": {
        "colab": {
          "base_uri": "https://localhost:8080/",
          "height": 206
        },
        "id": "MTBP0WOj7ODj",
        "outputId": "f67e458d-aaf2-4da9-989f-c81e9cbdc087"
      },
      "source": [
        "df = pd.concat([train,valid,test],axis=0)\n",
        "df.reset_index(drop=True, inplace=True)\n",
        "\n",
        "df['TITLE']  = df['TITLE'].map(lambda x :  preprocessing(x))\n",
        "df.head()"
      ],
      "execution_count": null,
      "outputs": [
        {
          "output_type": "execute_result",
          "data": {
            "text/html": [
              "<div>\n",
              "<style scoped>\n",
              "    .dataframe tbody tr th:only-of-type {\n",
              "        vertical-align: middle;\n",
              "    }\n",
              "\n",
              "    .dataframe tbody tr th {\n",
              "        vertical-align: top;\n",
              "    }\n",
              "\n",
              "    .dataframe thead th {\n",
              "        text-align: right;\n",
              "    }\n",
              "</style>\n",
              "<table border=\"1\" class=\"dataframe\">\n",
              "  <thead>\n",
              "    <tr style=\"text-align: right;\">\n",
              "      <th></th>\n",
              "      <th>TITLE</th>\n",
              "      <th>CATEGORY</th>\n",
              "    </tr>\n",
              "  </thead>\n",
              "  <tbody>\n",
              "    <tr>\n",
              "      <th>0</th>\n",
              "      <td>refile update 0 european car sales up for sixt...</td>\n",
              "      <td>b</td>\n",
              "    </tr>\n",
              "    <tr>\n",
              "      <th>1</th>\n",
              "      <td>amazon plans to fight ftc over mobile app purc...</td>\n",
              "      <td>t</td>\n",
              "    </tr>\n",
              "    <tr>\n",
              "      <th>2</th>\n",
              "      <td>kids still get codeine in emergency rooms desp...</td>\n",
              "      <td>m</td>\n",
              "    </tr>\n",
              "    <tr>\n",
              "      <th>3</th>\n",
              "      <td>what on earth happened between solange and jay...</td>\n",
              "      <td>e</td>\n",
              "    </tr>\n",
              "    <tr>\n",
              "      <th>4</th>\n",
              "      <td>nato missile defense is flight tested over hawaii</td>\n",
              "      <td>b</td>\n",
              "    </tr>\n",
              "  </tbody>\n",
              "</table>\n",
              "</div>"
            ],
            "text/plain": [
              "                                               TITLE CATEGORY\n",
              "0  refile update 0 european car sales up for sixt...        b\n",
              "1  amazon plans to fight ftc over mobile app purc...        t\n",
              "2  kids still get codeine in emergency rooms desp...        m\n",
              "3  what on earth happened between solange and jay...        e\n",
              "4  nato missile defense is flight tested over hawaii        b"
            ]
          },
          "metadata": {},
          "execution_count": 9
        }
      ]
    },
    {
      "cell_type": "code",
      "metadata": {
        "id": "LkZJ-IFN-iVg"
      },
      "source": [
        "from sklearn.feature_extraction.text import TfidfVectorizer"
      ],
      "execution_count": null,
      "outputs": []
    },
    {
      "cell_type": "code",
      "metadata": {
        "id": "C-RbWZ9V_WqV"
      },
      "source": [
        "#データの分割\n",
        "train_valid ,test= df[:len(train) + len(valid)],df[len(train) + len(valid):] #train_valid(12020), test(1336)\n",
        "\n",
        "TfidfVectorizer\n",
        "vec_tfidf = TfidfVectorizer(min_df=10, ngram_range=(1,2))\n",
        "\n",
        "#ベクトル化\n",
        "X_train_valid = vec_tfidf.fit_transform(train_valid['TITLE'])\n",
        "X_test = vec_tfidf.transform(test['TITLE'])\n",
        "\n",
        "# ベクトルをデータフレームに変換\n",
        "X_train_valid = pd.DataFrame(X_train_valid.toarray(), columns=vec_tfidf.get_feature_names())\n",
        "X_test = pd.DataFrame(X_test.toarray(),columns=vec_tfidf.get_feature_names())\n",
        "\n",
        "#データの分割\n",
        "X_train ,X_valid = X_train_valid[:len(train)],X_train_valid[len(train):]\n",
        "# len(X_train), len(X_valid)\n",
        "\n",
        "#データの保存\n",
        "X_train.to_csv('./train.feature.txt',sep='\\t', index = False)\n",
        "X_valid.to_csv('./valid.feature.txt',sep='\\t', index = False)\n",
        "X_test.to_csv('./test.feature.txt',sep='\\t', index = False)"
      ],
      "execution_count": null,
      "outputs": []
    },
    {
      "cell_type": "code",
      "metadata": {
        "colab": {
          "base_uri": "https://localhost:8080/"
        },
        "id": "zISfqsSZSwnR",
        "outputId": "c81b5db9-ec0e-418f-e018-95a5cb6d25d3"
      },
      "source": [
        "X_train.shape"
      ],
      "execution_count": null,
      "outputs": [
        {
          "output_type": "execute_result",
          "data": {
            "text/plain": [
              "(10684, 2815)"
            ]
          },
          "metadata": {},
          "execution_count": 12
        }
      ]
    },
    {
      "cell_type": "markdown",
      "metadata": {
        "id": "gOxu1vnh0Dtr"
      },
      "source": [
        "## 52. 学習\n",
        "***\n",
        "51で構築した学習データを用いて，ロジスティック回帰モデルを学習せよ．"
      ]
    },
    {
      "cell_type": "code",
      "metadata": {
        "colab": {
          "base_uri": "https://localhost:8080/"
        },
        "id": "OfR_clvrS1oI",
        "outputId": "057351c6-0c89-4cd1-968f-109d0f1fc7f4"
      },
      "source": [
        "from sklearn.linear_model import LogisticRegression\n",
        "\n",
        "lg = LogisticRegression(random_state=123, max_iter = 1000)\n",
        "lg.fit(X_train,train['CATEGORY'])"
      ],
      "execution_count": null,
      "outputs": [
        {
          "output_type": "execute_result",
          "data": {
            "text/plain": [
              "LogisticRegression(C=1.0, class_weight=None, dual=False, fit_intercept=True,\n",
              "                   intercept_scaling=1, l1_ratio=None, max_iter=1000,\n",
              "                   multi_class='auto', n_jobs=None, penalty='l2',\n",
              "                   random_state=123, solver='lbfgs', tol=0.0001, verbose=0,\n",
              "                   warm_start=False)"
            ]
          },
          "metadata": {},
          "execution_count": 13
        }
      ]
    },
    {
      "cell_type": "markdown",
      "metadata": {
        "id": "gFBZX7Zf0IRH"
      },
      "source": [
        "## 53. 予測\n",
        "***\n",
        "52で学習したロジスティック回帰モデルを用い，与えられた記事見出しからカテゴリとその予測確率を計算するプログラムを実装せよ．"
      ]
    },
    {
      "cell_type": "code",
      "metadata": {
        "id": "psdnuDDETwvM"
      },
      "source": [
        "import numpy as np\n",
        "\n",
        "def score_lg(lg, X):\n",
        "  return [np.max(lg.predict_proba(X) , axis=1), lg.predict(X)]"
      ],
      "execution_count": null,
      "outputs": []
    },
    {
      "cell_type": "code",
      "metadata": {
        "colab": {
          "base_uri": "https://localhost:8080/"
        },
        "id": "u7o9uv8lU2tt",
        "outputId": "095a440a-33cf-4e82-d619-07ce5f1b7394"
      },
      "source": [
        "train_pred = score_lg(lg,X_train)\n",
        "test_pred = score_lg(lg,X_test)\n",
        "\n",
        "print(train_pred)\n",
        "print(test_pred)\n"
      ],
      "execution_count": null,
      "outputs": [
        {
          "output_type": "stream",
          "name": "stdout",
          "text": [
            "[array([0.84027948, 0.67904336, 0.55638881, ..., 0.86051   , 0.61359296,\n",
            "       0.90828249]), array(['b', 't', 'm', ..., 'b', 'm', 'e'], dtype=object)]\n",
            "[array([0.85872966, 0.83026019, 0.95798309, ..., 0.95016115, 0.9164933 ,\n",
            "       0.74312599]), array(['e', 'e', 'b', ..., 'e', 'e', 't'], dtype=object)]\n"
          ]
        }
      ]
    },
    {
      "cell_type": "markdown",
      "metadata": {
        "id": "yPgQK28K1qsQ"
      },
      "source": [
        "## 54. 正解率の計測\n",
        "***\n",
        "52で学習したロジスティック回帰モデルの正解率を，学習データおよび評価データ上で計測せよ。"
      ]
    },
    {
      "cell_type": "code",
      "metadata": {
        "id": "gtKZFN3nVNu6"
      },
      "source": [
        "from sklearn.metrics import accuracy_score"
      ],
      "execution_count": null,
      "outputs": []
    },
    {
      "cell_type": "code",
      "metadata": {
        "colab": {
          "base_uri": "https://localhost:8080/"
        },
        "id": "pQttLPc1VUoL",
        "outputId": "1cc89d58-6d30-4c8a-ea38-40b602179fd9"
      },
      "source": [
        "train_accuracy = accuracy_score(train['CATEGORY'],train_pred[1])\n",
        "test_accuracy = accuracy_score(test['CATEGORY'],test_pred[1])\n",
        "print(f'【正解率（学習用）】: {train_accuracy:.3f}')\n",
        "print(f'【正解率（評価用）】: {test_accuracy:.3f}')"
      ],
      "execution_count": null,
      "outputs": [
        {
          "output_type": "stream",
          "name": "stdout",
          "text": [
            "【正解率（学習用）】: 0.927\n",
            "【正解率（評価用）】: 0.885\n"
          ]
        }
      ]
    },
    {
      "cell_type": "markdown",
      "metadata": {
        "id": "FuwTLmoR15yR"
      },
      "source": [
        "## 55. 混同行列の作成\n",
        "***\n",
        "52で学習したロジスティック回帰モデルの混同行列（confusion matrix）を，学習データおよび評価データ上で作成せよ．"
      ]
    },
    {
      "cell_type": "code",
      "metadata": {
        "id": "iHJVINZOWo_J"
      },
      "source": [
        "from sklearn.metrics import confusion_matrix\n",
        "import seaborn as sns\n",
        "import matplotlib.pyplot as plt"
      ],
      "execution_count": null,
      "outputs": []
    },
    {
      "cell_type": "code",
      "metadata": {
        "colab": {
          "base_uri": "https://localhost:8080/",
          "height": 334
        },
        "id": "YCLBU6oXXAHE",
        "outputId": "9c014238-4e9b-4fe1-e3b9-1fdd967b74f0"
      },
      "source": [
        "train_cm = confusion_matrix(train['CATEGORY'],train_pred[1])\n",
        "print(train_cm)\n",
        "sns.heatmap(train_cm, annot=True, cmap='Blues')\n",
        "plt.show()"
      ],
      "execution_count": null,
      "outputs": [
        {
          "output_type": "stream",
          "name": "stdout",
          "text": [
            "[[4344   93    8   56]\n",
            " [  52 4173    2    8]\n",
            " [  96  125  494   13]\n",
            " [ 192  133    7  888]]\n"
          ]
        },
        {
          "output_type": "display_data",
          "data": {
            "image/png": "[encoded data removed]",
            "text/plain": [
              "<Figure size 432x288 with 2 Axes>"
            ]
          },
          "metadata": {
            "needs_background": "light"
          }
        }
      ]
    },
    {
      "cell_type": "code",
      "metadata": {
        "colab": {
          "base_uri": "https://localhost:8080/",
          "height": 334
        },
        "id": "6dgjRAMVXskw",
        "outputId": "cf773958-3710-4420-a954-6bc2d2e40b7e"
      },
      "source": [
        "test_cm = confusion_matrix(test['CATEGORY'],test_pred[1])\n",
        "print(test_cm)\n",
        "sns.heatmap(test_cm, annot=True, cmap='Reds')\n",
        "plt.show()"
      ],
      "execution_count": null,
      "outputs": [
        {
          "output_type": "stream",
          "name": "stdout",
          "text": [
            "[[528  20   2  13]\n",
            " [ 12 516   1   1]\n",
            " [ 11  26  52   2]\n",
            " [ 38  26   1  87]]\n"
          ]
        },
        {
          "output_type": "display_data",
          "data": {
            "image/png": "[encoded data removed]",
            "text/plain": [
              "<Figure size 432x288 with 2 Axes>"
            ]
          },
          "metadata": {
            "needs_background": "light"
          }
        }
      ]
    },
    {
      "cell_type": "markdown",
      "metadata": {
        "id": "dsvqBAg22CrH"
      },
      "source": [
        "## 56. 適合率，再現率，F1スコアの計測\n",
        "***\n",
        "52で学習したロジスティック回帰モデルの適合率，再現率，F1スコアを，評価データ上で計測せよ．カテゴリごとに適合率，再現率，F1スコアを求め，カテゴリごとの性能をマイクロ平均（micro-average）とマクロ平均（macro-average）で統合せよ．"
      ]
    },
    {
      "cell_type": "code",
      "metadata": {
        "id": "HKBcspapPcAG"
      },
      "source": [
        "from sklearn.metrics import precision_score,recall_score,f1_score"
      ],
      "execution_count": null,
      "outputs": []
    },
    {
      "cell_type": "code",
      "metadata": {
        "id": "E0sCY6xCPoJv"
      },
      "source": [
        "def calculate_scores(y_true,y_pred):\n",
        "\n",
        "  #適合率 正予測の正答率(TP/TP+FP)\n",
        "  precision = precision_score(test['CATEGORY'],test_pred[1],average=None, labels=['b','e','t','m'])# Noneを指定するとクラスごとの精度をndarrayで返す\n",
        "  precision = np.append(precision,precision_score(y_true, y_pred, average = 'micro'))# 末尾にマイクロ平均を追加\n",
        "  precision = np.append(precision,precision_score(y_true, y_pred, average = 'macro'))# 末尾にマクロ平均を追加\n",
        "  \n",
        "  #再現率 正に対する正答率(TP/TP+FN)          \n",
        "  recall = recall_score(test['CATEGORY'],test_pred[1],average=None,labels=['b','e','t','m'])\n",
        "  recall = np.append(recall,recall_score(y_true,y_pred,average='micro'))\n",
        "  recall = np.append(recall,recall_score(y_true,y_pred,average='macro'))\n",
        "\n",
        "  #F1スコア 適合率と再現率の調和平均(2*(Precision×Recal)/(Precision+Recall))\n",
        "  f1 = f1_score(test['CATEGORY'],test_pred[1],average=None,labels=['b','e','t','m'])\n",
        "  f1 = np.append(f1,f1_score(y_true,y_pred,average='micro'))\n",
        "  f1 = np.append(f1,f1_score(y_true,y_pred,average='macro'))\n",
        "\n",
        "  scores = pd.DataFrame({'適合率':precision,\n",
        "                         '再現率':recall,\n",
        "                         'F1':f1},\n",
        "                        index = ['b','e','t','m','マイクロ平均','マクロ平均'])\n",
        "  return scores\n"
      ],
      "execution_count": null,
      "outputs": []
    },
    {
      "cell_type": "code",
      "metadata": {
        "colab": {
          "base_uri": "https://localhost:8080/",
          "height": 237
        },
        "id": "9Fdc3PgEHg9Q",
        "outputId": "0beefb10-e954-431f-ab7c-134c264df64a"
      },
      "source": [
        "pd.options.display.precision = 3 # 小数点以下3桁まで表示\n",
        "calculate_scores(test['CATEGORY'],test_pred[1])"
      ],
      "execution_count": null,
      "outputs": [
        {
          "output_type": "execute_result",
          "data": {
            "text/html": [
              "<div>\n",
              "<style scoped>\n",
              "    .dataframe tbody tr th:only-of-type {\n",
              "        vertical-align: middle;\n",
              "    }\n",
              "\n",
              "    .dataframe tbody tr th {\n",
              "        vertical-align: top;\n",
              "    }\n",
              "\n",
              "    .dataframe thead th {\n",
              "        text-align: right;\n",
              "    }\n",
              "</style>\n",
              "<table border=\"1\" class=\"dataframe\">\n",
              "  <thead>\n",
              "    <tr style=\"text-align: right;\">\n",
              "      <th></th>\n",
              "      <th>適合率</th>\n",
              "      <th>再現率</th>\n",
              "      <th>F1</th>\n",
              "    </tr>\n",
              "  </thead>\n",
              "  <tbody>\n",
              "    <tr>\n",
              "      <th>b</th>\n",
              "      <td>0.896</td>\n",
              "      <td>0.938</td>\n",
              "      <td>0.917</td>\n",
              "    </tr>\n",
              "    <tr>\n",
              "      <th>e</th>\n",
              "      <td>0.878</td>\n",
              "      <td>0.974</td>\n",
              "      <td>0.923</td>\n",
              "    </tr>\n",
              "    <tr>\n",
              "      <th>t</th>\n",
              "      <td>0.845</td>\n",
              "      <td>0.572</td>\n",
              "      <td>0.682</td>\n",
              "    </tr>\n",
              "    <tr>\n",
              "      <th>m</th>\n",
              "      <td>0.929</td>\n",
              "      <td>0.571</td>\n",
              "      <td>0.707</td>\n",
              "    </tr>\n",
              "    <tr>\n",
              "      <th>マイクロ平均</th>\n",
              "      <td>0.885</td>\n",
              "      <td>0.885</td>\n",
              "      <td>0.885</td>\n",
              "    </tr>\n",
              "    <tr>\n",
              "      <th>マクロ平均</th>\n",
              "      <td>0.887</td>\n",
              "      <td>0.764</td>\n",
              "      <td>0.807</td>\n",
              "    </tr>\n",
              "  </tbody>\n",
              "</table>\n",
              "</div>"
            ],
            "text/plain": [
              "          適合率    再現率     F1\n",
              "b       0.896  0.938  0.917\n",
              "e       0.878  0.974  0.923\n",
              "t       0.845  0.572  0.682\n",
              "m       0.929  0.571  0.707\n",
              "マイクロ平均  0.885  0.885  0.885\n",
              "マクロ平均   0.887  0.764  0.807"
            ]
          },
          "metadata": {},
          "execution_count": 23
        }
      ]
    },
    {
      "cell_type": "markdown",
      "metadata": {
        "id": "QVr8cs8B2I7l"
      },
      "source": [
        "## 57. 特徴量の重みの確認\n",
        "***\n",
        "52で学習したロジスティック回帰モデルの中で，重みの高い特徴量トップ10と，重みの低い特徴量トップ10を確認せよ．"
      ]
    },
    {
      "cell_type": "code",
      "metadata": {
        "colab": {
          "base_uri": "https://localhost:8080/",
          "height": 639
        },
        "id": "zvRp3eZXJC_2",
        "outputId": "3091e799-7b5a-417a-f897-abf1ebcc0418"
      },
      "source": [
        "features = X_train.columns.values \n",
        "# features ['0m', '0million', '0nd', ..., 'zac efron', 'zendaya', 'zone'],\n",
        "# len(set(features))\n",
        "index = [i for i in range(1,11)]\n",
        "for c, coef in zip(lg.classes_,lg.coef_):#lg.classes_,['b', 'e', 'm', 't'],\n",
        "  print(f'【カテゴリ】{c}')\n",
        "  best10 = pd.DataFrame(features[np.argsort(coef)[::-1][:10]],columns=['重要度上位10'],index = index).T\n",
        "  worst10 = pd.DataFrame(features[np.argsort(coef)[:10]],columns=['重要度下位10'],index = index).T\n",
        "  display(pd.concat([best10,worst10],axis=0))\n",
        "  print('\\n')"
      ],
      "execution_count": null,
      "outputs": [
        {
          "output_type": "stream",
          "name": "stdout",
          "text": [
            "【カテゴリ】b\n"
          ]
        },
        {
          "output_type": "display_data",
          "data": {
            "text/html": [
              "<div>\n",
              "<style scoped>\n",
              "    .dataframe tbody tr th:only-of-type {\n",
              "        vertical-align: middle;\n",
              "    }\n",
              "\n",
              "    .dataframe tbody tr th {\n",
              "        vertical-align: top;\n",
              "    }\n",
              "\n",
              "    .dataframe thead th {\n",
              "        text-align: right;\n",
              "    }\n",
              "</style>\n",
              "<table border=\"1\" class=\"dataframe\">\n",
              "  <thead>\n",
              "    <tr style=\"text-align: right;\">\n",
              "      <th></th>\n",
              "      <th>1</th>\n",
              "      <th>2</th>\n",
              "      <th>3</th>\n",
              "      <th>4</th>\n",
              "      <th>5</th>\n",
              "      <th>6</th>\n",
              "      <th>7</th>\n",
              "      <th>8</th>\n",
              "      <th>9</th>\n",
              "      <th>10</th>\n",
              "    </tr>\n",
              "  </thead>\n",
              "  <tbody>\n",
              "    <tr>\n",
              "      <th>重要度上位10</th>\n",
              "      <td>bank</td>\n",
              "      <td>fed</td>\n",
              "      <td>china</td>\n",
              "      <td>ecb</td>\n",
              "      <td>stocks</td>\n",
              "      <td>euro</td>\n",
              "      <td>obamacare</td>\n",
              "      <td>oil</td>\n",
              "      <td>yellen</td>\n",
              "      <td>dollar</td>\n",
              "    </tr>\n",
              "    <tr>\n",
              "      <th>重要度下位10</th>\n",
              "      <td>video</td>\n",
              "      <td>ebola</td>\n",
              "      <td>the</td>\n",
              "      <td>her</td>\n",
              "      <td>and</td>\n",
              "      <td>she</td>\n",
              "      <td>apple</td>\n",
              "      <td>google</td>\n",
              "      <td>star</td>\n",
              "      <td>microsoft</td>\n",
              "    </tr>\n",
              "  </tbody>\n",
              "</table>\n",
              "</div>"
            ],
            "text/plain": [
              "            1      2      3    4   ...         7       8       9          10\n",
              "重要度上位10   bank    fed  china  ecb  ...  obamacare     oil  yellen     dollar\n",
              "重要度下位10  video  ebola    the  her  ...      apple  google    star  microsoft\n",
              "\n",
              "[2 rows x 10 columns]"
            ]
          },
          "metadata": {}
        },
        {
          "output_type": "stream",
          "name": "stdout",
          "text": [
            "\n",
            "\n",
            "【カテゴリ】e\n"
          ]
        },
        {
          "output_type": "display_data",
          "data": {
            "text/html": [
              "<div>\n",
              "<style scoped>\n",
              "    .dataframe tbody tr th:only-of-type {\n",
              "        vertical-align: middle;\n",
              "    }\n",
              "\n",
              "    .dataframe tbody tr th {\n",
              "        vertical-align: top;\n",
              "    }\n",
              "\n",
              "    .dataframe thead th {\n",
              "        text-align: right;\n",
              "    }\n",
              "</style>\n",
              "<table border=\"1\" class=\"dataframe\">\n",
              "  <thead>\n",
              "    <tr style=\"text-align: right;\">\n",
              "      <th></th>\n",
              "      <th>1</th>\n",
              "      <th>2</th>\n",
              "      <th>3</th>\n",
              "      <th>4</th>\n",
              "      <th>5</th>\n",
              "      <th>6</th>\n",
              "      <th>7</th>\n",
              "      <th>8</th>\n",
              "      <th>9</th>\n",
              "      <th>10</th>\n",
              "    </tr>\n",
              "  </thead>\n",
              "  <tbody>\n",
              "    <tr>\n",
              "      <th>重要度上位10</th>\n",
              "      <td>kardashian</td>\n",
              "      <td>chris</td>\n",
              "      <td>her</td>\n",
              "      <td>movie</td>\n",
              "      <td>star</td>\n",
              "      <td>film</td>\n",
              "      <td>paul</td>\n",
              "      <td>he</td>\n",
              "      <td>wedding</td>\n",
              "      <td>she</td>\n",
              "    </tr>\n",
              "    <tr>\n",
              "      <th>重要度下位10</th>\n",
              "      <td>us</td>\n",
              "      <td>update</td>\n",
              "      <td>google</td>\n",
              "      <td>study</td>\n",
              "      <td>china</td>\n",
              "      <td>gm</td>\n",
              "      <td>ceo</td>\n",
              "      <td>facebook</td>\n",
              "      <td>apple</td>\n",
              "      <td>says</td>\n",
              "    </tr>\n",
              "  </tbody>\n",
              "</table>\n",
              "</div>"
            ],
            "text/plain": [
              "                 1       2       3      4   ...    7         8        9     10\n",
              "重要度上位10  kardashian   chris     her  movie  ...  paul        he  wedding   she\n",
              "重要度下位10          us  update  google  study  ...   ceo  facebook    apple  says\n",
              "\n",
              "[2 rows x 10 columns]"
            ]
          },
          "metadata": {}
        },
        {
          "output_type": "stream",
          "name": "stdout",
          "text": [
            "\n",
            "\n",
            "【カテゴリ】m\n"
          ]
        },
        {
          "output_type": "display_data",
          "data": {
            "text/html": [
              "<div>\n",
              "<style scoped>\n",
              "    .dataframe tbody tr th:only-of-type {\n",
              "        vertical-align: middle;\n",
              "    }\n",
              "\n",
              "    .dataframe tbody tr th {\n",
              "        vertical-align: top;\n",
              "    }\n",
              "\n",
              "    .dataframe thead th {\n",
              "        text-align: right;\n",
              "    }\n",
              "</style>\n",
              "<table border=\"1\" class=\"dataframe\">\n",
              "  <thead>\n",
              "    <tr style=\"text-align: right;\">\n",
              "      <th></th>\n",
              "      <th>1</th>\n",
              "      <th>2</th>\n",
              "      <th>3</th>\n",
              "      <th>4</th>\n",
              "      <th>5</th>\n",
              "      <th>6</th>\n",
              "      <th>7</th>\n",
              "      <th>8</th>\n",
              "      <th>9</th>\n",
              "      <th>10</th>\n",
              "    </tr>\n",
              "  </thead>\n",
              "  <tbody>\n",
              "    <tr>\n",
              "      <th>重要度上位10</th>\n",
              "      <td>ebola</td>\n",
              "      <td>study</td>\n",
              "      <td>cancer</td>\n",
              "      <td>drug</td>\n",
              "      <td>mers</td>\n",
              "      <td>fda</td>\n",
              "      <td>cases</td>\n",
              "      <td>cdc</td>\n",
              "      <td>could</td>\n",
              "      <td>cigarettes</td>\n",
              "    </tr>\n",
              "    <tr>\n",
              "      <th>重要度下位10</th>\n",
              "      <td>facebook</td>\n",
              "      <td>gm</td>\n",
              "      <td>ceo</td>\n",
              "      <td>apple</td>\n",
              "      <td>bank</td>\n",
              "      <td>deal</td>\n",
              "      <td>google</td>\n",
              "      <td>sales</td>\n",
              "      <td>climate</td>\n",
              "      <td>twitter</td>\n",
              "    </tr>\n",
              "  </tbody>\n",
              "</table>\n",
              "</div>"
            ],
            "text/plain": [
              "               1      2       3      4   ...      7      8        9           10\n",
              "重要度上位10     ebola  study  cancer   drug  ...   cases    cdc    could  cigarettes\n",
              "重要度下位10  facebook     gm     ceo  apple  ...  google  sales  climate     twitter\n",
              "\n",
              "[2 rows x 10 columns]"
            ]
          },
          "metadata": {}
        },
        {
          "output_type": "stream",
          "name": "stdout",
          "text": [
            "\n",
            "\n",
            "【カテゴリ】t\n"
          ]
        },
        {
          "output_type": "display_data",
          "data": {
            "text/html": [
              "<div>\n",
              "<style scoped>\n",
              "    .dataframe tbody tr th:only-of-type {\n",
              "        vertical-align: middle;\n",
              "    }\n",
              "\n",
              "    .dataframe tbody tr th {\n",
              "        vertical-align: top;\n",
              "    }\n",
              "\n",
              "    .dataframe thead th {\n",
              "        text-align: right;\n",
              "    }\n",
              "</style>\n",
              "<table border=\"1\" class=\"dataframe\">\n",
              "  <thead>\n",
              "    <tr style=\"text-align: right;\">\n",
              "      <th></th>\n",
              "      <th>1</th>\n",
              "      <th>2</th>\n",
              "      <th>3</th>\n",
              "      <th>4</th>\n",
              "      <th>5</th>\n",
              "      <th>6</th>\n",
              "      <th>7</th>\n",
              "      <th>8</th>\n",
              "      <th>9</th>\n",
              "      <th>10</th>\n",
              "    </tr>\n",
              "  </thead>\n",
              "  <tbody>\n",
              "    <tr>\n",
              "      <th>重要度上位10</th>\n",
              "      <td>google</td>\n",
              "      <td>facebook</td>\n",
              "      <td>apple</td>\n",
              "      <td>microsoft</td>\n",
              "      <td>climate</td>\n",
              "      <td>gm</td>\n",
              "      <td>nasa</td>\n",
              "      <td>tesla</td>\n",
              "      <td>comcast</td>\n",
              "      <td>heartbleed</td>\n",
              "    </tr>\n",
              "    <tr>\n",
              "      <th>重要度下位10</th>\n",
              "      <td>stocks</td>\n",
              "      <td>fed</td>\n",
              "      <td>her</td>\n",
              "      <td>percent</td>\n",
              "      <td>drug</td>\n",
              "      <td>american</td>\n",
              "      <td>cancer</td>\n",
              "      <td>ukraine</td>\n",
              "      <td>still</td>\n",
              "      <td>shares</td>\n",
              "    </tr>\n",
              "  </tbody>\n",
              "</table>\n",
              "</div>"
            ],
            "text/plain": [
              "             1         2      3   ...       8        9           10\n",
              "重要度上位10  google  facebook  apple  ...    tesla  comcast  heartbleed\n",
              "重要度下位10  stocks       fed    her  ...  ukraine    still      shares\n",
              "\n",
              "[2 rows x 10 columns]"
            ]
          },
          "metadata": {}
        },
        {
          "output_type": "stream",
          "name": "stdout",
          "text": [
            "\n",
            "\n"
          ]
        }
      ]
    },
    {
      "cell_type": "markdown",
      "metadata": {
        "id": "kc9OHmKk2Ohi"
      },
      "source": [
        "## 58. 正則化パラメータの変更\n",
        "***\n",
        "ロジスティック回帰モデルを学習するとき，正則化パラメータを調整することで，学習時の過学習（overfitting）の度合いを制御できる．異なる正則化パラメータでロジスティック回帰モデルを学習し，学習データ，検証データ，および評価データ上の正解率を求めよ．実験の結果は，正則化パラメータを横軸，正解率を縦軸としたグラフにまとめよ．"
      ]
    },
    {
      "cell_type": "code",
      "metadata": {
        "colab": {
          "base_uri": "https://localhost:8080/"
        },
        "id": "pDn3YdAuiT44",
        "outputId": "f4bd54cd-b573-4fa4-c82d-d531ae0baef5"
      },
      "source": [
        "a = np.logspace(1, 10,10,base=2)#base(基数(底))=2, 2^1 ～ 2^10 までを値に持つ配列を生成\n",
        "# a = np.logspace(1, 10)\n",
        "print(a)\n",
        "# b = np.logspace(-5,4,10,base=10)\n",
        "# print(b)"
      ],
      "execution_count": null,
      "outputs": [
        {
          "output_type": "stream",
          "name": "stdout",
          "text": [
            "[   2.    4.    8.   16.   32.   64.  128.  256.  512. 1024.]\n"
          ]
        }
      ]
    },
    {
      "cell_type": "code",
      "metadata": {
        "id": "1aPZhUtYcQb5",
        "colab": {
          "base_uri": "https://localhost:8080/"
        },
        "outputId": "a08b560c-5def-4360-919e-c0137e2b5398"
      },
      "source": [
        "from tqdm import tqdm\n",
        "\n",
        "result = []\n",
        "for C in tqdm(np.logspace(-5, 4,10,base=10)):\n",
        "  lg = LogisticRegression(random_state=123,max_iter=100,C=C)\n",
        "  lg.fit(X_train,train['CATEGORY'])\n",
        "\n",
        "  train_pred = score_lg(lg,X_train)\n",
        "  valid_pred = score_lg(lg,X_valid)\n",
        "  test_pred = score_lg(lg,X_test)\n",
        "\n",
        "  train_accuracy = accuracy_score(train['CATEGORY'],train_pred[1])\n",
        "  valid_accuracy = accuracy_score(valid['CATEGORY'],valid_pred[1])\n",
        "  test_accuracy = accuracy_score(test['CATEGORY'],test_pred[1])\n",
        "\n",
        "  result.append([C,train_accuracy,valid_accuracy,test_accuracy])"
      ],
      "execution_count": null,
      "outputs": [
        {
          "output_type": "stream",
          "name": "stderr",
          "text": [
            " 50%|█████     | 5/10 [00:28<00:34,  6.97s/it]/usr/local/lib/python3.7/dist-packages/sklearn/linear_model/_logistic.py:940: ConvergenceWarning: lbfgs failed to converge (status=1):\n",
            "STOP: TOTAL NO. of ITERATIONS REACHED LIMIT.\n",
            "\n",
            "Increase the number of iterations (max_iter) or scale the data as shown in:\n",
            "    https://scikit-learn.org/stable/modules/preprocessing.html\n",
            "Please also refer to the documentation for alternative solver options:\n",
            "    https://scikit-learn.org/stable/modules/linear_model.html#logistic-regression\n",
            "  extra_warning_msg=_LOGISTIC_SOLVER_CONVERGENCE_MSG)\n",
            " 60%|██████    | 6/10 [00:54<00:54, 13.51s/it]/usr/local/lib/python3.7/dist-packages/sklearn/linear_model/_logistic.py:940: ConvergenceWarning: lbfgs failed to converge (status=1):\n",
            "STOP: TOTAL NO. of ITERATIONS REACHED LIMIT.\n",
            "\n",
            "Increase the number of iterations (max_iter) or scale the data as shown in:\n",
            "    https://scikit-learn.org/stable/modules/preprocessing.html\n",
            "Please also refer to the documentation for alternative solver options:\n",
            "    https://scikit-learn.org/stable/modules/linear_model.html#logistic-regression\n",
            "  extra_warning_msg=_LOGISTIC_SOLVER_CONVERGENCE_MSG)\n",
            " 70%|███████   | 7/10 [01:21<00:53, 17.94s/it]/usr/local/lib/python3.7/dist-packages/sklearn/linear_model/_logistic.py:940: ConvergenceWarning: lbfgs failed to converge (status=1):\n",
            "STOP: TOTAL NO. of ITERATIONS REACHED LIMIT.\n",
            "\n",
            "Increase the number of iterations (max_iter) or scale the data as shown in:\n",
            "    https://scikit-learn.org/stable/modules/preprocessing.html\n",
            "Please also refer to the documentation for alternative solver options:\n",
            "    https://scikit-learn.org/stable/modules/linear_model.html#logistic-regression\n",
            "  extra_warning_msg=_LOGISTIC_SOLVER_CONVERGENCE_MSG)\n",
            " 80%|████████  | 8/10 [01:48<00:41, 20.74s/it]/usr/local/lib/python3.7/dist-packages/sklearn/linear_model/_logistic.py:940: ConvergenceWarning: lbfgs failed to converge (status=1):\n",
            "STOP: TOTAL NO. of ITERATIONS REACHED LIMIT.\n",
            "\n",
            "Increase the number of iterations (max_iter) or scale the data as shown in:\n",
            "    https://scikit-learn.org/stable/modules/preprocessing.html\n",
            "Please also refer to the documentation for alternative solver options:\n",
            "    https://scikit-learn.org/stable/modules/linear_model.html#logistic-regression\n",
            "  extra_warning_msg=_LOGISTIC_SOLVER_CONVERGENCE_MSG)\n",
            " 90%|█████████ | 9/10 [02:14<00:22, 22.52s/it]/usr/local/lib/python3.7/dist-packages/sklearn/linear_model/_logistic.py:940: ConvergenceWarning: lbfgs failed to converge (status=1):\n",
            "STOP: TOTAL NO. of ITERATIONS REACHED LIMIT.\n",
            "\n",
            "Increase the number of iterations (max_iter) or scale the data as shown in:\n",
            "    https://scikit-learn.org/stable/modules/preprocessing.html\n",
            "Please also refer to the documentation for alternative solver options:\n",
            "    https://scikit-learn.org/stable/modules/linear_model.html#logistic-regression\n",
            "  extra_warning_msg=_LOGISTIC_SOLVER_CONVERGENCE_MSG)\n",
            "100%|██████████| 10/10 [02:42<00:00, 16.21s/it]\n"
          ]
        }
      ]
    },
    {
      "cell_type": "code",
      "metadata": {
        "colab": {
          "base_uri": "https://localhost:8080/",
          "height": 283
        },
        "id": "3UpimTfGt256",
        "outputId": "4ac4b89e-f9c4-4dd8-a519-b40212bf8836"
      },
      "source": [
        "# 視覚化\n",
        "result = np.array(result).T\n",
        "\n",
        "plt.plot(result[0],result[1],label='train',color = 'black',linestyle='dashed')\n",
        "plt.plot(result[0],result[2],label='valid',color = 'c')\n",
        "plt.plot(result[0],result[3],label='test',color = 'blue')\n",
        "plt.ylim(0,1.1)\n",
        "plt.ylabel('Acuracy')\n",
        "plt.xscale('log')\n",
        "plt.xlabel('C')\n",
        "plt.legend()\n",
        "plt.grid()\n",
        "plt.show()"
      ],
      "execution_count": null,
      "outputs": [
        {
          "output_type": "display_data",
          "data": {
            "image/png": "[encoded data removed]",
            "text/plain": [
              "<Figure size 432x288 with 1 Axes>"
            ]
          },
          "metadata": {
            "needs_background": "light"
          }
        }
      ]
    },
    {
      "cell_type": "markdown",
      "metadata": {
        "id": "i8VV00IN2Tbw"
      },
      "source": [
        "## 59. ハイパーパラメータの探索\n",
        "***\n",
        "学習アルゴリズムや学習パラメータを変えながら，カテゴリ分類モデルを学習せよ．検証データ上の正解率が最も高くなる学習アルゴリズム・パラメータを求めよ．また，その学習アルゴリズム・パラメータを用いたときの評価データ上の正解率を求めよ．"
      ]
    },
    {
      "cell_type": "code",
      "metadata": {
        "id": "vFxRMWQVKuM8",
        "colab": {
          "base_uri": "https://localhost:8080/"
        },
        "outputId": "a4e26042-835f-40de-e0f4-73acd37e455c"
      },
      "source": [
        "!pip install -q optuna"
      ],
      "execution_count": null,
      "outputs": [
        {
          "output_type": "stream",
          "name": "stdout",
          "text": [
            "\u001b[K     |████████████████████████████████| 308 kB 10.3 MB/s \n",
            "\u001b[K     |████████████████████████████████| 80 kB 7.3 MB/s \n",
            "\u001b[K     |████████████████████████████████| 209 kB 61.2 MB/s \n",
            "\u001b[K     |████████████████████████████████| 75 kB 4.3 MB/s \n",
            "\u001b[K     |████████████████████████████████| 49 kB 6.2 MB/s \n",
            "\u001b[K     |████████████████████████████████| 144 kB 51.8 MB/s \n",
            "\u001b[K     |████████████████████████████████| 111 kB 49.0 MB/s \n",
            "\u001b[?25h  Building wheel for pyperclip (setup.py) ... \u001b[?25l\u001b[?25hdone\n"
          ]
        }
      ]
    },
    {
      "cell_type": "code",
      "metadata": {
        "id": "tX9__9XrRITA"
      },
      "source": [
        "import optuna"
      ],
      "execution_count": null,
      "outputs": []
    },
    {
      "cell_type": "code",
      "metadata": {
        "id": "QcCS-U0sDfBg"
      },
      "source": [
        "def objective(trial):\n",
        "  l1_ratio = trial.suggest_uniform('l1_ratio' , 0,1)\n",
        "  C = trial.suggest_loguniform('C',1e-4,1e+4)\n",
        "\n",
        "  lg = LogisticRegression(\n",
        "       max_iter=100, \n",
        "       penalty='elasticnet',\n",
        "       solver ='saga',\n",
        "       l1_ratio = l1_ratio,\n",
        "       C = C ,\n",
        "       random_state = 123)\n",
        "  lg.fit(X_train,train['CATEGORY'])\n",
        "  valid_pred = score_lg(lg,X_valid)\n",
        "  valid_accuracy = accuracy_score(valid['CATEGORY'],valid_pred[1])\n",
        "\n",
        "  return valid_accuracy                                "
      ],
      "execution_count": null,
      "outputs": []
    },
    {
      "cell_type": "code",
      "metadata": {
        "colab": {
          "base_uri": "https://localhost:8080/"
        },
        "id": "s2AiY4AkMVIF",
        "outputId": "20236337-5bda-41a9-edfe-58a8199db202"
      },
      "source": [
        "study = optuna.create_study(direction = 'maximize')# 最大化\n",
        "study.optimize(objective,n_trials = 3)\n",
        "\n",
        "print('Best trial : ')\n",
        "trial = study.best_trial\n",
        "print(f'Value : {trial.value:.3f}')\n",
        "print('Params : ')\n",
        "for key , value in trial.params.items():\n",
        "  print(f'{key}:{value}')"
      ],
      "execution_count": null,
      "outputs": [
        {
          "output_type": "stream",
          "name": "stderr",
          "text": [
            "\u001b[32m[I 2021-11-03 07:00:42,015]\u001b[0m A new study created in memory with name: no-name-e2c57fb9-26eb-4515-8ade-106f1683df74\u001b[0m\n",
            "\u001b[32m[I 2021-11-03 07:00:43,232]\u001b[0m Trial 0 finished with value: 0.4214071856287425 and parameters: {'l1_ratio': 0.5200293419750881, 'C': 0.00023441612850870947}. Best is trial 0 with value: 0.4214071856287425.\u001b[0m\n",
            "/usr/local/lib/python3.7/dist-packages/sklearn/linear_model/_sag.py:330: ConvergenceWarning:\n",
            "\n",
            "The max_iter was reached which means the coef_ did not converge\n",
            "\n",
            "\u001b[32m[I 2021-11-03 07:03:10,924]\u001b[0m Trial 1 finished with value: 0.874251497005988 and parameters: {'l1_ratio': 0.3370199199251557, 'C': 24.56900045633399}. Best is trial 1 with value: 0.874251497005988.\u001b[0m\n",
            "\u001b[32m[I 2021-11-03 07:03:15,385]\u001b[0m Trial 2 finished with value: 0.39595808383233533 and parameters: {'l1_ratio': 0.09565938970974786, 'C': 0.00014818802421194123}. Best is trial 1 with value: 0.874251497005988.\u001b[0m\n"
          ]
        },
        {
          "output_type": "stream",
          "name": "stdout",
          "text": [
            "Best trial : \n",
            "Value : 0.874\n",
            "Params : \n",
            "l1_ratio:0.3370199199251557\n",
            "C:24.56900045633399\n"
          ]
        }
      ]
    },
    {
      "cell_type": "code",
      "metadata": {
        "colab": {
          "base_uri": "https://localhost:8080/"
        },
        "id": "kY37ABsEOwGa",
        "outputId": "d5d08e6f-f4b8-4828-9c41-356d1085234e"
      },
      "source": [
        "l1_ratio = trial.params['l1_ratio']\n",
        "C = trial.params['C']\n",
        "\n",
        "lg = LogisticRegression(\n",
        "    max_iter = 10,\n",
        "    penalty = 'elasticnet',\n",
        "    solver = 'saga',\n",
        "    l1_ratio = l1_ratio,\n",
        "    C = C,\n",
        "    random_state = 123\n",
        ")\n",
        "lg.fit(X_train,train['CATEGORY'])\n",
        "\n",
        "train_pred = score_lg(lg,X_train)\n",
        "valid_pred = score_lg(lg,X_valid)\n",
        "test_pred = score_lg(lg,X_test)\n",
        "\n",
        "train_accuracy = accuracy_score(train['CATEGORY'],train_pred[1])\n",
        "valid_accuracy = accuracy_score(valid['CATEGORY'],valid_pred[1])\n",
        "test_accuracy = accuracy_score(test['CATEGORY'],test_pred[1])\n",
        "\n",
        "print(f'正解率（学習データ）: {train_accuracy:.3f}')\n",
        "print(f'正解率（検証データ）: {valid_accuracy:.3f}')\n",
        "print(f'正解率（評価データ）: {test_accuracy:.3f}')"
      ],
      "execution_count": null,
      "outputs": [
        {
          "output_type": "stream",
          "name": "stderr",
          "text": [
            "/usr/local/lib/python3.7/dist-packages/sklearn/linear_model/_sag.py:330: ConvergenceWarning:\n",
            "\n",
            "The max_iter was reached which means the coef_ did not converge\n",
            "\n"
          ]
        },
        {
          "output_type": "stream",
          "name": "stdout",
          "text": [
            "正解率（学習データ）: 0.981\n",
            "正解率（検証データ）: 0.884\n",
            "正解率（評価データ）: 0.887\n"
          ]
        }
      ]
    },
    {
      "cell_type": "code",
      "metadata": {
        "id": "M6Gse6MER3nd"
      },
      "source": [
        "!pip install -q xgboost"
      ],
      "execution_count": null,
      "outputs": []
    },
    {
      "cell_type": "code",
      "metadata": {
        "id": "GIxfmQaYR86b"
      },
      "source": [
        "import xgboost  as xgb"
      ],
      "execution_count": null,
      "outputs": []
    },
    {
      "cell_type": "code",
      "metadata": {
        "id": "5vWKC-EER827"
      },
      "source": [
        "params={'objective': 'multi:softmax', \n",
        "        'num_class': 4,\n",
        "        'eval_metric': 'mlogloss',\n",
        "        'colsample_bytree': 1.0, \n",
        "        'colsample_bylevel': 0.5,\n",
        "        'min_child_weight': 1,\n",
        "        'subsample': 0.9, \n",
        "        'eta': 0.1, \n",
        "        'max_depth': 5,\n",
        "        'gamma': 0.0,\n",
        "        'alpha': 0.0,\n",
        "        'lambda': 1.0,\n",
        "        'num_round': 100,\n",
        "        'early_stopping_rounds': 50,\n",
        "        'verbosity': 0\n",
        "        }\n"
      ],
      "execution_count": null,
      "outputs": []
    },
    {
      "cell_type": "code",
      "metadata": {
        "id": "eYS1EEq1R8zu"
      },
      "source": [
        "category_dict = {'b' : 0, 'e' :1,'t': 2, 'm': 3}\n",
        "y_train = train['CATEGORY'].map(lambda x : category_dict[x])\n",
        "y_valid = valid['CATEGORY'].map(lambda x : category_dict[x])\n",
        "y_test = test['CATEGORY'].map(lambda x : category_dict[x]) \n",
        "dtrain = xgb.DMatrix(X_train,label = y_train)\n",
        "dvalid = xgb.DMatrix(X_valid,label = y_valid)\n",
        "dtest = xgb.DMatrix(X_test,label = y_test)"
      ],
      "execution_count": null,
      "outputs": []
    },
    {
      "cell_type": "code",
      "metadata": {
        "id": "bJQBqks-T-bV"
      },
      "source": [
        "num_round = params.pop('num_round')\n",
        "early_stopping_rounds = params.pop('early_stopping_rounds')\n",
        "watchlist = [(dtrain,'train'), (dvalid,'eval')]\n",
        "model = xgb.train(params,dtrain,num_round,evals = watchlist,early_stopping_rounds=early_stopping_rounds)"
      ],
      "execution_count": null,
      "outputs": []
    },
    {
      "cell_type": "code",
      "metadata": {
        "colab": {
          "base_uri": "https://localhost:8080/"
        },
        "id": "5JOB5w73n-2v",
        "outputId": "c0fb0d99-3842-4361-b089-31fe4fbd1a74"
      },
      "source": [
        "train_pred = model.predict(dtrain,ntree_limit = model.best_ntree_limit)\n",
        "valid_pred = model.predict(dvalid,ntree_limit = model.best_ntree_limit)\n",
        "test_pred = model.predict(dtest,ntree_limit = model.best_ntree_limit)\n",
        "\n",
        "train_accuracy = accuracy_score(y_train,train_pred)\n",
        "valid_accuracy = accuracy_score(y_valid,valid_pred)\n",
        "test_accuracy = accuracy_score(y_test,test_pred)\n",
        "\n",
        "print(f'正解率（学習データ）： {train_accuracy:.3f}')\n",
        "print(f'正解率（検証データ）： {valid_accuracy:.3f}')\n",
        "print(f'正解率（評価データ）： {test_accuracy:.3f}')"
      ],
      "execution_count": null,
      "outputs": [
        {
          "output_type": "stream",
          "name": "stdout",
          "text": [
            "正解率（学習データ）： 0.820\n",
            "正解率（検証データ）： 0.805\n",
            "正解率（評価データ）： 0.796\n"
          ]
        }
      ]
    },
    {
      "cell_type": "code",
      "metadata": {
        "id": "OxnMdS3jFg5a"
      },
      "source": [
        ""
      ],
      "execution_count": null,
      "outputs": []
    }
  ]
}