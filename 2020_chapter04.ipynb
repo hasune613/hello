{
  "nbformat": 4,
  "nbformat_minor": 0,
  "metadata": {
    "colab": {
      "name": "2020_chapter04.ipynb",
      "provenance": [],
      "collapsed_sections": [],
      "include_colab_link": true
    },
    "kernelspec": {
      "name": "python3",
      "display_name": "Python 3"
    }
  },
  "cells": [
    {
      "cell_type": "markdown",
      "metadata": {
        "id": "view-in-github",
        "colab_type": "text"
      },
      "source": [
        "<a href=\"https://colab.research.google.com/github/hasune613/hello-world/blob/main/2020_chapter04.ipynb\" target=\"_parent\"><img src=\"https://colab.research.google.com/assets/colab-badge.svg\" alt=\"Open In Colab\"/></a>"
      ]
    },
    {
      "cell_type": "markdown",
      "metadata": {
        "id": "QZRQ6oc6zmL3"
      },
      "source": [
        "# 第4章: 形態素解析\n",
        "夏目漱石の小説『吾輩は猫である』の文章（neko.txt）をMeCabを使って形態素解析し，その結果をneko.txt.mecabというファイルに保存せよ．このファイルを用いて，以下の問に対応するプログラムを実装せよ．"
      ]
    },
    {
      "cell_type": "code",
      "metadata": {
        "id": "PXzCuUAl1JI9",
        "colab": {
          "base_uri": "https://localhost:8080/"
        },
        "outputId": "37c76b48-77f1-494e-9fb3-8ee8681eafd2"
      },
      "source": [
        "!wget https://nlp100.github.io/data/neko.txt"
      ],
      "execution_count": null,
      "outputs": [
        {
          "output_type": "stream",
          "name": "stdout",
          "text": [
            "--2021-10-24 05:07:50--  https://nlp100.github.io/data/neko.txt\n",
            "Resolving nlp100.github.io (nlp100.github.io)... 185.199.109.153, 185.199.111.153, 185.199.110.153, ...\n",
            "Connecting to nlp100.github.io (nlp100.github.io)|185.199.109.153|:443... connected.\n",
            "HTTP request sent, awaiting response... 200 OK\n",
            "Length: 975789 (953K) [text/plain]\n",
            "Saving to: ‘neko.txt’\n",
            "\n",
            "neko.txt            100%[===================>] 952.92K  --.-KB/s    in 0.05s   \n",
            "\n",
            "2021-10-24 05:07:50 (19.8 MB/s) - ‘neko.txt’ saved [975789/975789]\n",
            "\n"
          ]
        }
      ]
    },
    {
      "cell_type": "code",
      "metadata": {
        "id": "jNgXnfi81Kr9",
        "colab": {
          "base_uri": "https://localhost:8080/"
        },
        "outputId": "4fb0408c-dd85-4c9e-ef44-937d3deb9c80"
      },
      "source": [
        "!apt install mecab libmecab-dev mecab-ipadic-utf8"
      ],
      "execution_count": null,
      "outputs": [
        {
          "output_type": "stream",
          "name": "stdout",
          "text": [
            "Reading package lists... Done\n",
            "Building dependency tree       \n",
            "Reading state information... Done\n",
            "The following additional packages will be installed:\n",
            "  libmecab2 mecab-ipadic mecab-jumandic mecab-jumandic-utf8 mecab-utils\n",
            "The following NEW packages will be installed:\n",
            "  libmecab-dev libmecab2 mecab mecab-ipadic mecab-ipadic-utf8 mecab-jumandic\n",
            "  mecab-jumandic-utf8 mecab-utils\n",
            "0 upgraded, 8 newly installed, 0 to remove and 37 not upgraded.\n",
            "Need to get 29.0 MB of archives.\n",
            "After this operation, 277 MB of additional disk space will be used.\n",
            "Get:1 http://archive.ubuntu.com/ubuntu bionic/universe amd64 libmecab2 amd64 0.996-5 [257 kB]\n",
            "Get:2 http://archive.ubuntu.com/ubuntu bionic/universe amd64 libmecab-dev amd64 0.996-5 [308 kB]\n",
            "Get:3 http://archive.ubuntu.com/ubuntu bionic/universe amd64 mecab-utils amd64 0.996-5 [4,856 B]\n",
            "Get:4 http://archive.ubuntu.com/ubuntu bionic/universe amd64 mecab-jumandic-utf8 all 7.0-20130310-4 [16.2 MB]\n",
            "Get:5 http://archive.ubuntu.com/ubuntu bionic/universe amd64 mecab-jumandic all 7.0-20130310-4 [2,212 B]\n",
            "Get:6 http://archive.ubuntu.com/ubuntu bionic/universe amd64 mecab-ipadic all 2.7.0-20070801+main-1 [12.1 MB]\n",
            "Get:7 http://archive.ubuntu.com/ubuntu bionic/universe amd64 mecab amd64 0.996-5 [132 kB]\n",
            "Get:8 http://archive.ubuntu.com/ubuntu bionic/universe amd64 mecab-ipadic-utf8 all 2.7.0-20070801+main-1 [3,522 B]\n",
            "Fetched 29.0 MB in 2s (15.6 MB/s)\n",
            "Selecting previously unselected package libmecab2:amd64.\n",
            "(Reading database ... 155047 files and directories currently installed.)\n",
            "Preparing to unpack .../0-libmecab2_0.996-5_amd64.deb ...\n",
            "Unpacking libmecab2:amd64 (0.996-5) ...\n",
            "Selecting previously unselected package libmecab-dev.\n",
            "Preparing to unpack .../1-libmecab-dev_0.996-5_amd64.deb ...\n",
            "Unpacking libmecab-dev (0.996-5) ...\n",
            "Selecting previously unselected package mecab-utils.\n",
            "Preparing to unpack .../2-mecab-utils_0.996-5_amd64.deb ...\n",
            "Unpacking mecab-utils (0.996-5) ...\n",
            "Selecting previously unselected package mecab-jumandic-utf8.\n",
            "Preparing to unpack .../3-mecab-jumandic-utf8_7.0-20130310-4_all.deb ...\n",
            "Unpacking mecab-jumandic-utf8 (7.0-20130310-4) ...\n",
            "Selecting previously unselected package mecab-jumandic.\n",
            "Preparing to unpack .../4-mecab-jumandic_7.0-20130310-4_all.deb ...\n",
            "Unpacking mecab-jumandic (7.0-20130310-4) ...\n",
            "Selecting previously unselected package mecab-ipadic.\n",
            "Preparing to unpack .../5-mecab-ipadic_2.7.0-20070801+main-1_all.deb ...\n",
            "Unpacking mecab-ipadic (2.7.0-20070801+main-1) ...\n",
            "Selecting previously unselected package mecab.\n",
            "Preparing to unpack .../6-mecab_0.996-5_amd64.deb ...\n",
            "Unpacking mecab (0.996-5) ...\n",
            "Selecting previously unselected package mecab-ipadic-utf8.\n",
            "Preparing to unpack .../7-mecab-ipadic-utf8_2.7.0-20070801+main-1_all.deb ...\n",
            "Unpacking mecab-ipadic-utf8 (2.7.0-20070801+main-1) ...\n",
            "Setting up libmecab2:amd64 (0.996-5) ...\n",
            "Setting up mecab-utils (0.996-5) ...\n",
            "Setting up mecab-ipadic (2.7.0-20070801+main-1) ...\n",
            "Compiling IPA dictionary for Mecab.  This takes long time...\n",
            "reading /usr/share/mecab/dic/ipadic/unk.def ... 40\n",
            "emitting double-array: 100% |###########################################| \n",
            "/usr/share/mecab/dic/ipadic/model.def is not found. skipped.\n",
            "reading /usr/share/mecab/dic/ipadic/Interjection.csv ... 252\n",
            "reading /usr/share/mecab/dic/ipadic/Adverb.csv ... 3032\n",
            "reading /usr/share/mecab/dic/ipadic/Noun.adverbal.csv ... 795\n",
            "reading /usr/share/mecab/dic/ipadic/Noun.verbal.csv ... 12146\n",
            "reading /usr/share/mecab/dic/ipadic/Auxil.csv ... 199\n",
            "reading /usr/share/mecab/dic/ipadic/Noun.others.csv ... 151\n",
            "reading /usr/share/mecab/dic/ipadic/Verb.csv ... 130750\n",
            "reading /usr/share/mecab/dic/ipadic/Adj.csv ... 27210\n",
            "reading /usr/share/mecab/dic/ipadic/Conjunction.csv ... 171\n",
            "reading /usr/share/mecab/dic/ipadic/Noun.org.csv ... 16668\n",
            "reading /usr/share/mecab/dic/ipadic/Adnominal.csv ... 135\n",
            "reading /usr/share/mecab/dic/ipadic/Noun.nai.csv ... 42\n",
            "reading /usr/share/mecab/dic/ipadic/Noun.proper.csv ... 27327\n",
            "reading /usr/share/mecab/dic/ipadic/Noun.name.csv ... 34202\n",
            "reading /usr/share/mecab/dic/ipadic/Noun.csv ... 60477\n",
            "reading /usr/share/mecab/dic/ipadic/Postp-col.csv ... 91\n",
            "reading /usr/share/mecab/dic/ipadic/Filler.csv ... 19\n",
            "reading /usr/share/mecab/dic/ipadic/Others.csv ... 2\n",
            "reading /usr/share/mecab/dic/ipadic/Postp.csv ... 146\n",
            "reading /usr/share/mecab/dic/ipadic/Noun.number.csv ... 42\n",
            "reading /usr/share/mecab/dic/ipadic/Prefix.csv ... 221\n",
            "reading /usr/share/mecab/dic/ipadic/Symbol.csv ... 208\n",
            "reading /usr/share/mecab/dic/ipadic/Suffix.csv ... 1393\n",
            "reading /usr/share/mecab/dic/ipadic/Noun.adjv.csv ... 3328\n",
            "reading /usr/share/mecab/dic/ipadic/Noun.demonst.csv ... 120\n",
            "reading /usr/share/mecab/dic/ipadic/Noun.place.csv ... 72999\n",
            "emitting double-array: 100% |###########################################| \n",
            "reading /usr/share/mecab/dic/ipadic/matrix.def ... 1316x1316\n",
            "emitting matrix      : 100% |###########################################| \n",
            "\n",
            "done!\n",
            "update-alternatives: using /var/lib/mecab/dic/ipadic to provide /var/lib/mecab/dic/debian (mecab-dictionary) in auto mode\n",
            "Setting up libmecab-dev (0.996-5) ...\n",
            "Setting up mecab-jumandic-utf8 (7.0-20130310-4) ...\n",
            "Compiling Juman dictionary for Mecab.\n",
            "reading /usr/share/mecab/dic/juman/unk.def ... 37\n",
            "emitting double-array: 100% |###########################################| \n",
            "reading /usr/share/mecab/dic/juman/AuxV.csv ... 593\n",
            "reading /usr/share/mecab/dic/juman/ContentW.csv ... 551145\n",
            "reading /usr/share/mecab/dic/juman/Demonstrative.csv ... 97\n",
            "reading /usr/share/mecab/dic/juman/Noun.keishiki.csv ... 8\n",
            "reading /usr/share/mecab/dic/juman/Special.csv ... 158\n",
            "reading /usr/share/mecab/dic/juman/Noun.hukusi.csv ... 81\n",
            "reading /usr/share/mecab/dic/juman/Rengo.csv ... 1118\n",
            "reading /usr/share/mecab/dic/juman/Postp.csv ... 108\n",
            "reading /usr/share/mecab/dic/juman/Wikipedia.csv ... 167709\n",
            "reading /usr/share/mecab/dic/juman/Assert.csv ... 34\n",
            "reading /usr/share/mecab/dic/juman/Auto.csv ... 18931\n",
            "reading /usr/share/mecab/dic/juman/Prefix.csv ... 90\n",
            "reading /usr/share/mecab/dic/juman/Suffix.csv ... 2128\n",
            "reading /usr/share/mecab/dic/juman/Noun.koyuu.csv ... 7964\n",
            "reading /usr/share/mecab/dic/juman/Noun.suusi.csv ... 49\n",
            "reading /usr/share/mecab/dic/juman/Emoticon.csv ... 972\n",
            "emitting double-array: 100% |###########################################| \n",
            "reading /usr/share/mecab/dic/juman/matrix.def ... 1876x1876\n",
            "emitting matrix      : 100% |###########################################| \n",
            "\n",
            "done!\n",
            "Setting up mecab-ipadic-utf8 (2.7.0-20070801+main-1) ...\n",
            "Compiling IPA dictionary for Mecab.  This takes long time...\n",
            "reading /usr/share/mecab/dic/ipadic/unk.def ... 40\n",
            "emitting double-array: 100% |###########################################| \n",
            "/usr/share/mecab/dic/ipadic/model.def is not found. skipped.\n",
            "reading /usr/share/mecab/dic/ipadic/Interjection.csv ... 252\n",
            "reading /usr/share/mecab/dic/ipadic/Adverb.csv ... 3032\n",
            "reading /usr/share/mecab/dic/ipadic/Noun.adverbal.csv ... 795\n",
            "reading /usr/share/mecab/dic/ipadic/Noun.verbal.csv ... 12146\n",
            "reading /usr/share/mecab/dic/ipadic/Auxil.csv ... 199\n",
            "reading /usr/share/mecab/dic/ipadic/Noun.others.csv ... 151\n",
            "reading /usr/share/mecab/dic/ipadic/Verb.csv ... 130750\n",
            "reading /usr/share/mecab/dic/ipadic/Adj.csv ... 27210\n",
            "reading /usr/share/mecab/dic/ipadic/Conjunction.csv ... 171\n",
            "reading /usr/share/mecab/dic/ipadic/Noun.org.csv ... 16668\n",
            "reading /usr/share/mecab/dic/ipadic/Adnominal.csv ... 135\n",
            "reading /usr/share/mecab/dic/ipadic/Noun.nai.csv ... 42\n",
            "reading /usr/share/mecab/dic/ipadic/Noun.proper.csv ... 27327\n",
            "reading /usr/share/mecab/dic/ipadic/Noun.name.csv ... 34202\n",
            "reading /usr/share/mecab/dic/ipadic/Noun.csv ... 60477\n",
            "reading /usr/share/mecab/dic/ipadic/Postp-col.csv ... 91\n",
            "reading /usr/share/mecab/dic/ipadic/Filler.csv ... 19\n",
            "reading /usr/share/mecab/dic/ipadic/Others.csv ... 2\n",
            "reading /usr/share/mecab/dic/ipadic/Postp.csv ... 146\n",
            "reading /usr/share/mecab/dic/ipadic/Noun.number.csv ... 42\n",
            "reading /usr/share/mecab/dic/ipadic/Prefix.csv ... 221\n",
            "reading /usr/share/mecab/dic/ipadic/Symbol.csv ... 208\n",
            "reading /usr/share/mecab/dic/ipadic/Suffix.csv ... 1393\n",
            "reading /usr/share/mecab/dic/ipadic/Noun.adjv.csv ... 3328\n",
            "reading /usr/share/mecab/dic/ipadic/Noun.demonst.csv ... 120\n",
            "reading /usr/share/mecab/dic/ipadic/Noun.place.csv ... 72999\n",
            "emitting double-array: 100% |###########################################| \n",
            "reading /usr/share/mecab/dic/ipadic/matrix.def ... 1316x1316\n",
            "emitting matrix      : 100% |###########################################| \n",
            "\n",
            "done!\n",
            "update-alternatives: using /var/lib/mecab/dic/ipadic-utf8 to provide /var/lib/mecab/dic/debian (mecab-dictionary) in auto mode\n",
            "Setting up mecab (0.996-5) ...\n",
            "Compiling IPA dictionary for Mecab.  This takes long time...\n",
            "reading /usr/share/mecab/dic/ipadic/unk.def ... 40\n",
            "emitting double-array: 100% |###########################################| \n",
            "/usr/share/mecab/dic/ipadic/model.def is not found. skipped.\n",
            "reading /usr/share/mecab/dic/ipadic/Interjection.csv ... 252\n",
            "reading /usr/share/mecab/dic/ipadic/Adverb.csv ... 3032\n",
            "reading /usr/share/mecab/dic/ipadic/Noun.adverbal.csv ... 795\n",
            "reading /usr/share/mecab/dic/ipadic/Noun.verbal.csv ... 12146\n",
            "reading /usr/share/mecab/dic/ipadic/Auxil.csv ... 199\n",
            "reading /usr/share/mecab/dic/ipadic/Noun.others.csv ... 151\n",
            "reading /usr/share/mecab/dic/ipadic/Verb.csv ... 130750\n",
            "reading /usr/share/mecab/dic/ipadic/Adj.csv ... 27210\n",
            "reading /usr/share/mecab/dic/ipadic/Conjunction.csv ... 171\n",
            "reading /usr/share/mecab/dic/ipadic/Noun.org.csv ... 16668\n",
            "reading /usr/share/mecab/dic/ipadic/Adnominal.csv ... 135\n",
            "reading /usr/share/mecab/dic/ipadic/Noun.nai.csv ... 42\n",
            "reading /usr/share/mecab/dic/ipadic/Noun.proper.csv ... 27327\n",
            "reading /usr/share/mecab/dic/ipadic/Noun.name.csv ... 34202\n",
            "reading /usr/share/mecab/dic/ipadic/Noun.csv ... 60477\n",
            "reading /usr/share/mecab/dic/ipadic/Postp-col.csv ... 91\n",
            "reading /usr/share/mecab/dic/ipadic/Filler.csv ... 19\n",
            "reading /usr/share/mecab/dic/ipadic/Others.csv ... 2\n",
            "reading /usr/share/mecab/dic/ipadic/Postp.csv ... 146\n",
            "reading /usr/share/mecab/dic/ipadic/Noun.number.csv ... 42\n",
            "reading /usr/share/mecab/dic/ipadic/Prefix.csv ... 221\n",
            "reading /usr/share/mecab/dic/ipadic/Symbol.csv ... 208\n",
            "reading /usr/share/mecab/dic/ipadic/Suffix.csv ... 1393\n",
            "reading /usr/share/mecab/dic/ipadic/Noun.adjv.csv ... 3328\n",
            "reading /usr/share/mecab/dic/ipadic/Noun.demonst.csv ... 120\n",
            "reading /usr/share/mecab/dic/ipadic/Noun.place.csv ... 72999\n",
            "emitting double-array: 100% |###########################################| \n",
            "reading /usr/share/mecab/dic/ipadic/matrix.def ... 1316x1316\n",
            "emitting matrix      : 100% |###########################################| \n",
            "\n",
            "done!\n",
            "Setting up mecab-jumandic (7.0-20130310-4) ...\n",
            "Processing triggers for man-db (2.8.3-2ubuntu0.1) ...\n",
            "Processing triggers for libc-bin (2.27-3ubuntu1.3) ...\n",
            "/sbin/ldconfig.real: /usr/local/lib/python3.7/dist-packages/ideep4py/lib/libmkldnn.so.0 is not a symbolic link\n",
            "\n"
          ]
        }
      ]
    },
    {
      "cell_type": "code",
      "metadata": {
        "id": "e1K64W9y2VY-"
      },
      "source": [
        "!mecab -o ./neko.txt.mecab ./neko.txt"
      ],
      "execution_count": null,
      "outputs": []
    },
    {
      "cell_type": "code",
      "metadata": {
        "id": "DIVJF5m6WnGm",
        "colab": {
          "base_uri": "https://localhost:8080/"
        },
        "outputId": "fa3f0b6e-d2ce-459d-ed9d-5363b1e713bb"
      },
      "source": [
        "!wc -l ./neko.txt.mecab"
      ],
      "execution_count": null,
      "outputs": [
        {
          "output_type": "stream",
          "name": "stdout",
          "text": [
            "226266 ./neko.txt.mecab\n"
          ]
        }
      ]
    },
    {
      "cell_type": "code",
      "metadata": {
        "id": "0KfX_cgYWreY",
        "colab": {
          "base_uri": "https://localhost:8080/"
        },
        "outputId": "72021e29-bcaa-48d5-cf08-0900b140f333"
      },
      "source": [
        "!head -50 ./neko.txt.mecab"
      ],
      "execution_count": null,
      "outputs": [
        {
          "output_type": "stream",
          "name": "stdout",
          "text": [
            "一\t名詞,数,*,*,*,*,一,イチ,イチ\n",
            "\r\t記号,一般,*,*,*,*,*\n",
            "EOS\n",
            "\r\t記号,一般,*,*,*,*,*\n",
            "EOS\n",
            "　\t記号,空白,*,*,*,*,　,　,　\n",
            "吾輩\t名詞,代名詞,一般,*,*,*,吾輩,ワガハイ,ワガハイ\n",
            "は\t助詞,係助詞,*,*,*,*,は,ハ,ワ\n",
            "猫\t名詞,一般,*,*,*,*,猫,ネコ,ネコ\n",
            "で\t助動詞,*,*,*,特殊・ダ,連用形,だ,デ,デ\n",
            "ある\t助動詞,*,*,*,五段・ラ行アル,基本形,ある,アル,アル\n",
            "。\t記号,句点,*,*,*,*,。,。,。\n",
            "\r\t記号,一般,*,*,*,*,*\n",
            "EOS\n",
            "名前\t名詞,一般,*,*,*,*,名前,ナマエ,ナマエ\n",
            "は\t助詞,係助詞,*,*,*,*,は,ハ,ワ\n",
            "まだ\t副詞,助詞類接続,*,*,*,*,まだ,マダ,マダ\n",
            "無い\t形容詞,自立,*,*,形容詞・アウオ段,基本形,無い,ナイ,ナイ\n",
            "。\t記号,句点,*,*,*,*,。,。,。\n",
            "\r\t記号,一般,*,*,*,*,*\n",
            "EOS\n",
            "\r\t記号,一般,*,*,*,*,*\n",
            "EOS\n",
            "　\t記号,空白,*,*,*,*,　,　,　\n",
            "どこ\t名詞,代名詞,一般,*,*,*,どこ,ドコ,ドコ\n",
            "で\t助詞,格助詞,一般,*,*,*,で,デ,デ\n",
            "生れ\t動詞,自立,*,*,一段,連用形,生れる,ウマレ,ウマレ\n",
            "た\t助動詞,*,*,*,特殊・タ,基本形,た,タ,タ\n",
            "か\t助詞,副助詞／並立助詞／終助詞,*,*,*,*,か,カ,カ\n",
            "とんと\t副詞,一般,*,*,*,*,とんと,トント,トント\n",
            "見当\t名詞,サ変接続,*,*,*,*,見当,ケントウ,ケントー\n",
            "が\t助詞,格助詞,一般,*,*,*,が,ガ,ガ\n",
            "つか\t動詞,自立,*,*,五段・カ行イ音便,未然形,つく,ツカ,ツカ\n",
            "ぬ\t助動詞,*,*,*,特殊・ヌ,基本形,ぬ,ヌ,ヌ\n",
            "。\t記号,句点,*,*,*,*,。,。,。\n",
            "\r\t記号,一般,*,*,*,*,*\n",
            "EOS\n",
            "何\t名詞,代名詞,一般,*,*,*,何,ナニ,ナニ\n",
            "でも\t助詞,副助詞,*,*,*,*,でも,デモ,デモ\n",
            "薄暗い\t形容詞,自立,*,*,形容詞・アウオ段,基本形,薄暗い,ウスグライ,ウスグライ\n",
            "じめじめ\t副詞,一般,*,*,*,*,じめじめ,ジメジメ,ジメジメ\n",
            "し\t動詞,自立,*,*,サ変・スル,連用形,する,シ,シ\n",
            "た\t助動詞,*,*,*,特殊・タ,基本形,た,タ,タ\n",
            "所\t名詞,非自立,副詞可能,*,*,*,所,トコロ,トコロ\n",
            "で\t助詞,格助詞,一般,*,*,*,で,デ,デ\n",
            "ニャーニャー\t名詞,一般,*,*,*,*,*\n",
            "泣い\t動詞,自立,*,*,五段・カ行イ音便,連用タ接続,泣く,ナイ,ナイ\n",
            "て\t助詞,接続助詞,*,*,*,*,て,テ,テ\n",
            "いた事\t名詞,一般,*,*,*,*,いた事,イタコト,イタコト\n",
            "だけ\t助詞,副助詞,*,*,*,*,だけ,ダケ,ダケ\n"
          ]
        }
      ]
    },
    {
      "cell_type": "markdown",
      "metadata": {
        "id": "bZCzED2vzuPR"
      },
      "source": [
        "## 30. 形態素解析結果の読み込み\n",
        "***\n",
        "形態素解析結果（neko.txt.mecab）を読み込むプログラムを実装せよ．ただし，各形態素は表層形（surface），基本形（base），品詞（pos），品詞細分類1（pos1）をキーとするマッピング型に格納し，1文を形態素（マッピング型）のリストとして表現せよ．第4章の残りの問題では，ここで作ったプログラムを活用せよ．"
      ]
    },
    {
      "cell_type": "code",
      "metadata": {
        "colab": {
          "base_uri": "https://localhost:8080/"
        },
        "id": "FO0ZcroIuKEs",
        "outputId": "e915a5e6-8096-4b8f-a32c-6503e967ff20"
      },
      "source": [
        "filename = './neko.txt.mecab'\n",
        "\n",
        "sentences = []\n",
        "morphs = []\n",
        "with open(filename, mode='r') as f:\n",
        "  for line in f:  # 1行ずつ読込\n",
        "    if line != 'EOS\\n':  # 文末以外：形態素解析情報を辞書型に格納して形態素リストに追加\n",
        "      fields = line.split('\\t')\n",
        "      if len(fields) != 2 or fields[0] == '':\n",
        "        continue\n",
        "      else:\n",
        "        attr =  fields[1].split(',')\n",
        "        morph = {'surface': fields[0], 'base': attr[6], 'pos': attr[0], 'pos1': attr[1]}\n",
        "        morphs.append(morph)\n",
        "    else:  # 文末：形態素リストを文リストに追加\n",
        "      sentences.append(morphs)\n",
        "      morphs = []\n",
        "\n",
        "# 確認\n",
        "for morph in sentences[10]:\n",
        "  print(morph)"
      ],
      "execution_count": null,
      "outputs": [
        {
          "output_type": "stream",
          "name": "stdout",
          "text": [
            "{'surface': 'しかし', 'base': 'しかし', 'pos': '接続詞', 'pos1': '*'}\n",
            "{'surface': 'その', 'base': 'その', 'pos': '連体詞', 'pos1': '*'}\n",
            "{'surface': '当時', 'base': '当時', 'pos': '名詞', 'pos1': '副詞可能'}\n",
            "{'surface': 'は', 'base': 'は', 'pos': '助詞', 'pos1': '係助詞'}\n",
            "{'surface': '何', 'base': '何', 'pos': '名詞', 'pos1': '代名詞'}\n",
            "{'surface': 'という', 'base': 'という', 'pos': '助詞', 'pos1': '格助詞'}\n",
            "{'surface': '考', 'base': '考', 'pos': '名詞', 'pos1': '一般'}\n",
            "{'surface': 'も', 'base': 'も', 'pos': '助詞', 'pos1': '係助詞'}\n",
            "{'surface': 'なかっ', 'base': 'ない', 'pos': '形容詞', 'pos1': '自立'}\n",
            "{'surface': 'た', 'base': 'た', 'pos': '助動詞', 'pos1': '*'}\n",
            "{'surface': 'から', 'base': 'から', 'pos': '助詞', 'pos1': '接続助詞'}\n",
            "{'surface': '別段', 'base': '別段', 'pos': '副詞', 'pos1': '助詞類接続'}\n",
            "{'surface': '恐し', 'base': '恐い', 'pos': '形容詞', 'pos1': '自立'}\n",
            "{'surface': 'いとも', 'base': 'いとも', 'pos': '副詞', 'pos1': '一般'}\n",
            "{'surface': '思わ', 'base': '思う', 'pos': '動詞', 'pos1': '自立'}\n",
            "{'surface': 'なかっ', 'base': 'ない', 'pos': '助動詞', 'pos1': '*'}\n",
            "{'surface': 'た', 'base': 'た', 'pos': '助動詞', 'pos1': '*'}\n",
            "{'surface': '。', 'base': '。', 'pos': '記号', 'pos1': '句点'}\n"
          ]
        }
      ]
    },
    {
      "cell_type": "markdown",
      "metadata": {
        "id": "-TlgLcxJQbOw"
      },
      "source": [
        "## 31. 動詞\n",
        "***\n",
        "動詞の表層形をすべて抽出せよ．"
      ]
    },
    {
      "cell_type": "code",
      "metadata": {
        "colab": {
          "base_uri": "https://localhost:8080/"
        },
        "id": "Xc2R5fRLIKM4",
        "outputId": "5a15fdba-e376-4700-ad41-99cc2abb749b"
      },
      "source": [
        "ans = set()\n",
        "for sentence in sentences:\n",
        "  for morph in sentence:\n",
        "    if morph['pos'] == '動詞':\n",
        "      ans.add(morph['surface'])  # set型なので重複しない要素のみ保持していく\n",
        "\n",
        "# 確認\n",
        "print(f'動詞の表層形の種類: {len(ans)}\\n')\n",
        "print('---サンプル---')\n",
        "for v in list(ans)[:10]:\n",
        "  print(v)"
      ],
      "execution_count": null,
      "outputs": [
        {
          "output_type": "stream",
          "name": "stdout",
          "text": [
            "動詞の表層形の種類: 3893\n",
            "\n",
            "---サンプル---\n",
            "騒が\n",
            "はいり\n",
            "蒙り\n",
            "這い\n",
            "ひろげる\n",
            "懸け\n",
            "探し\n",
            "叩きつける\n",
            "云い\n",
            "与え\n"
          ]
        }
      ]
    },
    {
      "cell_type": "markdown",
      "metadata": {
        "id": "p5DSX-wXz2rz"
      },
      "source": [
        "## 32. 動詞の原形\n",
        "***\n",
        "動詞の原形をすべて抽出せよ．"
      ]
    },
    {
      "cell_type": "code",
      "metadata": {
        "colab": {
          "base_uri": "https://localhost:8080/"
        },
        "id": "Ba1klFCZJZ9u",
        "outputId": "e7c9b40c-8978-4676-8545-2d94eee3640f"
      },
      "source": [
        "ans = set()\n",
        "for sentence in sentences:\n",
        "  for morph in sentence:\n",
        "    if morph['pos'] =='動詞':\n",
        "      ans.add(morph['base'])\n",
        "# list(ans)[:10]\n",
        "\n",
        "print(f'動詞の原形の種類：{len(ans)}\\n')\n",
        "print('--サンプル--')\n",
        "for v in list(ans)[:5]:\n",
        "  print(v)\n",
        "\n"
      ],
      "execution_count": null,
      "outputs": [
        {
          "output_type": "stream",
          "name": "stdout",
          "text": [
            "動詞の原形の種類：2300\n",
            "\n",
            "--サンプル--\n",
            "いそぐ\n",
            "借る\n",
            "ひろげる\n",
            "叩きつける\n",
            "窮する\n"
          ]
        }
      ]
    },
    {
      "cell_type": "markdown",
      "metadata": {
        "id": "ot2yShm3z6l2"
      },
      "source": [
        "## 33. 「AのB」\n",
        "***\n",
        "2つの名詞が「の」で連結されている名詞句を抽出せよ．"
      ]
    },
    {
      "cell_type": "code",
      "metadata": {
        "colab": {
          "base_uri": "https://localhost:8080/"
        },
        "id": "q56E_p-GOOo4",
        "outputId": "faf16739-0aff-4766-d32b-b0de0b7df76f"
      },
      "source": [
        "ans = set()\n",
        "for sentence in sentences:\n",
        "  # print(sentence)\n",
        "  for i in range(1,len(sentence)-1):\n",
        "    if sentence[i-1]['pos'] =='名詞' and sentence[i]['surface']=='の' and sentence[i+1]['pos']=='名詞':\n",
        "      ans.add(sentence[i-1]['surface'] + sentence[i]['surface'] + sentence[i+1]['surface'])\n",
        "\n",
        "print(f'「名詞＋の＋名詞」の種類：{len(ans)}\\n')\n",
        "print('*'*5,'サンプル','*'*5)\n",
        "for v in list(ans)[:10]:\n",
        "  print(v)"
      ],
      "execution_count": null,
      "outputs": [
        {
          "output_type": "stream",
          "name": "stdout",
          "text": [
            "「名詞＋の＋名詞」の種類：4924\n",
            "\n",
            "***** サンプル *****\n",
            "僕の自弁\n",
            "キューピッドの矢\n",
            "橋の真中\n",
            "鼻の娘\n",
            "人の都合\n",
            "等の口\n",
            "不用意の際\n",
            "垣の内\n",
            "同様の運命\n",
            "古人のうち\n"
          ]
        }
      ]
    },
    {
      "cell_type": "markdown",
      "metadata": {
        "id": "Hsh_zjTyz_jq"
      },
      "source": [
        "## 34. 名詞の連接\n",
        "***\n",
        "名詞の連接（連続して出現する名詞）を最長一致で抽出せよ．"
      ]
    },
    {
      "cell_type": "code",
      "metadata": {
        "colab": {
          "base_uri": "https://localhost:8080/"
        },
        "id": "-clt3nCVXy9-",
        "outputId": "f3c7c438-accb-4313-beab-fdd1151d700e"
      },
      "source": [
        "ans = set()\n",
        "for sentence in sentences:\n",
        "  nouns = ''\n",
        "  num = 0\n",
        "  for morph in sentence:\n",
        "    if morph['pos'] =='名詞':\n",
        "      nouns = ''.join([nouns,morph['surface']])\n",
        "      num += 1\n",
        "    elif num >= 2:\n",
        "      ans.add(nouns)\n",
        "      nouns = ''\n",
        "      num =0\n",
        "    else:\n",
        "      nouns =''\n",
        "      num =0\n",
        "\n",
        "print(f'連接名詞の種類 : {nouns}\\n')\n",
        "print('*'*5,'サンプル','*'*5)\n",
        "for n in list(ans)[:5]:\n",
        "  print(n)"
      ],
      "execution_count": null,
      "outputs": [
        {
          "output_type": "stream",
          "name": "stdout",
          "text": [
            "連接名詞の種類 : \n",
            "\n",
            "***** サンプル *****\n",
            "梅花形\n",
            "魔中\n",
            "披露会\n",
            "通り手のひら\n",
            "二九\n"
          ]
        }
      ]
    },
    {
      "cell_type": "code",
      "metadata": {
        "colab": {
          "base_uri": "https://localhost:8080/"
        },
        "id": "06i9LJ7-_gXh",
        "outputId": "d9b7e506-ff44-4119-b7ac-9a6152f198d6"
      },
      "source": [
        "ans = set()\n",
        "for sentence in sentences:\n",
        "  nouns = ''\n",
        "  num = 0\n",
        "  for morph in sentence:\n",
        "    if morph['pos'] =='名詞':\n",
        "      nouns = ''.join([nouns,morph['surface']])\n",
        "      num += 1\n",
        "      ans.add(nouns)\n",
        "\n",
        "    # elif num >= 2:\n",
        "    #   ans.add(nouns)\n",
        "    #   nouns = ''\n",
        "    #   num =0\n",
        "    else:\n",
        "      nouns =''\n",
        "      num =0\n",
        "\n",
        "print(f'連接名詞の種類 : {nouns}\\n')\n",
        "print('*'*5,'サンプル','*'*5)\n",
        "for n in list(ans)[:5]:\n",
        "  print(n)"
      ],
      "execution_count": null,
      "outputs": [
        {
          "output_type": "stream",
          "name": "stdout",
          "text": [
            "連接名詞の種類 : \n",
            "\n",
            "***** サンプル *****\n",
            "活躍\n",
            "点検\n",
            "魔中\n",
            "連続\n",
            "電光\n"
          ]
        }
      ]
    },
    {
      "cell_type": "markdown",
      "metadata": {
        "id": "9tKKLA9c0E_J"
      },
      "source": [
        "\n",
        "\n",
        "## 35. 単語の出現頻度\n",
        "***\n",
        "文章中に出現する単語とその出現頻度を求め，出現頻度の高い順に並べよ．"
      ]
    },
    {
      "cell_type": "code",
      "metadata": {
        "colab": {
          "base_uri": "https://localhost:8080/"
        },
        "id": "nylr1S48lTxq",
        "outputId": "74ec7b50-52b7-4131-f51d-c53728f235af"
      },
      "source": [
        "from collections import defaultdict\n",
        "\n",
        "ans = defaultdict(int)\n",
        "for sentence in sentences:\n",
        "  for morph in sentence:\n",
        "    if morph['pos'] != '記号':\n",
        "      ans[morph['base']] += 1\n",
        "ans = sorted(ans.items(), key = lambda x: x[1],reverse = True)\n",
        "\n",
        "for w in ans[:10]:\n",
        "  print(w)"
      ],
      "execution_count": null,
      "outputs": [
        {
          "output_type": "stream",
          "name": "stdout",
          "text": [
            "('の', 9194)\n",
            "('て', 6848)\n",
            "('は', 6420)\n",
            "('に', 6243)\n",
            "('を', 6071)\n",
            "('だ', 5972)\n",
            "('と', 5508)\n",
            "('が', 5337)\n",
            "('た', 4267)\n",
            "('する', 3657)\n"
          ]
        }
      ]
    },
    {
      "cell_type": "markdown",
      "metadata": {
        "id": "ooKypowr0I-t"
      },
      "source": [
        "## 36. 頻度上位10語\n",
        "***\n",
        "出現頻度が高い10語とその出現頻度をグラフ（例えば棒グラフなど）で表示せよ．"
      ]
    },
    {
      "cell_type": "code",
      "metadata": {
        "colab": {
          "base_uri": "https://localhost:8080/"
        },
        "id": "8M0KPRGusAg6",
        "outputId": "02b46f2f-3b89-4bed-dd3e-f07651ebfbb4"
      },
      "source": [
        "!pip install -q japanize_matplotlib"
      ],
      "execution_count": null,
      "outputs": [
        {
          "output_type": "stream",
          "name": "stdout",
          "text": [
            "\u001b[K     |████████████████████████████████| 4.1 MB 5.0 MB/s \n",
            "\u001b[?25h  Building wheel for japanize-matplotlib (setup.py) ... \u001b[?25l\u001b[?25hdone\n"
          ]
        }
      ]
    },
    {
      "cell_type": "code",
      "metadata": {
        "colab": {
          "base_uri": "https://localhost:8080/",
          "height": 264
        },
        "id": "oFagPQcasIkP",
        "outputId": "0016e3cd-266f-40e8-aed9-ef5e5e8e7a41"
      },
      "source": [
        "import matplotlib.pyplot as plt\n",
        "import japanize_matplotlib\n",
        "\n",
        "ans = defaultdict(int)\n",
        "\n",
        "for sentence in sentences:\n",
        "  # print(len(sentence))　一文章\n",
        "  for morph in sentence:\n",
        "    # print(len(morph)) 単語 {'surface': 'しかし', 'base': 'しかし', 'pos': '接続詞', 'pos1': '*'} の4つ\n",
        "    if morph['pos'] != '記号':\n",
        "      ans[morph['base']] +=1\n",
        "ans = sorted(ans.items(), key=lambda x : x[1],reverse =True)\n",
        "\n",
        "X = [i[0] for i in ans[0:10]]\n",
        "Y = [i[1] for i in ans[0:10]]\n",
        "plt.figure(figsize=(8,4))\n",
        "plt.bar(X, Y,color = 'c')\n",
        "plt.show()"
      ],
      "execution_count": null,
      "outputs": [
        {
          "output_type": "display_data",
          "data": {
            "image/png": "[encoded data removed]",
            "text/plain": [
              "<Figure size 576x288 with 1 Axes>"
            ]
          },
          "metadata": {
            "needs_background": "light"
          }
        }
      ]
    },
    {
      "cell_type": "markdown",
      "metadata": {
        "id": "ewpsjX3N0NGO"
      },
      "source": [
        "## 37. 「猫」と共起頻度の高い上位10語\n",
        "***\n",
        "「猫」とよく共起する（共起頻度が高い）10語とその出現頻度をグラフ（例えば棒グラフなど）で表示せよ．"
      ]
    },
    {
      "cell_type": "code",
      "metadata": {
        "colab": {
          "base_uri": "https://localhost:8080/",
          "height": 264
        },
        "id": "NiAXCG4Y0V0F",
        "outputId": "eb06bbea-86e5-41c7-d1c7-f82e66fffa85"
      },
      "source": [
        "ans = defaultdict(int)\n",
        "for sentence in sentences:\n",
        "  if '猫' in [morph['surface'] for morph in sentence]:  # 文章の形態素に「猫」が含まれる場合のみ辞書に追加\n",
        "    for morph in sentence:\n",
        "      if morph['pos'] !='記号':\n",
        "        ans[morph['base']] += 1\n",
        "        \n",
        "# del ans['猫']\n",
        "ans = sorted(ans.items(), key = lambda x : x[1] , reverse=True)\n",
        "\n",
        "\n",
        "X = [i[0] for i in ans[:10]]\n",
        "Y = [i[1] for i in ans[:10]]\n",
        "plt.figure(figsize=(8,4))\n",
        "plt.bar(X,Y,color = 'orange')\n",
        "plt.show()"
      ],
      "execution_count": null,
      "outputs": [
        {
          "output_type": "display_data",
          "data": {
            "image/png": "[encoded data removed]",
            "text/plain": [
              "<Figure size 576x288 with 1 Axes>"
            ]
          },
          "metadata": {
            "needs_background": "light"
          }
        }
      ]
    },
    {
      "cell_type": "markdown",
      "metadata": {
        "id": "5ekAuBXB0RNo"
      },
      "source": [
        "## 38. ヒストグラム\n",
        "***\n",
        "単語の出現頻度のヒストグラム（横軸に出現頻度，縦軸に出現頻度をとる単語の種類数を棒グラフで表したもの）を描け．"
      ]
    },
    {
      "cell_type": "code",
      "metadata": {
        "id": "fjD_ZoFk43vW",
        "colab": {
          "base_uri": "https://localhost:8080/",
          "height": 277
        },
        "outputId": "a3453cb2-c4bd-413f-c392-26c986ffaa3b"
      },
      "source": [
        "ans = defaultdict(int)\n",
        "\n",
        "for sentence in sentences:\n",
        "  for morph in sentence:\n",
        "    if morph['pos'] !='記号':\n",
        "      ans[morph['base']] +=1\n",
        "ans = ans.values()\n",
        "\n",
        "plt.figure(figsize=(8,4))\n",
        "plt.hist(ans,bins=50)\n",
        "plt.xlabel('出現頻度')\n",
        "plt.ylabel('単語の種類')\n",
        "plt.show()"
      ],
      "execution_count": null,
      "outputs": [
        {
          "output_type": "display_data",
          "data": {
            "image/png": "[encoded data removed]",
            "text/plain": [
              "<Figure size 576x288 with 1 Axes>"
            ]
          },
          "metadata": {
            "needs_background": "light"
          }
        }
      ]
    },
    {
      "cell_type": "markdown",
      "metadata": {
        "id": "RFwDKbSaQ_o8"
      },
      "source": [
        "## 39. Zipfの法則\n",
        "***\n",
        "単語の出現頻度順位を横軸，その出現頻度を縦軸として，両対数グラフをプロットせよ．"
      ]
    },
    {
      "cell_type": "code",
      "metadata": {
        "colab": {
          "base_uri": "https://localhost:8080/",
          "height": 283
        },
        "id": "2XT4Ks89Cw9h",
        "outputId": "21b66a99-7257-4bc9-967f-8f125d166054"
      },
      "source": [
        "import math\n",
        "\n",
        "ans = defaultdict(int)\n",
        "for sentence in sentences:\n",
        "  for morph in sentence:\n",
        "    if morph['pos'] != '記号':\n",
        "      ans[morph['base']] +=1\n",
        "ans = sorted(ans.items(), key=lambda x : x[1] ,reverse=True)\n",
        "\n",
        "ranks = [r + 1 for r in range(len(ans))]\n",
        "values = [a[1] for a in ans]\n",
        "plt.figure(figsize=(8,4))\n",
        "plt.scatter(ranks,values)\n",
        "plt.xscale('log')\n",
        "plt.yscale('log')\n",
        "plt.xlabel('出現頻度順位')\n",
        "plt.ylabel('出現頻度')\n",
        "plt.grid()\n",
        "plt.show()"
      ],
      "execution_count": null,
      "outputs": [
        {
          "output_type": "display_data",
          "data": {
            "image/png": "[encoded data removed]",
            "text/plain": [
              "<Figure size 576x288 with 1 Axes>"
            ]
          },
          "metadata": {
            "needs_background": "light"
          }
        }
      ]
    },
    {
      "cell_type": "code",
      "metadata": {
        "id": "AxnBkVuxEL0s"
      },
      "source": [
        ""
      ],
      "execution_count": null,
      "outputs": []
    },
    {
      "cell_type": "code",
      "metadata": {
        "id": "FBI0Z7I-GiGK"
      },
      "source": [
        ""
      ],
      "execution_count": null,
      "outputs": []
    }
  ]
}