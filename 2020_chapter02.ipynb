{
  "nbformat": 4,
  "nbformat_minor": 0,
  "metadata": {
    "colab": {
      "name": "2020_chapter02.ipynb",
      "provenance": [],
      "collapsed_sections": [],
      "include_colab_link": true
    },
    "kernelspec": {
      "name": "python3",
      "display_name": "Python 3"
    }
  },
  "cells": [
    {
      "cell_type": "markdown",
      "metadata": {
        "id": "view-in-github",
        "colab_type": "text"
      },
      "source": [
        "<a href=\"https://colab.research.google.com/github/hasune613/hello-world/blob/main/2020_chapter02.ipynb\" target=\"_parent\"><img src=\"https://colab.research.google.com/assets/colab-badge.svg\" alt=\"Open In Colab\"/></a>"
      ]
    },
    {
      "cell_type": "markdown",
      "metadata": {
        "id": "uGHU9Bpd2SS1"
      },
      "source": [
        "# 第2章: UNIXコマンド\n",
        "popular-names.txtは，アメリカで生まれた赤ちゃんの「名前」「性別」「人数」「年」をタブ区切り形式で格納したファイルである．以下の処理を行うプログラムを作成し，popular-names.txtを入力ファイルとして実行せよ．さらに，同様の処理をUNIXコマンドでも実行し，プログラムの実行結果を確認せよ．"
      ]
    },
    {
      "cell_type": "code",
      "metadata": {
        "id": "cn-6zG3wkQYx",
        "colab": {
          "base_uri": "https://localhost:8080/"
        },
        "outputId": "f3b4e165-f2f5-4379-8a63-b2ec9e708b11"
      },
      "source": [
        "!wget https://nlp100.github.io/data/popular-names.txt"
      ],
      "execution_count": null,
      "outputs": [
        {
          "output_type": "stream",
          "name": "stdout",
          "text": [
            "--2021-10-17 03:06:54--  https://nlp100.github.io/data/popular-names.txt\n",
            "Resolving nlp100.github.io (nlp100.github.io)... 185.199.111.153, 185.199.108.153, 185.199.109.153, ...\n",
            "Connecting to nlp100.github.io (nlp100.github.io)|185.199.111.153|:443... connected.\n",
            "HTTP request sent, awaiting response... 200 OK\n",
            "Length: 55026 (54K) [text/plain]\n",
            "Saving to: ‘popular-names.txt’\n",
            "\n",
            "\rpopular-names.txt     0%[                    ]       0  --.-KB/s               \rpopular-names.txt   100%[===================>]  53.74K  --.-KB/s    in 0.007s  \n",
            "\n",
            "2021-10-17 03:06:54 (7.81 MB/s) - ‘popular-names.txt’ saved [55026/55026]\n",
            "\n"
          ]
        }
      ]
    },
    {
      "cell_type": "markdown",
      "metadata": {
        "id": "vDLdqfP92QtB"
      },
      "source": [
        "## 10. 行数のカウント\n",
        "***\n",
        "行数をカウントせよ．確認にはwcコマンドを用いよ．"
      ]
    },
    {
      "cell_type": "code",
      "metadata": {
        "colab": {
          "base_uri": "https://localhost:8080/",
          "height": 223
        },
        "id": "s1ZPjJo_bHn8",
        "outputId": "ac5a2c7b-7095-49d0-ac5f-0c8b01354c02"
      },
      "source": [
        "import pandas as pd\n",
        "from IPython.display import display\n",
        "\n",
        "df = pd.read_csv('./popular-names.txt', header=None, sep='\\t',names = ['name','sex','number','year'])\n",
        "display(df.head())\n",
        "print(len(df))"
      ],
      "execution_count": null,
      "outputs": [
        {
          "output_type": "display_data",
          "data": {
            "text/html": [
              "<div>\n",
              "<style scoped>\n",
              "    .dataframe tbody tr th:only-of-type {\n",
              "        vertical-align: middle;\n",
              "    }\n",
              "\n",
              "    .dataframe tbody tr th {\n",
              "        vertical-align: top;\n",
              "    }\n",
              "\n",
              "    .dataframe thead th {\n",
              "        text-align: right;\n",
              "    }\n",
              "</style>\n",
              "<table border=\"1\" class=\"dataframe\">\n",
              "  <thead>\n",
              "    <tr style=\"text-align: right;\">\n",
              "      <th></th>\n",
              "      <th>name</th>\n",
              "      <th>sex</th>\n",
              "      <th>number</th>\n",
              "      <th>year</th>\n",
              "    </tr>\n",
              "  </thead>\n",
              "  <tbody>\n",
              "    <tr>\n",
              "      <th>0</th>\n",
              "      <td>Mary</td>\n",
              "      <td>F</td>\n",
              "      <td>7065</td>\n",
              "      <td>1880</td>\n",
              "    </tr>\n",
              "    <tr>\n",
              "      <th>1</th>\n",
              "      <td>Anna</td>\n",
              "      <td>F</td>\n",
              "      <td>2604</td>\n",
              "      <td>1880</td>\n",
              "    </tr>\n",
              "    <tr>\n",
              "      <th>2</th>\n",
              "      <td>Emma</td>\n",
              "      <td>F</td>\n",
              "      <td>2003</td>\n",
              "      <td>1880</td>\n",
              "    </tr>\n",
              "    <tr>\n",
              "      <th>3</th>\n",
              "      <td>Elizabeth</td>\n",
              "      <td>F</td>\n",
              "      <td>1939</td>\n",
              "      <td>1880</td>\n",
              "    </tr>\n",
              "    <tr>\n",
              "      <th>4</th>\n",
              "      <td>Minnie</td>\n",
              "      <td>F</td>\n",
              "      <td>1746</td>\n",
              "      <td>1880</td>\n",
              "    </tr>\n",
              "  </tbody>\n",
              "</table>\n",
              "</div>"
            ],
            "text/plain": [
              "        name sex  number  year\n",
              "0       Mary   F    7065  1880\n",
              "1       Anna   F    2604  1880\n",
              "2       Emma   F    2003  1880\n",
              "3  Elizabeth   F    1939  1880\n",
              "4     Minnie   F    1746  1880"
            ]
          },
          "metadata": {}
        },
        {
          "output_type": "stream",
          "name": "stdout",
          "text": [
            "2780\n"
          ]
        }
      ]
    },
    {
      "cell_type": "code",
      "metadata": {
        "colab": {
          "base_uri": "https://localhost:8080/"
        },
        "id": "EruR6P9RdtOn",
        "outputId": "6eee23fc-4758-4008-c72b-7781dda5958e"
      },
      "source": [
        "!wc -l ./popular-names.txt"
      ],
      "execution_count": null,
      "outputs": [
        {
          "output_type": "stream",
          "name": "stdout",
          "text": [
            "2780 ./popular-names.txt\n"
          ]
        }
      ]
    },
    {
      "cell_type": "markdown",
      "metadata": {
        "id": "0j76rjw_hqu6"
      },
      "source": [
        "## 11. タブをスペースに置換\n",
        "***\n",
        "タブ1文字につきスペース1文字に置換せよ．確認にはsedコマンド，trコマンド，もしくはexpandコマンドを用いよ．"
      ]
    },
    {
      "cell_type": "code",
      "metadata": {
        "colab": {
          "base_uri": "https://localhost:8080/"
        },
        "id": "5PPlG63Qd69z",
        "outputId": "f593701e-fe90-40fb-d0b9-1e8430a4b588"
      },
      "source": [
        "!sed -e 's/\\t/ /g' ./popular-names.txt | head -n 5"
      ],
      "execution_count": null,
      "outputs": [
        {
          "output_type": "stream",
          "name": "stdout",
          "text": [
            "Mary F 7065 1880\n",
            "Anna F 2604 1880\n",
            "Emma F 2003 1880\n",
            "Elizabeth F 1939 1880\n",
            "Minnie F 1746 1880\n"
          ]
        }
      ]
    },
    {
      "cell_type": "markdown",
      "metadata": {
        "id": "98L6Id8Ni-uy"
      },
      "source": [
        "## 12. 1列目をcol1.txtに，2列目をcol2.txtに保存\n",
        "***\n",
        "各行の1列目だけを抜き出したものをcol1.txtに，2列目だけを抜き出したものをcol2.txtとしてファイルに保存せよ．確認にはcutコマンドを用いよ．"
      ]
    },
    {
      "cell_type": "code",
      "metadata": {
        "colab": {
          "base_uri": "https://localhost:8080/"
        },
        "id": "6wF0rPRAh-Sf",
        "outputId": "ae68d503-57ec-47c5-ade7-8b5702161340"
      },
      "source": [
        "col1 = df['name']\n",
        "col1.to_csv('./col1.txt',index = False)\n",
        "print(col1.head())"
      ],
      "execution_count": null,
      "outputs": [
        {
          "output_type": "stream",
          "name": "stdout",
          "text": [
            "0         Mary\n",
            "1         Anna\n",
            "2         Emma\n",
            "3    Elizabeth\n",
            "4       Minnie\n",
            "Name: name, dtype: object\n"
          ]
        }
      ]
    },
    {
      "cell_type": "code",
      "metadata": {
        "colab": {
          "base_uri": "https://localhost:8080/"
        },
        "id": "PahFC6WmiVio",
        "outputId": "e22fa7c5-090d-4fbf-c232-3958b720310c"
      },
      "source": [
        "# 確認\n",
        "!cut -f 1 ./popular-names.txt > ./col1_chk.txt\n",
        "!cat ./col1_chk.txt | head -n 5"
      ],
      "execution_count": null,
      "outputs": [
        {
          "output_type": "stream",
          "name": "stdout",
          "text": [
            "Mary\n",
            "Anna\n",
            "Emma\n",
            "Elizabeth\n",
            "Minnie\n"
          ]
        }
      ]
    },
    {
      "cell_type": "code",
      "metadata": {
        "colab": {
          "base_uri": "https://localhost:8080/"
        },
        "id": "qYnqwxIZkMxB",
        "outputId": "7f2efb82-f8ee-44e5-bcad-64f56837ac1f"
      },
      "source": [
        "col2 =df['sex']\n",
        "col2.to_csv('./col2.txt',index= False)\n",
        "print(col2.head())"
      ],
      "execution_count": null,
      "outputs": [
        {
          "output_type": "stream",
          "name": "stdout",
          "text": [
            "0    F\n",
            "1    F\n",
            "2    F\n",
            "3    F\n",
            "4    F\n",
            "Name: sex, dtype: object\n"
          ]
        }
      ]
    },
    {
      "cell_type": "code",
      "metadata": {
        "colab": {
          "base_uri": "https://localhost:8080/"
        },
        "id": "E71pGX31kobI",
        "outputId": "78e4ea81-994a-48f2-ff2b-bda31911f95a"
      },
      "source": [
        "# 確認\n",
        "! cut -f 2 ./popular-names.txt >./col2_chk.txt\n",
        "! cat col2_chk.txt | head -n 5\n"
      ],
      "execution_count": null,
      "outputs": [
        {
          "output_type": "stream",
          "name": "stdout",
          "text": [
            "F\n",
            "F\n",
            "F\n",
            "F\n",
            "F\n"
          ]
        }
      ]
    },
    {
      "cell_type": "markdown",
      "metadata": {
        "id": "Q5Hrt-KckVGG"
      },
      "source": [
        "## 13. col1.txtとcol2.txtをマージ\n",
        "***\n",
        "12で作ったcol1.txtとcol2.txtを結合し，元のファイルの1列目と2列目をタブ区切りで並べたテキストファイルを作成せよ．確認にはpasteコマンドを用いよ．"
      ]
    },
    {
      "cell_type": "code",
      "metadata": {
        "colab": {
          "base_uri": "https://localhost:8080/"
        },
        "id": "IytLnxSmmElu",
        "outputId": "1ee5399a-7f36-45e5-80ea-f75b56c8e11d"
      },
      "source": [
        "col1 = pd.read_table('./col1.txt')\n",
        "col2 = pd.read_table('./col2.txt')\n",
        "merged_1_2 = pd.concat([col1,col2], axis = 1)\n",
        "merged_1_2.to_csv('./merged_1_2.txt', sep = '\\t',index=False)\n",
        "print(merged_1_2.head())"
      ],
      "execution_count": null,
      "outputs": [
        {
          "output_type": "stream",
          "name": "stdout",
          "text": [
            "        name sex\n",
            "0       Mary   F\n",
            "1       Anna   F\n",
            "2       Emma   F\n",
            "3  Elizabeth   F\n",
            "4     Minnie   F\n"
          ]
        }
      ]
    },
    {
      "cell_type": "code",
      "metadata": {
        "colab": {
          "base_uri": "https://localhost:8080/"
        },
        "id": "PfTRyJB8nL4J",
        "outputId": "c8279469-5314-4307-bdde-b91a4c2c3930"
      },
      "source": [
        "# 確認\n",
        "! paste ./col1_chk.txt ./col2_chk.txt | head -n 5\n"
      ],
      "execution_count": null,
      "outputs": [
        {
          "output_type": "stream",
          "name": "stdout",
          "text": [
            "Mary\tF\n",
            "Anna\tF\n",
            "Emma\tF\n",
            "Elizabeth\tF\n",
            "Minnie\tF\n"
          ]
        }
      ]
    },
    {
      "cell_type": "markdown",
      "metadata": {
        "id": "1OT_n-pdk063"
      },
      "source": [
        "## 14. 先頭からN行を出力\n",
        "***\n",
        "自然数Nをコマンドライン引数などの手段で受け取り，入力のうち先頭のN行だけを表示せよ．確認にはheadコマンドを用いよ．"
      ]
    },
    {
      "cell_type": "code",
      "metadata": {
        "colab": {
          "base_uri": "https://localhost:8080/"
        },
        "id": "Wav7yF9LnsOB",
        "outputId": "b270b027-8614-4875-b559-3eef383fe7da"
      },
      "source": [
        "def output_head(N):\n",
        "    print(df.head(N))\n",
        "output_head(5)"
      ],
      "execution_count": null,
      "outputs": [
        {
          "output_type": "stream",
          "name": "stdout",
          "text": [
            "        name sex  number  year\n",
            "0       Mary   F    7065  1880\n",
            "1       Anna   F    2604  1880\n",
            "2       Emma   F    2003  1880\n",
            "3  Elizabeth   F    1939  1880\n",
            "4     Minnie   F    1746  1880\n"
          ]
        }
      ]
    },
    {
      "cell_type": "code",
      "metadata": {
        "colab": {
          "base_uri": "https://localhost:8080/",
          "height": 206
        },
        "id": "ImXNyGmaoCLl",
        "outputId": "23afb2d8-90b7-43f6-f754-b792d3412424"
      },
      "source": [
        "df.head(5)"
      ],
      "execution_count": null,
      "outputs": [
        {
          "output_type": "execute_result",
          "data": {
            "text/html": [
              "<div>\n",
              "<style scoped>\n",
              "    .dataframe tbody tr th:only-of-type {\n",
              "        vertical-align: middle;\n",
              "    }\n",
              "\n",
              "    .dataframe tbody tr th {\n",
              "        vertical-align: top;\n",
              "    }\n",
              "\n",
              "    .dataframe thead th {\n",
              "        text-align: right;\n",
              "    }\n",
              "</style>\n",
              "<table border=\"1\" class=\"dataframe\">\n",
              "  <thead>\n",
              "    <tr style=\"text-align: right;\">\n",
              "      <th></th>\n",
              "      <th>name</th>\n",
              "      <th>sex</th>\n",
              "      <th>number</th>\n",
              "      <th>year</th>\n",
              "    </tr>\n",
              "  </thead>\n",
              "  <tbody>\n",
              "    <tr>\n",
              "      <th>0</th>\n",
              "      <td>Mary</td>\n",
              "      <td>F</td>\n",
              "      <td>7065</td>\n",
              "      <td>1880</td>\n",
              "    </tr>\n",
              "    <tr>\n",
              "      <th>1</th>\n",
              "      <td>Anna</td>\n",
              "      <td>F</td>\n",
              "      <td>2604</td>\n",
              "      <td>1880</td>\n",
              "    </tr>\n",
              "    <tr>\n",
              "      <th>2</th>\n",
              "      <td>Emma</td>\n",
              "      <td>F</td>\n",
              "      <td>2003</td>\n",
              "      <td>1880</td>\n",
              "    </tr>\n",
              "    <tr>\n",
              "      <th>3</th>\n",
              "      <td>Elizabeth</td>\n",
              "      <td>F</td>\n",
              "      <td>1939</td>\n",
              "      <td>1880</td>\n",
              "    </tr>\n",
              "    <tr>\n",
              "      <th>4</th>\n",
              "      <td>Minnie</td>\n",
              "      <td>F</td>\n",
              "      <td>1746</td>\n",
              "      <td>1880</td>\n",
              "    </tr>\n",
              "  </tbody>\n",
              "</table>\n",
              "</div>"
            ],
            "text/plain": [
              "        name sex  number  year\n",
              "0       Mary   F    7065  1880\n",
              "1       Anna   F    2604  1880\n",
              "2       Emma   F    2003  1880\n",
              "3  Elizabeth   F    1939  1880\n",
              "4     Minnie   F    1746  1880"
            ]
          },
          "metadata": {},
          "execution_count": 12
        }
      ]
    },
    {
      "cell_type": "code",
      "metadata": {
        "colab": {
          "base_uri": "https://localhost:8080/"
        },
        "id": "YRC8TqBgoKTb",
        "outputId": "afc9f27e-2b7f-4053-8842-6d9443234e98"
      },
      "source": [
        "! head -5 ./popular-names.txt"
      ],
      "execution_count": null,
      "outputs": [
        {
          "output_type": "stream",
          "name": "stdout",
          "text": [
            "Mary\tF\t7065\t1880\n",
            "Anna\tF\t2604\t1880\n",
            "Emma\tF\t2003\t1880\n",
            "Elizabeth\tF\t1939\t1880\n",
            "Minnie\tF\t1746\t1880\n"
          ]
        }
      ]
    },
    {
      "cell_type": "markdown",
      "metadata": {
        "id": "TGUOVzf4ldPk"
      },
      "source": [
        "## 15. 末尾のN行を出力\n",
        "***\n",
        "自然数Nをコマンドライン引数などの手段で受け取り，入力のうち末尾のN行だけを表示せよ．確認にはtailコマンドを用いよ．"
      ]
    },
    {
      "cell_type": "code",
      "metadata": {
        "colab": {
          "base_uri": "https://localhost:8080/",
          "height": 206
        },
        "id": "VnGCFbkPoXy7",
        "outputId": "a783f0ac-7c4b-40d2-cf46-b40f445a6e7d"
      },
      "source": [
        "df.tail(5)"
      ],
      "execution_count": null,
      "outputs": [
        {
          "output_type": "execute_result",
          "data": {
            "text/html": [
              "<div>\n",
              "<style scoped>\n",
              "    .dataframe tbody tr th:only-of-type {\n",
              "        vertical-align: middle;\n",
              "    }\n",
              "\n",
              "    .dataframe tbody tr th {\n",
              "        vertical-align: top;\n",
              "    }\n",
              "\n",
              "    .dataframe thead th {\n",
              "        text-align: right;\n",
              "    }\n",
              "</style>\n",
              "<table border=\"1\" class=\"dataframe\">\n",
              "  <thead>\n",
              "    <tr style=\"text-align: right;\">\n",
              "      <th></th>\n",
              "      <th>name</th>\n",
              "      <th>sex</th>\n",
              "      <th>number</th>\n",
              "      <th>year</th>\n",
              "    </tr>\n",
              "  </thead>\n",
              "  <tbody>\n",
              "    <tr>\n",
              "      <th>2775</th>\n",
              "      <td>Benjamin</td>\n",
              "      <td>M</td>\n",
              "      <td>13381</td>\n",
              "      <td>2018</td>\n",
              "    </tr>\n",
              "    <tr>\n",
              "      <th>2776</th>\n",
              "      <td>Elijah</td>\n",
              "      <td>M</td>\n",
              "      <td>12886</td>\n",
              "      <td>2018</td>\n",
              "    </tr>\n",
              "    <tr>\n",
              "      <th>2777</th>\n",
              "      <td>Lucas</td>\n",
              "      <td>M</td>\n",
              "      <td>12585</td>\n",
              "      <td>2018</td>\n",
              "    </tr>\n",
              "    <tr>\n",
              "      <th>2778</th>\n",
              "      <td>Mason</td>\n",
              "      <td>M</td>\n",
              "      <td>12435</td>\n",
              "      <td>2018</td>\n",
              "    </tr>\n",
              "    <tr>\n",
              "      <th>2779</th>\n",
              "      <td>Logan</td>\n",
              "      <td>M</td>\n",
              "      <td>12352</td>\n",
              "      <td>2018</td>\n",
              "    </tr>\n",
              "  </tbody>\n",
              "</table>\n",
              "</div>"
            ],
            "text/plain": [
              "          name sex  number  year\n",
              "2775  Benjamin   M   13381  2018\n",
              "2776    Elijah   M   12886  2018\n",
              "2777     Lucas   M   12585  2018\n",
              "2778     Mason   M   12435  2018\n",
              "2779     Logan   M   12352  2018"
            ]
          },
          "metadata": {},
          "execution_count": 14
        }
      ]
    },
    {
      "cell_type": "code",
      "metadata": {
        "colab": {
          "base_uri": "https://localhost:8080/"
        },
        "id": "ZSGodMg7ocRk",
        "outputId": "546f0044-01ae-49e6-9ed5-9de397f6017f"
      },
      "source": [
        "def output_tail(N):\n",
        "    print(df.tail(N))\n",
        "output_tail(5)"
      ],
      "execution_count": null,
      "outputs": [
        {
          "output_type": "stream",
          "name": "stdout",
          "text": [
            "          name sex  number  year\n",
            "2775  Benjamin   M   13381  2018\n",
            "2776    Elijah   M   12886  2018\n",
            "2777     Lucas   M   12585  2018\n",
            "2778     Mason   M   12435  2018\n",
            "2779     Logan   M   12352  2018\n"
          ]
        }
      ]
    },
    {
      "cell_type": "code",
      "metadata": {
        "colab": {
          "base_uri": "https://localhost:8080/"
        },
        "id": "wPhMQkxpomo4",
        "outputId": "e172115a-840f-4dfc-e4f0-c12dab00d234"
      },
      "source": [
        "! tail -5 ./popular-names.txt"
      ],
      "execution_count": null,
      "outputs": [
        {
          "output_type": "stream",
          "name": "stdout",
          "text": [
            "Benjamin\tM\t13381\t2018\n",
            "Elijah\tM\t12886\t2018\n",
            "Lucas\tM\t12585\t2018\n",
            "Mason\tM\t12435\t2018\n",
            "Logan\tM\t12352\t2018\n"
          ]
        }
      ]
    },
    {
      "cell_type": "code",
      "metadata": {
        "colab": {
          "base_uri": "https://localhost:8080/"
        },
        "id": "_tv0se2zUCd9",
        "outputId": "c2506af2-9a30-4eda-c373-1278ff8aec41"
      },
      "source": [
        "! (head -5 ; tail -5)  < ./popular-names.txt"
      ],
      "execution_count": null,
      "outputs": [
        {
          "output_type": "stream",
          "name": "stdout",
          "text": [
            "Mary\tF\t7065\t1880\n",
            "Anna\tF\t2604\t1880\n",
            "Emma\tF\t2003\t1880\n",
            "Elizabeth\tF\t1939\t1880\n",
            "Minnie\tF\t1746\t1880\n",
            "Benjamin\tM\t13381\t2018\n",
            "Elijah\tM\t12886\t2018\n",
            "Lucas\tM\t12585\t2018\n",
            "Mason\tM\t12435\t2018\n",
            "Logan\tM\t12352\t2018\n"
          ]
        }
      ]
    },
    {
      "cell_type": "markdown",
      "metadata": {
        "id": "nkoTJj2klmDA"
      },
      "source": [
        "## 16. ファイルをN分割する\n",
        "***\n",
        "自然数Nをコマンドライン引数などの手段で受け取り，入力のファイルを行単位でN分割せよ．同様の処理をsplitコマンドで実現せよ．"
      ]
    },
    {
      "cell_type": "code",
      "metadata": {
        "colab": {
          "base_uri": "https://localhost:8080/"
        },
        "id": "aDI5Jdi_o1wh",
        "outputId": "a7d0f83c-9965-45e3-e492-9a898ef4e051"
      },
      "source": [
        "def split_file(N):\n",
        "    tmp = df.reset_index(drop = True)\n",
        "    df_cut = pd.qcut(tmp.index, N,labels=[i for i in range(N)])\n",
        "    df_cut = pd.concat([df,pd.Series(df_cut, name = 'sp')], axis = 1)\n",
        "\n",
        "    return df_cut\n",
        "\n",
        "df_cut = split_file(5)\n",
        "print(df_cut['sp'].value_counts())\n",
        "print(df_cut.tail(100))"
      ],
      "execution_count": null,
      "outputs": [
        {
          "output_type": "stream",
          "name": "stdout",
          "text": [
            "4    556\n",
            "3    556\n",
            "2    556\n",
            "1    556\n",
            "0    556\n",
            "Name: sp, dtype: int64\n",
            "          name sex  number  year sp\n",
            "2680      Emma   F   20936  2014  4\n",
            "2681    Olivia   F   19807  2014  4\n",
            "2682    Sophia   F   18609  2014  4\n",
            "2683  Isabella   F   17089  2014  4\n",
            "2684       Ava   F   15696  2014  4\n",
            "...        ...  ..     ...   ... ..\n",
            "2775  Benjamin   M   13381  2018  4\n",
            "2776    Elijah   M   12886  2018  4\n",
            "2777     Lucas   M   12585  2018  4\n",
            "2778     Mason   M   12435  2018  4\n",
            "2779     Logan   M   12352  2018  4\n",
            "\n",
            "[100 rows x 5 columns]\n"
          ]
        }
      ]
    },
    {
      "cell_type": "code",
      "metadata": {
        "colab": {
          "base_uri": "https://localhost:8080/"
        },
        "id": "q8JtJ8_Rs9wE",
        "outputId": "7dd47c19-248e-48a2-fc00-377e5ac5991b"
      },
      "source": [
        "! split - | 10 -d ./popular-names.txt sp"
      ],
      "execution_count": null,
      "outputs": [
        {
          "output_type": "stream",
          "name": "stdout",
          "text": [
            "/bin/bash: 10: command not found\n",
            "^C\n"
          ]
        }
      ]
    },
    {
      "cell_type": "markdown",
      "metadata": {
        "id": "rv5fVjIRl7QK"
      },
      "source": [
        "## 17. １列目の文字列の異なり\n",
        "***\n",
        "1列目の文字列の種類（異なる文字列の集合）を求めよ．確認にはcut, sort, uniqコマンドを用いよ．"
      ]
    },
    {
      "cell_type": "code",
      "metadata": {
        "colab": {
          "base_uri": "https://localhost:8080/"
        },
        "id": "ctOZLvSUYYJc",
        "outputId": "d1fe752b-75ec-4fed-f946-adda19aeef7a"
      },
      "source": [
        "uni = df.drop_duplicates(subset='name')\n",
        "uni.value_counts().sum()"
      ],
      "execution_count": null,
      "outputs": [
        {
          "output_type": "execute_result",
          "data": {
            "text/plain": [
              "136"
            ]
          },
          "metadata": {},
          "execution_count": 32
        }
      ]
    },
    {
      "cell_type": "code",
      "metadata": {
        "colab": {
          "base_uri": "https://localhost:8080/"
        },
        "id": "2iQrRCbqTTpW",
        "outputId": "2ae1e22c-3b55-469d-8748-7fa1066b151b"
      },
      "source": [
        "print(len(df.drop_duplicates(subset='name')))"
      ],
      "execution_count": null,
      "outputs": [
        {
          "output_type": "stream",
          "name": "stdout",
          "text": [
            "136\n"
          ]
        }
      ]
    },
    {
      "cell_type": "code",
      "metadata": {
        "colab": {
          "base_uri": "https://localhost:8080/"
        },
        "id": "r4M1ZsqiYl6B",
        "outputId": "82e01c86-52de-4e00-9636-48c428a85417"
      },
      "source": [
        "# 確認\n",
        "!cut -f 1 ./popular-names.txt | sort | uniq | wc -l"
      ],
      "execution_count": null,
      "outputs": [
        {
          "output_type": "stream",
          "name": "stdout",
          "text": [
            "136\n"
          ]
        }
      ]
    },
    {
      "cell_type": "markdown",
      "metadata": {
        "id": "6JYgH5aUrWIc"
      },
      "source": [
        "## 18. 各行を3コラム目の数値の降順にソート\n",
        "***\n",
        "各行を3コラム目の数値の逆順で整列せよ（注意: 各行の内容は変更せずに並び替えよ）．確認にはsortコマンドを用いよ（この問題はコマンドで実行した時の結果と合わなくてもよい）．"
      ]
    },
    {
      "cell_type": "code",
      "metadata": {
        "colab": {
          "base_uri": "https://localhost:8080/",
          "height": 206
        },
        "id": "DoOozg9EZ7xG",
        "outputId": "f8c3ce8c-86e4-49b1-e7c0-e822db5d3e4c"
      },
      "source": [
        "df.sort_values(by = 'number',ascending=False, inplace = True)\n",
        "df.head()"
      ],
      "execution_count": null,
      "outputs": [
        {
          "output_type": "execute_result",
          "data": {
            "text/html": [
              "<div>\n",
              "<style scoped>\n",
              "    .dataframe tbody tr th:only-of-type {\n",
              "        vertical-align: middle;\n",
              "    }\n",
              "\n",
              "    .dataframe tbody tr th {\n",
              "        vertical-align: top;\n",
              "    }\n",
              "\n",
              "    .dataframe thead th {\n",
              "        text-align: right;\n",
              "    }\n",
              "</style>\n",
              "<table border=\"1\" class=\"dataframe\">\n",
              "  <thead>\n",
              "    <tr style=\"text-align: right;\">\n",
              "      <th></th>\n",
              "      <th>name</th>\n",
              "      <th>sex</th>\n",
              "      <th>number</th>\n",
              "      <th>year</th>\n",
              "    </tr>\n",
              "  </thead>\n",
              "  <tbody>\n",
              "    <tr>\n",
              "      <th>1340</th>\n",
              "      <td>Linda</td>\n",
              "      <td>F</td>\n",
              "      <td>99689</td>\n",
              "      <td>1947</td>\n",
              "    </tr>\n",
              "    <tr>\n",
              "      <th>1360</th>\n",
              "      <td>Linda</td>\n",
              "      <td>F</td>\n",
              "      <td>96211</td>\n",
              "      <td>1948</td>\n",
              "    </tr>\n",
              "    <tr>\n",
              "      <th>1350</th>\n",
              "      <td>James</td>\n",
              "      <td>M</td>\n",
              "      <td>94757</td>\n",
              "      <td>1947</td>\n",
              "    </tr>\n",
              "    <tr>\n",
              "      <th>1550</th>\n",
              "      <td>Michael</td>\n",
              "      <td>M</td>\n",
              "      <td>92704</td>\n",
              "      <td>1957</td>\n",
              "    </tr>\n",
              "    <tr>\n",
              "      <th>1351</th>\n",
              "      <td>Robert</td>\n",
              "      <td>M</td>\n",
              "      <td>91640</td>\n",
              "      <td>1947</td>\n",
              "    </tr>\n",
              "  </tbody>\n",
              "</table>\n",
              "</div>"
            ],
            "text/plain": [
              "         name sex  number  year\n",
              "1340    Linda   F   99689  1947\n",
              "1360    Linda   F   96211  1948\n",
              "1350    James   M   94757  1947\n",
              "1550  Michael   M   92704  1957\n",
              "1351   Robert   M   91640  1947"
            ]
          },
          "metadata": {},
          "execution_count": 43
        }
      ]
    },
    {
      "cell_type": "code",
      "metadata": {
        "colab": {
          "base_uri": "https://localhost:8080/"
        },
        "id": "CfZpfOqCcNFK",
        "outputId": "b3ff8d44-def9-49a8-e2c2-feea1b5e016e"
      },
      "source": [
        "!cat ./popular-names.txt | sort -rnk 3 | head -n 5"
      ],
      "execution_count": null,
      "outputs": [
        {
          "output_type": "stream",
          "name": "stdout",
          "text": [
            "Linda\tF\t99689\t1947\n",
            "Linda\tF\t96211\t1948\n",
            "James\tM\t94757\t1947\n",
            "Michael\tM\t92704\t1957\n",
            "Robert\tM\t91640\t1947\n"
          ]
        }
      ]
    },
    {
      "cell_type": "markdown",
      "metadata": {
        "id": "4_AMuAgHsjfE"
      },
      "source": [
        "## 19. 各行の1コラム目の文字列の出現頻度を求め，出現頻度の高い順に並べる\n",
        "***\n",
        "各行の1列目の文字列の出現頻度を求め，その高い順に並べて表示せよ．確認にはcut, uniq, sortコマンドを用いよ．"
      ]
    },
    {
      "cell_type": "code",
      "metadata": {
        "colab": {
          "base_uri": "https://localhost:8080/"
        },
        "id": "1CUMwXnsfh38",
        "outputId": "920f74b7-1f28-461e-c149-45b30dcf6d55"
      },
      "source": [
        "print(df['name'].value_counts().head())"
      ],
      "execution_count": null,
      "outputs": [
        {
          "output_type": "stream",
          "name": "stdout",
          "text": [
            "James      118\n",
            "William    111\n",
            "John       108\n",
            "Robert     108\n",
            "Mary        92\n",
            "Name: name, dtype: int64\n"
          ]
        }
      ]
    },
    {
      "cell_type": "code",
      "metadata": {
        "colab": {
          "base_uri": "https://localhost:8080/"
        },
        "id": "c1Zid7wufhzf",
        "outputId": "4de1c020-9391-4abd-adc3-9a361b583151"
      },
      "source": [
        "# 確認\n",
        "! cut -f 1 ./popular-names.txt | sort | uniq -c | sort -rn | head -n 5"
      ],
      "execution_count": null,
      "outputs": [
        {
          "output_type": "stream",
          "name": "stdout",
          "text": [
            "    118 James\n",
            "    111 William\n",
            "    108 Robert\n",
            "    108 John\n",
            "     92 Mary\n"
          ]
        }
      ]
    },
    {
      "cell_type": "code",
      "metadata": {
        "colab": {
          "base_uri": "https://localhost:8080/"
        },
        "id": "FvDu_1lPhzWP",
        "outputId": "f3269e0d-a6b2-49e9-d3a8-7b61ec931a3f"
      },
      "source": [
        "#確認\n",
        "! cut -f 1 ./popular-names.txt | sort | uniq -c | sort -rn | head -5"
      ],
      "execution_count": null,
      "outputs": [
        {
          "output_type": "stream",
          "name": "stdout",
          "text": [
            "    118 James\n",
            "    111 William\n",
            "    108 Robert\n",
            "    108 John\n",
            "     92 Mary\n"
          ]
        }
      ]
    },
    {
      "cell_type": "code",
      "metadata": {
        "id": "frxMsaJph1n8"
      },
      "source": [
        ""
      ],
      "execution_count": null,
      "outputs": []
    }
  ]
}