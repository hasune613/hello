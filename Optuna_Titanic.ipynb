{
  "nbformat": 4,
  "nbformat_minor": 0,
  "metadata": {
    "colab": {
      "name": "Optuna_Titanic.ipynb",
      "provenance": [],
      "collapsed_sections": [],
      "mount_file_id": "1TD6t4Fdv4lAItJCPQ-UP-NcWILnvRzm3",
      "authorship_tag": "ABX9TyMXpG1LPz42e7sSv0Z321+9",
      "include_colab_link": true
    },
    "kernelspec": {
      "name": "python3",
      "display_name": "Python 3"
    },
    "language_info": {
      "name": "python"
    }
  },
  "cells": [
    {
      "cell_type": "markdown",
      "metadata": {
        "id": "view-in-github",
        "colab_type": "text"
      },
      "source": [
        "<a href=\"https://colab.research.google.com/github/hasune613/hello-world/blob/main/Optuna_Titanic.ipynb\" target=\"_parent\"><img src=\"https://colab.research.google.com/assets/colab-badge.svg\" alt=\"Open In Colab\"/></a>"
      ]
    },
    {
      "cell_type": "code",
      "metadata": {
        "id": "KlHPqCzhanW4",
        "colab": {
          "base_uri": "https://localhost:8080/"
        },
        "collapsed": true,
        "outputId": "176bb0c0-c528-4ea2-a80f-4cb67b703786"
      },
      "source": [
        "from google.colab import drive\n",
        "drive.mount('/content/drive')"
      ],
      "execution_count": null,
      "outputs": [
        {
          "output_type": "stream",
          "name": "stdout",
          "text": [
            "Drive already mounted at /content/drive; to attempt to forcibly remount, call drive.mount(\"/content/drive\", force_remount=True).\n"
          ]
        }
      ]
    },
    {
      "cell_type": "code",
      "metadata": {
        "id": "B8g6w-Dxa6IN",
        "colab": {
          "base_uri": "https://localhost:8080/"
        },
        "outputId": "3a681c1f-f469-490b-ed18-8825dc88be0c"
      },
      "source": [
        "!ls drive"
      ],
      "execution_count": null,
      "outputs": [
        {
          "output_type": "stream",
          "name": "stdout",
          "text": [
            "MyDrive\n"
          ]
        }
      ]
    },
    {
      "cell_type": "code",
      "metadata": {
        "id": "meupYWfIbOfc"
      },
      "source": [
        "import numpy as np\n",
        "import pandas as pd\n",
        "\n",
        "from sklearn.preprocessing import LabelEncoder\n",
        "\n",
        "import matplotlib.pyplot as plt\n",
        "import seaborn as sns\n",
        "sns.set()"
      ],
      "execution_count": null,
      "outputs": []
    },
    {
      "cell_type": "code",
      "metadata": {
        "id": "M4dx1VFzfWgj",
        "colab": {
          "base_uri": "https://localhost:8080/"
        },
        "outputId": "ce6494f0-4bcd-45ee-c324-5524347b5d48"
      },
      "source": [
        "train_raw =pd.read_csv('/content/drive/MyDrive/kaggle/train.csv')\n",
        "test_raw = pd.read_csv('/content/drive/MyDrive/kaggle/test.csv')\n",
        "print('The size of the train data' +str(train_raw.shape))\n",
        "print('The size of the test  data' +str(test_raw.shape))\n",
        "\n",
        "train_mid = train_raw.copy()\n",
        "test_mid = test_raw.copy()\n",
        "train_mid['train_or_test'] = 'train' #学習データフラグ\n",
        "test_mid['train_or_test'] = 'test' #テストデータフラグ\n",
        "test_mid['Survived'] = 9#テストにSurvivedカラムを仮置き\n",
        "# train_mid.shape, test_mid.shape\n",
        "# train_mid.head(1)\n",
        "# test_mid.head(1)\n",
        "\n",
        "alldata = pd.concat([train_mid, test_mid],sort=False, axis = 0).reset_index(drop=True)\n",
        "alldata.head(1)\n",
        "print('The size of the alldata data' + str(alldata.shape))\n",
        "# alldata.head(1)\n",
        "\n"
      ],
      "execution_count": null,
      "outputs": [
        {
          "output_type": "stream",
          "name": "stdout",
          "text": [
            "The size of the train data(891, 12)\n",
            "The size of the test  data(418, 11)\n",
            "The size of the alldata data(1309, 13)\n"
          ]
        }
      ]
    },
    {
      "cell_type": "code",
      "metadata": {
        "id": "OtNJXh6Pf-Eh",
        "colab": {
          "base_uri": "https://localhost:8080/"
        },
        "outputId": "1e804361-dc2d-4a66-fdea-0c8d6f7ad676"
      },
      "source": [
        "#欠損値補完\n",
        "alldata.info()"
      ],
      "execution_count": null,
      "outputs": [
        {
          "output_type": "stream",
          "name": "stdout",
          "text": [
            "<class 'pandas.core.frame.DataFrame'>\n",
            "RangeIndex: 1309 entries, 0 to 1308\n",
            "Data columns (total 13 columns):\n",
            " #   Column         Non-Null Count  Dtype  \n",
            "---  ------         --------------  -----  \n",
            " 0   PassengerId    1309 non-null   int64  \n",
            " 1   Survived       1309 non-null   int64  \n",
            " 2   Pclass         1309 non-null   int64  \n",
            " 3   Name           1309 non-null   object \n",
            " 4   Sex            1309 non-null   object \n",
            " 5   Age            1046 non-null   float64\n",
            " 6   SibSp          1309 non-null   int64  \n",
            " 7   Parch          1309 non-null   int64  \n",
            " 8   Ticket         1309 non-null   object \n",
            " 9   Fare           1308 non-null   float64\n",
            " 10  Cabin          295 non-null    object \n",
            " 11  Embarked       1307 non-null   object \n",
            " 12  train_or_test  1309 non-null   object \n",
            "dtypes: float64(2), int64(5), object(6)\n",
            "memory usage: 133.1+ KB\n"
          ]
        }
      ]
    },
    {
      "cell_type": "code",
      "metadata": {
        "id": "AEcaJUKDh2y0",
        "colab": {
          "base_uri": "https://localhost:8080/"
        },
        "outputId": "2e3132e5-0b67-4695-a41e-2c4139174a1f"
      },
      "source": [
        "alldata.isnull().sum()\n",
        "#Age 263/Fare 1/Cabin 1014/Embarked 2/"
      ],
      "execution_count": null,
      "outputs": [
        {
          "output_type": "execute_result",
          "data": {
            "text/plain": [
              "PassengerId         0\n",
              "Survived            0\n",
              "Pclass              0\n",
              "Name                0\n",
              "Sex                 0\n",
              "Age               263\n",
              "SibSp               0\n",
              "Parch               0\n",
              "Ticket              0\n",
              "Fare                1\n",
              "Cabin            1014\n",
              "Embarked            2\n",
              "train_or_test       0\n",
              "dtype: int64"
            ]
          },
          "metadata": {},
          "execution_count": 115
        }
      ]
    },
    {
      "cell_type": "code",
      "metadata": {
        "id": "m90csfuPkzEQ",
        "colab": {
          "base_uri": "https://localhost:8080/",
          "height": 35
        },
        "outputId": "0031c5e6-b4c5-4264-c1ef-15c348fadfd7"
      },
      "source": [
        "alldata.Embarked.mode()[0]"
      ],
      "execution_count": null,
      "outputs": [
        {
          "output_type": "execute_result",
          "data": {
            "application/vnd.google.colaboratory.intrinsic+json": {
              "type": "string"
            },
            "text/plain": [
              "'S'"
            ]
          },
          "metadata": {},
          "execution_count": 116
        }
      ]
    },
    {
      "cell_type": "code",
      "metadata": {
        "id": "kcfOAh4dh2ur",
        "colab": {
          "base_uri": "https://localhost:8080/"
        },
        "outputId": "6886cc02-cad9-49ae-80df-09a978b4068e"
      },
      "source": [
        "#Embarkedを最頻値で補完\n",
        "alldata.Embarked.fillna(alldata.Embarked.mode()[0],inplace=True)\n",
        "#Fareを中央値で補完\n",
        "alldata.Fare.fillna(alldata.Fare.median(),inplace=True)\n",
        "print(alldata.isnull().sum())"
      ],
      "execution_count": null,
      "outputs": [
        {
          "output_type": "stream",
          "name": "stdout",
          "text": [
            "PassengerId         0\n",
            "Survived            0\n",
            "Pclass              0\n",
            "Name                0\n",
            "Sex                 0\n",
            "Age               263\n",
            "SibSp               0\n",
            "Parch               0\n",
            "Ticket              0\n",
            "Fare                0\n",
            "Cabin            1014\n",
            "Embarked            0\n",
            "train_or_test       0\n",
            "dtype: int64\n"
          ]
        }
      ]
    },
    {
      "cell_type": "code",
      "metadata": {
        "id": "3sJPm326h2rM"
      },
      "source": [
        "#FamilySize = SibSp(兄弟,配偶者の数) + Parch(両親、子供の数) )\n",
        "alldata['FamilySize'] = alldata['SibSp']+alldata['Parch'] +1\n",
        "# FamilySizeを離散化\n",
        "alldata['FamilySize_bin'] = 'big'\n",
        "alldata.head()\n",
        "alldata.loc[alldata['FamilySize'] ==1,'FamilySize_bin'] = 'alone'\n",
        "alldata.loc[(alldata['FamilySize'] >=2) &(alldata['FamilySize']<=4),'FamilySize_bin'] = 'small'\n",
        "alldata.loc[(alldata['FamilySize'] >=4) &(alldata['FamilySize']<=7),'FamilySize_bin'] ='median'\n",
        "\n",
        "# alldata.head(10)"
      ],
      "execution_count": null,
      "outputs": []
    },
    {
      "cell_type": "code",
      "metadata": {
        "id": "KZH8LyGGh2oI"
      },
      "source": [
        "#同じTicket(チケット番号)を出現頻度として特徴量とする\n",
        "# len(alldata.Ticket.unique())\n",
        "# len(alldata.Ticket)\n",
        "alldata.loc[:,'TicketFreq'] = alldata.groupby(['Ticket'])['PassengerId'].transform('count')\n"
      ],
      "execution_count": null,
      "outputs": []
    },
    {
      "cell_type": "code",
      "metadata": {
        "id": "dM8bU1m3h2i3"
      },
      "source": [
        "#Nameの敬称を特徴量とする\n",
        "# alldata['honorific'] = alldata['Name'].map(lambda x : x.split('.')[1].split('.')[0]) \n",
        "# alldata[['honorific','Name']]\n",
        "#敬称(honorific)の加工\n",
        "# alldata['honorific'].replace(['Col', 'Dr', 'Rev'],'Rare',inplace = True)\n",
        "# alldata['honorific'].replace('Mlle', 'Miss',inplace=True) #Missに統合\n",
        "# alldata['honorific'].replace('Ms', 'Miss',inplace=True) #Missに統合"
      ],
      "execution_count": null,
      "outputs": []
    },
    {
      "cell_type": "code",
      "metadata": {
        "id": "v_FLb5EEh2fz"
      },
      "source": [
        "# sample = \"a b c d e f\"\n",
        "# print(sample.split(' ', 4))\n",
        "# print(sample.split(' ',4)[3])\n",
        "# print(sample.split(' ', 1)[1])"
      ],
      "execution_count": null,
      "outputs": []
    },
    {
      "cell_type": "code",
      "metadata": {
        "id": "6v0K-Nm1LPYz"
      },
      "source": [
        "#Nameの敬称を特徴量とする\n",
        "alldata['honorific'] =alldata.Name.str.extract('([A-Za-z]+)\\.',expand=False)"
      ],
      "execution_count": null,
      "outputs": []
    },
    {
      "cell_type": "code",
      "metadata": {
        "id": "Vcwx9QDBN8lZ",
        "colab": {
          "base_uri": "https://localhost:8080/"
        },
        "outputId": "10ed1c1d-c9aa-462a-db66-859ec57b0d0c"
      },
      "source": [
        "alldata.Name.str.extract('([A-Za-z]+\\.)',expand=False).value_counts()"
      ],
      "execution_count": null,
      "outputs": [
        {
          "output_type": "execute_result",
          "data": {
            "text/plain": [
              "Mr.          757\n",
              "Miss.        260\n",
              "Mrs.         197\n",
              "Master.       61\n",
              "Dr.            8\n",
              "Rev.           8\n",
              "Col.           4\n",
              "Major.         2\n",
              "Mlle.          2\n",
              "Ms.            2\n",
              "Capt.          1\n",
              "Sir.           1\n",
              "Jonkheer.      1\n",
              "Dona.          1\n",
              "Countess.      1\n",
              "Don.           1\n",
              "Mme.           1\n",
              "Lady.          1\n",
              "Name: Name, dtype: int64"
            ]
          },
          "metadata": {},
          "execution_count": 123
        }
      ]
    },
    {
      "cell_type": "code",
      "metadata": {
        "id": "5eCEjefNh2cv"
      },
      "source": [
        "alldata['honorific'].replace(['Col','Dr','Rev'],'Rare',inplace = True)\n",
        "# print((alldata.honorific=='Col').sum())#0\n",
        "# print((alldata.honorific=='Dr').sum())#0\n",
        "# print((alldata.honorific=='Rev').sum())#0\n",
        "# print((alldata.honorific=='Rare').sum())#20\n",
        "alldata['honorific'].replace('Mlle','Miss',inplace=True)#MlleをMissに統合\n",
        "# print((alldata['honorific']=='Mlle').sum())#0\n",
        "# print((alldata['honorific']=='Miss').sum())#262\n",
        "alldata['honorific'].replace('Ms','Miss',inplace=True)#MsをMissに統合\n",
        "# print((alldata['honorific']=='Ms').sum())\n",
        "# print((alldata['honorific']=='Miss').sum())#264\n"
      ],
      "execution_count": null,
      "outputs": []
    },
    {
      "cell_type": "code",
      "metadata": {
        "id": "SlvGuWmIQOlj"
      },
      "source": [
        "# Fareの分割(外れ値対応)\n",
        "alldata.loc[:,'Fare_bin'] = pd.qcut(alldata.Fare,14)\n",
        "# Cabin(頭文字を特徴量とする)\n",
        "alldata['Cabin_ini'] = alldata['Cabin'].map(lambda x : str(x)[0])\n",
        "alldata['Cabin_ini'].replace(['G','T'],'Rare',inplace=True)#少数派のCabin_iniを統合\n",
        "# print((alldata['Cabin_ini']=='G').sum())#0\n",
        "# print((alldata['Cabin_ini']=='G').sum())#0\n",
        "# print((alldata['Cabin_ini']=='Rare').sum())#6"
      ],
      "execution_count": null,
      "outputs": []
    },
    {
      "cell_type": "code",
      "metadata": {
        "id": "MrFTaOIJV7oa",
        "colab": {
          "base_uri": "https://localhost:8080/"
        },
        "outputId": "45e0306c-f4f9-4d0d-dc51-0d8a213607ab"
      },
      "source": [
        "# Encoding\n",
        "alldata.dtypes"
      ],
      "execution_count": null,
      "outputs": [
        {
          "output_type": "execute_result",
          "data": {
            "text/plain": [
              "PassengerId          int64\n",
              "Survived             int64\n",
              "Pclass               int64\n",
              "Name                object\n",
              "Sex                 object\n",
              "Age                float64\n",
              "SibSp                int64\n",
              "Parch                int64\n",
              "Ticket              object\n",
              "Fare               float64\n",
              "Cabin               object\n",
              "Embarked            object\n",
              "train_or_test       object\n",
              "FamilySize           int64\n",
              "FamilySize_bin      object\n",
              "TicketFreq           int64\n",
              "honorific           object\n",
              "Fare_bin          category\n",
              "Cabin_ini           object\n",
              "dtype: object"
            ]
          },
          "metadata": {},
          "execution_count": 126
        }
      ]
    },
    {
      "cell_type": "code",
      "metadata": {
        "id": "hMB6nuKWY8Kv",
        "colab": {
          "base_uri": "https://localhost:8080/"
        },
        "outputId": "fd7b7932-444c-4b57-8f65-3bb2481ae123"
      },
      "source": [
        "alldata.Pclass = alldata.Pclass.astype('str')\n",
        "alldata.dtypes"
      ],
      "execution_count": null,
      "outputs": [
        {
          "output_type": "execute_result",
          "data": {
            "text/plain": [
              "PassengerId          int64\n",
              "Survived             int64\n",
              "Pclass              object\n",
              "Name                object\n",
              "Sex                 object\n",
              "Age                float64\n",
              "SibSp                int64\n",
              "Parch                int64\n",
              "Ticket              object\n",
              "Fare               float64\n",
              "Cabin               object\n",
              "Embarked            object\n",
              "train_or_test       object\n",
              "FamilySize           int64\n",
              "FamilySize_bin      object\n",
              "TicketFreq           int64\n",
              "honorific           object\n",
              "Fare_bin          category\n",
              "Cabin_ini           object\n",
              "dtype: object"
            ]
          },
          "metadata": {},
          "execution_count": 127
        }
      ]
    },
    {
      "cell_type": "code",
      "metadata": {
        "id": "ZxCwkJ9QZ0NP"
      },
      "source": [
        "# SexとFare_binをLabel Encoding\n",
        "# 外れ値対策後のalldata.Fare_binには’(’や’[’が含まれているのでのちにエラーとなる\n",
        "le_target_col = ['Sex','Fare_bin']\n",
        "le = LabelEncoder()\n",
        "for col in le_target_col:\n",
        "    # print(alldata[col])\n",
        "    alldata.loc[:,col] = le.fit_transform(alldata[col])#fit_transformメソッドの戻り値は ndarray \n",
        "# alldata.head()"
      ],
      "execution_count": null,
      "outputs": []
    },
    {
      "cell_type": "code",
      "metadata": {
        "id": "DqgODmk8gHw_",
        "colab": {
          "base_uri": "https://localhost:8080/"
        },
        "collapsed": true,
        "outputId": "4c859b2c-c850-47a5-f427-60d9c7029344"
      },
      "source": [
        "alldata.dtypes"
      ],
      "execution_count": null,
      "outputs": [
        {
          "output_type": "execute_result",
          "data": {
            "text/plain": [
              "PassengerId         int64\n",
              "Survived            int64\n",
              "Pclass             object\n",
              "Name               object\n",
              "Sex                 int64\n",
              "Age               float64\n",
              "SibSp               int64\n",
              "Parch               int64\n",
              "Ticket             object\n",
              "Fare              float64\n",
              "Cabin              object\n",
              "Embarked           object\n",
              "train_or_test      object\n",
              "FamilySize          int64\n",
              "FamilySize_bin     object\n",
              "TicketFreq          int64\n",
              "honorific          object\n",
              "Fare_bin            int64\n",
              "Cabin_ini          object\n",
              "dtype: object"
            ]
          },
          "metadata": {},
          "execution_count": 129
        }
      ]
    },
    {
      "cell_type": "code",
      "metadata": {
        "id": "O7UMXK4rbLQM"
      },
      "source": [
        "#カテゴリカル変数をOne-Hot Encoding\n",
        "cat_col = ['Pclass','Embarked','honorific','Cabin_ini','FamilySize_bin','Fare_bin']\n",
        "alldata = pd.get_dummies(alldata,drop_first=True,columns=cat_col)\n"
      ],
      "execution_count": null,
      "outputs": []
    },
    {
      "cell_type": "code",
      "metadata": {
        "colab": {
          "base_uri": "https://localhost:8080/"
        },
        "id": "34MB5buQhDTO",
        "outputId": "0b28a077-7fb9-46ae-f0c2-18ac627b3707"
      },
      "source": [
        "alldata.columns"
      ],
      "execution_count": null,
      "outputs": [
        {
          "output_type": "execute_result",
          "data": {
            "text/plain": [
              "Index(['PassengerId', 'Survived', 'Name', 'Sex', 'Age', 'SibSp', 'Parch',\n",
              "       'Ticket', 'Fare', 'Cabin', 'train_or_test', 'FamilySize', 'TicketFreq',\n",
              "       'Pclass_2', 'Pclass_3', 'Embarked_Q', 'Embarked_S',\n",
              "       'honorific_Countess', 'honorific_Don', 'honorific_Dona',\n",
              "       'honorific_Jonkheer', 'honorific_Lady', 'honorific_Major',\n",
              "       'honorific_Master', 'honorific_Miss', 'honorific_Mme', 'honorific_Mr',\n",
              "       'honorific_Mrs', 'honorific_Rare', 'honorific_Sir', 'Cabin_ini_B',\n",
              "       'Cabin_ini_C', 'Cabin_ini_D', 'Cabin_ini_E', 'Cabin_ini_F',\n",
              "       'Cabin_ini_Rare', 'Cabin_ini_n', 'FamilySize_bin_big',\n",
              "       'FamilySize_bin_median', 'FamilySize_bin_small', 'Fare_bin_1',\n",
              "       'Fare_bin_2', 'Fare_bin_3', 'Fare_bin_4', 'Fare_bin_5', 'Fare_bin_6',\n",
              "       'Fare_bin_7', 'Fare_bin_8', 'Fare_bin_9', 'Fare_bin_10', 'Fare_bin_11',\n",
              "       'Fare_bin_12', 'Fare_bin_13'],\n",
              "      dtype='object')"
            ]
          },
          "metadata": {},
          "execution_count": 131
        }
      ]
    },
    {
      "cell_type": "code",
      "metadata": {
        "id": "phTMQHsChxsj"
      },
      "source": [
        "#モデル構築\n",
        "from sklearn.model_selection import train_test_split\n",
        "\n",
        "#統合したtrainとtestを分割\n",
        "train = alldata.query('train_or_test == \"train\"')\n",
        "test = alldata.query('train_or_test == \"test\"')\n",
        "# train.shape,test.shape\n",
        "# train.columns\n",
        "#ターゲット変数と学習用に不要なカラムを定義\n",
        "target_col = 'Survived'\n",
        "drop_col = ['PassengerId','Survived','Name','Fare','Ticket','Cabin','train_or_test','Age','Parch','FamilySize','SibSp']\n",
        "# 学習に必要な特徴量のみを保持\n",
        "train_feature = train.drop(columns=drop_col)\n",
        "test_feature = test.drop(columns=drop_col)\n",
        "train_target = train[target_col]\n",
        "X_train,X_test,y_train,y_test = train_test_split(train_feature,train_target,test_size = 0.2,random_state=0,stratify=train_target)\n"
      ],
      "execution_count": null,
      "outputs": []
    },
    {
      "cell_type": "code",
      "metadata": {
        "colab": {
          "base_uri": "https://localhost:8080/"
        },
        "id": "sTxnt_zlgiyI",
        "outputId": "d10c4b98-e332-4e65-efb4-1e52c02998cc"
      },
      "source": [
        "# trainから頻度に応じて単純なモデルを作る場合\n",
        "survive_rate = y_train.sum() / len(y_train)\n",
        "print(f'survive rate : {survive_rate:.3f}')\n",
        "print(f'base line accracy : {1-survive_rate:.3f}')"
      ],
      "execution_count": null,
      "outputs": [
        {
          "output_type": "stream",
          "name": "stdout",
          "text": [
            "survive rate : 0.383\n",
            "base line accracy : 0.617\n"
          ]
        }
      ]
    },
    {
      "cell_type": "code",
      "metadata": {
        "id": "C5WfZwdziYf7"
      },
      "source": [
        "# RandamForest、XGBoost、LightGBM、LogisticRegression、SVC\n",
        "\n",
        "from sklearn.ensemble import RandomForestClassifier\n",
        "from xgboost import XGBClassifier\n",
        "from lightgbm import LGBMClassifier\n",
        "from sklearn.svm import SVC\n",
        "from sklearn.linear_model import LogisticRegression"
      ],
      "execution_count": null,
      "outputs": []
    },
    {
      "cell_type": "code",
      "metadata": {
        "colab": {
          "base_uri": "https://localhost:8080/"
        },
        "id": "J5o7hgEQiYdj",
        "outputId": "648be5dc-9b01-44b1-98ab-8df85fc7afdd"
      },
      "source": [
        "rfc = RandomForestClassifier(random_state=0)\n",
        "rfc.fit(X_train,y_train)\n",
        "print('='*20)\n",
        "print('RandomForestClassifier')\n",
        "print(f'accracy of train set :{rfc.score(X_train,y_train):.3f}%')\n",
        "print(f'accracy of test set : {rfc.score(X_test,y_test):.3f}%')\n"
      ],
      "execution_count": null,
      "outputs": [
        {
          "output_type": "stream",
          "name": "stdout",
          "text": [
            "====================\n",
            "RandomForestClassifier\n",
            "accracy of train set :0.919%\n",
            "accracy of test set : 0.777%\n"
          ]
        }
      ]
    },
    {
      "cell_type": "code",
      "metadata": {
        "colab": {
          "base_uri": "https://localhost:8080/"
        },
        "id": "2UYvOMXciYYo",
        "outputId": "1f849082-1731-494b-b2cb-7e638f4ae62f"
      },
      "source": [
        "xgb = XGBClassifier(random_state=0)\n",
        "xgb.fit(X_train,y_train)\n",
        "print('='*20)\n",
        "print('XGBClassifier')\n",
        "print(f'accracy of train set :{xgb.score(X_train,y_train):.3f}%')\n",
        "print(f'accracy of test set : {xgb.score(X_test,y_test):.3f}%')\n"
      ],
      "execution_count": null,
      "outputs": [
        {
          "output_type": "stream",
          "name": "stdout",
          "text": [
            "====================\n",
            "XGBClassifier\n",
            "accracy of train set :0.879%\n",
            "accracy of test set : 0.788%\n"
          ]
        }
      ]
    },
    {
      "cell_type": "code",
      "metadata": {
        "colab": {
          "base_uri": "https://localhost:8080/"
        },
        "id": "N-XEyVMZiYV4",
        "outputId": "dc3e71f0-5b5f-456a-e76e-7300358c1682"
      },
      "source": [
        "lgb = LGBMClassifier(random_state=0)\n",
        "lgb.fit(X_train,y_train)\n",
        "print('='*20)\n",
        "print('LGBMClassifier')\n",
        "print(f'accracy of train set :{lgb.score(X_train,y_train):.3f}%')\n",
        "print(f'accracy of test set : {lgb.score(X_test,y_test):.3f}%')\n"
      ],
      "execution_count": null,
      "outputs": [
        {
          "output_type": "stream",
          "name": "stdout",
          "text": [
            "====================\n",
            "LGBMClassifier\n",
            "accracy of train set :0.897%\n",
            "accracy of test set : 0.804%\n"
          ]
        }
      ]
    },
    {
      "cell_type": "code",
      "metadata": {
        "colab": {
          "base_uri": "https://localhost:8080/"
        },
        "id": "G9nTGsvniYSu",
        "outputId": "10a6a5db-4890-478c-cd99-ad6258d2f7f2"
      },
      "source": [
        "lr = LogisticRegression(random_state=0)\n",
        "lr.fit(X_train,y_train)\n",
        "print('='*20)\n",
        "print('LogisticRegression')\n",
        "print(f'accracy of train set :{lr.score(X_train,y_train):.3f}%')\n",
        "print(f'accracy of test set : {lr.score(X_test,y_test):.3f}%')\n"
      ],
      "execution_count": null,
      "outputs": [
        {
          "output_type": "stream",
          "name": "stdout",
          "text": [
            "====================\n",
            "LogisticRegression\n",
            "accracy of train set :0.841%\n",
            "accracy of test set : 0.799%\n"
          ]
        }
      ]
    },
    {
      "cell_type": "code",
      "metadata": {
        "colab": {
          "base_uri": "https://localhost:8080/"
        },
        "id": "wFaGY47eiYOv",
        "outputId": "895d431e-d18b-47d8-9442-7d11b95c585f"
      },
      "source": [
        "svc = SVC(random_state=0)\n",
        "svc.fit(X_train,y_train)\n",
        "print('='*20)\n",
        "print('SVC')\n",
        "print(f'accracy of train set :{svc.score(X_train,y_train):.3f}%')\n",
        "print(f'accracy of test set : {svc.score(X_test,y_test):.3f}%')\n"
      ],
      "execution_count": null,
      "outputs": [
        {
          "output_type": "stream",
          "name": "stdout",
          "text": [
            "====================\n",
            "SVC\n",
            "accracy of train set :0.844%\n",
            "accracy of test set : 0.810%\n"
          ]
        }
      ]
    },
    {
      "cell_type": "code",
      "metadata": {
        "colab": {
          "base_uri": "https://localhost:8080/",
          "height": 410
        },
        "id": "Y9mLIhDTiYLB",
        "outputId": "f3f8b358-596c-40da-af3f-c8f7ff11494e"
      },
      "source": [
        "# RandamForestClassifierの重要度を可視化\n",
        "plt.figure(figsize=(8,6))\n",
        "plt.barh(\n",
        "    X_train.columns[np.argsort(rfc.feature_importances_)],\n",
        "    rfc.feature_importances_[np.argsort(rfc.feature_importances_)],\n",
        "    label='RandomForestClassifier'\n",
        ")\n",
        "plt.title('RandomForestClassifier feature importance'  )"
      ],
      "execution_count": null,
      "outputs": [
        {
          "output_type": "execute_result",
          "data": {
            "text/plain": [
              "Text(0.5, 1.0, 'RandomForestClassifier feature importance')"
            ]
          },
          "metadata": {},
          "execution_count": 140
        },
        {
          "output_type": "display_data",
          "data": {
            "image/png": "[encoded data removed]",
            "text/plain": [
              "<Figure size 576x432 with 1 Axes>"
            ]
          },
          "metadata": {}
        }
      ]
    },
    {
      "cell_type": "code",
      "metadata": {
        "id": "6W0geM2nEMqK"
      },
      "source": [
        "!pip install -q optuna"
      ],
      "execution_count": null,
      "outputs": []
    },
    {
      "cell_type": "code",
      "metadata": {
        "id": "hBSomIU0_Vri"
      },
      "source": [
        "from sklearn.model_selection import StratifiedKFold, cross_validate\n",
        "import optuna"
      ],
      "execution_count": null,
      "outputs": []
    },
    {
      "cell_type": "markdown",
      "metadata": {
        "id": "IaCCuHtSVuvj"
      },
      "source": [
        "- trial.suggest_discrete_uniform(a, b, c) : 区間[a, b]内を刻み幅cで区切り、最適値を探します\n",
        "- trial.suggest_uniform(a, b) : 区間[a, b]内で最適値を探す。\n",
        "- trial.suggest_int(a, b)：int型で調整したいとき。\n",
        "- trial.suggest_categorical('活性化関数',['relu,'sigmoid'])(活性化関数にrelu or sigmoidのどちらかを選択)"
      ]
    },
    {
      "cell_type": "code",
      "metadata": {
        "id": "q_q0Qt7VD9sJ",
        "colab": {
          "base_uri": "https://localhost:8080/"
        },
        "outputId": "770669d1-42e7-4ac3-bbbb-15a315758fbc"
      },
      "source": [
        "# RandomForestClassifie\n",
        "\n",
        "cv = 5\n",
        "\n",
        "def objective(trial):\n",
        "\n",
        "    param_grid_rfc = {\n",
        "        'max_depth':trial.suggest_int('max_depth',5,15),#決定木の深さの最大値を3～10内で選ぶ。値が大きいとほどモデルが複雑で過学習の可能性が高い  \n",
        "        'min_samples_leaf':trial.suggest_int('min_samples_leaf',1,5),#葉を構成するのに必要な最小限のサンプルの数\n",
        "        'min_samples_split':trial.suggest_int('min_samples_split',7,15),#ノードを分割するために必要な最小サンプルサイズ\n",
        "        'criterion':trial.suggest_categorical('criterion',['gini','entropy']),#デフォルトはgini．その他entropy。この指標を基準にデータを分割\n",
        "        'max_features':trial.suggest_int('max_features',3,10),#特徴量の選択。大きいと出来る決定木が似て、小さいと異なるものができる\n",
        "        'random_state':0\n",
        "    }\n",
        "\n",
        "    model = RandomForestClassifier(**param_grid_rfc)\n",
        "    # 5-Fold CV / Accuracy でモデルを評価する\n",
        "    kf = StratifiedKFold(n_splits=5, shuffle=True, random_state=0)\n",
        "    scores = cross_validate(model,X=X_train, y=y_train, cv=kf)\n",
        "\n",
        "    return scores['test_score'].mean()\n",
        "\n",
        "study = optuna.create_study(direction='maximize')\n",
        "study.optimize(objective,n_trials = 100)\n",
        "print(study.best_params)\n",
        "print(study.best_value)\n",
        "rfc_best_param = study.best_params\n",
        "\n",
        "# {'max_depth': 7, 'min_samples_leaf': 1, 'min_samples_split': 14, 'criterion': 'entropy', 'max_features': 6}\n",
        "# 0.8455136412882893"
      ],
      "execution_count": null,
      "outputs": [
        {
          "output_type": "stream",
          "name": "stderr",
          "text": [
            "\u001b[32m[I 2021-09-28 05:38:58,361]\u001b[0m A new study created in memory with name: no-name-d71ad0e2-60b6-4b2e-af05-c939fe51bc47\u001b[0m\n",
            "\u001b[32m[I 2021-09-28 05:38:59,213]\u001b[0m Trial 0 finished with value: 0.8342854328769821 and parameters: {'max_depth': 6, 'min_samples_leaf': 2, 'min_samples_split': 8, 'criterion': 'entropy', 'max_features': 8}. Best is trial 0 with value: 0.8342854328769821.\u001b[0m\n",
            "\u001b[32m[I 2021-09-28 05:39:00,114]\u001b[0m Trial 1 finished with value: 0.8385107849896583 and parameters: {'max_depth': 10, 'min_samples_leaf': 1, 'min_samples_split': 14, 'criterion': 'entropy', 'max_features': 7}. Best is trial 1 with value: 0.8385107849896583.\u001b[0m\n",
            "\u001b[32m[I 2021-09-28 05:39:00,980]\u001b[0m Trial 2 finished with value: 0.8385107849896581 and parameters: {'max_depth': 7, 'min_samples_leaf': 1, 'min_samples_split': 11, 'criterion': 'entropy', 'max_features': 9}. Best is trial 1 with value: 0.8385107849896583.\u001b[0m\n",
            "\u001b[32m[I 2021-09-28 05:39:01,850]\u001b[0m Trial 3 finished with value: 0.8300600807643062 and parameters: {'max_depth': 11, 'min_samples_leaf': 3, 'min_samples_split': 12, 'criterion': 'gini', 'max_features': 10}. Best is trial 1 with value: 0.8385107849896583.\u001b[0m\n",
            "\u001b[32m[I 2021-09-28 05:39:02,683]\u001b[0m Trial 4 finished with value: 0.8328572835615088 and parameters: {'max_depth': 15, 'min_samples_leaf': 3, 'min_samples_split': 13, 'criterion': 'entropy', 'max_features': 3}. Best is trial 1 with value: 0.8385107849896583.\u001b[0m\n",
            "\u001b[32m[I 2021-09-28 05:39:03,544]\u001b[0m Trial 5 finished with value: 0.8244558258642766 and parameters: {'max_depth': 13, 'min_samples_leaf': 5, 'min_samples_split': 12, 'criterion': 'gini', 'max_features': 9}. Best is trial 1 with value: 0.8385107849896583.\u001b[0m\n",
            "\u001b[32m[I 2021-09-28 05:39:04,364]\u001b[0m Trial 6 finished with value: 0.8202403230572244 and parameters: {'max_depth': 7, 'min_samples_leaf': 4, 'min_samples_split': 14, 'criterion': 'entropy', 'max_features': 5}. Best is trial 1 with value: 0.8385107849896583.\u001b[0m\n",
            "\u001b[32m[I 2021-09-28 05:39:05,160]\u001b[0m Trial 7 finished with value: 0.8202206244459767 and parameters: {'max_depth': 5, 'min_samples_leaf': 4, 'min_samples_split': 11, 'criterion': 'gini', 'max_features': 3}. Best is trial 1 with value: 0.8385107849896583.\u001b[0m\n",
            "\u001b[32m[I 2021-09-28 05:39:06,030]\u001b[0m Trial 8 finished with value: 0.837082635674185 and parameters: {'max_depth': 9, 'min_samples_leaf': 3, 'min_samples_split': 8, 'criterion': 'gini', 'max_features': 8}. Best is trial 1 with value: 0.8385107849896583.\u001b[0m\n",
            "\u001b[32m[I 2021-09-28 05:39:06,901]\u001b[0m Trial 9 finished with value: 0.8272530286614792 and parameters: {'max_depth': 15, 'min_samples_leaf': 5, 'min_samples_split': 7, 'criterion': 'gini', 'max_features': 9}. Best is trial 1 with value: 0.8385107849896583.\u001b[0m\n",
            "\u001b[32m[I 2021-09-28 05:39:07,770]\u001b[0m Trial 10 finished with value: 0.8399093863882596 and parameters: {'max_depth': 10, 'min_samples_leaf': 1, 'min_samples_split': 15, 'criterion': 'entropy', 'max_features': 6}. Best is trial 10 with value: 0.8399093863882596.\u001b[0m\n",
            "\u001b[32m[I 2021-09-28 05:39:08,645]\u001b[0m Trial 11 finished with value: 0.8399093863882596 and parameters: {'max_depth': 10, 'min_samples_leaf': 1, 'min_samples_split': 15, 'criterion': 'entropy', 'max_features': 6}. Best is trial 10 with value: 0.8399093863882596.\u001b[0m\n",
            "\u001b[32m[I 2021-09-28 05:39:09,513]\u001b[0m Trial 12 finished with value: 0.8385206342952822 and parameters: {'max_depth': 12, 'min_samples_leaf': 1, 'min_samples_split': 15, 'criterion': 'entropy', 'max_features': 5}. Best is trial 10 with value: 0.8399093863882596.\u001b[0m\n",
            "\u001b[32m[I 2021-09-28 05:39:10,373]\u001b[0m Trial 13 finished with value: 0.8328671328671329 and parameters: {'max_depth': 9, 'min_samples_leaf': 2, 'min_samples_split': 15, 'criterion': 'entropy', 'max_features': 5}. Best is trial 10 with value: 0.8399093863882596.\u001b[0m\n",
            "\u001b[32m[I 2021-09-28 05:39:11,225]\u001b[0m Trial 14 finished with value: 0.8328868314783808 and parameters: {'max_depth': 9, 'min_samples_leaf': 2, 'min_samples_split': 15, 'criterion': 'entropy', 'max_features': 6}. Best is trial 10 with value: 0.8399093863882596.\u001b[0m\n",
            "\u001b[32m[I 2021-09-28 05:39:12,106]\u001b[0m Trial 15 finished with value: 0.841298138481237 and parameters: {'max_depth': 13, 'min_samples_leaf': 1, 'min_samples_split': 10, 'criterion': 'entropy', 'max_features': 6}. Best is trial 15 with value: 0.841298138481237.\u001b[0m\n",
            "\u001b[32m[I 2021-09-28 05:39:12,983]\u001b[0m Trial 16 finished with value: 0.8370727863685611 and parameters: {'max_depth': 13, 'min_samples_leaf': 2, 'min_samples_split': 10, 'criterion': 'entropy', 'max_features': 4}. Best is trial 15 with value: 0.841298138481237.\u001b[0m\n",
            "\u001b[32m[I 2021-09-28 05:39:13,887]\u001b[0m Trial 17 finished with value: 0.837082635674185 and parameters: {'max_depth': 13, 'min_samples_leaf': 1, 'min_samples_split': 9, 'criterion': 'entropy', 'max_features': 7}. Best is trial 15 with value: 0.841298138481237.\u001b[0m\n",
            "\u001b[32m[I 2021-09-28 05:39:14,774]\u001b[0m Trial 18 finished with value: 0.8328769821727569 and parameters: {'max_depth': 12, 'min_samples_leaf': 2, 'min_samples_split': 10, 'criterion': 'entropy', 'max_features': 6}. Best is trial 15 with value: 0.841298138481237.\u001b[0m\n",
            "\u001b[32m[I 2021-09-28 05:39:15,683]\u001b[0m Trial 19 finished with value: 0.8370924849798088 and parameters: {'max_depth': 14, 'min_samples_leaf': 1, 'min_samples_split': 10, 'criterion': 'entropy', 'max_features': 4}. Best is trial 15 with value: 0.841298138481237.\u001b[0m\n",
            "\u001b[32m[I 2021-09-28 05:39:16,569]\u001b[0m Trial 20 finished with value: 0.83006993006993 and parameters: {'max_depth': 11, 'min_samples_leaf': 4, 'min_samples_split': 12, 'criterion': 'entropy', 'max_features': 7}. Best is trial 15 with value: 0.841298138481237.\u001b[0m\n",
            "\u001b[32m[I 2021-09-28 05:39:17,467]\u001b[0m Trial 21 finished with value: 0.8357135821924555 and parameters: {'max_depth': 10, 'min_samples_leaf': 1, 'min_samples_split': 14, 'criterion': 'entropy', 'max_features': 6}. Best is trial 15 with value: 0.841298138481237.\u001b[0m\n",
            "\u001b[32m[I 2021-09-28 05:39:18,368]\u001b[0m Trial 22 finished with value: 0.8370727863685609 and parameters: {'max_depth': 8, 'min_samples_leaf': 1, 'min_samples_split': 13, 'criterion': 'entropy', 'max_features': 6}. Best is trial 15 with value: 0.841298138481237.\u001b[0m\n",
            "\u001b[32m[I 2021-09-28 05:39:19,205]\u001b[0m Trial 23 finished with value: 0.8356840342755836 and parameters: {'max_depth': 11, 'min_samples_leaf': 2, 'min_samples_split': 13, 'criterion': 'entropy', 'max_features': 5}. Best is trial 15 with value: 0.841298138481237.\u001b[0m\n",
            "\u001b[32m[I 2021-09-28 05:39:20,062]\u001b[0m Trial 24 finished with value: 0.8384713877671623 and parameters: {'max_depth': 10, 'min_samples_leaf': 1, 'min_samples_split': 9, 'criterion': 'entropy', 'max_features': 4}. Best is trial 15 with value: 0.841298138481237.\u001b[0m\n",
            "\u001b[32m[I 2021-09-28 05:39:20,934]\u001b[0m Trial 25 finished with value: 0.837082635674185 and parameters: {'max_depth': 12, 'min_samples_leaf': 2, 'min_samples_split': 14, 'criterion': 'entropy', 'max_features': 8}. Best is trial 15 with value: 0.841298138481237.\u001b[0m\n",
            "\u001b[32m[I 2021-09-28 05:39:21,776]\u001b[0m Trial 26 finished with value: 0.8385009356840343 and parameters: {'max_depth': 8, 'min_samples_leaf': 1, 'min_samples_split': 15, 'criterion': 'gini', 'max_features': 7}. Best is trial 15 with value: 0.841298138481237.\u001b[0m\n",
            "\u001b[32m[I 2021-09-28 05:39:22,653]\u001b[0m Trial 27 finished with value: 0.8356840342755836 and parameters: {'max_depth': 11, 'min_samples_leaf': 2, 'min_samples_split': 9, 'criterion': 'entropy', 'max_features': 6}. Best is trial 15 with value: 0.841298138481237.\u001b[0m\n",
            "\u001b[32m[I 2021-09-28 05:39:23,517]\u001b[0m Trial 28 finished with value: 0.8385009356840343 and parameters: {'max_depth': 14, 'min_samples_leaf': 1, 'min_samples_split': 13, 'criterion': 'entropy', 'max_features': 5}. Best is trial 15 with value: 0.841298138481237.\u001b[0m\n",
            "\u001b[32m[I 2021-09-28 05:39:24,381]\u001b[0m Trial 29 finished with value: 0.8328671328671329 and parameters: {'max_depth': 8, 'min_samples_leaf': 3, 'min_samples_split': 7, 'criterion': 'entropy', 'max_features': 7}. Best is trial 15 with value: 0.841298138481237.\u001b[0m\n",
            "\u001b[32m[I 2021-09-28 05:39:25,263]\u001b[0m Trial 30 finished with value: 0.837082635674185 and parameters: {'max_depth': 10, 'min_samples_leaf': 2, 'min_samples_split': 8, 'criterion': 'entropy', 'max_features': 8}. Best is trial 15 with value: 0.841298138481237.\u001b[0m\n",
            "\u001b[32m[I 2021-09-28 05:39:26,125]\u001b[0m Trial 31 finished with value: 0.8385206342952822 and parameters: {'max_depth': 12, 'min_samples_leaf': 1, 'min_samples_split': 15, 'criterion': 'entropy', 'max_features': 5}. Best is trial 15 with value: 0.841298138481237.\u001b[0m\n",
            "\u001b[32m[I 2021-09-28 05:39:26,988]\u001b[0m Trial 32 finished with value: 0.8357037328868314 and parameters: {'max_depth': 12, 'min_samples_leaf': 1, 'min_samples_split': 15, 'criterion': 'entropy', 'max_features': 6}. Best is trial 15 with value: 0.841298138481237.\u001b[0m\n",
            "\u001b[32m[I 2021-09-28 05:39:27,840]\u001b[0m Trial 33 finished with value: 0.837082635674185 and parameters: {'max_depth': 14, 'min_samples_leaf': 1, 'min_samples_split': 14, 'criterion': 'entropy', 'max_features': 4}. Best is trial 15 with value: 0.841298138481237.\u001b[0m\n",
            "\u001b[32m[I 2021-09-28 05:39:28,710]\u001b[0m Trial 34 finished with value: 0.8342755835713582 and parameters: {'max_depth': 11, 'min_samples_leaf': 1, 'min_samples_split': 15, 'criterion': 'entropy', 'max_features': 5}. Best is trial 15 with value: 0.841298138481237.\u001b[0m\n",
            "\u001b[32m[I 2021-09-28 05:39:29,587]\u001b[0m Trial 35 finished with value: 0.8286713286713286 and parameters: {'max_depth': 13, 'min_samples_leaf': 2, 'min_samples_split': 14, 'criterion': 'entropy', 'max_features': 7}. Best is trial 15 with value: 0.841298138481237.\u001b[0m\n",
            "\u001b[32m[I 2021-09-28 05:39:30,470]\u001b[0m Trial 36 finished with value: 0.8412882891756132 and parameters: {'max_depth': 10, 'min_samples_leaf': 1, 'min_samples_split': 11, 'criterion': 'entropy', 'max_features': 6}. Best is trial 15 with value: 0.841298138481237.\u001b[0m\n",
            "\u001b[32m[I 2021-09-28 05:39:31,302]\u001b[0m Trial 37 finished with value: 0.8413079877868611 and parameters: {'max_depth': 9, 'min_samples_leaf': 1, 'min_samples_split': 11, 'criterion': 'gini', 'max_features': 6}. Best is trial 37 with value: 0.8413079877868611.\u001b[0m\n",
            "\u001b[32m[I 2021-09-28 05:39:32,138]\u001b[0m Trial 38 finished with value: 0.8328671328671329 and parameters: {'max_depth': 7, 'min_samples_leaf': 2, 'min_samples_split': 11, 'criterion': 'gini', 'max_features': 7}. Best is trial 37 with value: 0.8413079877868611.\u001b[0m\n",
            "\u001b[32m[I 2021-09-28 05:39:32,983]\u001b[0m Trial 39 finished with value: 0.841298138481237 and parameters: {'max_depth': 9, 'min_samples_leaf': 1, 'min_samples_split': 12, 'criterion': 'gini', 'max_features': 6}. Best is trial 37 with value: 0.8413079877868611.\u001b[0m\n",
            "\u001b[32m[I 2021-09-28 05:39:33,841]\u001b[0m Trial 40 finished with value: 0.8356741849699596 and parameters: {'max_depth': 9, 'min_samples_leaf': 3, 'min_samples_split': 12, 'criterion': 'gini', 'max_features': 8}. Best is trial 37 with value: 0.8413079877868611.\u001b[0m\n",
            "\u001b[32m[I 2021-09-28 05:39:34,687]\u001b[0m Trial 41 finished with value: 0.8426770412685904 and parameters: {'max_depth': 8, 'min_samples_leaf': 1, 'min_samples_split': 11, 'criterion': 'gini', 'max_features': 6}. Best is trial 41 with value: 0.8426770412685904.\u001b[0m\n",
            "\u001b[32m[I 2021-09-28 05:39:35,520]\u001b[0m Trial 42 finished with value: 0.8426770412685904 and parameters: {'max_depth': 8, 'min_samples_leaf': 1, 'min_samples_split': 11, 'criterion': 'gini', 'max_features': 6}. Best is trial 41 with value: 0.8426770412685904.\u001b[0m\n",
            "\u001b[32m[I 2021-09-28 05:39:36,341]\u001b[0m Trial 43 finished with value: 0.8385009356840344 and parameters: {'max_depth': 6, 'min_samples_leaf': 1, 'min_samples_split': 11, 'criterion': 'gini', 'max_features': 7}. Best is trial 41 with value: 0.8426770412685904.\u001b[0m\n",
            "\u001b[32m[I 2021-09-28 05:39:37,171]\u001b[0m Trial 44 finished with value: 0.8342952821826062 and parameters: {'max_depth': 7, 'min_samples_leaf': 1, 'min_samples_split': 12, 'criterion': 'gini', 'max_features': 6}. Best is trial 41 with value: 0.8426770412685904.\u001b[0m\n",
            "\u001b[32m[I 2021-09-28 05:39:37,997]\u001b[0m Trial 45 finished with value: 0.841298138481237 and parameters: {'max_depth': 8, 'min_samples_leaf': 1, 'min_samples_split': 10, 'criterion': 'gini', 'max_features': 5}. Best is trial 41 with value: 0.8426770412685904.\u001b[0m\n",
            "\u001b[32m[I 2021-09-28 05:39:38,819]\u001b[0m Trial 46 finished with value: 0.8202403230572244 and parameters: {'max_depth': 6, 'min_samples_leaf': 5, 'min_samples_split': 10, 'criterion': 'gini', 'max_features': 5}. Best is trial 41 with value: 0.8426770412685904.\u001b[0m\n",
            "\u001b[32m[I 2021-09-28 05:39:39,659]\u001b[0m Trial 47 finished with value: 0.841298138481237 and parameters: {'max_depth': 8, 'min_samples_leaf': 1, 'min_samples_split': 11, 'criterion': 'gini', 'max_features': 5}. Best is trial 41 with value: 0.8426770412685904.\u001b[0m\n",
            "\u001b[32m[I 2021-09-28 05:39:40,453]\u001b[0m Trial 48 finished with value: 0.8174037230375258 and parameters: {'max_depth': 5, 'min_samples_leaf': 4, 'min_samples_split': 11, 'criterion': 'gini', 'max_features': 4}. Best is trial 41 with value: 0.8426770412685904.\u001b[0m\n",
            "\u001b[32m[I 2021-09-28 05:39:41,303]\u001b[0m Trial 49 finished with value: 0.8328769821727569 and parameters: {'max_depth': 7, 'min_samples_leaf': 2, 'min_samples_split': 11, 'criterion': 'gini', 'max_features': 10}. Best is trial 41 with value: 0.8426770412685904.\u001b[0m\n",
            "\u001b[32m[I 2021-09-28 05:39:42,112]\u001b[0m Trial 50 finished with value: 0.8384910863784103 and parameters: {'max_depth': 8, 'min_samples_leaf': 1, 'min_samples_split': 10, 'criterion': 'gini', 'max_features': 3}. Best is trial 41 with value: 0.8426770412685904.\u001b[0m\n",
            "\u001b[32m[I 2021-09-28 05:39:42,945]\u001b[0m Trial 51 finished with value: 0.8385107849896581 and parameters: {'max_depth': 9, 'min_samples_leaf': 1, 'min_samples_split': 12, 'criterion': 'gini', 'max_features': 5}. Best is trial 41 with value: 0.8426770412685904.\u001b[0m\n",
            "\u001b[32m[I 2021-09-28 05:39:43,778]\u001b[0m Trial 52 finished with value: 0.841298138481237 and parameters: {'max_depth': 8, 'min_samples_leaf': 1, 'min_samples_split': 10, 'criterion': 'gini', 'max_features': 5}. Best is trial 41 with value: 0.8426770412685904.\u001b[0m\n",
            "\u001b[32m[I 2021-09-28 05:39:44,638]\u001b[0m Trial 53 finished with value: 0.8356840342755836 and parameters: {'max_depth': 9, 'min_samples_leaf': 1, 'min_samples_split': 9, 'criterion': 'gini', 'max_features': 6}. Best is trial 41 with value: 0.8426770412685904.\u001b[0m\n",
            "\u001b[32m[I 2021-09-28 05:39:45,486]\u001b[0m Trial 54 finished with value: 0.8342952821826062 and parameters: {'max_depth': 7, 'min_samples_leaf': 1, 'min_samples_split': 12, 'criterion': 'gini', 'max_features': 6}. Best is trial 41 with value: 0.8426770412685904.\u001b[0m\n",
            "\u001b[32m[I 2021-09-28 05:39:46,350]\u001b[0m Trial 55 finished with value: 0.8398798384713878 and parameters: {'max_depth': 9, 'min_samples_leaf': 1, 'min_samples_split': 10, 'criterion': 'gini', 'max_features': 6}. Best is trial 41 with value: 0.8426770412685904.\u001b[0m\n",
            "\u001b[32m[I 2021-09-28 05:39:47,202]\u001b[0m Trial 56 finished with value: 0.8342755835713582 and parameters: {'max_depth': 9, 'min_samples_leaf': 2, 'min_samples_split': 11, 'criterion': 'gini', 'max_features': 7}. Best is trial 41 with value: 0.8426770412685904.\u001b[0m\n",
            "\u001b[32m[I 2021-09-28 05:39:48,041]\u001b[0m Trial 57 finished with value: 0.8399192356938835 and parameters: {'max_depth': 8, 'min_samples_leaf': 1, 'min_samples_split': 12, 'criterion': 'gini', 'max_features': 5}. Best is trial 41 with value: 0.8426770412685904.\u001b[0m\n",
            "\u001b[32m[I 2021-09-28 05:39:48,917]\u001b[0m Trial 58 finished with value: 0.8371023342854329 and parameters: {'max_depth': 15, 'min_samples_leaf': 2, 'min_samples_split': 10, 'criterion': 'gini', 'max_features': 6}. Best is trial 41 with value: 0.8426770412685904.\u001b[0m\n",
            "\u001b[32m[I 2021-09-28 05:39:49,741]\u001b[0m Trial 59 finished with value: 0.8356643356643356 and parameters: {'max_depth': 8, 'min_samples_leaf': 3, 'min_samples_split': 9, 'criterion': 'gini', 'max_features': 6}. Best is trial 41 with value: 0.8426770412685904.\u001b[0m\n",
            "\u001b[32m[I 2021-09-28 05:39:50,587]\u001b[0m Trial 60 finished with value: 0.841298138481237 and parameters: {'max_depth': 7, 'min_samples_leaf': 1, 'min_samples_split': 11, 'criterion': 'gini', 'max_features': 7}. Best is trial 41 with value: 0.8426770412685904.\u001b[0m\n",
            "\u001b[32m[I 2021-09-28 05:39:51,425]\u001b[0m Trial 61 finished with value: 0.8385009356840344 and parameters: {'max_depth': 6, 'min_samples_leaf': 1, 'min_samples_split': 11, 'criterion': 'gini', 'max_features': 7}. Best is trial 41 with value: 0.8426770412685904.\u001b[0m\n",
            "\u001b[32m[I 2021-09-28 05:39:52,267]\u001b[0m Trial 62 finished with value: 0.841298138481237 and parameters: {'max_depth': 8, 'min_samples_leaf': 1, 'min_samples_split': 10, 'criterion': 'gini', 'max_features': 5}. Best is trial 41 with value: 0.8426770412685904.\u001b[0m\n",
            "\u001b[32m[I 2021-09-28 05:39:53,091]\u001b[0m Trial 63 finished with value: 0.8370727863685611 and parameters: {'max_depth': 7, 'min_samples_leaf': 1, 'min_samples_split': 11, 'criterion': 'gini', 'max_features': 5}. Best is trial 41 with value: 0.8426770412685904.\u001b[0m\n",
            "\u001b[32m[I 2021-09-28 05:39:53,920]\u001b[0m Trial 64 finished with value: 0.8412587412587413 and parameters: {'max_depth': 8, 'min_samples_leaf': 1, 'min_samples_split': 11, 'criterion': 'gini', 'max_features': 4}. Best is trial 41 with value: 0.8426770412685904.\u001b[0m\n",
            "\u001b[32m[I 2021-09-28 05:39:54,765]\u001b[0m Trial 65 finished with value: 0.8342854328769823 and parameters: {'max_depth': 7, 'min_samples_leaf': 1, 'min_samples_split': 10, 'criterion': 'gini', 'max_features': 7}. Best is trial 41 with value: 0.8426770412685904.\u001b[0m\n",
            "\u001b[32m[I 2021-09-28 05:39:55,622]\u001b[0m Trial 66 finished with value: 0.8385107849896581 and parameters: {'max_depth': 9, 'min_samples_leaf': 1, 'min_samples_split': 12, 'criterion': 'gini', 'max_features': 5}. Best is trial 41 with value: 0.8426770412685904.\u001b[0m\n",
            "\u001b[32m[I 2021-09-28 05:39:56,510]\u001b[0m Trial 67 finished with value: 0.8356840342755835 and parameters: {'max_depth': 9, 'min_samples_leaf': 1, 'min_samples_split': 10, 'criterion': 'gini', 'max_features': 9}. Best is trial 41 with value: 0.8426770412685904.\u001b[0m\n",
            "\u001b[32m[I 2021-09-28 05:39:57,343]\u001b[0m Trial 68 finished with value: 0.841298138481237 and parameters: {'max_depth': 8, 'min_samples_leaf': 1, 'min_samples_split': 11, 'criterion': 'gini', 'max_features': 5}. Best is trial 41 with value: 0.8426770412685904.\u001b[0m\n",
            "\u001b[32m[I 2021-09-28 05:39:58,183]\u001b[0m Trial 69 finished with value: 0.841298138481237 and parameters: {'max_depth': 10, 'min_samples_leaf': 2, 'min_samples_split': 9, 'criterion': 'gini', 'max_features': 6}. Best is trial 41 with value: 0.8426770412685904.\u001b[0m\n",
            "\u001b[32m[I 2021-09-28 05:39:59,024]\u001b[0m Trial 70 finished with value: 0.8413079877868611 and parameters: {'max_depth': 10, 'min_samples_leaf': 2, 'min_samples_split': 8, 'criterion': 'gini', 'max_features': 6}. Best is trial 41 with value: 0.8426770412685904.\u001b[0m\n",
            "\u001b[32m[I 2021-09-28 05:39:59,867]\u001b[0m Trial 71 finished with value: 0.8342755835713582 and parameters: {'max_depth': 10, 'min_samples_leaf': 3, 'min_samples_split': 9, 'criterion': 'gini', 'max_features': 5}. Best is trial 41 with value: 0.8426770412685904.\u001b[0m\n",
            "\u001b[32m[I 2021-09-28 05:40:00,705]\u001b[0m Trial 72 finished with value: 0.841307987786861 and parameters: {'max_depth': 7, 'min_samples_leaf': 1, 'min_samples_split': 8, 'criterion': 'gini', 'max_features': 6}. Best is trial 41 with value: 0.8426770412685904.\u001b[0m\n",
            "\u001b[32m[I 2021-09-28 05:40:01,578]\u001b[0m Trial 73 finished with value: 0.8413079877868611 and parameters: {'max_depth': 10, 'min_samples_leaf': 2, 'min_samples_split': 8, 'criterion': 'gini', 'max_features': 6}. Best is trial 41 with value: 0.8426770412685904.\u001b[0m\n",
            "\u001b[32m[I 2021-09-28 05:40:02,434]\u001b[0m Trial 74 finished with value: 0.8412882891756132 and parameters: {'max_depth': 11, 'min_samples_leaf': 2, 'min_samples_split': 8, 'criterion': 'gini', 'max_features': 6}. Best is trial 41 with value: 0.8426770412685904.\u001b[0m\n",
            "\u001b[32m[I 2021-09-28 05:40:03,278]\u001b[0m Trial 75 finished with value: 0.8413079877868611 and parameters: {'max_depth': 10, 'min_samples_leaf': 2, 'min_samples_split': 8, 'criterion': 'gini', 'max_features': 6}. Best is trial 41 with value: 0.8426770412685904.\u001b[0m\n",
            "\u001b[32m[I 2021-09-28 05:40:04,133]\u001b[0m Trial 76 finished with value: 0.841298138481237 and parameters: {'max_depth': 10, 'min_samples_leaf': 2, 'min_samples_split': 7, 'criterion': 'gini', 'max_features': 6}. Best is trial 41 with value: 0.8426770412685904.\u001b[0m\n",
            "\u001b[32m[I 2021-09-28 05:40:05,165]\u001b[0m Trial 77 finished with value: 0.841298138481237 and parameters: {'max_depth': 10, 'min_samples_leaf': 2, 'min_samples_split': 7, 'criterion': 'gini', 'max_features': 6}. Best is trial 41 with value: 0.8426770412685904.\u001b[0m\n",
            "\u001b[32m[I 2021-09-28 05:40:06,047]\u001b[0m Trial 78 finished with value: 0.8412882891756132 and parameters: {'max_depth': 11, 'min_samples_leaf': 2, 'min_samples_split': 8, 'criterion': 'gini', 'max_features': 6}. Best is trial 41 with value: 0.8426770412685904.\u001b[0m\n",
            "\u001b[32m[I 2021-09-28 05:40:06,905]\u001b[0m Trial 79 finished with value: 0.8370629370629372 and parameters: {'max_depth': 9, 'min_samples_leaf': 3, 'min_samples_split': 8, 'criterion': 'gini', 'max_features': 6}. Best is trial 41 with value: 0.8426770412685904.\u001b[0m\n",
            "\u001b[32m[I 2021-09-28 05:40:07,783]\u001b[0m Trial 80 finished with value: 0.8398896877770117 and parameters: {'max_depth': 10, 'min_samples_leaf': 2, 'min_samples_split': 8, 'criterion': 'gini', 'max_features': 7}. Best is trial 41 with value: 0.8426770412685904.\u001b[0m\n",
            "\u001b[32m[I 2021-09-28 05:40:08,652]\u001b[0m Trial 81 finished with value: 0.8413079877868611 and parameters: {'max_depth': 10, 'min_samples_leaf': 2, 'min_samples_split': 8, 'criterion': 'gini', 'max_features': 6}. Best is trial 41 with value: 0.8426770412685904.\u001b[0m\n",
            "\u001b[32m[I 2021-09-28 05:40:09,512]\u001b[0m Trial 82 finished with value: 0.841298138481237 and parameters: {'max_depth': 10, 'min_samples_leaf': 2, 'min_samples_split': 7, 'criterion': 'gini', 'max_features': 6}. Best is trial 41 with value: 0.8426770412685904.\u001b[0m\n",
            "\u001b[32m[I 2021-09-28 05:40:10,383]\u001b[0m Trial 83 finished with value: 0.8413079877868611 and parameters: {'max_depth': 10, 'min_samples_leaf': 2, 'min_samples_split': 8, 'criterion': 'gini', 'max_features': 6}. Best is trial 41 with value: 0.8426770412685904.\u001b[0m\n",
            "\u001b[32m[I 2021-09-28 05:40:11,236]\u001b[0m Trial 84 finished with value: 0.8412882891756132 and parameters: {'max_depth': 11, 'min_samples_leaf': 2, 'min_samples_split': 8, 'criterion': 'gini', 'max_features': 6}. Best is trial 41 with value: 0.8426770412685904.\u001b[0m\n",
            "\u001b[32m[I 2021-09-28 05:40:12,093]\u001b[0m Trial 85 finished with value: 0.8413079877868611 and parameters: {'max_depth': 10, 'min_samples_leaf': 2, 'min_samples_split': 8, 'criterion': 'gini', 'max_features': 6}. Best is trial 41 with value: 0.8426770412685904.\u001b[0m\n",
            "\u001b[32m[I 2021-09-28 05:40:12,951]\u001b[0m Trial 86 finished with value: 0.8300699300699301 and parameters: {'max_depth': 11, 'min_samples_leaf': 3, 'min_samples_split': 7, 'criterion': 'gini', 'max_features': 6}. Best is trial 41 with value: 0.8426770412685904.\u001b[0m\n",
            "\u001b[32m[I 2021-09-28 05:40:13,828]\u001b[0m Trial 87 finished with value: 0.8398896877770117 and parameters: {'max_depth': 10, 'min_samples_leaf': 2, 'min_samples_split': 8, 'criterion': 'gini', 'max_features': 7}. Best is trial 41 with value: 0.8426770412685904.\u001b[0m\n",
            "\u001b[32m[I 2021-09-28 05:40:14,692]\u001b[0m Trial 88 finished with value: 0.8412882891756132 and parameters: {'max_depth': 11, 'min_samples_leaf': 2, 'min_samples_split': 8, 'criterion': 'gini', 'max_features': 6}. Best is trial 41 with value: 0.8426770412685904.\u001b[0m\n",
            "\u001b[32m[I 2021-09-28 05:40:15,587]\u001b[0m Trial 89 finished with value: 0.837082635674185 and parameters: {'max_depth': 10, 'min_samples_leaf': 2, 'min_samples_split': 9, 'criterion': 'gini', 'max_features': 7}. Best is trial 41 with value: 0.8426770412685904.\u001b[0m\n",
            "\u001b[32m[I 2021-09-28 05:40:16,419]\u001b[0m Trial 90 finished with value: 0.8286417807544568 and parameters: {'max_depth': 9, 'min_samples_leaf': 3, 'min_samples_split': 7, 'criterion': 'gini', 'max_features': 6}. Best is trial 41 with value: 0.8426770412685904.\u001b[0m\n",
            "\u001b[32m[I 2021-09-28 05:40:17,272]\u001b[0m Trial 91 finished with value: 0.8413079877868611 and parameters: {'max_depth': 10, 'min_samples_leaf': 2, 'min_samples_split': 8, 'criterion': 'gini', 'max_features': 6}. Best is trial 41 with value: 0.8426770412685904.\u001b[0m\n",
            "\u001b[32m[I 2021-09-28 05:40:18,134]\u001b[0m Trial 92 finished with value: 0.8413079877868611 and parameters: {'max_depth': 10, 'min_samples_leaf': 2, 'min_samples_split': 8, 'criterion': 'gini', 'max_features': 6}. Best is trial 41 with value: 0.8426770412685904.\u001b[0m\n",
            "\u001b[32m[I 2021-09-28 05:40:19,016]\u001b[0m Trial 93 finished with value: 0.8412882891756132 and parameters: {'max_depth': 11, 'min_samples_leaf': 2, 'min_samples_split': 8, 'criterion': 'gini', 'max_features': 6}. Best is trial 41 with value: 0.8426770412685904.\u001b[0m\n",
            "\u001b[32m[I 2021-09-28 05:40:19,890]\u001b[0m Trial 94 finished with value: 0.8413079877868611 and parameters: {'max_depth': 10, 'min_samples_leaf': 2, 'min_samples_split': 8, 'criterion': 'gini', 'max_features': 6}. Best is trial 41 with value: 0.8426770412685904.\u001b[0m\n",
            "\u001b[32m[I 2021-09-28 05:40:20,744]\u001b[0m Trial 95 finished with value: 0.8300600807643062 and parameters: {'max_depth': 9, 'min_samples_leaf': 4, 'min_samples_split': 9, 'criterion': 'gini', 'max_features': 6}. Best is trial 41 with value: 0.8426770412685904.\u001b[0m\n",
            "\u001b[32m[I 2021-09-28 05:40:21,608]\u001b[0m Trial 96 finished with value: 0.841298138481237 and parameters: {'max_depth': 10, 'min_samples_leaf': 2, 'min_samples_split': 7, 'criterion': 'gini', 'max_features': 7}. Best is trial 41 with value: 0.8426770412685904.\u001b[0m\n",
            "\u001b[32m[I 2021-09-28 05:40:22,482]\u001b[0m Trial 97 finished with value: 0.8412882891756132 and parameters: {'max_depth': 11, 'min_samples_leaf': 2, 'min_samples_split': 8, 'criterion': 'gini', 'max_features': 6}. Best is trial 41 with value: 0.8426770412685904.\u001b[0m\n",
            "\u001b[32m[I 2021-09-28 05:40:23,318]\u001b[0m Trial 98 finished with value: 0.8426967398798386 and parameters: {'max_depth': 9, 'min_samples_leaf': 2, 'min_samples_split': 8, 'criterion': 'gini', 'max_features': 6}. Best is trial 98 with value: 0.8426967398798386.\u001b[0m\n",
            "\u001b[32m[I 2021-09-28 05:40:24,172]\u001b[0m Trial 99 finished with value: 0.841298138481237 and parameters: {'max_depth': 9, 'min_samples_leaf': 2, 'min_samples_split': 9, 'criterion': 'gini', 'max_features': 6}. Best is trial 98 with value: 0.8426967398798386.\u001b[0m\n"
          ]
        },
        {
          "output_type": "stream",
          "name": "stdout",
          "text": [
            "{'max_depth': 9, 'min_samples_leaf': 2, 'min_samples_split': 8, 'criterion': 'gini', 'max_features': 6}\n",
            "0.8426967398798386\n"
          ]
        }
      ]
    },
    {
      "cell_type": "code",
      "metadata": {
        "id": "zjhLnNif1FrC"
      },
      "source": [
        "# trial.suggest_discrete_uniform(a, b, c) : 区間[a, b]内を刻み幅cで区切り、最適値を探します。\n",
        "# trial.suggest_uniform(a, b) : 区間[a, b]内で最適値を探す。\n",
        "# trial.suggest_int(a, b)：int型で調整したいとき。\n",
        "# trial.suggest_categorical('活性化関数',['relu,'sigmoid'])(活性化関数にrelu or sigmoidのどちらかを選択)"
      ],
      "execution_count": null,
      "outputs": []
    },
    {
      "cell_type": "markdown",
      "metadata": {
        "id": "v6f65kv6agRm"
      },
      "source": [
        "![image.png](data:image/png;base64,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)"
      ]
    },
    {
      "cell_type": "code",
      "metadata": {
        "id": "rvaziWotD9nb",
        "colab": {
          "base_uri": "https://localhost:8080/"
        },
        "outputId": "66a38810-7f86-4473-a3f9-da8b4da24227"
      },
      "source": [
        "# XGBoost\n",
        "\n",
        "def object(trial):\n",
        "\n",
        "    param_grid_xgb={\n",
        "        'min_child_weight':trial.suggest_int('min_dhild_weight',1,5),# 決定木の葉の重みの下限を1～5から選ぶ。下限が大きいほど単調な決定木となり、過学習を抑制。\n",
        "        'gamma':trial.suggest_discrete_uniform('gamma',0.1,1.0,0.1),#決定木の葉の追加による損失減少の下限を区間[a, b]内を刻み幅cで区切り、最適値を探す。値が大きいほどアルゴリズムは保守的。\n",
        "        'subsample':trial.suggest_discrete_uniform('subsample',0.5,1.0,0.1),#各決定木においてランダムに抽出される標本(データ)の割合を0.5～1.0内で0.1区切りで最適値を探す。小さくすることで過学習を避け、保守的なモデル。\n",
        "        'colsample_bytree':trial.suggest_discrete_uniform('colsample_bytree',0.5,1.0,0.1),#各決定木においてランダムに抽出される列の割合を0.5～1.0内を.01区切りで探す。(説明変数を全て使わずに設定された割合でランダムに抽出された説明変数のみを使用してモデルを作成)\n",
        "        'max_depth':trial.suggest_int('max_depth',3,10),#決定木の深さの最大値を3～10内で選ぶ。値が大きいとほどモデルが複雑で過学習の可能性が高い                                          \n",
        "\n",
        "    }\n",
        "    model = XGBClassifier(**param_grid_xgb)\n",
        "    # 5-Fold CV / Accuracy でモデルを評価する\n",
        "    kf = StratifiedKFold(n_splits=5,shuffle=True, random_state=0)\n",
        "    scores = cross_validate(model, X_train,y_train,cv=kf)\n",
        "    return scores['test_score'].mean()\n",
        "\n",
        "study = optuna.create_study(direction='maximize')\n",
        "study.optimize(objective,n_trials=100)\n",
        "print(study.best_params)\n",
        "print(study.best_value)\n",
        "xgb_best_param = study.best_params\n",
        "# {'max_depth': 6, 'min_samples_leaf': 1, 'min_samples_split': 10, 'criterion': 'entropy', 'max_features': 10}\n",
        "# 0.8427262877967102"
      ],
      "execution_count": null,
      "outputs": [
        {
          "output_type": "stream",
          "name": "stderr",
          "text": [
            "\u001b[32m[I 2021-09-28 05:40:24,217]\u001b[0m A new study created in memory with name: no-name-f7a3f8ba-2694-47fd-9a29-fd648b14d726\u001b[0m\n",
            "\u001b[32m[I 2021-09-28 05:40:25,097]\u001b[0m Trial 0 finished with value: 0.8328769821727569 and parameters: {'max_depth': 14, 'min_samples_leaf': 4, 'min_samples_split': 12, 'criterion': 'gini', 'max_features': 8}. Best is trial 0 with value: 0.8328769821727569.\u001b[0m\n",
            "\u001b[32m[I 2021-09-28 05:40:26,023]\u001b[0m Trial 1 finished with value: 0.8342460356544864 and parameters: {'max_depth': 11, 'min_samples_leaf': 1, 'min_samples_split': 8, 'criterion': 'gini', 'max_features': 10}. Best is trial 1 with value: 0.8342460356544864.\u001b[0m\n",
            "\u001b[32m[I 2021-09-28 05:40:26,848]\u001b[0m Trial 2 finished with value: 0.8286516300600809 and parameters: {'max_depth': 6, 'min_samples_leaf': 2, 'min_samples_split': 8, 'criterion': 'gini', 'max_features': 4}. Best is trial 1 with value: 0.8342460356544864.\u001b[0m\n",
            "\u001b[32m[I 2021-09-28 05:40:27,659]\u001b[0m Trial 3 finished with value: 0.821619225844578 and parameters: {'max_depth': 6, 'min_samples_leaf': 5, 'min_samples_split': 15, 'criterion': 'entropy', 'max_features': 3}. Best is trial 1 with value: 0.8342460356544864.\u001b[0m\n",
            "\u001b[32m[I 2021-09-28 05:40:28,616]\u001b[0m Trial 4 finished with value: 0.8356544863587118 and parameters: {'max_depth': 14, 'min_samples_leaf': 1, 'min_samples_split': 7, 'criterion': 'entropy', 'max_features': 9}. Best is trial 4 with value: 0.8356544863587118.\u001b[0m\n",
            "\u001b[32m[I 2021-09-28 05:40:29,476]\u001b[0m Trial 5 finished with value: 0.83006993006993 and parameters: {'max_depth': 15, 'min_samples_leaf': 5, 'min_samples_split': 12, 'criterion': 'gini', 'max_features': 8}. Best is trial 4 with value: 0.8356544863587118.\u001b[0m\n",
            "\u001b[32m[I 2021-09-28 05:40:30,313]\u001b[0m Trial 6 finished with value: 0.8300502314586822 and parameters: {'max_depth': 9, 'min_samples_leaf': 5, 'min_samples_split': 15, 'criterion': 'entropy', 'max_features': 7}. Best is trial 4 with value: 0.8356544863587118.\u001b[0m\n",
            "\u001b[32m[I 2021-09-28 05:40:31,171]\u001b[0m Trial 7 finished with value: 0.8286516300600807 and parameters: {'max_depth': 14, 'min_samples_leaf': 4, 'min_samples_split': 13, 'criterion': 'entropy', 'max_features': 7}. Best is trial 4 with value: 0.8356544863587118.\u001b[0m\n",
            "\u001b[32m[I 2021-09-28 05:40:32,021]\u001b[0m Trial 8 finished with value: 0.837082635674185 and parameters: {'max_depth': 10, 'min_samples_leaf': 3, 'min_samples_split': 8, 'criterion': 'gini', 'max_features': 6}. Best is trial 8 with value: 0.837082635674185.\u001b[0m\n",
            "\u001b[32m[I 2021-09-28 05:40:32,849]\u001b[0m Trial 9 finished with value: 0.8300305328474342 and parameters: {'max_depth': 9, 'min_samples_leaf': 2, 'min_samples_split': 10, 'criterion': 'entropy', 'max_features': 4}. Best is trial 8 with value: 0.837082635674185.\u001b[0m\n",
            "\u001b[32m[I 2021-09-28 05:40:33,690]\u001b[0m Trial 10 finished with value: 0.8342854328769823 and parameters: {'max_depth': 11, 'min_samples_leaf': 3, 'min_samples_split': 10, 'criterion': 'gini', 'max_features': 5}. Best is trial 8 with value: 0.837082635674185.\u001b[0m\n",
            "\u001b[32m[I 2021-09-28 05:40:34,615]\u001b[0m Trial 11 finished with value: 0.837062937062937 and parameters: {'max_depth': 12, 'min_samples_leaf': 1, 'min_samples_split': 7, 'criterion': 'entropy', 'max_features': 10}. Best is trial 8 with value: 0.837082635674185.\u001b[0m\n",
            "\u001b[32m[I 2021-09-28 05:40:35,472]\u001b[0m Trial 12 finished with value: 0.841298138481237 and parameters: {'max_depth': 11, 'min_samples_leaf': 2, 'min_samples_split': 7, 'criterion': 'entropy', 'max_features': 6}. Best is trial 12 with value: 0.841298138481237.\u001b[0m\n",
            "\u001b[32m[I 2021-09-28 05:40:36,326]\u001b[0m Trial 13 finished with value: 0.8356741849699596 and parameters: {'max_depth': 9, 'min_samples_leaf': 3, 'min_samples_split': 9, 'criterion': 'gini', 'max_features': 6}. Best is trial 12 with value: 0.841298138481237.\u001b[0m\n",
            "\u001b[32m[I 2021-09-28 05:40:37,174]\u001b[0m Trial 14 finished with value: 0.8412882891756132 and parameters: {'max_depth': 8, 'min_samples_leaf': 2, 'min_samples_split': 9, 'criterion': 'entropy', 'max_features': 6}. Best is trial 12 with value: 0.841298138481237.\u001b[0m\n",
            "\u001b[32m[I 2021-09-28 05:40:38,005]\u001b[0m Trial 15 finished with value: 0.8328572835615089 and parameters: {'max_depth': 7, 'min_samples_leaf': 2, 'min_samples_split': 10, 'criterion': 'entropy', 'max_features': 5}. Best is trial 12 with value: 0.841298138481237.\u001b[0m\n",
            "\u001b[32m[I 2021-09-28 05:40:38,857]\u001b[0m Trial 16 finished with value: 0.837082635674185 and parameters: {'max_depth': 8, 'min_samples_leaf': 2, 'min_samples_split': 9, 'criterion': 'entropy', 'max_features': 5}. Best is trial 12 with value: 0.841298138481237.\u001b[0m\n",
            "\u001b[32m[I 2021-09-28 05:40:39,686]\u001b[0m Trial 17 finished with value: 0.8356938835812077 and parameters: {'max_depth': 5, 'min_samples_leaf': 2, 'min_samples_split': 7, 'criterion': 'entropy', 'max_features': 8}. Best is trial 12 with value: 0.841298138481237.\u001b[0m\n",
            "\u001b[32m[I 2021-09-28 05:40:40,541]\u001b[0m Trial 18 finished with value: 0.8398798384713878 and parameters: {'max_depth': 12, 'min_samples_leaf': 3, 'min_samples_split': 9, 'criterion': 'entropy', 'max_features': 6}. Best is trial 12 with value: 0.841298138481237.\u001b[0m\n",
            "\u001b[32m[I 2021-09-28 05:40:41,417]\u001b[0m Trial 19 finished with value: 0.8385009356840343 and parameters: {'max_depth': 8, 'min_samples_leaf': 1, 'min_samples_split': 11, 'criterion': 'entropy', 'max_features': 7}. Best is trial 12 with value: 0.841298138481237.\u001b[0m\n",
            "\u001b[32m[I 2021-09-28 05:40:42,230]\u001b[0m Trial 20 finished with value: 0.8300600807643062 and parameters: {'max_depth': 12, 'min_samples_leaf': 4, 'min_samples_split': 8, 'criterion': 'entropy', 'max_features': 3}. Best is trial 12 with value: 0.841298138481237.\u001b[0m\n",
            "\u001b[32m[I 2021-09-28 05:40:43,082]\u001b[0m Trial 21 finished with value: 0.8398798384713878 and parameters: {'max_depth': 12, 'min_samples_leaf': 3, 'min_samples_split': 9, 'criterion': 'entropy', 'max_features': 6}. Best is trial 12 with value: 0.841298138481237.\u001b[0m\n",
            "\u001b[32m[I 2021-09-28 05:40:43,927]\u001b[0m Trial 22 finished with value: 0.8342755835713582 and parameters: {'max_depth': 11, 'min_samples_leaf': 3, 'min_samples_split': 9, 'criterion': 'entropy', 'max_features': 6}. Best is trial 12 with value: 0.841298138481237.\u001b[0m\n",
            "\u001b[32m[I 2021-09-28 05:40:44,807]\u001b[0m Trial 23 finished with value: 0.8328671328671329 and parameters: {'max_depth': 13, 'min_samples_leaf': 2, 'min_samples_split': 11, 'criterion': 'entropy', 'max_features': 5}. Best is trial 12 with value: 0.841298138481237.\u001b[0m\n",
            "\u001b[32m[I 2021-09-28 05:40:45,634]\u001b[0m Trial 24 finished with value: 0.8356544863587118 and parameters: {'max_depth': 10, 'min_samples_leaf': 3, 'min_samples_split': 7, 'criterion': 'entropy', 'max_features': 4}. Best is trial 12 with value: 0.841298138481237.\u001b[0m\n",
            "\u001b[32m[I 2021-09-28 05:40:46,487]\u001b[0m Trial 25 finished with value: 0.8356840342755836 and parameters: {'max_depth': 8, 'min_samples_leaf': 2, 'min_samples_split': 10, 'criterion': 'entropy', 'max_features': 7}. Best is trial 12 with value: 0.841298138481237.\u001b[0m\n",
            "\u001b[32m[I 2021-09-28 05:40:47,334]\u001b[0m Trial 26 finished with value: 0.8286614793657048 and parameters: {'max_depth': 13, 'min_samples_leaf': 4, 'min_samples_split': 8, 'criterion': 'entropy', 'max_features': 6}. Best is trial 12 with value: 0.841298138481237.\u001b[0m\n",
            "\u001b[32m[I 2021-09-28 05:40:48,175]\u001b[0m Trial 27 finished with value: 0.841298138481237 and parameters: {'max_depth': 10, 'min_samples_leaf': 2, 'min_samples_split': 11, 'criterion': 'entropy', 'max_features': 5}. Best is trial 12 with value: 0.841298138481237.\u001b[0m\n",
            "\u001b[32m[I 2021-09-28 05:40:49,039]\u001b[0m Trial 28 finished with value: 0.837092484979809 and parameters: {'max_depth': 10, 'min_samples_leaf': 1, 'min_samples_split': 14, 'criterion': 'entropy', 'max_features': 5}. Best is trial 12 with value: 0.841298138481237.\u001b[0m\n",
            "\u001b[32m[I 2021-09-28 05:40:49,852]\u001b[0m Trial 29 finished with value: 0.8314389835516595 and parameters: {'max_depth': 7, 'min_samples_leaf': 2, 'min_samples_split': 12, 'criterion': 'entropy', 'max_features': 4}. Best is trial 12 with value: 0.841298138481237.\u001b[0m\n",
            "\u001b[32m[I 2021-09-28 05:40:50,769]\u001b[0m Trial 30 finished with value: 0.8385009356840343 and parameters: {'max_depth': 10, 'min_samples_leaf': 2, 'min_samples_split': 11, 'criterion': 'entropy', 'max_features': 9}. Best is trial 12 with value: 0.841298138481237.\u001b[0m\n",
            "\u001b[32m[I 2021-09-28 05:40:51,624]\u001b[0m Trial 31 finished with value: 0.8356741849699596 and parameters: {'max_depth': 13, 'min_samples_leaf': 3, 'min_samples_split': 13, 'criterion': 'entropy', 'max_features': 6}. Best is trial 12 with value: 0.841298138481237.\u001b[0m\n",
            "\u001b[32m[I 2021-09-28 05:40:52,522]\u001b[0m Trial 32 finished with value: 0.8398798384713878 and parameters: {'max_depth': 11, 'min_samples_leaf': 1, 'min_samples_split': 11, 'criterion': 'entropy', 'max_features': 5}. Best is trial 12 with value: 0.841298138481237.\u001b[0m\n",
            "\u001b[32m[I 2021-09-28 05:40:53,398]\u001b[0m Trial 33 finished with value: 0.8398798384713878 and parameters: {'max_depth': 11, 'min_samples_leaf': 1, 'min_samples_split': 11, 'criterion': 'entropy', 'max_features': 5}. Best is trial 12 with value: 0.841298138481237.\u001b[0m\n",
            "\u001b[32m[I 2021-09-28 05:40:54,227]\u001b[0m Trial 34 finished with value: 0.8412784398699891 and parameters: {'max_depth': 9, 'min_samples_leaf': 1, 'min_samples_split': 13, 'criterion': 'gini', 'max_features': 4}. Best is trial 12 with value: 0.841298138481237.\u001b[0m\n",
            "\u001b[32m[I 2021-09-28 05:40:55,043]\u001b[0m Trial 35 finished with value: 0.8412784398699893 and parameters: {'max_depth': 9, 'min_samples_leaf': 1, 'min_samples_split': 13, 'criterion': 'gini', 'max_features': 3}. Best is trial 12 with value: 0.841298138481237.\u001b[0m\n",
            "\u001b[32m[I 2021-09-28 05:40:55,859]\u001b[0m Trial 36 finished with value: 0.8300600807643062 and parameters: {'max_depth': 7, 'min_samples_leaf': 2, 'min_samples_split': 14, 'criterion': 'gini', 'max_features': 3}. Best is trial 12 with value: 0.841298138481237.\u001b[0m\n",
            "\u001b[32m[I 2021-09-28 05:40:56,684]\u001b[0m Trial 37 finished with value: 0.8300502314586822 and parameters: {'max_depth': 8, 'min_samples_leaf': 1, 'min_samples_split': 14, 'criterion': 'gini', 'max_features': 4}. Best is trial 12 with value: 0.841298138481237.\u001b[0m\n",
            "\u001b[32m[I 2021-09-28 05:40:57,493]\u001b[0m Trial 38 finished with value: 0.8300403821530582 and parameters: {'max_depth': 6, 'min_samples_leaf': 2, 'min_samples_split': 12, 'criterion': 'gini', 'max_features': 3}. Best is trial 12 with value: 0.841298138481237.\u001b[0m\n",
            "\u001b[32m[I 2021-09-28 05:40:58,346]\u001b[0m Trial 39 finished with value: 0.841307987786861 and parameters: {'max_depth': 10, 'min_samples_leaf': 1, 'min_samples_split': 15, 'criterion': 'gini', 'max_features': 7}. Best is trial 39 with value: 0.841307987786861.\u001b[0m\n",
            "\u001b[32m[I 2021-09-28 05:40:59,221]\u001b[0m Trial 40 finished with value: 0.837092484979809 and parameters: {'max_depth': 10, 'min_samples_leaf': 2, 'min_samples_split': 15, 'criterion': 'gini', 'max_features': 8}. Best is trial 39 with value: 0.841307987786861.\u001b[0m\n",
            "\u001b[32m[I 2021-09-28 05:41:00,086]\u001b[0m Trial 41 finished with value: 0.8342854328769823 and parameters: {'max_depth': 9, 'min_samples_leaf': 1, 'min_samples_split': 15, 'criterion': 'gini', 'max_features': 7}. Best is trial 39 with value: 0.841307987786861.\u001b[0m\n",
            "\u001b[32m[I 2021-09-28 05:41:00,947]\u001b[0m Trial 42 finished with value: 0.8342657342657341 and parameters: {'max_depth': 9, 'min_samples_leaf': 1, 'min_samples_split': 13, 'criterion': 'gini', 'max_features': 7}. Best is trial 39 with value: 0.841307987786861.\u001b[0m\n",
            "\u001b[32m[I 2021-09-28 05:41:01,816]\u001b[0m Trial 43 finished with value: 0.8384910863784102 and parameters: {'max_depth': 10, 'min_samples_leaf': 1, 'min_samples_split': 14, 'criterion': 'gini', 'max_features': 7}. Best is trial 39 with value: 0.841307987786861.\u001b[0m\n",
            "\u001b[32m[I 2021-09-28 05:41:02,683]\u001b[0m Trial 44 finished with value: 0.8371023342854329 and parameters: {'max_depth': 11, 'min_samples_leaf': 2, 'min_samples_split': 12, 'criterion': 'gini', 'max_features': 8}. Best is trial 39 with value: 0.841307987786861.\u001b[0m\n",
            "\u001b[32m[I 2021-09-28 05:41:03,537]\u001b[0m Trial 45 finished with value: 0.8398798384713878 and parameters: {'max_depth': 9, 'min_samples_leaf': 1, 'min_samples_split': 8, 'criterion': 'gini', 'max_features': 6}. Best is trial 39 with value: 0.841307987786861.\u001b[0m\n",
            "\u001b[32m[I 2021-09-28 05:41:04,394]\u001b[0m Trial 46 finished with value: 0.8314783807741554 and parameters: {'max_depth': 10, 'min_samples_leaf': 2, 'min_samples_split': 13, 'criterion': 'gini', 'max_features': 7}. Best is trial 39 with value: 0.841307987786861.\u001b[0m\n",
            "\u001b[32m[I 2021-09-28 05:41:05,250]\u001b[0m Trial 47 finished with value: 0.8371121835910568 and parameters: {'max_depth': 8, 'min_samples_leaf': 1, 'min_samples_split': 10, 'criterion': 'gini', 'max_features': 8}. Best is trial 39 with value: 0.841307987786861.\u001b[0m\n",
            "\u001b[32m[I 2021-09-28 05:41:06,109]\u001b[0m Trial 48 finished with value: 0.8385107849896583 and parameters: {'max_depth': 9, 'min_samples_leaf': 2, 'min_samples_split': 15, 'criterion': 'gini', 'max_features': 9}. Best is trial 39 with value: 0.841307987786861.\u001b[0m\n",
            "\u001b[32m[I 2021-09-28 05:41:07,007]\u001b[0m Trial 49 finished with value: 0.837062937062937 and parameters: {'max_depth': 15, 'min_samples_leaf': 1, 'min_samples_split': 7, 'criterion': 'entropy', 'max_features': 5}. Best is trial 39 with value: 0.841307987786861.\u001b[0m\n",
            "\u001b[32m[I 2021-09-28 05:41:07,855]\u001b[0m Trial 50 finished with value: 0.8328769821727569 and parameters: {'max_depth': 7, 'min_samples_leaf': 2, 'min_samples_split': 14, 'criterion': 'gini', 'max_features': 6}. Best is trial 39 with value: 0.841307987786861.\u001b[0m\n",
            "\u001b[32m[I 2021-09-28 05:41:08,709]\u001b[0m Trial 51 finished with value: 0.8412784398699891 and parameters: {'max_depth': 9, 'min_samples_leaf': 1, 'min_samples_split': 13, 'criterion': 'gini', 'max_features': 4}. Best is trial 39 with value: 0.841307987786861.\u001b[0m\n",
            "\u001b[32m[I 2021-09-28 05:41:09,534]\u001b[0m Trial 52 finished with value: 0.8426967398798384 and parameters: {'max_depth': 8, 'min_samples_leaf': 1, 'min_samples_split': 12, 'criterion': 'gini', 'max_features': 3}. Best is trial 52 with value: 0.8426967398798384.\u001b[0m\n",
            "\u001b[32m[I 2021-09-28 05:41:10,364]\u001b[0m Trial 53 finished with value: 0.8426967398798384 and parameters: {'max_depth': 8, 'min_samples_leaf': 1, 'min_samples_split': 12, 'criterion': 'gini', 'max_features': 3}. Best is trial 52 with value: 0.8426967398798384.\u001b[0m\n",
            "\u001b[32m[I 2021-09-28 05:41:11,161]\u001b[0m Trial 54 finished with value: 0.8328671328671329 and parameters: {'max_depth': 6, 'min_samples_leaf': 1, 'min_samples_split': 12, 'criterion': 'gini', 'max_features': 3}. Best is trial 52 with value: 0.8426967398798384.\u001b[0m\n",
            "\u001b[32m[I 2021-09-28 05:41:11,982]\u001b[0m Trial 55 finished with value: 0.8384516891559144 and parameters: {'max_depth': 8, 'min_samples_leaf': 2, 'min_samples_split': 10, 'criterion': 'entropy', 'max_features': 4}. Best is trial 52 with value: 0.8426967398798384.\u001b[0m\n",
            "\u001b[32m[I 2021-09-28 05:41:12,806]\u001b[0m Trial 56 finished with value: 0.8384713877671623 and parameters: {'max_depth': 7, 'min_samples_leaf': 1, 'min_samples_split': 8, 'criterion': 'gini', 'max_features': 3}. Best is trial 52 with value: 0.8426967398798384.\u001b[0m\n",
            "\u001b[32m[I 2021-09-28 05:41:13,672]\u001b[0m Trial 57 finished with value: 0.83006993006993 and parameters: {'max_depth': 11, 'min_samples_leaf': 2, 'min_samples_split': 12, 'criterion': 'entropy', 'max_features': 6}. Best is trial 52 with value: 0.8426967398798384.\u001b[0m\n",
            "\u001b[32m[I 2021-09-28 05:41:14,522]\u001b[0m Trial 58 finished with value: 0.8258544272628778 and parameters: {'max_depth': 5, 'min_samples_leaf': 5, 'min_samples_split': 9, 'criterion': 'entropy', 'max_features': 7}. Best is trial 52 with value: 0.8426967398798384.\u001b[0m\n",
            "\u001b[32m[I 2021-09-28 05:41:15,337]\u001b[0m Trial 59 finished with value: 0.8230473751600511 and parameters: {'max_depth': 8, 'min_samples_leaf': 3, 'min_samples_split': 11, 'criterion': 'gini', 'max_features': 5}. Best is trial 52 with value: 0.8426967398798384.\u001b[0m\n",
            "\u001b[32m[I 2021-09-28 05:41:16,220]\u001b[0m Trial 60 finished with value: 0.8328769821727569 and parameters: {'max_depth': 12, 'min_samples_leaf': 4, 'min_samples_split': 7, 'criterion': 'entropy', 'max_features': 10}. Best is trial 52 with value: 0.8426967398798384.\u001b[0m\n",
            "\u001b[32m[I 2021-09-28 05:41:17,050]\u001b[0m Trial 61 finished with value: 0.844085491972816 and parameters: {'max_depth': 10, 'min_samples_leaf': 1, 'min_samples_split': 12, 'criterion': 'gini', 'max_features': 3}. Best is trial 61 with value: 0.844085491972816.\u001b[0m\n",
            "\u001b[32m[I 2021-09-28 05:41:17,910]\u001b[0m Trial 62 finished with value: 0.844085491972816 and parameters: {'max_depth': 10, 'min_samples_leaf': 1, 'min_samples_split': 12, 'criterion': 'gini', 'max_features': 3}. Best is trial 61 with value: 0.844085491972816.\u001b[0m\n",
            "\u001b[32m[I 2021-09-28 05:41:18,764]\u001b[0m Trial 63 finished with value: 0.844085491972816 and parameters: {'max_depth': 10, 'min_samples_leaf': 1, 'min_samples_split': 12, 'criterion': 'gini', 'max_features': 3}. Best is trial 61 with value: 0.844085491972816.\u001b[0m\n",
            "\u001b[32m[I 2021-09-28 05:41:19,595]\u001b[0m Trial 64 finished with value: 0.844085491972816 and parameters: {'max_depth': 10, 'min_samples_leaf': 1, 'min_samples_split': 12, 'criterion': 'gini', 'max_features': 3}. Best is trial 61 with value: 0.844085491972816.\u001b[0m\n",
            "\u001b[32m[I 2021-09-28 05:41:20,422]\u001b[0m Trial 65 finished with value: 0.844085491972816 and parameters: {'max_depth': 10, 'min_samples_leaf': 1, 'min_samples_split': 12, 'criterion': 'gini', 'max_features': 3}. Best is trial 61 with value: 0.844085491972816.\u001b[0m\n",
            "\u001b[32m[I 2021-09-28 05:41:21,255]\u001b[0m Trial 66 finished with value: 0.844085491972816 and parameters: {'max_depth': 10, 'min_samples_leaf': 1, 'min_samples_split': 12, 'criterion': 'gini', 'max_features': 3}. Best is trial 61 with value: 0.844085491972816.\u001b[0m\n",
            "\u001b[32m[I 2021-09-28 05:41:22,088]\u001b[0m Trial 67 finished with value: 0.841298138481237 and parameters: {'max_depth': 11, 'min_samples_leaf': 1, 'min_samples_split': 12, 'criterion': 'gini', 'max_features': 3}. Best is trial 61 with value: 0.844085491972816.\u001b[0m\n",
            "\u001b[32m[I 2021-09-28 05:41:22,915]\u001b[0m Trial 68 finished with value: 0.844085491972816 and parameters: {'max_depth': 10, 'min_samples_leaf': 1, 'min_samples_split': 12, 'criterion': 'gini', 'max_features': 3}. Best is trial 61 with value: 0.844085491972816.\u001b[0m\n",
            "\u001b[32m[I 2021-09-28 05:41:23,755]\u001b[0m Trial 69 finished with value: 0.844085491972816 and parameters: {'max_depth': 10, 'min_samples_leaf': 1, 'min_samples_split': 12, 'criterion': 'gini', 'max_features': 3}. Best is trial 61 with value: 0.844085491972816.\u001b[0m\n",
            "\u001b[32m[I 2021-09-28 05:41:24,591]\u001b[0m Trial 70 finished with value: 0.8398995370826355 and parameters: {'max_depth': 10, 'min_samples_leaf': 1, 'min_samples_split': 11, 'criterion': 'gini', 'max_features': 4}. Best is trial 61 with value: 0.844085491972816.\u001b[0m\n",
            "\u001b[32m[I 2021-09-28 05:41:25,426]\u001b[0m Trial 71 finished with value: 0.844085491972816 and parameters: {'max_depth': 10, 'min_samples_leaf': 1, 'min_samples_split': 12, 'criterion': 'gini', 'max_features': 3}. Best is trial 61 with value: 0.844085491972816.\u001b[0m\n",
            "\u001b[32m[I 2021-09-28 05:41:26,262]\u001b[0m Trial 72 finished with value: 0.841298138481237 and parameters: {'max_depth': 11, 'min_samples_leaf': 1, 'min_samples_split': 12, 'criterion': 'gini', 'max_features': 3}. Best is trial 61 with value: 0.844085491972816.\u001b[0m\n",
            "\u001b[32m[I 2021-09-28 05:41:27,098]\u001b[0m Trial 73 finished with value: 0.8342854328769821 and parameters: {'max_depth': 11, 'min_samples_leaf': 1, 'min_samples_split': 13, 'criterion': 'gini', 'max_features': 3}. Best is trial 61 with value: 0.844085491972816.\u001b[0m\n",
            "\u001b[32m[I 2021-09-28 05:41:27,938]\u001b[0m Trial 74 finished with value: 0.8356643356643356 and parameters: {'max_depth': 10, 'min_samples_leaf': 1, 'min_samples_split': 11, 'criterion': 'gini', 'max_features': 3}. Best is trial 61 with value: 0.844085491972816.\u001b[0m\n",
            "\u001b[32m[I 2021-09-28 05:41:28,788]\u001b[0m Trial 75 finished with value: 0.8441051905840637 and parameters: {'max_depth': 10, 'min_samples_leaf': 1, 'min_samples_split': 12, 'criterion': 'gini', 'max_features': 4}. Best is trial 75 with value: 0.8441051905840637.\u001b[0m\n",
            "\u001b[32m[I 2021-09-28 05:41:29,650]\u001b[0m Trial 76 finished with value: 0.8441051905840637 and parameters: {'max_depth': 10, 'min_samples_leaf': 1, 'min_samples_split': 12, 'criterion': 'gini', 'max_features': 4}. Best is trial 75 with value: 0.8441051905840637.\u001b[0m\n",
            "\u001b[32m[I 2021-09-28 05:41:30,484]\u001b[0m Trial 77 finished with value: 0.8412784398699891 and parameters: {'max_depth': 9, 'min_samples_leaf': 1, 'min_samples_split': 13, 'criterion': 'gini', 'max_features': 4}. Best is trial 75 with value: 0.8441051905840637.\u001b[0m\n",
            "\u001b[32m[I 2021-09-28 05:41:31,346]\u001b[0m Trial 78 finished with value: 0.841307987786861 and parameters: {'max_depth': 12, 'min_samples_leaf': 1, 'min_samples_split': 11, 'criterion': 'gini', 'max_features': 4}. Best is trial 75 with value: 0.8441051905840637.\u001b[0m\n",
            "\u001b[32m[I 2021-09-28 05:41:32,205]\u001b[0m Trial 79 finished with value: 0.8370924849798088 and parameters: {'max_depth': 11, 'min_samples_leaf': 1, 'min_samples_split': 12, 'criterion': 'gini', 'max_features': 4}. Best is trial 75 with value: 0.8441051905840637.\u001b[0m\n",
            "\u001b[32m[I 2021-09-28 05:41:33,054]\u001b[0m Trial 80 finished with value: 0.8441051905840637 and parameters: {'max_depth': 10, 'min_samples_leaf': 1, 'min_samples_split': 12, 'criterion': 'gini', 'max_features': 4}. Best is trial 75 with value: 0.8441051905840637.\u001b[0m\n",
            "\u001b[32m[I 2021-09-28 05:41:33,890]\u001b[0m Trial 81 finished with value: 0.8441051905840637 and parameters: {'max_depth': 10, 'min_samples_leaf': 1, 'min_samples_split': 12, 'criterion': 'gini', 'max_features': 4}. Best is trial 75 with value: 0.8441051905840637.\u001b[0m\n",
            "\u001b[32m[I 2021-09-28 05:41:34,730]\u001b[0m Trial 82 finished with value: 0.8398896877770117 and parameters: {'max_depth': 10, 'min_samples_leaf': 1, 'min_samples_split': 13, 'criterion': 'gini', 'max_features': 4}. Best is trial 75 with value: 0.8441051905840637.\u001b[0m\n",
            "\u001b[32m[I 2021-09-28 05:41:35,564]\u001b[0m Trial 83 finished with value: 0.8412685905643652 and parameters: {'max_depth': 9, 'min_samples_leaf': 1, 'min_samples_split': 11, 'criterion': 'gini', 'max_features': 4}. Best is trial 75 with value: 0.8441051905840637.\u001b[0m\n",
            "\u001b[32m[I 2021-09-28 05:41:36,393]\u001b[0m Trial 84 finished with value: 0.8441051905840637 and parameters: {'max_depth': 10, 'min_samples_leaf': 1, 'min_samples_split': 12, 'criterion': 'gini', 'max_features': 4}. Best is trial 75 with value: 0.8441051905840637.\u001b[0m\n",
            "\u001b[32m[I 2021-09-28 05:41:37,238]\u001b[0m Trial 85 finished with value: 0.8398896877770117 and parameters: {'max_depth': 11, 'min_samples_leaf': 1, 'min_samples_split': 13, 'criterion': 'gini', 'max_features': 4}. Best is trial 75 with value: 0.8441051905840637.\u001b[0m\n",
            "\u001b[32m[I 2021-09-28 05:41:38,073]\u001b[0m Trial 86 finished with value: 0.8398798384713878 and parameters: {'max_depth': 9, 'min_samples_leaf': 1, 'min_samples_split': 12, 'criterion': 'gini', 'max_features': 4}. Best is trial 75 with value: 0.8441051905840637.\u001b[0m\n",
            "\u001b[32m[I 2021-09-28 05:41:38,904]\u001b[0m Trial 87 finished with value: 0.8398995370826355 and parameters: {'max_depth': 10, 'min_samples_leaf': 1, 'min_samples_split': 11, 'criterion': 'gini', 'max_features': 4}. Best is trial 75 with value: 0.8441051905840637.\u001b[0m\n",
            "\u001b[32m[I 2021-09-28 05:41:39,748]\u001b[0m Trial 88 finished with value: 0.8385107849896581 and parameters: {'max_depth': 9, 'min_samples_leaf': 1, 'min_samples_split': 12, 'criterion': 'gini', 'max_features': 5}. Best is trial 75 with value: 0.8441051905840637.\u001b[0m\n",
            "\u001b[32m[I 2021-09-28 05:41:40,583]\u001b[0m Trial 89 finished with value: 0.8398896877770117 and parameters: {'max_depth': 10, 'min_samples_leaf': 1, 'min_samples_split': 13, 'criterion': 'gini', 'max_features': 4}. Best is trial 75 with value: 0.8441051905840637.\u001b[0m\n",
            "\u001b[32m[I 2021-09-28 05:41:41,432]\u001b[0m Trial 90 finished with value: 0.8370924849798088 and parameters: {'max_depth': 11, 'min_samples_leaf': 1, 'min_samples_split': 12, 'criterion': 'gini', 'max_features': 4}. Best is trial 75 with value: 0.8441051905840637.\u001b[0m\n",
            "\u001b[32m[I 2021-09-28 05:41:42,265]\u001b[0m Trial 91 finished with value: 0.844085491972816 and parameters: {'max_depth': 10, 'min_samples_leaf': 1, 'min_samples_split': 12, 'criterion': 'gini', 'max_features': 3}. Best is trial 75 with value: 0.8441051905840637.\u001b[0m\n",
            "\u001b[32m[I 2021-09-28 05:41:43,085]\u001b[0m Trial 92 finished with value: 0.844085491972816 and parameters: {'max_depth': 10, 'min_samples_leaf': 1, 'min_samples_split': 12, 'criterion': 'gini', 'max_features': 3}. Best is trial 75 with value: 0.8441051905840637.\u001b[0m\n",
            "\u001b[32m[I 2021-09-28 05:41:43,928]\u001b[0m Trial 93 finished with value: 0.844085491972816 and parameters: {'max_depth': 10, 'min_samples_leaf': 1, 'min_samples_split': 12, 'criterion': 'gini', 'max_features': 3}. Best is trial 75 with value: 0.8441051905840637.\u001b[0m\n",
            "\u001b[32m[I 2021-09-28 05:41:44,778]\u001b[0m Trial 94 finished with value: 0.841298138481237 and parameters: {'max_depth': 11, 'min_samples_leaf': 1, 'min_samples_split': 11, 'criterion': 'gini', 'max_features': 3}. Best is trial 75 with value: 0.8441051905840637.\u001b[0m\n",
            "\u001b[32m[I 2021-09-28 05:41:45,609]\u001b[0m Trial 95 finished with value: 0.8342558849601103 and parameters: {'max_depth': 9, 'min_samples_leaf': 1, 'min_samples_split': 12, 'criterion': 'gini', 'max_features': 3}. Best is trial 75 with value: 0.8441051905840637.\u001b[0m\n",
            "\u001b[32m[I 2021-09-28 05:41:46,449]\u001b[0m Trial 96 finished with value: 0.8398896877770117 and parameters: {'max_depth': 10, 'min_samples_leaf': 1, 'min_samples_split': 13, 'criterion': 'gini', 'max_features': 4}. Best is trial 75 with value: 0.8441051905840637.\u001b[0m\n",
            "\u001b[32m[I 2021-09-28 05:41:47,294]\u001b[0m Trial 97 finished with value: 0.8370924849798088 and parameters: {'max_depth': 11, 'min_samples_leaf': 1, 'min_samples_split': 12, 'criterion': 'gini', 'max_features': 4}. Best is trial 75 with value: 0.8441051905840637.\u001b[0m\n",
            "\u001b[32m[I 2021-09-28 05:41:48,107]\u001b[0m Trial 98 finished with value: 0.8230375258544272 and parameters: {'max_depth': 9, 'min_samples_leaf': 5, 'min_samples_split': 11, 'criterion': 'gini', 'max_features': 3}. Best is trial 75 with value: 0.8441051905840637.\u001b[0m\n",
            "\u001b[32m[I 2021-09-28 05:41:48,963]\u001b[0m Trial 99 finished with value: 0.837092484979809 and parameters: {'max_depth': 10, 'min_samples_leaf': 1, 'min_samples_split': 13, 'criterion': 'gini', 'max_features': 5}. Best is trial 75 with value: 0.8441051905840637.\u001b[0m\n"
          ]
        },
        {
          "output_type": "stream",
          "name": "stdout",
          "text": [
            "{'max_depth': 10, 'min_samples_leaf': 1, 'min_samples_split': 12, 'criterion': 'gini', 'max_features': 4}\n",
            "0.8441051905840637\n"
          ]
        }
      ]
    },
    {
      "cell_type": "code",
      "metadata": {
        "id": "F1cJ_SdZ3Cl5",
        "colab": {
          "base_uri": "https://localhost:8080/"
        },
        "outputId": "fed4128e-08d3-4d12-a46d-ed44b1d710bf"
      },
      "source": [
        "# LightGBM\n",
        "\n",
        "def objective(trial):\n",
        "\n",
        "    param_grid_lgb={\n",
        "        'num_leaves':trial.suggest_int('num_leaves',3,10),#木にある分岐の個数．num_leaves=2max_depth\n",
        "        'leaning_rate':trial.suggest_loguniform('leaning_rate',1e-8,1.0),#学習率\n",
        "        'max_depth':trial.suggest_int('max_depth',3,10),#木の深さ\n",
        "        'random_state':0\n",
        "    }\n",
        "    model = LGBMClassifier(**param_grid_lgb)\n",
        "\n",
        "    kf = StratifiedKFold(n_splits=5,shuffle=True,random_state=0)\n",
        "    scores = cross_validate(model, X_train,y_train,cv=kf)\n",
        "    return scores['test_score'].mean()\n",
        "\n",
        "study = optuna.create_study(direction='maximize')\n",
        "study.optimize(objective,n_trials=100)\n",
        "print(study.best_params)\n",
        "print(study.best_value)\n",
        "lgb_best_param=study.best_params\n",
        "\n",
        "# {'num_leaves': 8, 'leaning_rate': 6.324202341622141e-07, 'max_depth': 7}\n",
        "# 0.8314586821629076"
      ],
      "execution_count": null,
      "outputs": [
        {
          "output_type": "stream",
          "name": "stderr",
          "text": [
            "\u001b[32m[I 2021-09-28 05:41:48,994]\u001b[0m A new study created in memory with name: no-name-2b1fa218-bde0-4173-bdf0-cad290b4a63a\u001b[0m\n",
            "\u001b[32m[I 2021-09-28 05:41:49,142]\u001b[0m Trial 0 finished with value: 0.8314586821629076 and parameters: {'num_leaves': 8, 'leaning_rate': 0.017546710904440873, 'max_depth': 10}. Best is trial 0 with value: 0.8314586821629076.\u001b[0m\n",
            "\u001b[32m[I 2021-09-28 05:41:49,240]\u001b[0m Trial 1 finished with value: 0.8188712695754947 and parameters: {'num_leaves': 3, 'leaning_rate': 1.6866821053720866e-05, 'max_depth': 8}. Best is trial 0 with value: 0.8314586821629076.\u001b[0m\n",
            "\u001b[32m[I 2021-09-28 05:41:49,364]\u001b[0m Trial 2 finished with value: 0.8216487737614498 and parameters: {'num_leaves': 7, 'leaning_rate': 2.2303673984304918e-06, 'max_depth': 6}. Best is trial 0 with value: 0.8314586821629076.\u001b[0m\n",
            "\u001b[32m[I 2021-09-28 05:41:49,473]\u001b[0m Trial 3 finished with value: 0.8216783216783217 and parameters: {'num_leaves': 4, 'leaning_rate': 0.0013884874371051569, 'max_depth': 10}. Best is trial 0 with value: 0.8314586821629076.\u001b[0m\n",
            "\u001b[32m[I 2021-09-28 05:41:49,594]\u001b[0m Trial 4 finished with value: 0.8370727863685611 and parameters: {'num_leaves': 7, 'leaning_rate': 8.086500159490596e-08, 'max_depth': 4}. Best is trial 4 with value: 0.8370727863685611.\u001b[0m\n",
            "\u001b[32m[I 2021-09-28 05:41:49,745]\u001b[0m Trial 5 finished with value: 0.8244459765586527 and parameters: {'num_leaves': 9, 'leaning_rate': 0.00042210242129439205, 'max_depth': 7}. Best is trial 4 with value: 0.8370727863685611.\u001b[0m\n",
            "\u001b[32m[I 2021-09-28 05:41:49,892]\u001b[0m Trial 6 finished with value: 0.8258642765685019 and parameters: {'num_leaves': 10, 'leaning_rate': 0.00045400804252143786, 'max_depth': 10}. Best is trial 4 with value: 0.8370727863685611.\u001b[0m\n",
            "\u001b[32m[I 2021-09-28 05:41:50,013]\u001b[0m Trial 7 finished with value: 0.8230670737712991 and parameters: {'num_leaves': 5, 'leaning_rate': 4.4532478637851035e-07, 'max_depth': 10}. Best is trial 4 with value: 0.8370727863685611.\u001b[0m\n",
            "\u001b[32m[I 2021-09-28 05:41:50,143]\u001b[0m Trial 8 finished with value: 0.83006993006993 and parameters: {'num_leaves': 8, 'leaning_rate': 9.202355142726179e-07, 'max_depth': 5}. Best is trial 4 with value: 0.8370727863685611.\u001b[0m\n",
            "\u001b[32m[I 2021-09-28 05:41:50,276]\u001b[0m Trial 9 finished with value: 0.8314586821629076 and parameters: {'num_leaves': 8, 'leaning_rate': 1.3193095904414617e-07, 'max_depth': 10}. Best is trial 4 with value: 0.8370727863685611.\u001b[0m\n",
            "\u001b[32m[I 2021-09-28 05:41:50,398]\u001b[0m Trial 10 finished with value: 0.8300994779868021 and parameters: {'num_leaves': 6, 'leaning_rate': 1.0213020293053132e-08, 'max_depth': 3}. Best is trial 4 with value: 0.8370727863685611.\u001b[0m\n",
            "\u001b[32m[I 2021-09-28 05:41:50,527]\u001b[0m Trial 11 finished with value: 0.8301093272924259 and parameters: {'num_leaves': 7, 'leaning_rate': 0.25769845441456596, 'max_depth': 3}. Best is trial 4 with value: 0.8370727863685611.\u001b[0m\n",
            "\u001b[32m[I 2021-09-28 05:41:50,660]\u001b[0m Trial 12 finished with value: 0.8258642765685018 and parameters: {'num_leaves': 6, 'leaning_rate': 0.03421385060699719, 'max_depth': 5}. Best is trial 4 with value: 0.8370727863685611.\u001b[0m\n",
            "\u001b[32m[I 2021-09-28 05:41:50,810]\u001b[0m Trial 13 finished with value: 0.8244558258642766 and parameters: {'num_leaves': 9, 'leaning_rate': 0.008930491818624781, 'max_depth': 8}. Best is trial 4 with value: 0.8370727863685611.\u001b[0m\n",
            "\u001b[32m[I 2021-09-28 05:41:50,944]\u001b[0m Trial 14 finished with value: 0.83006993006993 and parameters: {'num_leaves': 8, 'leaning_rate': 2.263370494410949e-05, 'max_depth': 4}. Best is trial 4 with value: 0.8370727863685611.\u001b[0m\n",
            "\u001b[32m[I 2021-09-28 05:41:51,094]\u001b[0m Trial 15 finished with value: 0.8216586230670739 and parameters: {'num_leaves': 10, 'leaning_rate': 0.9663323131853031, 'max_depth': 8}. Best is trial 4 with value: 0.8370727863685611.\u001b[0m\n",
            "\u001b[32m[I 2021-09-28 05:41:51,214]\u001b[0m Trial 16 finished with value: 0.8230670737712991 and parameters: {'num_leaves': 5, 'leaning_rate': 3.053853997204735e-08, 'max_depth': 6}. Best is trial 4 with value: 0.8370727863685611.\u001b[0m\n",
            "\u001b[32m[I 2021-09-28 05:41:51,345]\u001b[0m Trial 17 finished with value: 0.8370727863685611 and parameters: {'num_leaves': 7, 'leaning_rate': 0.01146819203911003, 'max_depth': 4}. Best is trial 4 with value: 0.8370727863685611.\u001b[0m\n",
            "\u001b[32m[I 2021-09-28 05:41:51,467]\u001b[0m Trial 18 finished with value: 0.8230670737712991 and parameters: {'num_leaves': 5, 'leaning_rate': 3.536558085015842e-05, 'max_depth': 4}. Best is trial 4 with value: 0.8370727863685611.\u001b[0m\n",
            "\u001b[32m[I 2021-09-28 05:41:51,597]\u001b[0m Trial 19 finished with value: 0.8370727863685611 and parameters: {'num_leaves': 7, 'leaning_rate': 0.002902459101996431, 'max_depth': 4}. Best is trial 4 with value: 0.8370727863685611.\u001b[0m\n",
            "\u001b[32m[I 2021-09-28 05:41:51,719]\u001b[0m Trial 20 finished with value: 0.8258642765685018 and parameters: {'num_leaves': 6, 'leaning_rate': 0.004018811565568834, 'max_depth': 5}. Best is trial 4 with value: 0.8370727863685611.\u001b[0m\n",
            "\u001b[32m[I 2021-09-28 05:41:51,854]\u001b[0m Trial 21 finished with value: 0.8370727863685611 and parameters: {'num_leaves': 7, 'leaning_rate': 0.0921031711600362, 'max_depth': 4}. Best is trial 4 with value: 0.8370727863685611.\u001b[0m\n",
            "\u001b[32m[I 2021-09-28 05:41:51,976]\u001b[0m Trial 22 finished with value: 0.8301093272924259 and parameters: {'num_leaves': 7, 'leaning_rate': 0.08170241470193088, 'max_depth': 3}. Best is trial 4 with value: 0.8370727863685611.\u001b[0m\n",
            "\u001b[32m[I 2021-09-28 05:41:52,106]\u001b[0m Trial 23 finished with value: 0.8258544272628778 and parameters: {'num_leaves': 9, 'leaning_rate': 0.1705520018572817, 'max_depth': 4}. Best is trial 4 with value: 0.8370727863685611.\u001b[0m\n",
            "\u001b[32m[I 2021-09-28 05:41:52,236]\u001b[0m Trial 24 finished with value: 0.8258642765685018 and parameters: {'num_leaves': 6, 'leaning_rate': 0.0017654505096766414, 'max_depth': 5}. Best is trial 4 with value: 0.8370727863685611.\u001b[0m\n",
            "\u001b[32m[I 2021-09-28 05:41:52,357]\u001b[0m Trial 25 finished with value: 0.8301093272924259 and parameters: {'num_leaves': 7, 'leaning_rate': 0.00012380174227444445, 'max_depth': 3}. Best is trial 4 with value: 0.8370727863685611.\u001b[0m\n",
            "\u001b[32m[I 2021-09-28 05:41:52,503]\u001b[0m Trial 26 finished with value: 0.83006993006993 and parameters: {'num_leaves': 8, 'leaning_rate': 0.5032072191961733, 'max_depth': 4}. Best is trial 4 with value: 0.8370727863685611.\u001b[0m\n",
            "\u001b[32m[I 2021-09-28 05:41:52,621]\u001b[0m Trial 27 finished with value: 0.8230670737712991 and parameters: {'num_leaves': 5, 'leaning_rate': 0.05783281604263736, 'max_depth': 6}. Best is trial 4 with value: 0.8370727863685611.\u001b[0m\n",
            "\u001b[32m[I 2021-09-28 05:41:52,745]\u001b[0m Trial 28 finished with value: 0.8258642765685018 and parameters: {'num_leaves': 6, 'leaning_rate': 0.014059250035837195, 'max_depth': 7}. Best is trial 4 with value: 0.8370727863685611.\u001b[0m\n",
            "\u001b[32m[I 2021-09-28 05:41:52,877]\u001b[0m Trial 29 finished with value: 0.83006993006993 and parameters: {'num_leaves': 8, 'leaning_rate': 6.924775215957593e-06, 'max_depth': 5}. Best is trial 4 with value: 0.8370727863685611.\u001b[0m\n",
            "\u001b[32m[I 2021-09-28 05:41:52,998]\u001b[0m Trial 30 finished with value: 0.8216783216783217 and parameters: {'num_leaves': 4, 'leaning_rate': 0.00015449390301762098, 'max_depth': 4}. Best is trial 4 with value: 0.8370727863685611.\u001b[0m\n",
            "\u001b[32m[I 2021-09-28 05:41:53,126]\u001b[0m Trial 31 finished with value: 0.8370727863685611 and parameters: {'num_leaves': 7, 'leaning_rate': 0.004867028597817803, 'max_depth': 4}. Best is trial 4 with value: 0.8370727863685611.\u001b[0m\n",
            "\u001b[32m[I 2021-09-28 05:41:53,242]\u001b[0m Trial 32 finished with value: 0.8301093272924259 and parameters: {'num_leaves': 7, 'leaning_rate': 0.005013485255835601, 'max_depth': 3}. Best is trial 4 with value: 0.8370727863685611.\u001b[0m\n",
            "\u001b[32m[I 2021-09-28 05:41:53,370]\u001b[0m Trial 33 finished with value: 0.8370727863685611 and parameters: {'num_leaves': 7, 'leaning_rate': 0.019628795389698393, 'max_depth': 4}. Best is trial 4 with value: 0.8370727863685611.\u001b[0m\n",
            "\u001b[32m[I 2021-09-28 05:41:53,515]\u001b[0m Trial 34 finished with value: 0.83006993006993 and parameters: {'num_leaves': 8, 'leaning_rate': 0.0019170303878244732, 'max_depth': 5}. Best is trial 4 with value: 0.8370727863685611.\u001b[0m\n",
            "\u001b[32m[I 2021-09-28 05:41:53,635]\u001b[0m Trial 35 finished with value: 0.8301093272924259 and parameters: {'num_leaves': 7, 'leaning_rate': 0.0628096851370556, 'max_depth': 3}. Best is trial 4 with value: 0.8370727863685611.\u001b[0m\n",
            "\u001b[32m[I 2021-09-28 05:41:53,773]\u001b[0m Trial 36 finished with value: 0.8244656751699004 and parameters: {'num_leaves': 9, 'leaning_rate': 0.028396240311160535, 'max_depth': 6}. Best is trial 4 with value: 0.8370727863685611.\u001b[0m\n",
            "\u001b[32m[I 2021-09-28 05:41:53,895]\u001b[0m Trial 37 finished with value: 0.83006993006993 and parameters: {'num_leaves': 6, 'leaning_rate': 0.0005611739503711192, 'max_depth': 4}. Best is trial 4 with value: 0.8370727863685611.\u001b[0m\n",
            "\u001b[32m[I 2021-09-28 05:41:54,052]\u001b[0m Trial 38 finished with value: 0.8272530286614794 and parameters: {'num_leaves': 9, 'leaning_rate': 0.17015023971955937, 'max_depth': 5}. Best is trial 4 with value: 0.8370727863685611.\u001b[0m\n",
            "\u001b[32m[I 2021-09-28 05:41:54,181]\u001b[0m Trial 39 finished with value: 0.8370727863685611 and parameters: {'num_leaves': 7, 'leaning_rate': 0.0009820022636951396, 'max_depth': 4}. Best is trial 4 with value: 0.8370727863685611.\u001b[0m\n",
            "\u001b[32m[I 2021-09-28 05:41:54,283]\u001b[0m Trial 40 finished with value: 0.8188712695754947 and parameters: {'num_leaves': 3, 'leaning_rate': 0.003900520630378309, 'max_depth': 9}. Best is trial 4 with value: 0.8370727863685611.\u001b[0m\n",
            "\u001b[32m[I 2021-09-28 05:41:54,410]\u001b[0m Trial 41 finished with value: 0.8370727863685611 and parameters: {'num_leaves': 7, 'leaning_rate': 0.0007602430071042343, 'max_depth': 4}. Best is trial 4 with value: 0.8370727863685611.\u001b[0m\n",
            "\u001b[32m[I 2021-09-28 05:41:54,535]\u001b[0m Trial 42 finished with value: 0.8230867723825469 and parameters: {'num_leaves': 8, 'leaning_rate': 0.0007504566215847048, 'max_depth': 3}. Best is trial 4 with value: 0.8370727863685611.\u001b[0m\n",
            "\u001b[32m[I 2021-09-28 05:41:54,668]\u001b[0m Trial 43 finished with value: 0.8216684723726978 and parameters: {'num_leaves': 7, 'leaning_rate': 0.0002069016111868535, 'max_depth': 5}. Best is trial 4 with value: 0.8370727863685611.\u001b[0m\n",
            "\u001b[32m[I 2021-09-28 05:41:54,791]\u001b[0m Trial 44 finished with value: 0.83006993006993 and parameters: {'num_leaves': 6, 'leaning_rate': 5.151649544874353e-05, 'max_depth': 4}. Best is trial 4 with value: 0.8370727863685611.\u001b[0m\n",
            "\u001b[32m[I 2021-09-28 05:41:54,908]\u001b[0m Trial 45 finished with value: 0.8230867723825469 and parameters: {'num_leaves': 8, 'leaning_rate': 4.123031747065922e-06, 'max_depth': 3}. Best is trial 4 with value: 0.8370727863685611.\u001b[0m\n",
            "\u001b[32m[I 2021-09-28 05:41:55,039]\u001b[0m Trial 46 finished with value: 0.8258642765685018 and parameters: {'num_leaves': 6, 'leaning_rate': 0.0007972104599634175, 'max_depth': 6}. Best is trial 4 with value: 0.8370727863685611.\u001b[0m\n",
            "\u001b[32m[I 2021-09-28 05:41:55,178]\u001b[0m Trial 47 finished with value: 0.8216487737614498 and parameters: {'num_leaves': 7, 'leaning_rate': 1.329052010568077e-06, 'max_depth': 7}. Best is trial 4 with value: 0.8370727863685611.\u001b[0m\n",
            "\u001b[32m[I 2021-09-28 05:41:55,310]\u001b[0m Trial 48 finished with value: 0.83006993006993 and parameters: {'num_leaves': 8, 'leaning_rate': 0.023663918925367962, 'max_depth': 4}. Best is trial 4 with value: 0.8370727863685611.\u001b[0m\n",
            "\u001b[32m[I 2021-09-28 05:41:55,438]\u001b[0m Trial 49 finished with value: 0.8216684723726978 and parameters: {'num_leaves': 7, 'leaning_rate': 1.2292198677627663e-07, 'max_depth': 5}. Best is trial 4 with value: 0.8370727863685611.\u001b[0m\n",
            "\u001b[32m[I 2021-09-28 05:41:55,567]\u001b[0m Trial 50 finished with value: 0.8300994779868021 and parameters: {'num_leaves': 6, 'leaning_rate': 5.529268383431853e-05, 'max_depth': 3}. Best is trial 4 with value: 0.8370727863685611.\u001b[0m\n",
            "\u001b[32m[I 2021-09-28 05:41:55,689]\u001b[0m Trial 51 finished with value: 0.8370727863685611 and parameters: {'num_leaves': 7, 'leaning_rate': 0.0002802767418523404, 'max_depth': 4}. Best is trial 4 with value: 0.8370727863685611.\u001b[0m\n",
            "\u001b[32m[I 2021-09-28 05:41:55,814]\u001b[0m Trial 52 finished with value: 0.8370727863685611 and parameters: {'num_leaves': 7, 'leaning_rate': 0.0002064456563406635, 'max_depth': 4}. Best is trial 4 with value: 0.8370727863685611.\u001b[0m\n",
            "\u001b[32m[I 2021-09-28 05:41:55,943]\u001b[0m Trial 53 finished with value: 0.83006993006993 and parameters: {'num_leaves': 8, 'leaning_rate': 0.007449341470815306, 'max_depth': 4}. Best is trial 4 with value: 0.8370727863685611.\u001b[0m\n",
            "\u001b[32m[I 2021-09-28 05:41:56,088]\u001b[0m Trial 54 finished with value: 0.8216684723726978 and parameters: {'num_leaves': 7, 'leaning_rate': 0.000290682991831149, 'max_depth': 5}. Best is trial 4 with value: 0.8370727863685611.\u001b[0m\n",
            "\u001b[32m[I 2021-09-28 05:41:56,220]\u001b[0m Trial 55 finished with value: 0.8370727863685611 and parameters: {'num_leaves': 7, 'leaning_rate': 0.000297404797495842, 'max_depth': 4}. Best is trial 4 with value: 0.8370727863685611.\u001b[0m\n",
            "\u001b[32m[I 2021-09-28 05:41:56,338]\u001b[0m Trial 56 finished with value: 0.8300994779868021 and parameters: {'num_leaves': 6, 'leaning_rate': 1.048760612493664e-05, 'max_depth': 3}. Best is trial 4 with value: 0.8370727863685611.\u001b[0m\n",
            "\u001b[32m[I 2021-09-28 05:41:56,476]\u001b[0m Trial 57 finished with value: 0.83006993006993 and parameters: {'num_leaves': 8, 'leaning_rate': 3.729282864554488e-07, 'max_depth': 5}. Best is trial 4 with value: 0.8370727863685611.\u001b[0m\n",
            "\u001b[32m[I 2021-09-28 05:41:56,600]\u001b[0m Trial 58 finished with value: 0.8370727863685611 and parameters: {'num_leaves': 7, 'leaning_rate': 0.00029679325645901733, 'max_depth': 4}. Best is trial 4 with value: 0.8370727863685611.\u001b[0m\n",
            "\u001b[32m[I 2021-09-28 05:41:56,724]\u001b[0m Trial 59 finished with value: 0.8258642765685018 and parameters: {'num_leaves': 6, 'leaning_rate': 7.509106618430255e-05, 'max_depth': 9}. Best is trial 4 with value: 0.8370727863685611.\u001b[0m\n",
            "\u001b[32m[I 2021-09-28 05:41:56,841]\u001b[0m Trial 60 finished with value: 0.8244755244755245 and parameters: {'num_leaves': 5, 'leaning_rate': 0.001707650049319178, 'max_depth': 3}. Best is trial 4 with value: 0.8370727863685611.\u001b[0m\n",
            "\u001b[32m[I 2021-09-28 05:41:56,985]\u001b[0m Trial 61 finished with value: 0.8370727863685611 and parameters: {'num_leaves': 7, 'leaning_rate': 2.6017668462577885e-05, 'max_depth': 4}. Best is trial 4 with value: 0.8370727863685611.\u001b[0m\n",
            "\u001b[32m[I 2021-09-28 05:41:57,113]\u001b[0m Trial 62 finished with value: 0.8370727863685611 and parameters: {'num_leaves': 7, 'leaning_rate': 2.1422176014316257e-05, 'max_depth': 4}. Best is trial 4 with value: 0.8370727863685611.\u001b[0m\n",
            "\u001b[32m[I 2021-09-28 05:41:57,240]\u001b[0m Trial 63 finished with value: 0.8370727863685611 and parameters: {'num_leaves': 7, 'leaning_rate': 0.0003555544003459865, 'max_depth': 4}. Best is trial 4 with value: 0.8370727863685611.\u001b[0m\n",
            "\u001b[32m[I 2021-09-28 05:41:57,369]\u001b[0m Trial 64 finished with value: 0.8370727863685611 and parameters: {'num_leaves': 7, 'leaning_rate': 0.00010380903393247027, 'max_depth': 4}. Best is trial 4 with value: 0.8370727863685611.\u001b[0m\n",
            "\u001b[32m[I 2021-09-28 05:41:57,515]\u001b[0m Trial 65 finished with value: 0.83006993006993 and parameters: {'num_leaves': 8, 'leaning_rate': 2.5191945866687813e-05, 'max_depth': 5}. Best is trial 4 with value: 0.8370727863685611.\u001b[0m\n",
            "\u001b[32m[I 2021-09-28 05:41:57,641]\u001b[0m Trial 66 finished with value: 0.83006993006993 and parameters: {'num_leaves': 6, 'leaning_rate': 0.013657837875633625, 'max_depth': 4}. Best is trial 4 with value: 0.8370727863685611.\u001b[0m\n",
            "\u001b[32m[I 2021-09-28 05:41:57,758]\u001b[0m Trial 67 finished with value: 0.8301093272924259 and parameters: {'num_leaves': 7, 'leaning_rate': 1.723652484655625e-05, 'max_depth': 3}. Best is trial 4 with value: 0.8370727863685611.\u001b[0m\n",
            "\u001b[32m[I 2021-09-28 05:41:57,892]\u001b[0m Trial 68 finished with value: 0.83006993006993 and parameters: {'num_leaves': 8, 'leaning_rate': 3.0046579180028645e-06, 'max_depth': 5}. Best is trial 4 with value: 0.8370727863685611.\u001b[0m\n",
            "\u001b[32m[I 2021-09-28 05:41:58,023]\u001b[0m Trial 69 finished with value: 0.8370727863685611 and parameters: {'num_leaves': 7, 'leaning_rate': 0.0024128435944593923, 'max_depth': 4}. Best is trial 4 with value: 0.8370727863685611.\u001b[0m\n",
            "\u001b[32m[I 2021-09-28 05:41:58,147]\u001b[0m Trial 70 finished with value: 0.83006993006993 and parameters: {'num_leaves': 6, 'leaning_rate': 0.001175121335822328, 'max_depth': 4}. Best is trial 4 with value: 0.8370727863685611.\u001b[0m\n",
            "\u001b[32m[I 2021-09-28 05:41:58,276]\u001b[0m Trial 71 finished with value: 0.8370727863685611 and parameters: {'num_leaves': 7, 'leaning_rate': 0.0033466563196514454, 'max_depth': 4}. Best is trial 4 with value: 0.8370727863685611.\u001b[0m\n",
            "\u001b[32m[I 2021-09-28 05:41:58,400]\u001b[0m Trial 72 finished with value: 0.8370727863685611 and parameters: {'num_leaves': 7, 'leaning_rate': 0.0048665851324045965, 'max_depth': 4}. Best is trial 4 with value: 0.8370727863685611.\u001b[0m\n",
            "\u001b[32m[I 2021-09-28 05:41:58,520]\u001b[0m Trial 73 finished with value: 0.8301093272924259 and parameters: {'num_leaves': 7, 'leaning_rate': 0.04048661719897415, 'max_depth': 3}. Best is trial 4 with value: 0.8370727863685611.\u001b[0m\n",
            "\u001b[32m[I 2021-09-28 05:41:58,655]\u001b[0m Trial 74 finished with value: 0.8370727863685611 and parameters: {'num_leaves': 7, 'leaning_rate': 0.0010750541831709435, 'max_depth': 4}. Best is trial 4 with value: 0.8370727863685611.\u001b[0m\n",
            "\u001b[32m[I 2021-09-28 05:41:58,788]\u001b[0m Trial 75 finished with value: 0.83006993006993 and parameters: {'num_leaves': 8, 'leaning_rate': 0.0011248169985232984, 'max_depth': 5}. Best is trial 4 with value: 0.8370727863685611.\u001b[0m\n",
            "\u001b[32m[I 2021-09-28 05:41:58,915]\u001b[0m Trial 76 finished with value: 0.83006993006993 and parameters: {'num_leaves': 6, 'leaning_rate': 0.09071087774673581, 'max_depth': 4}. Best is trial 4 with value: 0.8370727863685611.\u001b[0m\n",
            "\u001b[32m[I 2021-09-28 05:41:59,041]\u001b[0m Trial 77 finished with value: 0.8301093272924259 and parameters: {'num_leaves': 7, 'leaning_rate': 0.00016819883117095567, 'max_depth': 3}. Best is trial 4 with value: 0.8370727863685611.\u001b[0m\n",
            "\u001b[32m[I 2021-09-28 05:41:59,178]\u001b[0m Trial 78 finished with value: 0.83006993006993 and parameters: {'num_leaves': 8, 'leaning_rate': 0.018444307380943072, 'max_depth': 5}. Best is trial 4 with value: 0.8370727863685611.\u001b[0m\n",
            "\u001b[32m[I 2021-09-28 05:41:59,304]\u001b[0m Trial 79 finished with value: 0.8370727863685611 and parameters: {'num_leaves': 7, 'leaning_rate': 0.0005810703079533981, 'max_depth': 4}. Best is trial 4 with value: 0.8370727863685611.\u001b[0m\n",
            "\u001b[32m[I 2021-09-28 05:41:59,426]\u001b[0m Trial 80 finished with value: 0.8301093272924259 and parameters: {'num_leaves': 7, 'leaning_rate': 0.00035599235314749065, 'max_depth': 3}. Best is trial 4 with value: 0.8370727863685611.\u001b[0m\n",
            "\u001b[32m[I 2021-09-28 05:41:59,561]\u001b[0m Trial 81 finished with value: 0.8370727863685611 and parameters: {'num_leaves': 7, 'leaning_rate': 0.009488340689812507, 'max_depth': 4}. Best is trial 4 with value: 0.8370727863685611.\u001b[0m\n",
            "\u001b[32m[I 2021-09-28 05:41:59,686]\u001b[0m Trial 82 finished with value: 0.8370727863685611 and parameters: {'num_leaves': 7, 'leaning_rate': 0.008808419501045139, 'max_depth': 4}. Best is trial 4 with value: 0.8370727863685611.\u001b[0m\n",
            "\u001b[32m[I 2021-09-28 05:41:59,823]\u001b[0m Trial 83 finished with value: 0.8370727863685611 and parameters: {'num_leaves': 7, 'leaning_rate': 0.00019756683991919652, 'max_depth': 4}. Best is trial 4 with value: 0.8370727863685611.\u001b[0m\n",
            "\u001b[32m[I 2021-09-28 05:41:59,949]\u001b[0m Trial 84 finished with value: 0.8370727863685611 and parameters: {'num_leaves': 7, 'leaning_rate': 6.629902550537603e-05, 'max_depth': 4}. Best is trial 4 with value: 0.8370727863685611.\u001b[0m\n",
            "\u001b[32m[I 2021-09-28 05:42:00,093]\u001b[0m Trial 85 finished with value: 0.8258642765685018 and parameters: {'num_leaves': 6, 'leaning_rate': 7.470413476761719e-05, 'max_depth': 5}. Best is trial 4 with value: 0.8370727863685611.\u001b[0m\n",
            "\u001b[32m[I 2021-09-28 05:42:00,232]\u001b[0m Trial 86 finished with value: 0.8244558258642766 and parameters: {'num_leaves': 8, 'leaning_rate': 0.0027793338470814975, 'max_depth': 6}. Best is trial 4 with value: 0.8370727863685611.\u001b[0m\n",
            "\u001b[32m[I 2021-09-28 05:42:00,360]\u001b[0m Trial 87 finished with value: 0.83006993006993 and parameters: {'num_leaves': 6, 'leaning_rate': 0.0024150017110412423, 'max_depth': 4}. Best is trial 4 with value: 0.8370727863685611.\u001b[0m\n",
            "\u001b[32m[I 2021-09-28 05:42:00,489]\u001b[0m Trial 88 finished with value: 0.8370727863685611 and parameters: {'num_leaves': 7, 'leaning_rate': 0.005676051172194407, 'max_depth': 4}. Best is trial 4 with value: 0.8370727863685611.\u001b[0m\n",
            "\u001b[32m[I 2021-09-28 05:42:00,625]\u001b[0m Trial 89 finished with value: 0.83006993006993 and parameters: {'num_leaves': 8, 'leaning_rate': 0.30867033612155764, 'max_depth': 5}. Best is trial 4 with value: 0.8370727863685611.\u001b[0m\n",
            "\u001b[32m[I 2021-09-28 05:42:00,745]\u001b[0m Trial 90 finished with value: 0.8301093272924259 and parameters: {'num_leaves': 7, 'leaning_rate': 0.0005249143578453459, 'max_depth': 3}. Best is trial 4 with value: 0.8370727863685611.\u001b[0m\n",
            "\u001b[32m[I 2021-09-28 05:42:00,881]\u001b[0m Trial 91 finished with value: 0.8370727863685611 and parameters: {'num_leaves': 7, 'leaning_rate': 3.7875845203318133e-05, 'max_depth': 4}. Best is trial 4 with value: 0.8370727863685611.\u001b[0m\n",
            "\u001b[32m[I 2021-09-28 05:42:01,007]\u001b[0m Trial 92 finished with value: 0.8370727863685611 and parameters: {'num_leaves': 7, 'leaning_rate': 0.00026098359619262, 'max_depth': 4}. Best is trial 4 with value: 0.8370727863685611.\u001b[0m\n",
            "\u001b[32m[I 2021-09-28 05:42:01,156]\u001b[0m Trial 93 finished with value: 0.8370727863685611 and parameters: {'num_leaves': 7, 'leaning_rate': 0.00012214107747111972, 'max_depth': 4}. Best is trial 4 with value: 0.8370727863685611.\u001b[0m\n",
            "\u001b[32m[I 2021-09-28 05:42:01,295]\u001b[0m Trial 94 finished with value: 0.8370727863685611 and parameters: {'num_leaves': 7, 'leaning_rate': 0.0002798985942127652, 'max_depth': 4}. Best is trial 4 with value: 0.8370727863685611.\u001b[0m\n",
            "\u001b[32m[I 2021-09-28 05:42:01,424]\u001b[0m Trial 95 finished with value: 0.83006993006993 and parameters: {'num_leaves': 8, 'leaning_rate': 0.0001513718446013024, 'max_depth': 4}. Best is trial 4 with value: 0.8370727863685611.\u001b[0m\n",
            "\u001b[32m[I 2021-09-28 05:42:01,554]\u001b[0m Trial 96 finished with value: 0.8370727863685611 and parameters: {'num_leaves': 7, 'leaning_rate': 0.004396243821448149, 'max_depth': 4}. Best is trial 4 with value: 0.8370727863685611.\u001b[0m\n",
            "\u001b[32m[I 2021-09-28 05:42:01,678]\u001b[0m Trial 97 finished with value: 0.8301093272924259 and parameters: {'num_leaves': 7, 'leaning_rate': 9.659145337017678e-06, 'max_depth': 3}. Best is trial 4 with value: 0.8370727863685611.\u001b[0m\n",
            "\u001b[32m[I 2021-09-28 05:42:01,821]\u001b[0m Trial 98 finished with value: 0.8230375258544272 and parameters: {'num_leaves': 10, 'leaning_rate': 2.311077811045795e-05, 'max_depth': 5}. Best is trial 4 with value: 0.8370727863685611.\u001b[0m\n",
            "\u001b[32m[I 2021-09-28 05:42:01,949]\u001b[0m Trial 99 finished with value: 0.83006993006993 and parameters: {'num_leaves': 6, 'leaning_rate': 9.452889403967048e-05, 'max_depth': 4}. Best is trial 4 with value: 0.8370727863685611.\u001b[0m\n"
          ]
        },
        {
          "output_type": "stream",
          "name": "stdout",
          "text": [
            "{'num_leaves': 7, 'leaning_rate': 8.086500159490596e-08, 'max_depth': 4}\n",
            "0.8370727863685611\n"
          ]
        }
      ]
    },
    {
      "cell_type": "code",
      "metadata": {
        "id": "wjdrNt2RD9hQ",
        "colab": {
          "base_uri": "https://localhost:8080/"
        },
        "outputId": "a2d0796c-9336-4176-f506-f38db9dbb5d4"
      },
      "source": [
        "# LogisticRegression\n",
        "\n",
        "import warnings\n",
        "warnings.filterwarnings('ignore')\n",
        "\n",
        "def objective(trial):\n",
        "\n",
        "    params_grid_lr = {\n",
        "        'C': trial.suggest_int('C',1,100),\n",
        "        'random_state':0\n",
        "    }\n",
        "    model = LogisticRegression(**params_grid_lr)\n",
        "\n",
        "    kf = StratifiedKFold(n_splits=5,shuffle=True,random_state=0)\n",
        "    score = cross_validate(model,X_train,y_train,cv = kf)\n",
        "    return score['test_score'].mean()\n",
        "\n",
        "study = optuna.create_study(direction='maximize')\n",
        "study.optimize(objective,n_trials=10)\n",
        "print(study.best_params)\n",
        "print(study.best_value)\n",
        "lr_best_param = study.best_params\n",
        "# {'C': 1}\n",
        "# 0.8216684723726978"
      ],
      "execution_count": null,
      "outputs": [
        {
          "output_type": "stream",
          "name": "stderr",
          "text": [
            "\u001b[32m[I 2021-09-28 05:42:01,975]\u001b[0m A new study created in memory with name: no-name-a4f5a8ba-0565-45c9-ada8-5d4a62c0a494\u001b[0m\n",
            "\u001b[32m[I 2021-09-28 05:42:02,188]\u001b[0m Trial 0 finished with value: 0.818851570964247 and parameters: {'C': 2}. Best is trial 0 with value: 0.818851570964247.\u001b[0m\n",
            "\u001b[32m[I 2021-09-28 05:42:02,408]\u001b[0m Trial 1 finished with value: 0.8160149709445484 and parameters: {'C': 68}. Best is trial 0 with value: 0.818851570964247.\u001b[0m\n",
            "\u001b[32m[I 2021-09-28 05:42:02,635]\u001b[0m Trial 2 finished with value: 0.8160149709445484 and parameters: {'C': 44}. Best is trial 0 with value: 0.818851570964247.\u001b[0m\n",
            "\u001b[32m[I 2021-09-28 05:42:02,847]\u001b[0m Trial 3 finished with value: 0.8174234216487738 and parameters: {'C': 75}. Best is trial 0 with value: 0.818851570964247.\u001b[0m\n",
            "\u001b[32m[I 2021-09-28 05:42:03,072]\u001b[0m Trial 4 finished with value: 0.8174234216487738 and parameters: {'C': 77}. Best is trial 0 with value: 0.818851570964247.\u001b[0m\n",
            "\u001b[32m[I 2021-09-28 05:42:03,362]\u001b[0m Trial 5 finished with value: 0.8132177681473456 and parameters: {'C': 40}. Best is trial 0 with value: 0.818851570964247.\u001b[0m\n",
            "\u001b[32m[I 2021-09-28 05:42:03,587]\u001b[0m Trial 6 finished with value: 0.8174234216487738 and parameters: {'C': 78}. Best is trial 0 with value: 0.818851570964247.\u001b[0m\n",
            "\u001b[32m[I 2021-09-28 05:42:03,813]\u001b[0m Trial 7 finished with value: 0.8132177681473456 and parameters: {'C': 8}. Best is trial 0 with value: 0.818851570964247.\u001b[0m\n",
            "\u001b[32m[I 2021-09-28 05:42:04,053]\u001b[0m Trial 8 finished with value: 0.8132276174529697 and parameters: {'C': 17}. Best is trial 0 with value: 0.818851570964247.\u001b[0m\n",
            "\u001b[32m[I 2021-09-28 05:42:04,301]\u001b[0m Trial 9 finished with value: 0.8160149709445484 and parameters: {'C': 68}. Best is trial 0 with value: 0.818851570964247.\u001b[0m\n"
          ]
        },
        {
          "output_type": "stream",
          "name": "stdout",
          "text": [
            "{'C': 2}\n",
            "0.818851570964247\n"
          ]
        }
      ]
    },
    {
      "cell_type": "code",
      "metadata": {
        "colab": {
          "base_uri": "https://localhost:8080/"
        },
        "id": "yYQBOYuHwflP",
        "outputId": "03efde71-f5fe-4176-ee94-bd7590af5cf4"
      },
      "source": [
        "#SVC\n",
        "\n",
        "import warnings\n",
        "warnings.filterwarnings('ignore')\n",
        "\n",
        "def objective(trial):\n",
        "\n",
        "    param_grid_svc = {\n",
        "        'C':trial.suggest_int('C',50,200),\n",
        "        'gamma':trial.suggest_loguniform('gamma',1e-4,1.0),\n",
        "        'random_state':0,\n",
        "        'kernel':'rbf'\n",
        "    }\n",
        "\n",
        "    model = SVC(**param_grid_svc)\n",
        "\n",
        "    kf = StratifiedKFold(n_splits=5, shuffle=True,random_state=0)\n",
        "\n",
        "    scores = cross_validate(model,X_train,y_train,cv=kf)\n",
        "\n",
        "    return scores['test_score'].mean()\n",
        "\n",
        "study = optuna.create_study(direction='maximize')\n",
        "study.optimize(objective,n_trials=10)\n",
        "print(study.best_params)\n",
        "print(study.best_value)\n",
        "svc_best_param = study.best_params\n",
        "# {'C': 106, 'gamma': 0.0028613497032236065}\n",
        "# 0.8385009356840343"
      ],
      "execution_count": null,
      "outputs": [
        {
          "output_type": "stream",
          "name": "stderr",
          "text": [
            "\u001b[32m[I 2021-09-28 05:42:04,346]\u001b[0m A new study created in memory with name: no-name-03678e5b-c990-4df9-8cd9-9e5e3cfdf623\u001b[0m\n",
            "\u001b[32m[I 2021-09-28 05:42:04,515]\u001b[0m Trial 0 finished with value: 0.8188417216586231 and parameters: {'C': 118, 'gamma': 0.09341259576914678}. Best is trial 0 with value: 0.8188417216586231.\u001b[0m\n",
            "\u001b[32m[I 2021-09-28 05:42:04,663]\u001b[0m Trial 1 finished with value: 0.796375455530385 and parameters: {'C': 157, 'gamma': 0.00012162085152191223}. Best is trial 0 with value: 0.8188417216586231.\u001b[0m\n",
            "\u001b[32m[I 2021-09-28 05:42:04,805]\u001b[0m Trial 2 finished with value: 0.8384812370727863 and parameters: {'C': 161, 'gamma': 0.00036376172174740077}. Best is trial 2 with value: 0.8384812370727863.\u001b[0m\n",
            "\u001b[32m[I 2021-09-28 05:42:04,957]\u001b[0m Trial 3 finished with value: 0.8385009356840343 and parameters: {'C': 65, 'gamma': 0.0038501722690165757}. Best is trial 3 with value: 0.8385009356840343.\u001b[0m\n",
            "\u001b[32m[I 2021-09-28 05:42:05,133]\u001b[0m Trial 4 finished with value: 0.8385107849896583 and parameters: {'C': 136, 'gamma': 0.012345615100271646}. Best is trial 4 with value: 0.8385107849896583.\u001b[0m\n",
            "\u001b[32m[I 2021-09-28 05:42:05,314]\u001b[0m Trial 5 finished with value: 0.8384910863784103 and parameters: {'C': 106, 'gamma': 0.004832732097690922}. Best is trial 4 with value: 0.8385107849896583.\u001b[0m\n",
            "\u001b[32m[I 2021-09-28 05:42:05,455]\u001b[0m Trial 6 finished with value: 0.8342755835713582 and parameters: {'C': 171, 'gamma': 0.0009497806311588541}. Best is trial 4 with value: 0.8385107849896583.\u001b[0m\n",
            "\u001b[32m[I 2021-09-28 05:42:05,599]\u001b[0m Trial 7 finished with value: 0.8272431793558553 and parameters: {'C': 173, 'gamma': 0.00021837292287680063}. Best is trial 4 with value: 0.8385107849896583.\u001b[0m\n",
            "\u001b[32m[I 2021-09-28 05:42:05,772]\u001b[0m Trial 8 finished with value: 0.8076233625529401 and parameters: {'C': 194, 'gamma': 0.0440706918055604}. Best is trial 4 with value: 0.8385107849896583.\u001b[0m\n",
            "\u001b[32m[I 2021-09-28 05:42:05,919]\u001b[0m Trial 9 finished with value: 0.7935684034275583 and parameters: {'C': 85, 'gamma': 0.00014599905740371403}. Best is trial 4 with value: 0.8385107849896583.\u001b[0m\n"
          ]
        },
        {
          "output_type": "stream",
          "name": "stdout",
          "text": [
            "{'C': 136, 'gamma': 0.012345615100271646}\n",
            "0.8385107849896583\n"
          ]
        }
      ]
    },
    {
      "cell_type": "code",
      "metadata": {
        "colab": {
          "base_uri": "https://localhost:8080/"
        },
        "id": "Dr-ohSXo7CM-",
        "outputId": "a055393e-b901-4b64-ddd7-1ca61af143c9"
      },
      "source": [
        "# 汎化性能検証\n",
        "# 学習データ全体を5分割し、k分割交差検証(Stratified K-Fold CV)を行う\n",
        "\n",
        "kf = StratifiedKFold(n_splits=5, shuffle=True, random_state=0)\n",
        "\n",
        "rfc_best = RandomForestClassifier(**rfc_best_param)\n",
        "print('RandomForestClassifier')\n",
        "print('='*20)\n",
        "scores = cross_validate(rfc_best,X=train_feature,y=train_target,cv=kf)\n",
        "print(f'mean:{scores[\"test_score\"].mean()}, std:{scores[\"test_score\"].std()}')\n",
        "print('='*20) \n",
        "\n",
        "xgb_best = XGBClassifier(**xgb_best_param)\n",
        "print('XGBClassifier')\n",
        "print('='*20)\n",
        "scores = cross_validate(xgb_best,X=train_feature,y=train_target,cv=kf)\n",
        "print(f'mean:{scores[\"test_score\"].mean()},std:{scores[\"test_score\"].std()}')\n",
        "print('='*20)\n",
        "\n",
        "lgb_best = LGBMClassifier(**lgb_best_param)\n",
        "print('LGBMClassifier')\n",
        "print('='*20)\n",
        "scores = cross_validate(lgb_best,X=train_feature,y=train_target,cv=kf)\n",
        "print(f'mean : {scores[\"test_score\"].mean()},std : {scores[\"test_score\"].std()}')\n",
        "print('='*20)\n",
        "\n",
        "lr_best = LogisticRegression(**lr_best_param)\n",
        "print('LogisticRegression')\n",
        "print('='*20)\n",
        "scores = cross_validate(lr_best,X=train_feature,y=train_target,cv=kf)\n",
        "print(f'mean : {scores[\"test_score\"].mean()},std : {scores[\"test_score\"].std()}')\n",
        "print('='*20)\n",
        "\n",
        "svc_best = SVC(**svc_best_param)\n",
        "print('SVC')\n",
        "print('='*20)\n",
        "scores = cross_validate(svc_best,X=train_feature,y=train_target,cv=kf)\n",
        "print(f'mean : {scores[\"test_score\"].mean()},std : {scores[\"test_score\"].std()}')\n",
        "print('='*20)"
      ],
      "execution_count": null,
      "outputs": [
        {
          "output_type": "stream",
          "name": "stdout",
          "text": [
            "RandomForestClassifier\n",
            "====================\n",
            "mean:0.8204130311970372, std:0.019248089976549254\n",
            "====================\n",
            "XGBClassifier\n",
            "====================\n",
            "mean:0.8114430983616847,std:0.013162963120508863\n",
            "====================\n",
            "LGBMClassifier\n",
            "====================\n",
            "mean : 0.8103132257862029,std : 0.019698065328495603\n",
            "====================\n",
            "LogisticRegression\n",
            "====================\n",
            "mean : 0.8204004770573097,std : 0.019342652012936796\n",
            "====================\n",
            "SVC\n",
            "====================\n",
            "mean : 0.8103132257862029,std : 0.012171486114651181\n",
            "====================\n"
          ]
        }
      ]
    },
    {
      "cell_type": "code",
      "metadata": {
        "colab": {
          "base_uri": "https://localhost:8080/"
        },
        "id": "oJqV9wNpDe84",
        "outputId": "8859a2ed-c6db-4be2-d355-65b58643dbfa"
      },
      "source": [
        "from sklearn.ensemble import VotingClassifier\n",
        "\n",
        "estimators = [\n",
        "              ('rfc',RandomForestClassifier(**rfc_best_param)),\n",
        "              ('xgb',XGBClassifier(**xgb_best_param)),\n",
        "              ('lgb',LGBMClassifier(**lgb_best_param)),\n",
        "              ('lr',LogisticRegression(**lr_best_param)),\n",
        "              ('svc',SVC(**svc_best_param)),\n",
        "]\n",
        "voting = VotingClassifier(estimators)\n",
        "\n",
        "print('VotingClassifier')\n",
        "print('='*20)\n",
        "scores = cross_validate(voting,X=train_feature,y=train_target,cv=kf)\n",
        "print(f'mean : {scores[\"test_score\"].mean()},std : {scores[\"test_score\"].std()}')"
      ],
      "execution_count": null,
      "outputs": [
        {
          "output_type": "stream",
          "name": "stdout",
          "text": [
            "VotingClassifier\n",
            "====================\n",
            "mean : 0.8192894356914193,std : 0.012702072358238437\n"
          ]
        }
      ]
    },
    {
      "cell_type": "code",
      "metadata": {
        "id": "PoJh3yhhDe59"
      },
      "source": [
        "rfc_best = RandomForestClassifier(**rfc_best_param)\n",
        "rfc_best.fit(train_feature,train_target)\n",
        "\n",
        "xgb_best = XGBClassifier(**xgb_best_param)\n",
        "xgb_best.fit(train_feature,train_target)\n",
        "\n",
        "lgb_best = LGBMClassifier(**lgb_best_param)\n",
        "lgb_best.fit(train_feature,train_target)\n",
        "\n",
        "lr_best = LogisticRegression(**lr_best_param)\n",
        "lr_best.fit(train_feature,train_target)\n",
        "\n",
        "svc_best = SVC(**svc_best_param)\n",
        "svc_best.fit(train_feature,train_target)\n",
        "\n",
        "pred = {\n",
        "    'rfc':rfc_best.predict(test_feature),\n",
        "    'xgb':xgb_best.predict(test_feature),\n",
        "    'lgb':lgb_best.predict(test_feature),\n",
        "    'lr':lr_best.predict(test_feature),\n",
        "    'svc':svc_best.predict(test_feature)\n",
        "}\n",
        "\n",
        "for key, value in pred.items():\n",
        "    pd.concat(\n",
        "        [\n",
        "               pd.DataFrame(test.PassengerId, columns=['PassengerId']).reset_index(drop=True),\n",
        "               pd.DataFrame(value,columns=['Survived'])\n",
        "        ],axis=1).to_csv(f'output_{key}.csv', index=False)"
      ],
      "execution_count": null,
      "outputs": []
    },
    {
      "cell_type": "code",
      "metadata": {
        "id": "FY2wF9J4De2j"
      },
      "source": [
        ""
      ],
      "execution_count": null,
      "outputs": []
    },
    {
      "cell_type": "code",
      "metadata": {
        "id": "Fz2OhBHMDeze"
      },
      "source": [
        ""
      ],
      "execution_count": null,
      "outputs": []
    },
    {
      "cell_type": "code",
      "metadata": {
        "id": "KiQ19NSiDewT"
      },
      "source": [
        ""
      ],
      "execution_count": null,
      "outputs": []
    },
    {
      "cell_type": "code",
      "metadata": {
        "id": "LBaSGFAfDetH"
      },
      "source": [
        ""
      ],
      "execution_count": null,
      "outputs": []
    },
    {
      "cell_type": "code",
      "metadata": {
        "id": "AYbLgqRbDeqG"
      },
      "source": [
        ""
      ],
      "execution_count": null,
      "outputs": []
    },
    {
      "cell_type": "code",
      "metadata": {
        "id": "YI1zMujGDemt"
      },
      "source": [
        ""
      ],
      "execution_count": null,
      "outputs": []
    },
    {
      "cell_type": "code",
      "metadata": {
        "id": "V07pBKNxDejj"
      },
      "source": [
        ""
      ],
      "execution_count": null,
      "outputs": []
    },
    {
      "cell_type": "code",
      "metadata": {
        "id": "_XMp0b-CDegB"
      },
      "source": [
        ""
      ],
      "execution_count": null,
      "outputs": []
    },
    {
      "cell_type": "code",
      "metadata": {
        "id": "j6cZeg2aDecb"
      },
      "source": [
        ""
      ],
      "execution_count": null,
      "outputs": []
    }
  ]
}