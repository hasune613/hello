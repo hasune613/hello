{
  "nbformat": 4,
  "nbformat_minor": 0,
  "metadata": {
    "colab": {
      "name": "fastai_NLP.ipynb",
      "provenance": [],
      "collapsed_sections": [],
      "mount_file_id": "19UT4hMgcxa7PpLQMcoHftkmZWvIu6ZaJ",
      "authorship_tag": "ABX9TyM4h4QyMBSWdStN54Xob7UU",
      "include_colab_link": true
    },
    "kernelspec": {
      "name": "python3",
      "display_name": "Python 3"
    },
    "language_info": {
      "name": "python"
    },
    "accelerator": "GPU"
  },
  "cells": [
    {
      "cell_type": "markdown",
      "metadata": {
        "id": "view-in-github",
        "colab_type": "text"
      },
      "source": [
        "<a href=\"https://colab.research.google.com/github/hasune613/hello-world/blob/main/fastai_NLP.ipynb\" target=\"_parent\"><img src=\"https://colab.research.google.com/assets/colab-badge.svg\" alt=\"Open In Colab\"/></a>"
      ]
    },
    {
      "cell_type": "code",
      "metadata": {
        "id": "duwAR6eR_pEE"
      },
      "source": [
        "!pip install -Uqq fastbook\n",
        "import fastbook\n",
        "fastbook.setup_book()"
      ],
      "execution_count": null,
      "outputs": []
    },
    {
      "cell_type": "code",
      "metadata": {
        "id": "Y_l7yPyQ_pAX"
      },
      "source": [
        "from fastbook import *\n",
        "from IPython.display import display,HTML"
      ],
      "execution_count": null,
      "outputs": []
    },
    {
      "cell_type": "code",
      "metadata": {
        "id": "7qLPUcfh_o7u"
      },
      "source": [
        "from fastai.text.all import *"
      ],
      "execution_count": null,
      "outputs": []
    },
    {
      "cell_type": "code",
      "metadata": {
        "id": "se8Y5YS8AEKC"
      },
      "source": [
        "path = untar_data(URLs.IMDB)"
      ],
      "execution_count": null,
      "outputs": []
    },
    {
      "cell_type": "code",
      "metadata": {
        "colab": {
          "base_uri": "https://localhost:8080/"
        },
        "id": "C3wZ3_1gANPW",
        "outputId": "43e78a30-8d8f-47cf-82fe-1d14d2e1421e"
      },
      "source": [
        "files = get_text_files(path, folders = ['train','test', 'unsup'])\n",
        "files"
      ],
      "execution_count": null,
      "outputs": [
        {
          "output_type": "execute_result",
          "data": {
            "text/plain": [
              "(#100000) [Path('/root/.fastai/data/imdb/test/neg/2270_1.txt'),Path('/root/.fastai/data/imdb/test/neg/3302_1.txt'),Path('/root/.fastai/data/imdb/test/neg/3869_1.txt'),Path('/root/.fastai/data/imdb/test/neg/12406_1.txt'),Path('/root/.fastai/data/imdb/test/neg/6582_1.txt'),Path('/root/.fastai/data/imdb/test/neg/11519_3.txt'),Path('/root/.fastai/data/imdb/test/neg/6496_4.txt'),Path('/root/.fastai/data/imdb/test/neg/2903_1.txt'),Path('/root/.fastai/data/imdb/test/neg/10505_1.txt'),Path('/root/.fastai/data/imdb/test/neg/12135_3.txt')...]"
            ]
          },
          "metadata": {},
          "execution_count": 174
        }
      ]
    },
    {
      "cell_type": "code",
      "metadata": {
        "colab": {
          "base_uri": "https://localhost:8080/",
          "height": 35
        },
        "id": "f19M8QwDAgRp",
        "outputId": "d9aca183-ae87-469f-f72f-2ca3ef84b1c8"
      },
      "source": [
        "txt = files[0].open().read()\n",
        "txt[:75]"
      ],
      "execution_count": null,
      "outputs": [
        {
          "output_type": "execute_result",
          "data": {
            "application/vnd.google.colaboratory.intrinsic+json": {
              "type": "string"
            },
            "text/plain": [
              "'The comparisons between the 1995 version and this are inevitable. Sadly, th'"
            ]
          },
          "metadata": {},
          "execution_count": 175
        }
      ]
    },
    {
      "cell_type": "code",
      "metadata": {
        "colab": {
          "base_uri": "https://localhost:8080/"
        },
        "id": "cRLVorP_At9-",
        "outputId": "10e7c860-58b4-4910-b548-b421b08d5c77"
      },
      "source": [
        "spacy = WordTokenizer()\n",
        "toks = first(spacy([txt]))\n",
        "toks"
      ],
      "execution_count": null,
      "outputs": [
        {
          "output_type": "execute_result",
          "data": {
            "text/plain": [
              "(#636) ['The','comparisons','between','the','1995','version','and','this','are','inevitable'...]"
            ]
          },
          "metadata": {},
          "execution_count": 176
        }
      ]
    },
    {
      "cell_type": "code",
      "metadata": {
        "colab": {
          "base_uri": "https://localhost:8080/"
        },
        "id": "SkwBoEpfDB7h",
        "outputId": "7be02f2e-8ece-4000-cbd3-fe28728631be"
      },
      "source": [
        "print(coll_repr(toks,30))"
      ],
      "execution_count": null,
      "outputs": [
        {
          "output_type": "stream",
          "text": [
            "(#636) ['The','comparisons','between','the','1995','version','and','this','are','inevitable','.','Sadly',',','this','version','falls','far','short.<br','/><br','/>The','casting','is','uninspired','and','the','acting','wooden','.','One','gets'...]\n"
          ],
          "name": "stdout"
        }
      ]
    },
    {
      "cell_type": "code",
      "metadata": {
        "colab": {
          "base_uri": "https://localhost:8080/"
        },
        "id": "OuP4c7ypBQ0c",
        "outputId": "750d657f-7a33-4d6a-d7d6-ce2b7fe5a091"
      },
      "source": [
        "first(spacy(['The U.S.dollar $1 is $1.00']))"
      ],
      "execution_count": null,
      "outputs": [
        {
          "output_type": "execute_result",
          "data": {
            "text/plain": [
              "(#7) ['The','U.S.dollar','$','1','is','$','1.00']"
            ]
          },
          "metadata": {},
          "execution_count": 178
        }
      ]
    },
    {
      "cell_type": "code",
      "metadata": {
        "colab": {
          "base_uri": "https://localhost:8080/"
        },
        "id": "gVRPYB1PBhzK",
        "outputId": "62d3e044-9b3e-43e0-d53f-f19ea5056d9d"
      },
      "source": [
        "tkn = Tokenizer(spacy)\n",
        "print(coll_repr(tkn(txt), 31))\n",
        "\n",
        "# xxbos:: Indicates the beginning of a text (here, a review)\n",
        "# xxmaj:: Indicates the next word begins with a capital (since we lowercased everything)\n",
        "# xxunk:: Indicates the word is unknown"
      ],
      "execution_count": null,
      "outputs": [
        {
          "output_type": "stream",
          "text": [
            "(#729) ['xxbos','xxmaj','the','comparisons','between','the','1995','version','and','this','are','inevitable','.','xxmaj','sadly',',','this','version','falls','far','short','.','\\n\\n','xxmaj','the','casting','is','uninspired','and','the','acting'...]\n"
          ],
          "name": "stdout"
        }
      ]
    },
    {
      "cell_type": "code",
      "metadata": {
        "colab": {
          "base_uri": "https://localhost:8080/"
        },
        "id": "u88i_hdBBxr6",
        "outputId": "6c9a950b-8065-46e4-8f3f-472420e8b839"
      },
      "source": [
        "defaults.text_proc_rules"
      ],
      "execution_count": null,
      "outputs": [
        {
          "output_type": "execute_result",
          "data": {
            "text/plain": [
              "[<function fastai.text.core.fix_html>,\n",
              " <function fastai.text.core.replace_rep>,\n",
              " <function fastai.text.core.replace_wrep>,\n",
              " <function fastai.text.core.spec_add_spaces>,\n",
              " <function fastai.text.core.rm_useless_spaces>,\n",
              " <function fastai.text.core.replace_all_caps>,\n",
              " <function fastai.text.core.replace_maj>,\n",
              " <function fastai.text.core.lowercase>]"
            ]
          },
          "metadata": {},
          "execution_count": 180
        }
      ]
    },
    {
      "cell_type": "code",
      "metadata": {
        "colab": {
          "base_uri": "https://localhost:8080/",
          "height": 35
        },
        "id": "O_UOltSGCWWE",
        "outputId": "16475ec7-7ce3-43b1-8032-a9ac89ed098c"
      },
      "source": [
        "coll_repr(tkn('&copy; Fart.ai www.fast.ai/INDEX'),31)"
      ],
      "execution_count": null,
      "outputs": [
        {
          "output_type": "execute_result",
          "data": {
            "application/vnd.google.colaboratory.intrinsic+json": {
              "type": "string"
            },
            "text/plain": [
              "\"(#11) ['xxbos','©','xxmaj','fart.ai','xxrep','3','w','.fast.ai','/','xxup','index']\""
            ]
          },
          "metadata": {},
          "execution_count": 181
        }
      ]
    },
    {
      "cell_type": "code",
      "metadata": {
        "colab": {
          "base_uri": "https://localhost:8080/"
        },
        "id": "Fg0IYQ80G9lM",
        "outputId": "a5f73011-fe57-418e-ec23-c691e999640b"
      },
      "source": [
        "txts = L(o.open().read() for o in files[:2000])\n",
        "txts"
      ],
      "execution_count": null,
      "outputs": [
        {
          "output_type": "execute_result",
          "data": {
            "text/plain": [
              "(#2000) ['The comparisons between the 1995 version and this are inevitable. Sadly, this version falls far short.<br /><br />The casting is uninspired and the acting wooden. One gets the impression the director did not read the book,so did not understand the characters.<br /><br />Sir Walter Elliot is portrayed as pompous but his inadvertent silliness which Redgrave brilliantly captured (in the 1995 version) is nowhere to be found.<br /><br />The Musgrove sisters are so unlikable, one doesn\\'t understand why Wentworth or anybody else would give them a second glance.<br /><br />The relationship between Wentworth and Anne is devoid of feeling.<br /><br />In the 1995 version, Hinds and Root managed to convey the depth of emotion the two of them felt towards each other with their body language and facial expressions. In this one, it is hard to understand Anne spent years mired in regret unless one has read the book.<br /><br />This production does not capture the emotional complexity of the main characters\\' relationship.<br /><br />In the scene where Wentworth walks in on Anne and Mary having breakfast, it seems to the viewer, as Mary thinks, they are only slight acquaintances.<br /><br />In the 1995 version, when Wentworth walks in (the first time he sees her in years), the tension is thick. Resentment is coming off Wentworth in waves, while Anne is almost overcome.<br /><br />In this version, while Wentworth is courting Lousia, it is as if he is truly invested, the undercurrents are missing. In the 1995 version, the viewer sees Wentworth\\'s anger at Anne. He is flaunting his courtship in front of Anne, as if to say, \"see what you gave up, I don\\'t need or want you anymore\".<br /><br />Yet he still cares if she suffers, as the scene where he asks his sister and the Admiral to take Anne back to house illustrates. In the 1995 version the viewer feels Anne\\'s shock that he would care if she was tired, we also feel Wentworth\\'s discomfort that he does still care. In this version he just walks on with Lousia as if nothing happened.<br /><br />The pivotal scene where Anne is conversing with Harville about who loves longest, man or woman, is totally botched. The actors are just reciting lines with no emotional investment.<br /><br />When Anne reads the letter from Wentworth, it is as if she is reading a grocery list.<br /><br />Contrast this to the 1995 version, where the viewer feels Anne\\'s joy at her second chance. We are there with her as she reads the letter. The director had both actors reading the letter and you hear both their voices. Wentworth is full of frustration, passion and hope, while Anne\\'s is at first incredulous then evolves in to joy.<br /><br />This production has more scenes after the revelation, probably because it was needed to explain to the viewer what just happened. The 1995 version didn\\'t need to explain, we knew and rejoiced for the characters The only thing this production has in it\\'s favor is it kept the Mrs. Smith sub plot intact, while the 1995 version did not.<br /><br />The 1995 version however did include part of Austen\\'s original ending. The scene where Wentworth is commissioned by the Admiral to find out if Anne and Mr. Elliot will want to move back to her house (which he & Mrs. Croft are renting) after they marry. <br /><br />This is a production to avoid at all costs.','What can be said about a movie that makes two hours seem like three weeks? The hero starts out in ninjaville, Japan, goes through an identity crisis (saving a shinobi), makes a voyage to America (saving a slave named Sam) engages in a little wild west action (saving a French/japanese native american named Julie), goes hunting pirate\\'s gold, and then heads back to Japan to fight a war. The film obviously has no clue where it\\'s going at any point in time; I think the director modeled each scene after the last movie he\\'d watched. If you\\'re going to watch this film, I suggest renting the subtitled so you and your peers can openly discuss how dumb the movie is without speaking over the movie, potentially missing another dumb plot twist.<br /><br />Movies the director was watching during the making of this movie - An American Tail, Fievel Goes West, Star Wars, Indiana Jones, The Goonies, Teenage Mutant Ninja Turtles, Kung Fu, Vampire Hunter D, The Ten Commandments.<br /><br />Notes of Interests - Most fear inspiring line of all time. About 90 minutes (or 19 days) into the movie, the lead character has just bested an American villain, and just as one heads to the vcr to end the pain the hero proclaims \"Let\\'s go back to Japan\", and the agony continues for another week.','\"You know - I\\'ve been in some towns where the girls weren\\'t all that pretty. In fact I\\'ve been in some towns where they\\'re downright ugly. But it\\'s the first time I\\'ve been in a town where there are no girls at all\" I am sure the fans of great classic remember this phrase that belongs to Vin... one of the TRULY magnificent seven (from the first movie)...<br /><br />Now I\\'d want to re-phrase him here. You know - I\\'ve seen some movies where the plot isn\\'t all that good. In fact I\\'ve seen some movies where the plot is terrible, but that\\'s first time in my life that I saw the film where there isn\\'t any plot at all.<br /><br />OK. Maybe my above statement is little bit over the top, but honestly... how one can call the plot a crap that is going on in this movie. The bad guy (oh, don\\'t ask me to give you his name, because I don\\'t remember and his not even somehow close to Calvera who\\'s name and character is unforgettable...) is trying to build the church in the name of his late sons, that were killed in some battle, and this bad guy is kidnapping poor villagers to force them to build the church...<br /><br />first of all how big must be church to have to force hundreds of villagers to build it... is it some Egyptian pyramid or something? but OK, let\\'s stop here about the plot and absolutely forgettable character of a bad guy and let\\'s say few words about The Seven itself...<br /><br />Yul brynner\\'s good old Chris, always calm, always silent, talking less but talking wise is gone (unfortunately). Oh no... he\\'s as calm as he was... but now, he\\'s calmness are so fake that you just don\\'t buy it. (imagine, he meets a good old friend Chico, who he must rescue after so many years and there is just a few \"hi, Hello\" and not even handshake (as far as I remember))... honestly, it looks more like meeting of two strangers in some internet chat, rather then meeting of Chris and Chico. That makes \"new Chris\" more look like robocop or terminator rather then our beloved wise quickgun...<br /><br />I won\\'t stop here talking about other characters. There simply aren\\'t ANY... (imagine if strong actor like Yul Brynner is so much fake forgettable, then what will be other characters look like)...<br /><br />There still are some attempts to give us a background story for each one of them... for example one is women favorite guy, second is a man with dark past who\\'s wife was raped and killed by indians and he since then is killing everyone and everything that is moving... but non of these characters are making any sense or non of them can take your heart.<br /><br />I remember I was a little child and when O\\'reilly (Charles Bronson\\'s character) died in the first movie I was crying. Here, I just didn\\'t care about each one of them... even if whole of them with all the crew of the film would die, it seems I wouldn\\'t care more...<br /><br />So, please, go and SEE THIS MOVIE... I recommend it, because you won\\'t have the other chance to see something worse then it.',\"The direction by Wong is perhaps the all time worst in film history I've ever seen. This film makes my all time worst film of 2000, Dungeons and Dragons by Courtney Soloman looked like an Oscar winner. The flaws in this movie is beyond explanation. The biggest one is the lack of depth. Every scene does not develop fully as if the editing room doesn't know how to do their job correctly. Its a shame that with such an all-star cast of talents and a famous popular traditional story can be destroyed by this lack of vision.<br /><br />I am so disgusted and hope that some great director like John Woo or Ang Lee, decide to remake this film and do some justice. I'm not even sure if I can rate 0/10??\",\"I know most of the other reviews say that this movie was great, but I have to disagree.<br /><br />Sure, it's a good book! It was actually one of my favorites when I was verrry little. But it's just not meant for theaters. Maybe for a little half-hour short, but I don't see how they can turn a short kiddie book into a whole feature film.<br /><br />It is a cute movie, but I would only recommend it for really little kids. Older kids will have no interest it. Adults may have a little more interest if they watch it with their young ones. But anyone ages 7-Adult will have a snore-fest.<br /><br />Sorry if you disagree with me, but this is my opinion. :)\",\"Being one of the founding fathers of my regions monkey movie club(this also includes apes/chimps and orangutans) I am reviewing this film from a monkey movie standpoint. Afterall it is a whole summer of monkeys, 100+ days for monkeys to do what they do best, cause mischief, shenanigans, hyjinx, solve human problems and teach us about ourselves.<br /><br />The story is simple enough. In short poor boy needs money for stuff he wants. Luckily there's a few monkeys(chimpanzees) that have a bounty on their head that would get Boba Fett or Dog's(Duane Chapman) blood flowing. As the boy tries to catch the monkeys he learns about himself, his family, his grandpa, the local weirdo, flirts with a girl twice his age and learns the beast way to deal with bullies is to have someone point a shotgun at them.<br /><br />There within lies the problem. So much focus is put on the boy that the chimps just don't get the screen time they deserve. The chimps are not as talented as the chimp(s) that play Jack from the M_P trilogy or the legendary orangutans that play Dunstin or Clyde(1 or 2). So don't watch this movie expecting to find the next big thing in the Chimp genre. The chimps hit some sweet flips which is what the film needed more of. There is an epic scene of the chimps breaking into the poor families house and destroys all the things they worked so hard for. Serious monkey movie enthusiasts will want to rent the film for this scene alone.<br /><br />So in closing this movie is not for the serious monkey movie enthusiast. I wouldn't recommend this movie to families as it encourages a childs rebellion against their parents. I can only recommend this film as a rental for hardcore monkey loving adults and well supervised children.\",'Most critics have written devastating about that Michalkov-movie, but I wanted it to see myself. And, unfortunately, they are right. The film had the greatest budget ever in Russian movie history, two international stars, colorful mass scenes, apparently shot quite close to the Kremlin - but in the end it appears to be a nice, sweet nothing. You would not believe, that this director earlier has made masterpieces like Urga and Burnt By the Sun. The characters in the storyline are not convincing, neither Jane nor McCracken nor Andrej. Only general Radlov worth being mentioned. It remains on the surface all the time. Politically it is to me a glorification of the army, and especially the Russian one with values like honor and duty. And, having lived at least half a year in Siberia: My Russia is much more than the one that is depicted in Michalkovs movie. Regarding \"Burnt By The Sun\" by the same director as a no-question-10-points-movie, one of the best I ever seen in my entire life, I was totally disappointed by that one. Sorry. Nevertheless, Michalkovs unique talent in delivering amazingly beautiful pictures is still there.',\"You can only describe this with one word and that would be WOW!!! Wow, I really did not think piece of crap like this could ever be released. If you watch a movie titled ninja then you expect to see at least some cool martial artists, right? However, none of these guys know any martial arts whatsoever and it seems like they went to china and picked the first people they saw on the street and trained them for a day in martial arts, that's the level of their martial arts skills! The actors are way overacting, the special effects are ridiculous and there is not any plot that makes any sense. This is the worst martial arts movie I've ever seen and I have seen plenty!\",\"This movie has got to go down in the history of bad movies as the worst one I've ever seen. It wasn't even a bad b movie...I would have rated it at as a z. The special effects were ridiculous...err if you could even call them special effects. I think the reviewer before hit the nail on the head...it was the box that sold the movie, while the cover art was great and the synopsis intriguing (which both is why I rented it) it was a waste of not only time but money as well. I didn't last long. I took it back to the store and switched it out for another movie I believe my local video store took it off the shelf because they had SOOOO many complaints about this horrible movie. My 6 year old could have done a better job filming it/writing the script!\",'UP AT THE VILLA fooled me into thinking I`d be watching something similar to GOSFORD PARK . The film opens at a ballroom in 1930s Italy which is populated by vulgar Americans and uptight upper class Brits , but in truth UP AT THE VILLA plays out far more like a Merchant -Ivory production which is very bad news because it`s a very slow , and I do mean very slow romantic drama with some of the romance being very unlikely . If you like slow romantic dramas you might like this movie . I didn`t'...]"
            ]
          },
          "metadata": {},
          "execution_count": 182
        }
      ]
    },
    {
      "cell_type": "code",
      "metadata": {
        "id": "ls6ml_OpHF-K"
      },
      "source": [
        "def subword(sz):\n",
        "    sp = SubwordTokenizer(vocab_sz = sz)\n",
        "    sp.setup(txts)\n",
        "    return ' '.join(first(sp([txt]))[:40])"
      ],
      "execution_count": null,
      "outputs": []
    },
    {
      "cell_type": "code",
      "metadata": {
        "id": "wjDYqW6DHF6Q"
      },
      "source": [
        "# subword(1000)"
      ],
      "execution_count": null,
      "outputs": []
    },
    {
      "cell_type": "code",
      "metadata": {
        "id": "w4-hmp_PHF2-"
      },
      "source": [
        "# subword(200)"
      ],
      "execution_count": null,
      "outputs": []
    },
    {
      "cell_type": "code",
      "metadata": {
        "id": "6Ha7jxufHFzo"
      },
      "source": [
        "# subword(10000)"
      ],
      "execution_count": null,
      "outputs": []
    },
    {
      "cell_type": "code",
      "metadata": {
        "colab": {
          "base_uri": "https://localhost:8080/"
        },
        "id": "xJIoXopBHFwV",
        "outputId": "52aa13e4-2c3c-402c-8430-81c876cfbf0a"
      },
      "source": [
        "print(coll_repr(tkn(txt),31))"
      ],
      "execution_count": null,
      "outputs": [
        {
          "output_type": "stream",
          "text": [
            "(#729) ['xxbos','xxmaj','the','comparisons','between','the','1995','version','and','this','are','inevitable','.','xxmaj','sadly',',','this','version','falls','far','short','.','\\n\\n','xxmaj','the','casting','is','uninspired','and','the','acting'...]\n"
          ],
          "name": "stdout"
        }
      ]
    },
    {
      "cell_type": "code",
      "metadata": {
        "colab": {
          "base_uri": "https://localhost:8080/"
        },
        "id": "by1wUKJAHFtn",
        "outputId": "680e8850-810d-4c26-b2d6-bb15760a0fa0"
      },
      "source": [
        "toks = tkn(txt)\n",
        "toks"
      ],
      "execution_count": null,
      "outputs": [
        {
          "output_type": "execute_result",
          "data": {
            "text/plain": [
              "(#729) ['xxbos','xxmaj','the','comparisons','between','the','1995','version','and','this'...]"
            ]
          },
          "metadata": {},
          "execution_count": 188
        }
      ]
    },
    {
      "cell_type": "code",
      "metadata": {
        "colab": {
          "base_uri": "https://localhost:8080/"
        },
        "id": "xarlvv41HFqg",
        "outputId": "c5ffb928-924b-425e-9783-3eba8ea6f8c7"
      },
      "source": [
        "toks200 = txts[:200].map(tkn)\n",
        "toks200[0]"
      ],
      "execution_count": null,
      "outputs": [
        {
          "output_type": "execute_result",
          "data": {
            "text/plain": [
              "(#729) ['xxbos','xxmaj','the','comparisons','between','the','1995','version','and','this'...]"
            ]
          },
          "metadata": {},
          "execution_count": 189
        }
      ]
    },
    {
      "cell_type": "code",
      "metadata": {
        "colab": {
          "base_uri": "https://localhost:8080/",
          "height": 52
        },
        "id": "a4YZpJpxHFnH",
        "outputId": "02db376d-814e-4467-88fa-026f0dffeab9"
      },
      "source": [
        "num = Numericalize()\n",
        "num.setup(toks200)\n",
        "coll_repr(num.vocab, 20)"
      ],
      "execution_count": null,
      "outputs": [
        {
          "output_type": "execute_result",
          "data": {
            "application/vnd.google.colaboratory.intrinsic+json": {
              "type": "string"
            },
            "text/plain": [
              "'(#2048) [\\'xxunk\\',\\'xxpad\\',\\'xxbos\\',\\'xxeos\\',\\'xxfld\\',\\'xxrep\\',\\'xxwrep\\',\\'xxup\\',\\'xxmaj\\',\\'the\\',\\',\\',\\'.\\',\\'a\\',\\'and\\',\\'to\\',\\'of\\',\\'is\\',\\'in\\',\\'it\\',\\'\"\\'...]'"
            ]
          },
          "metadata": {},
          "execution_count": 190
        }
      ]
    },
    {
      "cell_type": "code",
      "metadata": {
        "colab": {
          "base_uri": "https://localhost:8080/"
        },
        "id": "hjcsTjTKHFjj",
        "outputId": "35cfcf28-90a2-4f07-966f-8466725550bb"
      },
      "source": [
        "nums = num(toks)[:20]; nums"
      ],
      "execution_count": null,
      "outputs": [
        {
          "output_type": "execute_result",
          "data": {
            "text/plain": [
              "TensorText([   2,    8,    9, 1510,  204,    9,  550,  268,   13,   21,   36, 1511,   11,    8,  551,   10,   21,  268,    0,  189])"
            ]
          },
          "metadata": {},
          "execution_count": 191
        }
      ]
    },
    {
      "cell_type": "code",
      "metadata": {
        "colab": {
          "base_uri": "https://localhost:8080/",
          "height": 52
        },
        "id": "lDcx1_3hHFgr",
        "outputId": "7e78c58b-4891-42e4-e90f-1af017a1b61b"
      },
      "source": [
        "' '.join(num.vocab[o] for o in nums)"
      ],
      "execution_count": null,
      "outputs": [
        {
          "output_type": "execute_result",
          "data": {
            "application/vnd.google.colaboratory.intrinsic+json": {
              "type": "string"
            },
            "text/plain": [
              "'xxbos xxmaj the comparisons between the 1995 version and this are inevitable . xxmaj sadly , this version xxunk far'"
            ]
          },
          "metadata": {},
          "execution_count": 192
        }
      ]
    },
    {
      "cell_type": "code",
      "metadata": {
        "colab": {
          "base_uri": "https://localhost:8080/",
          "height": 225
        },
        "id": "eAbvbIW8HFdp",
        "outputId": "3c07f2c4-ad5b-4c60-cbd6-d3fb81cdb10a"
      },
      "source": [
        "stream =\"In this chapter, we will go back over the example of classifying movie reviews we studied in chapter 1 and dig deeper under the surface. First we will look at the processing steps necessary to convert text into numbers and how to customize it. By doing this, we'll have another example of the PreProcessor used in the data block API.\\nThen we will study how we build a language model and train it for a while.\"\n",
        "tokens = tkn(stream)\n",
        "bs, seq_len = 6, 15\n",
        "d_tokens = np.array([tokens[i*seq_len:(i+1)* seq_len] for i in range(bs)])\n",
        "d_tokens\n",
        "df = pd.DataFrame(d_tokens)\n",
        "display(HTML(df.to_html(index = False, header = None)))"
      ],
      "execution_count": null,
      "outputs": [
        {
          "output_type": "display_data",
          "data": {
            "text/html": [
              "<table border=\"1\" class=\"dataframe\">\n",
              "  <tbody>\n",
              "    <tr>\n",
              "      <td>xxbos</td>\n",
              "      <td>xxmaj</td>\n",
              "      <td>in</td>\n",
              "      <td>this</td>\n",
              "      <td>chapter</td>\n",
              "      <td>,</td>\n",
              "      <td>we</td>\n",
              "      <td>will</td>\n",
              "      <td>go</td>\n",
              "      <td>back</td>\n",
              "      <td>over</td>\n",
              "      <td>the</td>\n",
              "      <td>example</td>\n",
              "      <td>of</td>\n",
              "      <td>classifying</td>\n",
              "    </tr>\n",
              "    <tr>\n",
              "      <td>movie</td>\n",
              "      <td>reviews</td>\n",
              "      <td>we</td>\n",
              "      <td>studied</td>\n",
              "      <td>in</td>\n",
              "      <td>chapter</td>\n",
              "      <td>1</td>\n",
              "      <td>and</td>\n",
              "      <td>dig</td>\n",
              "      <td>deeper</td>\n",
              "      <td>under</td>\n",
              "      <td>the</td>\n",
              "      <td>surface</td>\n",
              "      <td>.</td>\n",
              "      <td>xxmaj</td>\n",
              "    </tr>\n",
              "    <tr>\n",
              "      <td>first</td>\n",
              "      <td>we</td>\n",
              "      <td>will</td>\n",
              "      <td>look</td>\n",
              "      <td>at</td>\n",
              "      <td>the</td>\n",
              "      <td>processing</td>\n",
              "      <td>steps</td>\n",
              "      <td>necessary</td>\n",
              "      <td>to</td>\n",
              "      <td>convert</td>\n",
              "      <td>text</td>\n",
              "      <td>into</td>\n",
              "      <td>numbers</td>\n",
              "      <td>and</td>\n",
              "    </tr>\n",
              "    <tr>\n",
              "      <td>how</td>\n",
              "      <td>to</td>\n",
              "      <td>customize</td>\n",
              "      <td>it</td>\n",
              "      <td>.</td>\n",
              "      <td>xxmaj</td>\n",
              "      <td>by</td>\n",
              "      <td>doing</td>\n",
              "      <td>this</td>\n",
              "      <td>,</td>\n",
              "      <td>we</td>\n",
              "      <td>'ll</td>\n",
              "      <td>have</td>\n",
              "      <td>another</td>\n",
              "      <td>example</td>\n",
              "    </tr>\n",
              "    <tr>\n",
              "      <td>of</td>\n",
              "      <td>the</td>\n",
              "      <td>preprocessor</td>\n",
              "      <td>used</td>\n",
              "      <td>in</td>\n",
              "      <td>the</td>\n",
              "      <td>data</td>\n",
              "      <td>block</td>\n",
              "      <td>xxup</td>\n",
              "      <td>api</td>\n",
              "      <td>.</td>\n",
              "      <td>\\n</td>\n",
              "      <td>xxmaj</td>\n",
              "      <td>then</td>\n",
              "      <td>we</td>\n",
              "    </tr>\n",
              "    <tr>\n",
              "      <td>will</td>\n",
              "      <td>study</td>\n",
              "      <td>how</td>\n",
              "      <td>we</td>\n",
              "      <td>build</td>\n",
              "      <td>a</td>\n",
              "      <td>language</td>\n",
              "      <td>model</td>\n",
              "      <td>and</td>\n",
              "      <td>train</td>\n",
              "      <td>it</td>\n",
              "      <td>for</td>\n",
              "      <td>a</td>\n",
              "      <td>while</td>\n",
              "      <td>.</td>\n",
              "    </tr>\n",
              "  </tbody>\n",
              "</table>"
            ],
            "text/plain": [
              "<IPython.core.display.HTML object>"
            ]
          },
          "metadata": {}
        }
      ]
    },
    {
      "cell_type": "code",
      "metadata": {
        "colab": {
          "base_uri": "https://localhost:8080/",
          "height": 205
        },
        "id": "-fXlq2ULHFbG",
        "outputId": "467e4e5c-1eb8-4734-8087-6442f4727477"
      },
      "source": [
        "bs , seq_len = 6, 5\n",
        "d_tokens = np.array([tokens[i*15:i*15 + seq_len] for i in range(bs)])\n",
        "df= pd.DataFrame(d_tokens)\n",
        "display(HTML(df.to_html(index = False, header=None)))"
      ],
      "execution_count": null,
      "outputs": [
        {
          "output_type": "display_data",
          "data": {
            "text/html": [
              "<table border=\"1\" class=\"dataframe\">\n",
              "  <tbody>\n",
              "    <tr>\n",
              "      <td>xxbos</td>\n",
              "      <td>xxmaj</td>\n",
              "      <td>in</td>\n",
              "      <td>this</td>\n",
              "      <td>chapter</td>\n",
              "    </tr>\n",
              "    <tr>\n",
              "      <td>movie</td>\n",
              "      <td>reviews</td>\n",
              "      <td>we</td>\n",
              "      <td>studied</td>\n",
              "      <td>in</td>\n",
              "    </tr>\n",
              "    <tr>\n",
              "      <td>first</td>\n",
              "      <td>we</td>\n",
              "      <td>will</td>\n",
              "      <td>look</td>\n",
              "      <td>at</td>\n",
              "    </tr>\n",
              "    <tr>\n",
              "      <td>how</td>\n",
              "      <td>to</td>\n",
              "      <td>customize</td>\n",
              "      <td>it</td>\n",
              "      <td>.</td>\n",
              "    </tr>\n",
              "    <tr>\n",
              "      <td>of</td>\n",
              "      <td>the</td>\n",
              "      <td>preprocessor</td>\n",
              "      <td>used</td>\n",
              "      <td>in</td>\n",
              "    </tr>\n",
              "    <tr>\n",
              "      <td>will</td>\n",
              "      <td>study</td>\n",
              "      <td>how</td>\n",
              "      <td>we</td>\n",
              "      <td>build</td>\n",
              "    </tr>\n",
              "  </tbody>\n",
              "</table>"
            ],
            "text/plain": [
              "<IPython.core.display.HTML object>"
            ]
          },
          "metadata": {}
        }
      ]
    },
    {
      "cell_type": "code",
      "metadata": {
        "colab": {
          "base_uri": "https://localhost:8080/",
          "height": 205
        },
        "id": "pYn66FGGHFWu",
        "outputId": "c9e9b438-3ff7-426b-f33a-7fa2bea5bcb4"
      },
      "source": [
        "bs , seq_len = 6, 5\n",
        "d_tokens = np.array([tokens[i*15+ seq_len:i*15 + 2*seq_len] for i in range(bs)])\n",
        "df= pd.DataFrame(d_tokens)\n",
        "display(HTML(df.to_html(index = False, header=None)))"
      ],
      "execution_count": null,
      "outputs": [
        {
          "output_type": "display_data",
          "data": {
            "text/html": [
              "<table border=\"1\" class=\"dataframe\">\n",
              "  <tbody>\n",
              "    <tr>\n",
              "      <td>,</td>\n",
              "      <td>we</td>\n",
              "      <td>will</td>\n",
              "      <td>go</td>\n",
              "      <td>back</td>\n",
              "    </tr>\n",
              "    <tr>\n",
              "      <td>chapter</td>\n",
              "      <td>1</td>\n",
              "      <td>and</td>\n",
              "      <td>dig</td>\n",
              "      <td>deeper</td>\n",
              "    </tr>\n",
              "    <tr>\n",
              "      <td>the</td>\n",
              "      <td>processing</td>\n",
              "      <td>steps</td>\n",
              "      <td>necessary</td>\n",
              "      <td>to</td>\n",
              "    </tr>\n",
              "    <tr>\n",
              "      <td>xxmaj</td>\n",
              "      <td>by</td>\n",
              "      <td>doing</td>\n",
              "      <td>this</td>\n",
              "      <td>,</td>\n",
              "    </tr>\n",
              "    <tr>\n",
              "      <td>the</td>\n",
              "      <td>data</td>\n",
              "      <td>block</td>\n",
              "      <td>xxup</td>\n",
              "      <td>api</td>\n",
              "    </tr>\n",
              "    <tr>\n",
              "      <td>a</td>\n",
              "      <td>language</td>\n",
              "      <td>model</td>\n",
              "      <td>and</td>\n",
              "      <td>train</td>\n",
              "    </tr>\n",
              "  </tbody>\n",
              "</table>"
            ],
            "text/plain": [
              "<IPython.core.display.HTML object>"
            ]
          },
          "metadata": {}
        }
      ]
    },
    {
      "cell_type": "code",
      "metadata": {
        "id": "UR4vq6rfVOag",
        "colab": {
          "base_uri": "https://localhost:8080/",
          "height": 205
        },
        "outputId": "b8d49d46-2a58-4d7b-aa27-10d72ebcc8bb"
      },
      "source": [
        "bs, seq_len = 6,5\n",
        "d_tokens = np.array([tokens[i*15 + 10 : i * 15 + 15] for i in range(bs)])\n",
        "df = pd.DataFrame(d_tokens)\n",
        "display(HTML(df.to_html(index=False, header = None)))"
      ],
      "execution_count": null,
      "outputs": [
        {
          "output_type": "display_data",
          "data": {
            "text/html": [
              "<table border=\"1\" class=\"dataframe\">\n",
              "  <tbody>\n",
              "    <tr>\n",
              "      <td>over</td>\n",
              "      <td>the</td>\n",
              "      <td>example</td>\n",
              "      <td>of</td>\n",
              "      <td>classifying</td>\n",
              "    </tr>\n",
              "    <tr>\n",
              "      <td>under</td>\n",
              "      <td>the</td>\n",
              "      <td>surface</td>\n",
              "      <td>.</td>\n",
              "      <td>xxmaj</td>\n",
              "    </tr>\n",
              "    <tr>\n",
              "      <td>convert</td>\n",
              "      <td>text</td>\n",
              "      <td>into</td>\n",
              "      <td>numbers</td>\n",
              "      <td>and</td>\n",
              "    </tr>\n",
              "    <tr>\n",
              "      <td>we</td>\n",
              "      <td>'ll</td>\n",
              "      <td>have</td>\n",
              "      <td>another</td>\n",
              "      <td>example</td>\n",
              "    </tr>\n",
              "    <tr>\n",
              "      <td>.</td>\n",
              "      <td>\\n</td>\n",
              "      <td>xxmaj</td>\n",
              "      <td>then</td>\n",
              "      <td>we</td>\n",
              "    </tr>\n",
              "    <tr>\n",
              "      <td>it</td>\n",
              "      <td>for</td>\n",
              "      <td>a</td>\n",
              "      <td>while</td>\n",
              "      <td>.</td>\n",
              "    </tr>\n",
              "  </tbody>\n",
              "</table>"
            ],
            "text/plain": [
              "<IPython.core.display.HTML object>"
            ]
          },
          "metadata": {}
        }
      ]
    },
    {
      "cell_type": "code",
      "metadata": {
        "id": "CKmelvzZSVUo"
      },
      "source": [
        "nums200 = toks200.map(num) "
      ],
      "execution_count": null,
      "outputs": []
    },
    {
      "cell_type": "code",
      "metadata": {
        "id": "d9O7ee0FSqBY"
      },
      "source": [
        "# nums200"
      ],
      "execution_count": null,
      "outputs": []
    },
    {
      "cell_type": "code",
      "metadata": {
        "id": "oyHXtejSSrdf"
      },
      "source": [
        "dl = LMDataLoader(nums200) #データ整形（1つ前のデータから1つ単語をシフトさせてデータを作る）"
      ],
      "execution_count": null,
      "outputs": []
    },
    {
      "cell_type": "code",
      "metadata": {
        "colab": {
          "base_uri": "https://localhost:8080/"
        },
        "id": "lTpd32GpS_qx",
        "outputId": "69bc4324-3c69-4fa1-e672-000e7dcd1c56"
      },
      "source": [
        "x, y = first(dl)# 最初のbatchを取得\n",
        "x.shape, y.shape #(batchサイズ, トークン数) "
      ],
      "execution_count": null,
      "outputs": [
        {
          "output_type": "execute_result",
          "data": {
            "text/plain": [
              "(torch.Size([64, 72]), torch.Size([64, 72]))"
            ]
          },
          "metadata": {},
          "execution_count": 200
        }
      ]
    },
    {
      "cell_type": "markdown",
      "metadata": {
        "id": "8m6K4CrOUj45"
      },
      "source": [
        "###*   例:x.shape(1, 7), y.shape(1, 7)\n",
        "\n",
        "*   x(input)「 昨日　の　夜　何　食べ　た　？」(1,7)\n",
        "*   ↓\n",
        "*   y(output)「の　夜　何　食べ　た　？　**カレー**」(1,7)　\n",
        "\n",
        "\n",
        "\n",
        "\n"
      ]
    },
    {
      "cell_type": "code",
      "metadata": {
        "id": "ur3RF9WaTGNw"
      },
      "source": [
        "get_imdb = partial(get_text_files, folders = ['train', ' test', 'unsup'])\n",
        "\n",
        "dls_lm = DataBlock(\n",
        "    #ディレクトリからデータを読み込む、is_lm=TrueでLMDataLoadeと同じことをやっている\n",
        "    blocks = TextBlock.from_folder(path, is_lm=True),\n",
        "    #pathからテキストを読み込む\n",
        "    get_items = get_imdb,splitter=RandomSplitter(0.1)\n",
        "    #90%で学習、10%で評価\n",
        "    ).dataloaders(path, path=path,bs=32, seq_len=80)\n"
      ],
      "execution_count": null,
      "outputs": []
    },
    {
      "cell_type": "code",
      "metadata": {
        "colab": {
          "base_uri": "https://localhost:8080/",
          "height": 355
        },
        "id": "oJar_hUGTZR8",
        "outputId": "4934b69c-93cc-4ea3-8a88-12b539278637"
      },
      "source": [
        "dls_lm.show_batch(max_n = 2)"
      ],
      "execution_count": null,
      "outputs": [
        {
          "output_type": "display_data",
          "data": {
            "text/html": [
              "<table border=\"1\" class=\"dataframe\">\n",
              "  <thead>\n",
              "    <tr style=\"text-align: right;\">\n",
              "      <th></th>\n",
              "      <th>text</th>\n",
              "      <th>text_</th>\n",
              "    </tr>\n",
              "  </thead>\n",
              "  <tbody>\n",
              "    <tr>\n",
              "      <th>0</th>\n",
              "      <td>xxbos xxmaj man … i thought xxmaj i 'd seen some bad movies before , but this is seriously the worst ever . xxmaj its so bad , that if you are even the least bit drunk or high you 'll find this movie hilarious . xxmaj there are 6 - 8 totally ugly chicks who all just keep getting naked . xxmaj the production value is zero , think high school project done in a weekend . xxmaj it</td>\n",
              "      <td>xxmaj man … i thought xxmaj i 'd seen some bad movies before , but this is seriously the worst ever . xxmaj its so bad , that if you are even the least bit drunk or high you 'll find this movie hilarious . xxmaj there are 6 - 8 totally ugly chicks who all just keep getting naked . xxmaj the production value is zero , think high school project done in a weekend . xxmaj it was</td>\n",
              "    </tr>\n",
              "    <tr>\n",
              "      <th>1</th>\n",
              "      <td>. xxmaj respect ! xxbos xxmaj three likable and spirited actresses are stuck with weak material here . xxmaj the film sags in the first hour because there is too much exposition ( and some attempts at social - drama undertones ) , and it does n't much improve when the actual heist begins . xxmaj there is not much fun to be had here . xxmaj do n't bother watching this . ( * * ) xxbos i think</td>\n",
              "      <td>xxmaj respect ! xxbos xxmaj three likable and spirited actresses are stuck with weak material here . xxmaj the film sags in the first hour because there is too much exposition ( and some attempts at social - drama undertones ) , and it does n't much improve when the actual heist begins . xxmaj there is not much fun to be had here . xxmaj do n't bother watching this . ( * * ) xxbos i think it</td>\n",
              "    </tr>\n",
              "  </tbody>\n",
              "</table>"
            ],
            "text/plain": [
              "<IPython.core.display.HTML object>"
            ]
          },
          "metadata": {}
        }
      ]
    },
    {
      "cell_type": "code",
      "metadata": {
        "id": "1Ua19jMOTYx3"
      },
      "source": [
        "learn = language_model_learner(\n",
        "    dls_lm, AWD_LSTM, drop_mult=0.3, \n",
        "    metrics=[accuracy, Perplexity()]).to_fp16()"
      ],
      "execution_count": null,
      "outputs": []
    },
    {
      "cell_type": "code",
      "metadata": {
        "id": "-GRmwM6ITYvb"
      },
      "source": [
        "# learn.fit_one_cycle(1, 2e-2)"
      ],
      "execution_count": null,
      "outputs": []
    },
    {
      "cell_type": "code",
      "metadata": {
        "colab": {
          "base_uri": "https://localhost:8080/"
        },
        "id": "Npz-AK-2TYsF",
        "outputId": "3512da05-1778-4e1a-da3e-a7da957cc128"
      },
      "source": [
        "learn.save('1epoch')"
      ],
      "execution_count": null,
      "outputs": [
        {
          "output_type": "execute_result",
          "data": {
            "text/plain": [
              "Path('/root/.fastai/data/imdb/models/1epoch.pth')"
            ]
          },
          "metadata": {},
          "execution_count": 205
        }
      ]
    },
    {
      "cell_type": "code",
      "metadata": {
        "id": "M7fJd1_HTYpC"
      },
      "source": [
        "learn = learn.load('1epoch')"
      ],
      "execution_count": null,
      "outputs": []
    },
    {
      "cell_type": "code",
      "metadata": {
        "id": "dlP2g56STYmb"
      },
      "source": [
        "learn.unfreeze()\n",
        "# learn.fit_one_cycle(1,2e-3)"
      ],
      "execution_count": null,
      "outputs": []
    },
    {
      "cell_type": "code",
      "metadata": {
        "id": "zHmz1WWETYeW"
      },
      "source": [
        "learn.save_encoder('finetuned')#エンコーダのみ保存"
      ],
      "execution_count": null,
      "outputs": []
    },
    {
      "cell_type": "code",
      "metadata": {
        "colab": {
          "base_uri": "https://localhost:8080/",
          "height": 17
        },
        "id": "l4on0dpFTYbl",
        "outputId": "338ee52d-4d2b-4a0c-9e8b-40c7bebfa7b6"
      },
      "source": [
        "TEXT = 'I liked this movie because'\n",
        "N_WORDS = 40\n",
        "N_SENTENCES = 2\n",
        "preds = [learn.predict(TEXT, N_WORDS,temperature=0.75)\n",
        "                for _ in range(N_SENTENCES)]\n"
      ],
      "execution_count": null,
      "outputs": [
        {
          "output_type": "display_data",
          "data": {
            "text/html": [
              ""
            ],
            "text/plain": [
              "<IPython.core.display.HTML object>"
            ]
          },
          "metadata": {}
        },
        {
          "output_type": "display_data",
          "data": {
            "text/html": [
              ""
            ],
            "text/plain": [
              "<IPython.core.display.HTML object>"
            ]
          },
          "metadata": {}
        }
      ]
    },
    {
      "cell_type": "code",
      "metadata": {
        "colab": {
          "base_uri": "https://localhost:8080/"
        },
        "id": "Qm4Ct9brTYYn",
        "outputId": "9339ae94-6fd2-4b22-86e0-7d2de4a4e340"
      },
      "source": [
        "print('/n'.join(preds))"
      ],
      "execution_count": null,
      "outputs": [
        {
          "output_type": "stream",
          "text": [
            "i liked this movie because of its \" very strong , wonderfully realistic scenes . \" In an interview , Martin stated that the film was \" about getting better \" and that it was intended for the United States/ni liked this movie because of its geographical location , but it was also a fun extension of the British Indian Army . The film , according to Sam Simon , it was \" from the Cinema\n"
          ],
          "name": "stdout"
        }
      ]
    },
    {
      "cell_type": "code",
      "metadata": {
        "id": "I1QtL6DsurHZ"
      },
      "source": [
        "dls_clas = DataBlock(\n",
        "    #データはテキスト(TextBlock)、正解はカテゴリ(CategoryBlock)、vocabは前回と同じ(dls_lm)\n",
        "    blocks=(TextBlock.from_folder(path, vocab=dls_lm.vocab),CategoryBlock),\n",
        "    #1つ上の階層からポジorネガを持って来る(/neg/)\n",
        "    get_y = parent_label,\n",
        "    #folders=['train','test']からデータを読み込む\n",
        "    get_items=partial(get_text_files, folders=['train', 'test']),\n",
        "    #'test'デレクとり以下を評価用\n",
        "    splitter = GrandparentSplitter(valid_name='test')\n",
        "    #batchサイズ32、単語の処理数72\n",
        "    ).dataloaders(path, path=path, bs=32, seq_len=72)"
      ],
      "execution_count": null,
      "outputs": []
    },
    {
      "cell_type": "code",
      "metadata": {
        "colab": {
          "base_uri": "https://localhost:8080/",
          "height": 372
        },
        "id": "84UAzpmhurDB",
        "outputId": "e5d95694-0d7d-4782-8965-36efb06b58e8"
      },
      "source": [
        "dls_clas.show_batch(max_n=2)"
      ],
      "execution_count": null,
      "outputs": [
        {
          "output_type": "display_data",
          "data": {
            "text/html": [
              "<table border=\"1\" class=\"dataframe\">\n",
              "  <thead>\n",
              "    <tr style=\"text-align: right;\">\n",
              "      <th></th>\n",
              "      <th>text</th>\n",
              "      <th>category</th>\n",
              "    </tr>\n",
              "  </thead>\n",
              "  <tbody>\n",
              "    <tr>\n",
              "      <th>0</th>\n",
              "      <td>xxbos xxmaj match 1 : xxmaj tag xxmaj team xxmaj table xxmaj match xxmaj bubba xxmaj ray and xxmaj spike xxmaj dudley vs xxmaj eddie xxmaj guerrero and xxmaj chris xxmaj benoit xxmaj bubba xxmaj ray and xxmaj spike xxmaj dudley started things off with a xxmaj tag xxmaj team xxmaj table xxmaj match against xxmaj eddie xxmaj guerrero and xxmaj chris xxmaj benoit . xxmaj according to the rules of the match , both opponents have to go through tables in order to get the win . xxmaj benoit and xxmaj guerrero heated up early on by taking turns hammering first xxmaj spike and then xxmaj bubba xxmaj ray . a xxmaj german xxunk by xxmaj benoit to xxmaj bubba took the wind out of the xxmaj dudley brother . xxmaj spike tried to help his brother , but the referee restrained him while xxmaj benoit and xxmaj guerrero</td>\n",
              "      <td>pos</td>\n",
              "    </tr>\n",
              "    <tr>\n",
              "      <th>1</th>\n",
              "      <td>xxbos xxrep 3 * xxup spoilers xxrep 3 * xxrep 3 * xxup spoilers xxrep 3 * xxmaj continued … \\n\\n xxmaj from here on in the whole movie collapses in on itself . xxmaj first we meet a rogue program with the indication we 're gon na get ghosts and vampires and werewolves and the like . xxmaj we get a guy with a retarded accent talking endless garbage , two ' ghosts ' that serve no real purpose and have no character what - so - ever and a bunch of henchmen . xxmaj someone 's told me they 're vampires ( straight out of xxmaj blade 2 ) , but they 're so undefined i did n't realise . \\n\\n xxmaj the funny accented guy with a ridiculous name suffers the same problem as the xxmaj oracle , only for far longer and far far worse .</td>\n",
              "      <td>neg</td>\n",
              "    </tr>\n",
              "  </tbody>\n",
              "</table>"
            ],
            "text/plain": [
              "<IPython.core.display.HTML object>"
            ]
          },
          "metadata": {}
        }
      ]
    },
    {
      "cell_type": "code",
      "metadata": {
        "id": "KQy1MEhzurAT"
      },
      "source": [
        "learn = text_classifier_learner(dls_clas, AWD_LSTM, drop_mult=0.5,\n",
        "metrics=accuracy).to_fp16()"
      ],
      "execution_count": null,
      "outputs": []
    },
    {
      "cell_type": "code",
      "metadata": {
        "id": "Qvquy7ZYuq9i"
      },
      "source": [
        "learn = learn.load_encoder('finetuned')#最後のレイヤーのみを学習(load)"
      ],
      "execution_count": null,
      "outputs": []
    },
    {
      "cell_type": "code",
      "metadata": {
        "id": "Ja_e5XiWuq7X"
      },
      "source": [
        "# leran.fit_one_cycle(1,2e-2)"
      ],
      "execution_count": null,
      "outputs": []
    },
    {
      "cell_type": "code",
      "metadata": {
        "id": "vEYRx518uq4v"
      },
      "source": [
        "#最後から2番目までのレイヤーを解凍し、学習対象とする、それより前は固定\n",
        "# learn.freeze_to(-2) \n",
        "# learn.fit_one_cycle(1,slice(1e-2 / (2.6**4),1e-2))"
      ],
      "execution_count": null,
      "outputs": []
    },
    {
      "cell_type": "code",
      "metadata": {
        "id": "RarAtg5GAEDC"
      },
      "source": [
        "#最後から3番目までのレイヤーを解凍し、学習対象とし、それより前は固定\n",
        "# learn.freeze_to(-3)\n",
        "# learn.fit_one_cycle(1, slice(5e-3/(2.6**4),5e-3))"
      ],
      "execution_count": null,
      "outputs": []
    },
    {
      "cell_type": "code",
      "metadata": {
        "id": "uOD9vuXRAD_D"
      },
      "source": [
        "#すべて学習対象\n",
        "# learn.unfreeze()\n",
        "# learn.fit_one_cycle(2, slice(1e-3/ (2.6**4), 1e-3))"
      ],
      "execution_count": null,
      "outputs": []
    },
    {
      "cell_type": "code",
      "metadata": {
        "id": "iCsC0EeIAD9F"
      },
      "source": [
        ""
      ],
      "execution_count": null,
      "outputs": []
    },
    {
      "cell_type": "code",
      "metadata": {
        "id": "pVvF6GfEAD6l"
      },
      "source": [
        ""
      ],
      "execution_count": null,
      "outputs": []
    },
    {
      "cell_type": "code",
      "metadata": {
        "id": "UCUKmaeOAD28"
      },
      "source": [
        ""
      ],
      "execution_count": null,
      "outputs": []
    }
  ]
}