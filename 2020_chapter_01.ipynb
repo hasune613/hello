{
  "nbformat": 4,
  "nbformat_minor": 0,
  "metadata": {
    "colab": {
      "name": "2020_chapter01.ipynb",
      "provenance": [],
      "collapsed_sections": [],
      "include_colab_link": true
    },
    "kernelspec": {
      "name": "python3",
      "display_name": "Python 3"
    }
  },
  "cells": [
    {
      "cell_type": "markdown",
      "metadata": {
        "id": "view-in-github",
        "colab_type": "text"
      },
      "source": [
        "<a href=\"https://colab.research.google.com/github/hasune613/hello-world/blob/main/2020_chapter_01.ipynb\" target=\"_parent\"><img src=\"https://colab.research.google.com/assets/colab-badge.svg\" alt=\"Open In Colab\"/></a>"
      ]
    },
    {
      "cell_type": "markdown",
      "metadata": {
        "id": "TF5HIiXoTzry"
      },
      "source": [
        "# 第1章: 準備運動"
      ]
    },
    {
      "cell_type": "markdown",
      "metadata": {
        "id": "T7HtwX4XT4zc"
      },
      "source": [
        "## 00. 文字列の逆順\n",
        "***\n",
        "文字列”stressed”の文字を逆に（末尾から先頭に向かって）並べた文字列を得よ．"
      ]
    },
    {
      "cell_type": "code",
      "metadata": {
        "colab": {
          "base_uri": "https://localhost:8080/",
          "height": 35
        },
        "id": "AUdB2DCVQn0r",
        "outputId": "17a22518-350f-4c26-93eb-7e110485cd18"
      },
      "source": [
        "str('stressed')[::-1]\n"
      ],
      "execution_count": null,
      "outputs": [
        {
          "output_type": "execute_result",
          "data": {
            "application/vnd.google.colaboratory.intrinsic+json": {
              "type": "string"
            },
            "text/plain": [
              "'desserts'"
            ]
          },
          "metadata": {},
          "execution_count": 6
        }
      ]
    },
    {
      "cell_type": "markdown",
      "metadata": {
        "id": "znMoAECvUV6s"
      },
      "source": [
        "## 01. 「パタトクカシーー」\n",
        "***\n",
        "「パタトクカシーー」という文字列の1,3,5,7文字目を取り出して連結した文字列を得よ．"
      ]
    },
    {
      "cell_type": "code",
      "metadata": {
        "colab": {
          "base_uri": "https://localhost:8080/",
          "height": 35
        },
        "id": "tLMuuRacRJG5",
        "outputId": "3a11f5d1-51f9-4476-820d-37e0793b3201"
      },
      "source": [
        "str('パタトクカシーー')[::2]"
      ],
      "execution_count": null,
      "outputs": [
        {
          "output_type": "execute_result",
          "data": {
            "application/vnd.google.colaboratory.intrinsic+json": {
              "type": "string"
            },
            "text/plain": [
              "'パトカー'"
            ]
          },
          "metadata": {},
          "execution_count": 11
        }
      ]
    },
    {
      "cell_type": "markdown",
      "metadata": {
        "id": "q03ZjV4jVDPd"
      },
      "source": [
        "## 02. 「パトカー」＋「タクシー」＝「パタトクカシーー」\n",
        "***\n",
        "「パトカー」＋「タクシー」の文字を先頭から交互に連結して文字列「パタトクカシーー」を得よ．"
      ]
    },
    {
      "cell_type": "code",
      "metadata": {
        "colab": {
          "base_uri": "https://localhost:8080/",
          "height": 35
        },
        "id": "Zdh-YlmERvC7",
        "outputId": "944645b8-f60e-4053-c58c-99b45f16bb40"
      },
      "source": [
        "str_1 = 'パトカー'\n",
        "str_2 = 'タクシー'\n",
        "ans = ''.join( [i + j  for i , j in zip(str_1, str_2)])\n",
        "ans"
      ],
      "execution_count": null,
      "outputs": [
        {
          "output_type": "execute_result",
          "data": {
            "application/vnd.google.colaboratory.intrinsic+json": {
              "type": "string"
            },
            "text/plain": [
              "'パタトクカシーー'"
            ]
          },
          "metadata": {},
          "execution_count": 14
        }
      ]
    },
    {
      "cell_type": "markdown",
      "metadata": {
        "id": "88tWD10wWrG_"
      },
      "source": [
        "## 03. 円周率\n",
        "***\n",
        "“Now I need a drink, alcoholic of course, after the heavy lectures involving quantum mechanics.”という文を単語に分解し，各単語の（アルファベットの）文字数を先頭から出現順に並べたリストを作成せよ．"
      ]
    },
    {
      "cell_type": "code",
      "metadata": {
        "colab": {
          "base_uri": "https://localhost:8080/"
        },
        "id": "bdl7Q6-hS7ZA",
        "outputId": "f8392617-de24-4386-f140-57dd56830370"
      },
      "source": [
        "import re\n",
        "\n",
        "str = 'Now I need a drink, alcoholic of course, after the heavy lectures involving quantum mechanics.'\n",
        "str = re.sub('[,\\.]','',str)\n",
        "splits = str.split()\n",
        "ans = [len(i) for i in splits]\n",
        "ans"
      ],
      "execution_count": null,
      "outputs": [
        {
          "output_type": "execute_result",
          "data": {
            "text/plain": [
              "[3, 1, 4, 1, 5, 9, 2, 6, 5, 3, 5, 8, 9, 7, 9]"
            ]
          },
          "metadata": {},
          "execution_count": 25
        }
      ]
    },
    {
      "cell_type": "markdown",
      "metadata": {
        "id": "vpZfX1v8OHRk"
      },
      "source": [
        "## 04. 元素記号\n",
        "***\n",
        "“Hi He Lied Because Boron Could Not Oxidize Fluorine. New Nations Might Also Sign Peace Security Clause. Arthur King Can.”という文を単語に分解し，1, 5, 6, 7, 8, 9, 15, 16, 19番目の単語は先頭の1文字，それ以外の単語は先頭に2文字を取り出し，取り出した文字列から単語の位置（先頭から何番目の単語か）への連想配列（辞書型もしくはマップ型）を作成せよ．"
      ]
    },
    {
      "cell_type": "code",
      "metadata": {
        "colab": {
          "base_uri": "https://localhost:8080/"
        },
        "id": "DoONtYC6Uf82",
        "outputId": "df56a1ca-9c87-4a87-c041-fea178677952"
      },
      "source": [
        "str =  'Hi He Lied Because Boron Could Not Oxidize Fluorine. New Nations Might Also Sign Peace Security Clause. Arthur King Can.'\n",
        "splits = str.split()\n",
        "# splits\n",
        "one_ch = [1,5,6,7,8,9,15,16,19]# 1文字取り出す単語リスト\n",
        "ans = {}\n",
        "for i ,word in enumerate(splits):\n",
        "    # print(i)\n",
        "    # print(word)\n",
        "    if i +1 in one_ch:\n",
        "        ans[word[:1]] = i+1\n",
        "    else:\n",
        "        ans[word[:2]] = i+1\n",
        "print(ans)\n"
      ],
      "execution_count": null,
      "outputs": [
        {
          "output_type": "stream",
          "name": "stdout",
          "text": [
            "{'H': 1, 'He': 2, 'Li': 3, 'Be': 4, 'B': 5, 'C': 6, 'N': 7, 'O': 8, 'F': 9, 'Ne': 10, 'Na': 11, 'Mi': 12, 'Al': 13, 'Si': 14, 'P': 15, 'S': 16, 'Cl': 17, 'Ar': 18, 'K': 19, 'Ca': 20}\n"
          ]
        }
      ]
    },
    {
      "cell_type": "markdown",
      "metadata": {
        "id": "EYNvyOUCOJru"
      },
      "source": [
        "## 05. n-gram\n",
        "***\n",
        "与えられたシーケンス（文字列やリストなど）からn-gramを作る関数を作成せよ．この関数を用い，”I am an NLPer”という文から単語bi-gram，文字bi-gramを得よ．"
      ]
    },
    {
      "cell_type": "code",
      "metadata": {
        "colab": {
          "base_uri": "https://localhost:8080/"
        },
        "id": "Djp5CSx5W-sG",
        "outputId": "daed739a-de9d-40b0-c2ee-b6e297ca8d80"
      },
      "source": [
        "def ngram(n, lst):\n",
        "    return list(zip(*[lst[i:] for i in range(n)]))\n",
        "\n",
        "str = 'I am an NLPer'\n",
        "words_bi_gram = ngram(2,str.split())\n",
        "chars_bi_gram = ngram(2,str)\n",
        "\n",
        "print('単語bi-gram : ',words_bi_gram)\n",
        "print('文字bi-gram : ',chars_bi_gram)"
      ],
      "execution_count": null,
      "outputs": [
        {
          "output_type": "stream",
          "name": "stdout",
          "text": [
            "単語bi-gram :  [('I', 'am'), ('am', 'an'), ('an', 'NLPer')]\n",
            "文字bi-gram :  [('I', ' '), (' ', 'a'), ('a', 'm'), ('m', ' '), (' ', 'a'), ('a', 'n'), ('n', ' '), (' ', 'N'), ('N', 'L'), ('L', 'P'), ('P', 'e'), ('e', 'r')]\n"
          ]
        }
      ]
    },
    {
      "cell_type": "markdown",
      "metadata": {
        "id": "dLPmmHDiOOf6"
      },
      "source": [
        "## 06. 集合\n",
        "***\n",
        "“paraparaparadise”と”paragraph”に含まれる文字bi-gramの集合を，それぞれ, XとYとして求め，XとYの和集合，積集合，差集合を求めよ．さらに，’se’というbi-gramがXおよびYに含まれるかどうかを調べよ．"
      ]
    },
    {
      "cell_type": "code",
      "metadata": {
        "colab": {
          "base_uri": "https://localhost:8080/"
        },
        "id": "eUerHk9axWAw",
        "outputId": "56254d26-524e-44dd-8b9a-878f199216f9"
      },
      "source": [
        "str1  = 'paraparaparadise'\n",
        "str2 = 'oaragraph'\n",
        "X = set(ngram(2,str1))\n",
        "Y = set(ngram(2,str2))\n",
        "union = X | Y\n",
        "intersection = X & Y\n",
        "difference = X - Y\n",
        "\n",
        "print('X : ',X)\n",
        "print('Y : ',Y)\n",
        "print('和集合 : ',union)\n",
        "print('積集合 : ',intersection)\n",
        "print('差集合 : ',difference)\n",
        "print('Xにseが含まれるか : ',{('s','e')} <= X)\n",
        "print('Yにseが含まれるか : ',{('s','e')} <= Y)"
      ],
      "execution_count": null,
      "outputs": [
        {
          "output_type": "stream",
          "name": "stdout",
          "text": [
            "X :  {('i', 's'), ('a', 'd'), ('d', 'i'), ('a', 'r'), ('a', 'p'), ('r', 'a'), ('s', 'e'), ('p', 'a')}\n",
            "Y :  {('o', 'a'), ('g', 'r'), ('a', 'r'), ('a', 'g'), ('p', 'h'), ('r', 'a'), ('a', 'p')}\n",
            "和集合 :  {('o', 'a'), ('g', 'r'), ('i', 's'), ('a', 'd'), ('d', 'i'), ('a', 'r'), ('a', 'g'), ('a', 'p'), ('p', 'h'), ('r', 'a'), ('s', 'e'), ('p', 'a')}\n",
            "積集合 :  {('r', 'a'), ('a', 'r'), ('a', 'p')}\n",
            "差集合 :  {('i', 's'), ('a', 'd'), ('d', 'i'), ('s', 'e'), ('p', 'a')}\n",
            "Xにseが含まれるか :  True\n",
            "Yにseが含まれるか :  False\n"
          ]
        }
      ]
    },
    {
      "cell_type": "markdown",
      "metadata": {
        "id": "7D_kaglGOSgL"
      },
      "source": [
        "## 07. テンプレートによる文生成\n",
        "***\n",
        "引数x, y, zを受け取り「x時のyはz」という文字列を返す関数を実装せよ。 \\\\\n",
        "さらに，x=12, y=”気温”, z=22.4として，実行結果を確認せよ．"
      ]
    },
    {
      "cell_type": "code",
      "metadata": {
        "colab": {
          "base_uri": "https://localhost:8080/"
        },
        "id": "3-RvZfLZ3fgA",
        "outputId": "aae1d09f-6210-4c8d-e10a-662b9911dbf2"
      },
      "source": [
        "def generate_sentence(x,y,z):\n",
        "    print(f'{x}時の時は{y}は{z}')\n",
        "\n",
        "generate_sentence(12,'気温',22.4)"
      ],
      "execution_count": null,
      "outputs": [
        {
          "output_type": "stream",
          "name": "stdout",
          "text": [
            "12時の時は気温は22.4\n"
          ]
        }
      ]
    },
    {
      "cell_type": "markdown",
      "metadata": {
        "id": "CZEogrN2OWXN"
      },
      "source": [
        "## 08. 暗号文\n",
        "***\n",
        "与えられた文字列の各文字を，以下の仕様で変換する関数cipherを実装せよ．\n",
        "\n",
        "英小文字ならば(219 - 文字コード)の文字に置換, その他の文字はそのまま出力, \n",
        "この関数を用い，英語のメッセージを暗号化・復号化せよ．"
      ]
    },
    {
      "cell_type": "code",
      "metadata": {
        "colab": {
          "base_uri": "https://localhost:8080/"
        },
        "id": "2NU_8VS34j2L",
        "outputId": "095e6ec3-c2e8-44e5-857e-fb568ddbbb0a"
      },
      "source": [
        "def cipher(str):\n",
        "    rep = [chr(219 - ord(x)) if x.islower() else x for x in str]\n",
        "    return ''.join(rep)\n",
        "\n",
        "message ='the quick brown fox jumps over the lazy dog'\n",
        "message = cipher(message)\n",
        "print('暗号化 : ', message)\n",
        "message = cipher(message)\n",
        "print('複合化 : ', message)\n"
      ],
      "execution_count": null,
      "outputs": [
        {
          "output_type": "stream",
          "name": "stdout",
          "text": [
            "暗号化 :  gsv jfrxp yildm ulc qfnkh levi gsv ozab wlt\n",
            "複合化 :  the quick brown fox jumps over the lazy dog\n"
          ]
        }
      ]
    },
    {
      "cell_type": "code",
      "metadata": {
        "colab": {
          "base_uri": "https://localhost:8080/"
        },
        "id": "XTHDKpo-6LnV",
        "outputId": "dd35c20f-96f4-44e8-883f-ac78d1b4de18"
      },
      "source": [
        "def cilher(S):\n",
        "    new = []\n",
        "    for s in S:\n",
        "        if 97 <= ord(s) <= 122:\n",
        "            s = chr(219 - ord(s))\n",
        "        new.append(s)\n",
        "    return ''.join(new)\n",
        "\n",
        "s = ' I am an NLPer'\n",
        "new = cipher(s)\n",
        "print('暗号化 : ',new)\n",
        "print('複合化 : ',cipher(new))"
      ],
      "execution_count": null,
      "outputs": [
        {
          "output_type": "stream",
          "name": "stdout",
          "text": [
            "暗号化 :   I zn zm NLPvi\n",
            "複合化 :   I am an NLPer\n"
          ]
        }
      ]
    },
    {
      "cell_type": "markdown",
      "metadata": {
        "id": "ckhSP3jLOatq"
      },
      "source": [
        "## 09. Typoglycemia\n",
        "***\n",
        "スペースで区切られた単語列に対して，各単語の先頭と末尾の文字は残し，それ以外の文字の順序をランダムに並び替えるプログラムを作成せよ．ただし，長さが４以下の単語は並び替えないこととする．適当な英語の文（例えば”I couldn’t believe that I could actually understand what I was reading : the phenomenal power of the human mind .”）を与え，その実行結果を確認せよ．"
      ]
    },
    {
      "cell_type": "code",
      "metadata": {
        "colab": {
          "base_uri": "https://localhost:8080/"
        },
        "id": "vhVVJ4-d_5c6",
        "outputId": "52c25f18-5b79-4c4e-d37c-f540d8f7ab4e"
      },
      "source": [
        "import random\n",
        "\n",
        "def shuffle(words):\n",
        "    result = []\n",
        "    for word in words.split():\n",
        "        if len(word) > 4:\n",
        "            word = word[:1] + ''.join(random.sample(word[1:-1],len(word) - 2)) + word[-1:]\n",
        "        result.append(word)\n",
        "\n",
        "    return ' '.join(result)\n",
        "\n",
        "words = \"I couldn't believe that I could actually understand what I was reading : the phenomenal power of the human mind .\"\n",
        "ans = shuffle(words)\n",
        "print(ans)"
      ],
      "execution_count": null,
      "outputs": [
        {
          "output_type": "stream",
          "name": "stdout",
          "text": [
            "I cnlodu't bieelve that I cloud atucally unedsarntd what I was rdnieag : the peonhmnael pweor of the hamun mind .\n"
          ]
        }
      ]
    },
    {
      "cell_type": "code",
      "metadata": {
        "colab": {
          "base_uri": "https://localhost:8080/"
        },
        "id": "DrIcsTGfA54J",
        "outputId": "0bb1f17d-3044-4b45-dd57-3ddb310f5fd7"
      },
      "source": [
        "import random\n",
        "s = 'I couldn’t believe that I could actually understand what I was reading : the phenomenal power of the human mind .'\n",
        "ans = []\n",
        "text = s.split()\n",
        "for word in text:\n",
        "    if (len(word)>4):\n",
        "        mid = list(word[1:-1])\n",
        "        random.shuffle(mid)\n",
        "        word = word[0] + ''.join(mid) + word[-1]\n",
        "        ans.append(word)\n",
        "    else:\n",
        "        ans.append(word)\n",
        "print (' '.join(ans))"
      ],
      "execution_count": null,
      "outputs": [
        {
          "output_type": "stream",
          "name": "stdout",
          "text": [
            "I cud’lont bieevle that I cluod aultclay urtdsnaend what I was rdanieg : the poemnhnael pewor of the human mind .\n"
          ]
        }
      ]
    },
    {
      "cell_type": "code",
      "metadata": {
        "id": "FHkg5vkyDlNO"
      },
      "source": [
        ""
      ],
      "execution_count": null,
      "outputs": []
    }
  ]
}